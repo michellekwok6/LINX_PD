{
 "cells": [
  {
   "cell_type": "code",
   "execution_count": 1,
   "metadata": {},
   "outputs": [],
   "source": [
    "%load_ext autoreload"
   ]
  },
  {
   "cell_type": "code",
   "execution_count": 2,
   "metadata": {},
   "outputs": [],
   "source": [
    "%autoreload 2\n",
    "\n",
    "import sys\n",
    "sys.path.append('..')\n",
    "\n",
    "from jax import numpy as jnp\n",
    "import jax\n",
    "import time\n",
    "from scipy.integrate import quad, dblquad\n",
    "import equinox as eqx\n",
    "import jax_cosmo as jc\n",
    "from quadax import quadgk, quadcc, quadts, romberg\n",
    "from functools import partial"
   ]
  },
  {
   "cell_type": "code",
   "execution_count": 3,
   "metadata": {},
   "outputs": [],
   "source": [
    "import matplotlib.pyplot as plt\n",
    "import matplotlib.pylab as pylab\n",
    "import matplotlib.animation as animation \n",
    "from numpy import loadtxt\n",
    "from diffrax import Kvaerno5, Tsit5\n",
    "%matplotlib inline\n",
    "\n",
    "from plot_params import params\n",
    "#pylab.rcParams.update(params)\n",
    "\n",
    "cols_default = plt.rcParams['axes.prop_cycle'].by_key()['color']"
   ]
  },
  {
   "cell_type": "code",
   "execution_count": 4,
   "metadata": {},
   "outputs": [],
   "source": [
    "from linx.background import BackgroundModel\n",
    "from linx.nuclear import NuclearRates \n",
    "from linx.abundances import AbundanceModel\n",
    "from linx.reactions import Reaction\n",
    "from linx.thermo import T_g \n",
    "from linx.const import mn, mp, eta0, hbar, me, aFS\n",
    "from scipy.integrate import odeint, solve_ivp, simpson, cumulative_simpson\n",
    "from linx.pd_rates import decay_model\n",
    "from linx.injected_spec import InjectedSpectrum\n",
    "eps = 1e-3\n",
    "Emin = 1.5 # MeV\n",
    "Ephb_T_max = 200"
   ]
  },
  {
   "cell_type": "code",
   "execution_count": 5,
   "metadata": {},
   "outputs": [
    {
     "name": "stdout",
     "output_type": "stream",
     "text": [
      "`\\         /´  ||||        ||||  |||||     ||||  ||||   ||||\n",
      " /\\_______/\\   ||||        ||||  |||||||   ||||   |||| ||||\n",
      " ) __` ´__ (   ||||        ||||  |||| |||| ||||    |||||||\n",
      "/  `-|_|-´  \\  ||||        ||||  ||||  |||| |||    ||||||| \n",
      "/   (_x_)   \\  ||||||||||  ||||  ||||   |||||||   |||| ||||\n",
      "  )  `-´  (    ||||||||||  ||||  ||||    ||||||  ||||   ||||\n",
      " \n",
      "Compiling thermodynamics model...\n"
     ]
    },
    {
     "name": "stderr",
     "output_type": "stream",
     "text": [
      "/home/mkwok/miniconda3/envs/linx/lib/python3.13/site-packages/equinox/_jit.py:55: UserWarning: `diffrax.diffeqsolve(..., discrete_terminating_event=...)` is deprecated in favour of the more general `diffrax.diffeqsolve(..., event=...)` interface. This will be removed in some future version of Diffrax.\n",
      "  out = fun(*args, **kwargs)\n"
     ]
    }
   ],
   "source": [
    "bkg_model = BackgroundModel()\n",
    "t_vec, a_vec, rho_g_vec, rho_nu_vec, rho_NP_vec, p_NP_vec, Neff_vec = bkg_model(jnp.asarray(0.), T_end = 1e-4, max_steps = 512*4)"
   ]
  },
  {
   "cell_type": "code",
   "execution_count": 6,
   "metadata": {},
   "outputs": [],
   "source": [
    "InjSpec = InjectedSpectrum()\n",
    "E_grid = jnp.linspace(1.5, jnp.exp(3), 100)"
   ]
  },
  {
   "cell_type": "code",
   "execution_count": null,
   "metadata": {},
   "outputs": [
    {
     "name": "stdout",
     "output_type": "stream",
     "text": [
      "Rate time:  6517.510872602463\n",
      "Kernel time:  25.866725206375122\n",
      "Source time:  0.8212339878082275\n"
     ]
    }
   ],
   "source": [
    "mod = decay_model(60, 1e5, 5e-7, 1, 0, t_vec, a_vec, rho_g_vec)"
   ]
  },
  {
   "cell_type": "code",
   "execution_count": null,
   "metadata": {},
   "outputs": [
    {
     "name": "stdout",
     "output_type": "stream",
     "text": [
      "Compiling abundance model...\n"
     ]
    }
   ],
   "source": [
    "abd_model = AbundanceModel(\n",
    "    NuclearRates(nuclear_net='pd_PRIMAT_2023', pd_model= mod)\n",
    ")\n",
    "\n",
    "nuclear_rates_q = jnp.zeros(12)\n",
    "\n",
    "sol = abd_model(\n",
    "    rho_g_vec, rho_nu_vec, \n",
    "    rho_NP_vec, p_NP_vec,\n",
    "    t_vec=t_vec, a_vec=a_vec, \n",
    "    eta_fac = jnp.asarray(1.), \n",
    "    tau_n_fac = jnp.asarray(1.), \n",
    "    nuclear_rates_q = nuclear_rates_q,\n",
    "    save_history=True, T_end = 1e-4, max_steps = 4096*2, solver = Kvaerno5())\n",
    "\n",
    "new_abundances = jnp.array([sol.evaluate(t) for t in t_vec])\n"
   ]
  },
  {
   "cell_type": "code",
   "execution_count": null,
   "metadata": {},
   "outputs": [
    {
     "data": {
      "text/plain": [
       "<matplotlib.legend.Legend at 0x7278a613ccd0>"
      ]
     },
     "execution_count": 18,
     "metadata": {},
     "output_type": "execute_result"
    },
    {
     "data": {
      "image/png": "[encoded data removed]",
      "text/plain": [
       "<Figure size 640x480 with 1 Axes>"
      ]
     },
     "metadata": {},
     "output_type": "display_data"
    }
   ],
   "source": [
    "first_nan = jnp.where(jnp.isnan(new_abundances[:, 2]))[0][0]\n",
    "plt.plot(t_vec, new_abundances[:, 2], label = 'new')\n",
    "#plt.plot(t_vec, rate_interp*1e-2)\n",
    "plt.xscale('log')\n",
    "plt.yscale('log')\n",
    "plt.axvline(1e5, label = r'$\\tau = $ 1e3s', color = 'k', linestyle = '--')\n",
    "#plt.axhline(2.527e-5*0.85122191, color = 'orange', linestyle = '--', label = 'observed abundance')\n",
    "#plt.axhline(new_abundances[first_nan, 2], label = \"linx\", linestyle = '--', color = \"k\")\n",
    "plt.axhline(1.190401e-08, color = 'cornflowerblue', linestyle = '--', label = 'predicted by acropolis')\n",
    "#plt.ylim(1e-5, 3e-5)\n",
    "#plt.xlim(1e3, 1e5)\n",
    "plt.legend()"
   ]
  },
  {
   "cell_type": "code",
   "execution_count": 6,
   "metadata": {},
   "outputs": [],
   "source": [
    "E_th = {\n",
    "    \"dgnp\" :  2.224573,\n",
    "    \"tgnd\" :  6.257248,\n",
    "    \"tgnpn\" :  8.481821,\n",
    "    \"He3gpd\" :  5.493485,\n",
    "    \"He3gnpp\" :  7.718058,\n",
    "    \"He4gpt\" : 19.813852,\n",
    "    \"He4gnHe3\" : 20.577615,\n",
    "    \"He4gdd\" : 23.846527,\n",
    "    \"He4gnpd\" : 26.071100,\n",
    "    \"Li6gnpHe4\" :  3.698892,\n",
    "    \"Li6gX\" : 15.794685,\n",
    "    \"Li7gtHe4\" :  2.467032,\n",
    "    \"Li7gnLi6\" :  7.249962,\n",
    "    \"Li7gnnpHe4\" : 10.948850,\n",
    "    \"Be7gHe3He4\" :  1.586627,\n",
    "    \"Be7gpLi6\" :  5.605794,\n",
    "    \"Be7gppnHe4\" :  9.304680\n",
    "}\n",
    "Eth = jnp.array(list(E_th.values()))"
   ]
  },
  {
   "cell_type": "code",
   "execution_count": 9,
   "metadata": {},
   "outputs": [],
   "source": [
    "mod = decay_model(60, 1e5, 5e-7, 1, 0, t_vec, a_vec, rho_g_vec)"
   ]
  },
  {
   "cell_type": "code",
   "execution_count": 45,
   "metadata": {},
   "outputs": [
    {
     "name": "stdout",
     "output_type": "stream",
     "text": [
      "Rate time:  0.7576980590820312\n",
      "Kernel time:  0.08232736587524414\n",
      "Source time:  0.34100818634033203\n",
      "Solve time:  0.0002701282501220703\n",
      "[0. 0. 0. 0. 0. 0. 0. 0. 0. 0. 0. 0. 0. 0. 0. 0. 0.]\n"
     ]
    }
   ],
   "source": [
    "one_temp = mod.pdi_rates(0.01)"
   ]
  },
  {
   "cell_type": "code",
   "execution_count": 18,
   "metadata": {},
   "outputs": [
    {
     "data": {
      "text/plain": [
       "Array([1.62126635e-031, 1.26432196e-034, 2.23008822e-035, 1.98244136e-034,\n",
       "       3.30456598e-035, 1.00000000e-200, 1.00000000e-200, 1.00000000e-200,\n",
       "       1.00000000e-200, 5.72521642e-034, 1.00000000e-200, 1.84241416e-032,\n",
       "       4.13957489e-035, 1.99624281e-037, 1.45502012e-031, 6.78428874e-035,\n",
       "       9.95567288e-036], dtype=float64)"
      ]
     },
     "execution_count": 18,
     "metadata": {},
     "output_type": "execute_result"
    }
   ],
   "source": [
    "one_temp"
   ]
  },
  {
   "cell_type": "code",
   "execution_count": 46,
   "metadata": {},
   "outputs": [
    {
     "name": "stdout",
     "output_type": "stream",
     "text": [
      "Rate time:  25.03503108024597\n",
      "Kernel time:  0.0765986442565918\n",
      "Source time:  0.4944181442260742\n",
      "Solve time:  2.3798279762268066\n"
     ]
    },
    {
     "data": {
      "text/plain": [
       "Array([[1.14740000e-004, 1.14741000e-003, 1.14740900e-002],\n",
       "       [4.50857585e-171, 1.92696829e-024, 2.21035547e-032],\n",
       "       [1.00000000e-200, 8.31709275e-195, 4.70787284e-035],\n",
       "       [1.00000000e-200, 1.00000000e-200, 3.57636389e-036],\n",
       "       [1.00000000e-200, 2.01931861e-163, 7.70738885e-035],\n",
       "       [1.00000000e-200, 1.00000000e-200, 7.72426000e-036],\n",
       "       [1.00000000e-200, 1.00000000e-200, 1.00000000e-200],\n",
       "       [1.00000000e-200, 1.00000000e-200, 1.00000000e-200],\n",
       "       [1.00000000e-200, 1.00000000e-200, 1.00000000e-200],\n",
       "       [1.00000000e-200, 1.00000000e-200, 1.00000000e-200],\n",
       "       [1.27591862e-186, 2.00693150e-073, 2.11222790e-034],\n",
       "       [1.00000000e-200, 1.00000000e-200, 1.00000000e-200],\n",
       "       [1.13285261e-172, 1.53033754e-025, 3.47897846e-033],\n",
       "       [1.00000000e-200, 1.00000000e-200, 1.01421330e-035],\n",
       "       [1.00000000e-200, 1.00000000e-200, 1.00000000e-200],\n",
       "       [3.91750920e-170, 3.32309864e-024, 3.23470800e-032],\n",
       "       [1.00000000e-200, 1.35659858e-168, 2.14850795e-035],\n",
       "       [1.00000000e-200, 1.00000000e-200, 4.14043559e-037]],      dtype=float64)"
      ]
     },
     "execution_count": 46,
     "metadata": {},
     "output_type": "execute_result"
    }
   ],
   "source": [
    "mod.get_pdi_grids()"
   ]
  },
  {
   "cell_type": "code",
   "execution_count": 10,
   "metadata": {},
   "outputs": [
    {
     "name": "stdout",
     "output_type": "stream",
     "text": [
      "Rate time:  10.751144886016846\n",
      "Kernel time:  3.599963426589966\n",
      "Source time:  0.652592658996582\n",
      "Solve time:  0.9867477416992188\n"
     ]
    }
   ],
   "source": [
    "sp = InjSpec.get_spectrum(5, mod.get_source_0(), mod.get_source_cont(), 0.01)"
   ]
  },
  {
   "cell_type": "code",
   "execution_count": 43,
   "metadata": {},
   "outputs": [],
   "source": [
    "def F_s(log_E, i):\n",
    "    E = jnp.exp(log_E)\n",
    "    #return jnp.interp(E, sp[0], sp[1]) * E * self.get_cross_section(E)[i]\n",
    "    return jnp.exp(jnp.interp(jnp.log(E), jnp.log(sp[0]), jnp.log(sp[1]))) * E * mod.get_cross_section(E)[i]\n",
    "def Fph_s(log_E):\n",
    "    E = jnp.exp( log_E )\n",
    "    \n",
    "    return sp( ) * E * mod.get_cross_section(E)"
   ]
  },
  {
   "cell_type": "code",
   "execution_count": 35,
   "metadata": {},
   "outputs": [],
   "source": [
    "def test_func(x):\n",
    "    return (x[0], x[1])"
   ]
  },
  {
   "cell_type": "code",
   "execution_count": 38,
   "metadata": {},
   "outputs": [
    {
     "data": {
      "text/plain": [
       "Array([0.79956499, 0.47000363], dtype=float64)"
      ]
     },
     "execution_count": 38,
     "metadata": {},
     "output_type": "execute_result"
    }
   ],
   "source": [
    "jnp.transpose(jnp.array([jnp.log(Eth), jnp.full_like(Eth, jnp.log(1.6))]))[0]"
   ]
  },
  {
   "cell_type": "code",
   "execution_count": 22,
   "metadata": {},
   "outputs": [
    {
     "name": "stdout",
     "output_type": "stream",
     "text": [
      "(Array(0., dtype=float64), QuadratureInfo(err=Array(0., dtype=float64), neval=Array(21, dtype=int64, weak_type=True), status=Array(0, dtype=int64, weak_type=True), info=None))\n",
      "(Array(0., dtype=float64), QuadratureInfo(err=Array(0., dtype=float64), neval=Array(21, dtype=int64, weak_type=True), status=Array(0, dtype=int64, weak_type=True), info=None))\n",
      "(Array(0., dtype=float64), QuadratureInfo(err=Array(0., dtype=float64), neval=Array(21, dtype=int64, weak_type=True), status=Array(0, dtype=int64, weak_type=True), info=None))\n",
      "(Array(0., dtype=float64), QuadratureInfo(err=Array(0., dtype=float64), neval=Array(21, dtype=int64, weak_type=True), status=Array(0, dtype=int64, weak_type=True), info=None))\n",
      "(Array(0., dtype=float64), QuadratureInfo(err=Array(0., dtype=float64), neval=Array(21, dtype=int64, weak_type=True), status=Array(0, dtype=int64, weak_type=True), info=None))\n",
      "(Array(0., dtype=float64), QuadratureInfo(err=Array(0., dtype=float64), neval=Array(21, dtype=int64, weak_type=True), status=Array(0, dtype=int64, weak_type=True), info=None))\n",
      "(Array(0., dtype=float64), QuadratureInfo(err=Array(0., dtype=float64), neval=Array(21, dtype=int64, weak_type=True), status=Array(0, dtype=int64, weak_type=True), info=None))\n",
      "(Array(0., dtype=float64), QuadratureInfo(err=Array(0., dtype=float64), neval=Array(21, dtype=int64, weak_type=True), status=Array(0, dtype=int64, weak_type=True), info=None))\n",
      "(Array(0., dtype=float64), QuadratureInfo(err=Array(0., dtype=float64), neval=Array(21, dtype=int64, weak_type=True), status=Array(0, dtype=int64, weak_type=True), info=None))\n",
      "(Array(0., dtype=float64), QuadratureInfo(err=Array(0., dtype=float64), neval=Array(21, dtype=int64, weak_type=True), status=Array(0, dtype=int64, weak_type=True), info=None))\n",
      "(Array(0., dtype=float64), QuadratureInfo(err=Array(0., dtype=float64), neval=Array(21, dtype=int64, weak_type=True), status=Array(0, dtype=int64, weak_type=True), info=None))\n",
      "(Array(0., dtype=float64), QuadratureInfo(err=Array(0., dtype=float64), neval=Array(21, dtype=int64, weak_type=True), status=Array(0, dtype=int64, weak_type=True), info=None))\n",
      "(Array(0., dtype=float64), QuadratureInfo(err=Array(0., dtype=float64), neval=Array(21, dtype=int64, weak_type=True), status=Array(0, dtype=int64, weak_type=True), info=None))\n",
      "(Array(0., dtype=float64), QuadratureInfo(err=Array(0., dtype=float64), neval=Array(21, dtype=int64, weak_type=True), status=Array(0, dtype=int64, weak_type=True), info=None))\n",
      "(Array(7.89722472e-49, dtype=float64), QuadratureInfo(err=Array(3.83237057e-58, dtype=float64), neval=Array(21, dtype=int64, weak_type=True), status=Array(0, dtype=int64, weak_type=True), info=None))\n",
      "(Array(0., dtype=float64), QuadratureInfo(err=Array(0., dtype=float64), neval=Array(21, dtype=int64, weak_type=True), status=Array(0, dtype=int64, weak_type=True), info=None))\n",
      "(Array(0., dtype=float64), QuadratureInfo(err=Array(0., dtype=float64), neval=Array(21, dtype=int64, weak_type=True), status=Array(0, dtype=int64, weak_type=True), info=None))\n"
     ]
    }
   ],
   "source": [
    "for i in range(17):\n",
    "    print(quadgk(F_s, [jnp.log(Eth[i]), jnp.log(1.6)], args = (i, )))"
   ]
  },
  {
   "cell_type": "code",
   "execution_count": 44,
   "metadata": {},
   "outputs": [
    {
     "data": {
      "text/plain": [
       "Array([0.00000000e+00, 0.00000000e+00, 0.00000000e+00, 0.00000000e+00,\n",
       "       0.00000000e+00, 0.00000000e+00, 0.00000000e+00, 0.00000000e+00,\n",
       "       0.00000000e+00, 0.00000000e+00, 0.00000000e+00, 0.00000000e+00,\n",
       "       0.00000000e+00, 0.00000000e+00, 7.89722472e-49, 0.00000000e+00,\n",
       "       0.00000000e+00], dtype=float64)"
      ]
     },
     "execution_count": 44,
     "metadata": {},
     "output_type": "execute_result"
    }
   ],
   "source": [
    "jax.vmap(quadgk, in_axes = (None, 1, 0) )(F_s, jnp.array([jnp.log(Eth), jnp.full_like(Eth, jnp.log(1.6))]), (jnp.arange(17), ))[0]"
   ]
  },
  {
   "cell_type": "code",
   "execution_count": 14,
   "metadata": {},
   "outputs": [
    {
     "ename": "TypeError",
     "evalue": "'jaxlib.xla_extension.ArrayImpl' object is not callable",
     "output_type": "error",
     "traceback": [
      "\u001b[0;31m---------------------------------------------------------------------------\u001b[0m",
      "\u001b[0;31mTypeError\u001b[0m                                 Traceback (most recent call last)",
      "Cell \u001b[0;32mIn[14], line 1\u001b[0m\n\u001b[0;32m----> 1\u001b[0m \u001b[43mFph_s\u001b[49m\u001b[43m(\u001b[49m\u001b[43mjnp\u001b[49m\u001b[38;5;241;43m.\u001b[39;49m\u001b[43mlog\u001b[49m\u001b[43m(\u001b[49m\u001b[38;5;241;43m2\u001b[39;49m\u001b[43m)\u001b[49m\u001b[43m)\u001b[49m\n",
      "Cell \u001b[0;32mIn[10], line 8\u001b[0m, in \u001b[0;36mFph_s\u001b[0;34m(log_E)\u001b[0m\n\u001b[1;32m      5\u001b[0m \u001b[38;5;28;01mdef\u001b[39;00m \u001b[38;5;21mFph_s\u001b[39m(log_E):\n\u001b[1;32m      6\u001b[0m     E \u001b[38;5;241m=\u001b[39m jnp\u001b[38;5;241m.\u001b[39mexp( log_E )\n\u001b[0;32m----> 8\u001b[0m     \u001b[38;5;28;01mreturn\u001b[39;00m \u001b[43msp\u001b[49m\u001b[43m(\u001b[49m\u001b[43m \u001b[49m\u001b[43mE\u001b[49m\u001b[43m \u001b[49m\u001b[43m)\u001b[49m \u001b[38;5;241m*\u001b[39m E \u001b[38;5;241m*\u001b[39m mod\u001b[38;5;241m.\u001b[39mget_cross_section(E)\n",
      "\u001b[0;31mTypeError\u001b[0m: 'jaxlib.xla_extension.ArrayImpl' object is not callable"
     ]
    }
   ],
   "source": [
    "Fph_s(jnp.log(2))"
   ]
  },
  {
   "cell_type": "code",
   "execution_count": 14,
   "metadata": {},
   "outputs": [
    {
     "name": "stdout",
     "output_type": "stream",
     "text": [
      "Rate time:  41.81624913215637\n",
      "Kernel time:  0.1351640224456787\n",
      "Source time:  0.8743259906768799\n",
      "Solve time:  0.001079559326171875\n",
      "Traced<ShapedArray(float64[17])>with<BatchTrace(level=1/0)> with\n",
      "  val = Array([[0., 0., 0., 0., 0., 0., 0., 0., 0., 0., 0., 0., 0., 0., 0., 0.,\n",
      "        0.],\n",
      "       [0., 0., 0., 0., 0., 0., 0., 0., 0., 0., 0., 0., 0., 0., 0., 0.,\n",
      "        0.],\n",
      "       [0., 0., 0., 0., 0., 0., 0., 0., 0., 0., 0., 0., 0., 0., 0., 0.,\n",
      "        0.]], dtype=float64)\n",
      "  batch_dim = 0\n"
     ]
    },
    {
     "data": {
      "text/plain": [
       "Array([[1.14740000e-004, 1.14741000e-003, 1.14740900e-002],\n",
       "       [4.50858677e-171, 1.92697571e-024, 2.20792359e-032],\n",
       "       [1.00000000e-200, 8.31796340e-195, 3.37904124e-035],\n",
       "       [1.00000000e-200, 1.00000000e-200, 4.41640179e-037],\n",
       "       [1.00000000e-200, 2.01931807e-163, 6.25798342e-035],\n",
       "       [1.00000000e-200, 1.00000000e-200, 2.53245773e-036],\n",
       "       [1.00000000e-200, 1.00000000e-200, 1.00000000e-200],\n",
       "       [1.00000000e-200, 1.00000000e-200, 1.00000000e-200],\n",
       "       [1.00000000e-200, 1.00000000e-200, 1.00000000e-200],\n",
       "       [1.00000000e-200, 1.00000000e-200, 1.00000000e-200],\n",
       "       [1.27591801e-186, 1.93796087e-073, 1.82592244e-034],\n",
       "       [1.00000000e-200, 1.00000000e-200, 1.00000000e-200],\n",
       "       [1.13287697e-172, 1.53033456e-025, 3.47889993e-033],\n",
       "       [1.00000000e-200, 1.00000000e-200, 4.31301435e-036],\n",
       "       [1.00000000e-200, 1.00000000e-200, 1.00000000e-200],\n",
       "       [5.64167969e-171, 1.70035284e-024, 1.78167387e-032],\n",
       "       [1.00000000e-200, 1.35660009e-168, 1.64150896e-035],\n",
       "       [1.00000000e-200, 1.00000000e-200, 1.00000000e-200]],      dtype=float64)"
      ]
     },
     "execution_count": 14,
     "metadata": {},
     "output_type": "execute_result"
    }
   ],
   "source": [
    "mod.get_pdi_grids()"
   ]
  },
  {
   "cell_type": "code",
   "execution_count": null,
   "metadata": {},
   "outputs": [],
   "source": []
  },
  {
   "cell_type": "code",
   "execution_count": 37,
   "metadata": {},
   "outputs": [
    {
     "ename": "ValueError",
     "evalue": "Cannot broadcast to shape with fewer dimensions: arr_shape=(3,) shape=()",
     "output_type": "error",
     "traceback": [
      "\u001b[0;31m---------------------------------------------------------------------------\u001b[0m",
      "\u001b[0;31mValueError\u001b[0m                                Traceback (most recent call last)",
      "Cell \u001b[0;32mIn[37], line 1\u001b[0m\n\u001b[0;32m----> 1\u001b[0m three_temps \u001b[38;5;241m=\u001b[39m \u001b[43mmod\u001b[49m\u001b[38;5;241;43m.\u001b[39;49m\u001b[43mpdi_rates\u001b[49m\u001b[43m(\u001b[49m\u001b[43mjnp\u001b[49m\u001b[38;5;241;43m.\u001b[39;49m\u001b[43marray\u001b[49m\u001b[43m(\u001b[49m\u001b[43m[\u001b[49m\u001b[38;5;241;43m3\u001b[39;49m\u001b[43m,\u001b[49m\u001b[43m \u001b[49m\u001b[38;5;241;43m5\u001b[39;49m\u001b[43m,\u001b[49m\u001b[43m \u001b[49m\u001b[38;5;241;43m7\u001b[39;49m\u001b[43m]\u001b[49m\u001b[43m)\u001b[49m\u001b[43m)\u001b[49m\n",
      "    \u001b[0;31m[... skipping hidden 1 frame]\u001b[0m\n",
      "File \u001b[0;32m~/research_programs/LINX/example_notebooks/../linx/pd_rates.py:592\u001b[0m, in \u001b[0;36mdecay_model.pdi_rates\u001b[0;34m(self, T)\u001b[0m\n\u001b[1;32m    590\u001b[0m \u001b[38;5;66;03m#pdi_rates = {key: approx_zero for key in E_th.keys()}\u001b[39;00m\n\u001b[1;32m    591\u001b[0m Eth_list \u001b[38;5;241m=\u001b[39m jnp\u001b[38;5;241m.\u001b[39marray(\u001b[38;5;28mlist\u001b[39m(E_th\u001b[38;5;241m.\u001b[39mvalues()))\n\u001b[0;32m--> 592\u001b[0m sp \u001b[38;5;241m=\u001b[39m \u001b[38;5;28;43mself\u001b[39;49m\u001b[38;5;241;43m.\u001b[39;49m\u001b[43mspec\u001b[49m\u001b[38;5;241;43m.\u001b[39;49m\u001b[43mget_spectrum\u001b[49m\u001b[43m(\u001b[49m\u001b[38;5;28;43mself\u001b[39;49m\u001b[38;5;241;43m.\u001b[39;49m\u001b[43mE0\u001b[49m\u001b[43m,\u001b[49m\u001b[43m \u001b[49m\u001b[38;5;28;43mself\u001b[39;49m\u001b[38;5;241;43m.\u001b[39;49m\u001b[43mget_source_0\u001b[49m\u001b[43m(\u001b[49m\u001b[43m)\u001b[49m\u001b[43m,\u001b[49m\u001b[43m \u001b[49m\u001b[38;5;28;43mself\u001b[39;49m\u001b[38;5;241;43m.\u001b[39;49m\u001b[43mget_source_cont\u001b[49m\u001b[43m(\u001b[49m\u001b[43m)\u001b[49m\u001b[43m,\u001b[49m\u001b[43m \u001b[49m\u001b[43mT\u001b[49m\u001b[43m)\u001b[49m\n\u001b[1;32m    594\u001b[0m rate_photon_E0 \u001b[38;5;241m=\u001b[39m \u001b[38;5;28mself\u001b[39m\u001b[38;5;241m.\u001b[39mspec\u001b[38;5;241m.\u001b[39mtotal_rate_photon(\u001b[38;5;28mself\u001b[39m\u001b[38;5;241m.\u001b[39mE0, T)\n\u001b[1;32m    596\u001b[0m \u001b[38;5;129m@jax\u001b[39m\u001b[38;5;241m.\u001b[39mjit\n\u001b[1;32m    597\u001b[0m \u001b[38;5;28;01mdef\u001b[39;00m \u001b[38;5;21mF_s\u001b[39m(log_E):\n",
      "    \u001b[0;31m[... skipping hidden 1 frame]\u001b[0m\n",
      "File \u001b[0;32m~/research_programs/LINX/example_notebooks/../linx/injected_spec.py:681\u001b[0m, in \u001b[0;36mInjectedSpectrum.get_spectrum\u001b[0;34m(self, E0, S_0f, S_contf, T)\u001b[0m\n\u001b[1;32m    677\u001b[0m t1 \u001b[38;5;241m=\u001b[39m time\u001b[38;5;241m.\u001b[39mtime()\n\u001b[1;32m    678\u001b[0m \u001b[38;5;66;03m#ii, jj = jnp.meshgrid(X_grid, E_grid, indexing='ij')\u001b[39;00m\n\u001b[1;32m    679\u001b[0m \u001b[38;5;66;03m#R = jnp.reshape(jax.vmap(self.rate_x, in_axes=(0, 0, None))(ii.flatten(), jj.flatten(), T), (N_X, NE))\u001b[39;00m\n\u001b[1;32m    680\u001b[0m \u001b[38;5;66;03m#R = jnp.reshape(self.rate_x(ii.flatten(), jj.flatten(), T), (N_X, NE))\u001b[39;00m\n\u001b[0;32m--> 681\u001b[0m R \u001b[38;5;241m=\u001b[39m jnp\u001b[38;5;241m.\u001b[39marray([[\u001b[38;5;28;43mself\u001b[39;49m\u001b[38;5;241;43m.\u001b[39;49m\u001b[43mrate_x\u001b[49m\u001b[43m(\u001b[49m\u001b[43mX\u001b[49m\u001b[43m,\u001b[49m\u001b[43m \u001b[49m\u001b[43mE\u001b[49m\u001b[43m,\u001b[49m\u001b[43m \u001b[49m\u001b[43mT\u001b[49m\u001b[43m)\u001b[49m \u001b[38;5;28;01mfor\u001b[39;00m E \u001b[38;5;129;01min\u001b[39;00m E_grid] \u001b[38;5;28;01mfor\u001b[39;00m X \u001b[38;5;129;01min\u001b[39;00m X_grid])\n\u001b[1;32m    682\u001b[0m \u001b[38;5;66;03m#R = jnp.array([self.rate_x(X_grid, E, T) for E in E_grid])\u001b[39;00m\n\u001b[1;32m    684\u001b[0m t2 \u001b[38;5;241m=\u001b[39m time\u001b[38;5;241m.\u001b[39mtime()\n",
      "File \u001b[0;32m~/miniconda3/envs/linx/lib/python3.13/site-packages/equinox/_module.py:1238\u001b[0m, in \u001b[0;36mPartial.__call__\u001b[0;34m(self, *args, **kwargs)\u001b[0m\n\u001b[1;32m   1225\u001b[0m \u001b[38;5;28;01mdef\u001b[39;00m \u001b[38;5;21m__call__\u001b[39m(\u001b[38;5;28mself\u001b[39m, \u001b[38;5;241m*\u001b[39margs, \u001b[38;5;241m*\u001b[39m\u001b[38;5;241m*\u001b[39mkwargs):\n\u001b[1;32m   1226\u001b[0m \u001b[38;5;250m    \u001b[39m\u001b[38;5;124;03m\"\"\"Call the wrapped `self.func`.\u001b[39;00m\n\u001b[1;32m   1227\u001b[0m \n\u001b[1;32m   1228\u001b[0m \u001b[38;5;124;03m    **Arguments:**\u001b[39;00m\n\u001b[0;32m   (...)\u001b[0m\n\u001b[1;32m   1236\u001b[0m \u001b[38;5;124;03m    The result of the wrapped function.\u001b[39;00m\n\u001b[1;32m   1237\u001b[0m \u001b[38;5;124;03m    \"\"\"\u001b[39;00m\n\u001b[0;32m-> 1238\u001b[0m     \u001b[38;5;28;01mreturn\u001b[39;00m \u001b[38;5;28;43mself\u001b[39;49m\u001b[38;5;241;43m.\u001b[39;49m\u001b[43mfunc\u001b[49m\u001b[43m(\u001b[49m\u001b[38;5;241;43m*\u001b[39;49m\u001b[38;5;28;43mself\u001b[39;49m\u001b[38;5;241;43m.\u001b[39;49m\u001b[43margs\u001b[49m\u001b[43m,\u001b[49m\u001b[43m \u001b[49m\u001b[38;5;241;43m*\u001b[39;49m\u001b[43margs\u001b[49m\u001b[43m,\u001b[49m\u001b[43m \u001b[49m\u001b[38;5;241;43m*\u001b[39;49m\u001b[38;5;241;43m*\u001b[39;49m\u001b[43mkwargs\u001b[49m\u001b[43m,\u001b[49m\u001b[43m \u001b[49m\u001b[38;5;241;43m*\u001b[39;49m\u001b[38;5;241;43m*\u001b[39;49m\u001b[38;5;28;43mself\u001b[39;49m\u001b[38;5;241;43m.\u001b[39;49m\u001b[43mkeywords\u001b[49m\u001b[43m)\u001b[49m\n",
      "    \u001b[0;31m[... skipping hidden 15 frame]\u001b[0m\n",
      "File \u001b[0;32m~/research_programs/LINX/example_notebooks/../linx/injected_spec.py:602\u001b[0m, in \u001b[0;36mInjectedSpectrum.rate_x\u001b[0;34m(self, X, E, T)\u001b[0m\n\u001b[1;32m    573\u001b[0m \u001b[38;5;250m\u001b[39m\u001b[38;5;124;03m\"\"\"Returns rate for species type\u001b[39;00m\n\u001b[1;32m    574\u001b[0m \n\u001b[1;32m    575\u001b[0m \u001b[38;5;124;03mParameters\u001b[39;00m\n\u001b[0;32m   (...)\u001b[0m\n\u001b[1;32m    599\u001b[0m \u001b[38;5;124;03m    raise ValueError(\"Invalid reaction type\")\u001b[39;00m\n\u001b[1;32m    600\u001b[0m \u001b[38;5;124;03m\"\"\"\u001b[39;00m\n\u001b[1;32m    601\u001b[0m \u001b[38;5;28;01mif\u001b[39;00m (\u001b[38;5;28mtype\u001b[39m(E) \u001b[38;5;241m!=\u001b[39m \u001b[38;5;28mfloat\u001b[39m) \u001b[38;5;129;01mand\u001b[39;00m (\u001b[38;5;28mtype\u001b[39m(E) \u001b[38;5;241m!=\u001b[39m \u001b[38;5;28mint\u001b[39m):\n\u001b[0;32m--> 602\u001b[0m     T \u001b[38;5;241m=\u001b[39m \u001b[43mjnp\u001b[49m\u001b[38;5;241;43m.\u001b[39;49m\u001b[43mfull_like\u001b[49m\u001b[43m(\u001b[49m\u001b[43mE\u001b[49m\u001b[43m,\u001b[49m\u001b[43m \u001b[49m\u001b[43mT\u001b[49m\u001b[43m)\u001b[49m\n\u001b[1;32m    603\u001b[0m \u001b[38;5;28;01mreturn\u001b[39;00m jnp\u001b[38;5;241m.\u001b[39mselect([X \u001b[38;5;241m==\u001b[39m \u001b[38;5;241m0\u001b[39m, X \u001b[38;5;241m==\u001b[39m \u001b[38;5;241m1\u001b[39m, X \u001b[38;5;241m==\u001b[39m \u001b[38;5;241m2\u001b[39m], [\u001b[38;5;28mself\u001b[39m\u001b[38;5;241m.\u001b[39mtotal_rate_photon(E, T), \u001b[38;5;28mself\u001b[39m\u001b[38;5;241m.\u001b[39mtotal_lepton_rate(E, T), \u001b[38;5;28mself\u001b[39m\u001b[38;5;241m.\u001b[39mtotal_lepton_rate(E, T)])\n",
      "File \u001b[0;32m~/miniconda3/envs/linx/lib/python3.13/site-packages/jax/_src/numpy/lax_numpy.py:5877\u001b[0m, in \u001b[0;36mfull_like\u001b[0;34m(a, fill_value, dtype, shape, device)\u001b[0m\n\u001b[1;32m   5874\u001b[0m shape \u001b[38;5;241m=\u001b[39m np\u001b[38;5;241m.\u001b[39mshape(a) \u001b[38;5;28;01mif\u001b[39;00m shape \u001b[38;5;129;01mis\u001b[39;00m \u001b[38;5;28;01mNone\u001b[39;00m \u001b[38;5;28;01melse\u001b[39;00m shape  \u001b[38;5;66;03m# type: ignore[arg-type]\u001b[39;00m\n\u001b[1;32m   5875\u001b[0m dtype \u001b[38;5;241m=\u001b[39m result_type(a) \u001b[38;5;28;01mif\u001b[39;00m dtype \u001b[38;5;129;01mis\u001b[39;00m \u001b[38;5;28;01mNone\u001b[39;00m \u001b[38;5;28;01melse\u001b[39;00m dtype\n\u001b[1;32m   5876\u001b[0m \u001b[38;5;28;01mreturn\u001b[39;00m jax\u001b[38;5;241m.\u001b[39mdevice_put(\n\u001b[0;32m-> 5877\u001b[0m     \u001b[43mbroadcast_to\u001b[49m\u001b[43m(\u001b[49m\u001b[43masarray\u001b[49m\u001b[43m(\u001b[49m\u001b[43mfill_value\u001b[49m\u001b[43m,\u001b[49m\u001b[43m \u001b[49m\u001b[43mdtype\u001b[49m\u001b[38;5;241;43m=\u001b[39;49m\u001b[43mdtype\u001b[49m\u001b[43m)\u001b[49m\u001b[43m,\u001b[49m\u001b[43m \u001b[49m\u001b[43mshape\u001b[49m\u001b[43m)\u001b[49m, device)\n",
      "File \u001b[0;32m~/miniconda3/envs/linx/lib/python3.13/site-packages/jax/_src/numpy/lax_numpy.py:3207\u001b[0m, in \u001b[0;36mbroadcast_to\u001b[0;34m(array, shape)\u001b[0m\n\u001b[1;32m   3173\u001b[0m \u001b[38;5;28;01mdef\u001b[39;00m \u001b[38;5;21mbroadcast_to\u001b[39m(array: ArrayLike, shape: DimSize \u001b[38;5;241m|\u001b[39m Shape) \u001b[38;5;241m-\u001b[39m\u001b[38;5;241m>\u001b[39m Array:\n\u001b[1;32m   3174\u001b[0m \u001b[38;5;250m  \u001b[39m\u001b[38;5;124;03m\"\"\"Broadcast an array to a specified shape.\u001b[39;00m\n\u001b[1;32m   3175\u001b[0m \n\u001b[1;32m   3176\u001b[0m \u001b[38;5;124;03m  JAX implementation of :func:`numpy.broadcast_to`. JAX uses NumPy-style\u001b[39;00m\n\u001b[0;32m   (...)\u001b[0m\n\u001b[1;32m   3205\u001b[0m \u001b[38;5;124;03m  .. _NumPy broadcasting: https://numpy.org/doc/stable/user/basics.broadcasting.html\u001b[39;00m\n\u001b[1;32m   3206\u001b[0m \u001b[38;5;124;03m  \"\"\"\u001b[39;00m\n\u001b[0;32m-> 3207\u001b[0m   \u001b[38;5;28;01mreturn\u001b[39;00m \u001b[43mutil\u001b[49m\u001b[38;5;241;43m.\u001b[39;49m\u001b[43m_broadcast_to\u001b[49m\u001b[43m(\u001b[49m\u001b[43marray\u001b[49m\u001b[43m,\u001b[49m\u001b[43m \u001b[49m\u001b[43mshape\u001b[49m\u001b[43m)\u001b[49m\n",
      "File \u001b[0;32m~/miniconda3/envs/linx/lib/python3.13/site-packages/jax/_src/numpy/util.py:403\u001b[0m, in \u001b[0;36m_broadcast_to\u001b[0;34m(arr, shape)\u001b[0m\n\u001b[1;32m    401\u001b[0m   \u001b[38;5;28;01mreturn\u001b[39;00m arr\n\u001b[1;32m    402\u001b[0m \u001b[38;5;28;01melif\u001b[39;00m \u001b[38;5;28mlen\u001b[39m(shape) \u001b[38;5;241m<\u001b[39m \u001b[38;5;28mlen\u001b[39m(arr_shape):\n\u001b[0;32m--> 403\u001b[0m   \u001b[38;5;28;01mraise\u001b[39;00m \u001b[38;5;167;01mValueError\u001b[39;00m(\u001b[38;5;124mf\u001b[39m\u001b[38;5;124m\"\u001b[39m\u001b[38;5;124mCannot broadcast to shape with fewer dimensions: \u001b[39m\u001b[38;5;132;01m{\u001b[39;00marr_shape\u001b[38;5;132;01m=}\u001b[39;00m\u001b[38;5;124m \u001b[39m\u001b[38;5;132;01m{\u001b[39;00mshape\u001b[38;5;132;01m=}\u001b[39;00m\u001b[38;5;124m\"\u001b[39m)\n\u001b[1;32m    404\u001b[0m \u001b[38;5;28;01melse\u001b[39;00m:\n\u001b[1;32m    405\u001b[0m   nlead \u001b[38;5;241m=\u001b[39m \u001b[38;5;28mlen\u001b[39m(shape) \u001b[38;5;241m-\u001b[39m \u001b[38;5;28mlen\u001b[39m(arr_shape)\n",
      "\u001b[0;31mValueError\u001b[0m: Cannot broadcast to shape with fewer dimensions: arr_shape=(3,) shape=()"
     ]
    }
   ],
   "source": [
    "three_temps = mod.pdi_rates(jnp.array([3, 5, 7]))"
   ]
  },
  {
   "cell_type": "code",
   "execution_count": 18,
   "metadata": {},
   "outputs": [
    {
     "data": {
      "text/plain": [
       "(3, 17, 17)"
      ]
     },
     "execution_count": 18,
     "metadata": {},
     "output_type": "execute_result"
    }
   ],
   "source": [
    "three_temps.shape"
   ]
  },
  {
   "cell_type": "code",
   "execution_count": 20,
   "metadata": {},
   "outputs": [
    {
     "name": "stdout",
     "output_type": "stream",
     "text": [
      "Rate time:  0.03723478317260742\n",
      "Kernel time:  0.010888099670410156\n",
      "Source time:  0.07008218765258789\n",
      "Solve time:  0.45337438583374023\n",
      "1.54 s ± 175 ms per loop (mean ± std. dev. of 7 runs, 1 loop each)\n"
     ]
    }
   ],
   "source": [
    "%timeit mod.pdi_rates(5).block_until_ready()"
   ]
  },
  {
   "cell_type": "code",
   "execution_count": null,
   "metadata": {},
   "outputs": [],
   "source": []
  },
  {
   "cell_type": "code",
   "execution_count": 16,
   "metadata": {},
   "outputs": [
    {
     "name": "stdout",
     "output_type": "stream",
     "text": [
      "Rate time:  0.02277684211730957\n",
      "Kernel time:  0.00667881965637207\n",
      "Source time:  0.03879141807556152\n",
      "Solve time:  0.0006124973297119141\n"
     ]
    },
    {
     "data": {
      "text/plain": [
       "Array([[[ 1.00000000e-200,  3.43127249e-205,  3.51403252e-205,\n",
       "          9.91606351e-201,  3.93063246e-205,  3.94061182e-205,\n",
       "          3.77551503e-205,  3.26610882e-208,  8.58355237e-208,\n",
       "          1.00000000e-200,  8.48398439e-205,  1.00000000e-200,\n",
       "          2.68999370e-205,  3.52584788e-205,  1.00000000e-200,\n",
       "          3.59331057e-202,  3.84180383e-205],\n",
       "        [ 4.72377576e-204,  3.47802983e-205,  3.51403696e-205,\n",
       "          8.48814970e-205,  3.93063302e-205,  3.90767218e-205,\n",
       "          3.80543704e-205,  3.26790560e-208,  8.56847225e-208,\n",
       "          2.08542957e-204,  8.47972725e-205,  6.58403332e-205,\n",
       "          2.69466562e-205,  3.52575071e-205,  0.00000000e+000,\n",
       "          4.95690507e-205,  3.84179412e-205],\n",
       "        [ 3.98360569e-205,  3.17616589e-205,  3.51403756e-205,\n",
       "          3.23329868e-205,  3.92706317e-205,  3.90762114e-205,\n",
       "          3.80542401e-205,  3.26792214e-208,  8.56837210e-208,\n",
       "          6.58164268e-205,  8.47972537e-205,  2.59502293e-208,\n",
       "          2.67945937e-205,  3.52574846e-205,  0.00000000e+000,\n",
       "          2.32991690e-205,  3.84179440e-205],\n",
       "        [ 1.00000000e-200,  3.47822609e-205,  3.51403742e-205,\n",
       "          7.37626465e-201,  3.93063310e-205,  3.89882223e-205,\n",
       "          3.81149664e-205,  3.26822883e-208,  8.57171111e-208,\n",
       "          1.00000000e-200,  8.48009382e-205,  1.00000000e-200,\n",
       "          2.69859390e-205,  3.52574746e-205,  0.00000000e+000,\n",
       "          7.18281025e-202,  3.84179315e-205],\n",
       "        [ 4.31240686e-205,  3.27658661e-205,  3.51403740e-205,\n",
       "          3.36876707e-205,  3.93063298e-205,  3.90761924e-205,\n",
       "          3.80542567e-205,  3.26789209e-208,  8.56868867e-208,\n",
       "          6.84396271e-205,  8.47972767e-205,  8.49191677e-208,\n",
       "          2.69120453e-205,  3.52574871e-205,  0.00000000e+000,\n",
       "          2.34960302e-205,  3.84179358e-205],\n",
       "        [ 1.16487773e-205,  1.09513814e-205,  1.60206272e-205,\n",
       "          1.11090344e-205,  1.89721436e-205,  3.90762124e-205,\n",
       "          3.80543958e-205,  3.26790563e-208,  8.56839418e-208,\n",
       "          2.22801519e-205,  7.17422385e-205,  3.30893967e-217,\n",
       "          7.53062748e-206,  2.09063810e-205,  0.00000000e+000,\n",
       "          4.85288643e-206,  1.71067492e-205],\n",
       "        [ 1.05172949e-205,  9.89012133e-206,  1.44936043e-205,\n",
       "          1.00520374e-205,  1.73138624e-205,  3.84179201e-205,\n",
       "          3.80542306e-205,  3.26786296e-208,  8.56823256e-208,\n",
       "          2.00949479e-205,  6.58166409e-205,  7.66209122e-218,\n",
       "          6.55730756e-206,  1.89230090e-205,  0.00000000e+000,\n",
       "          4.06519051e-206,  1.52634200e-205],\n",
       "        [ 6.23781473e-206,  5.85296599e-206,  8.58420301e-206,\n",
       "          5.99867889e-206,  1.06325033e-205,  2.72092191e-205,\n",
       "          2.91480393e-205,  3.26790557e-208,  8.56835145e-208,\n",
       "          1.18196601e-205,  4.21976390e-205,  1.38994053e-220,\n",
       "          3.33887737e-206,  1.10648313e-205,  0.00000000e+000,\n",
       "          1.75809628e-206,  8.50824054e-206],\n",
       "        [ 3.75224123e-206,  3.50865229e-206,  5.12820389e-206,\n",
       "          3.61593696e-206,  6.50062333e-206,  1.70369120e-205,\n",
       "          1.86780300e-205,  3.10355762e-208,  8.56843516e-208,\n",
       "          7.05384111e-206,  3.03625860e-205,  1.82321316e-222,\n",
       "          1.82174160e-206,  6.49943410e-206,  0.00000000e+000,\n",
       "          8.64460243e-207,  4.88193428e-206],\n",
       "        [ 1.00000000e-200,  3.47879842e-205,  3.51405327e-205,\n",
       "          7.23463041e-201,  3.93062463e-205,  3.92733716e-205,\n",
       "          3.78498583e-205,  3.27029358e-208,  8.56087409e-208,\n",
       "          1.00000000e-200,  8.47988493e-205,  1.00000000e-200,\n",
       "          2.68972824e-205,  3.52574995e-205,  1.00000000e-200,\n",
       "          7.34260433e-202,  3.84179248e-205],\n",
       "        [ 1.87042859e-205,  1.74052752e-205,  2.47718479e-205,\n",
       "          1.74913443e-205,  2.80554845e-205,  3.90762771e-205,\n",
       "          3.80542829e-205,  3.26792155e-208,  8.56857560e-208,\n",
       "          3.56053126e-205,  8.47972562e-205,  6.57722145e-214,\n",
       "          1.44065848e-205,  3.09121589e-205,  0.00000000e+000,\n",
       "          1.12110882e-205,  2.81097223e-205],\n",
       "        [ 1.00000000e-200,  3.48623072e-205,  3.51403764e-205,\n",
       "          3.31959719e-201,  3.93062651e-205,  3.91915973e-205,\n",
       "          3.82225191e-205,  3.26461694e-208,  8.57782421e-208,\n",
       "          1.00000000e-200,  8.47489683e-205,  1.00000000e-200,\n",
       "          2.70474153e-205,  3.52567985e-205,  1.00000000e-200,\n",
       "          9.25913133e-202,  3.84180360e-205],\n",
       "        [ 4.52882378e-205,  3.31852214e-205,  3.51403749e-205,\n",
       "          3.43850912e-205,  3.93063310e-205,  3.90762833e-205,\n",
       "          3.80542254e-205,  3.26794048e-208,  8.56805216e-208,\n",
       "          6.98183062e-205,  8.47972462e-205,  1.70298686e-207,\n",
       "          2.69466476e-205,  3.52574911e-205,  0.00000000e+000,\n",
       "          2.36368866e-205,  3.84179410e-205],\n",
       "        [ 3.09482793e-205,  2.70816385e-205,  3.40203327e-205,\n",
       "          2.71632606e-205,  3.74959448e-205,  3.90762239e-205,\n",
       "          3.80542279e-205,  3.26790525e-208,  8.56844346e-208,\n",
       "          5.56160651e-205,  8.47972552e-205,  4.21744584e-210,\n",
       "          2.47495782e-205,  3.52574871e-205,  0.00000000e+000,\n",
       "          2.14625327e-205,  3.81048991e-205],\n",
       "        [ 1.00000000e-200,  3.51335888e-205,  3.51390638e-205,\n",
       "          1.00000000e-200,  3.93066178e-205,  3.83398975e-205,\n",
       "          3.83909374e-205,  3.27321594e-208,  8.56977351e-208,\n",
       "          1.00000000e-200,  8.47252580e-205,  1.00000000e-200,\n",
       "          2.69279434e-205,  3.52550705e-205,  1.00000000e-200,\n",
       "          2.63359237e-202,  3.84177530e-205],\n",
       "        [ 1.00000000e-200,  3.48295519e-205,  3.51403757e-205,\n",
       "          4.10058042e-201,  3.93063320e-205,  3.88751912e-205,\n",
       "          3.81761871e-205,  3.26856179e-208,  8.57042698e-208,\n",
       "          1.00000000e-200,  8.48057842e-205,  1.00000000e-200,\n",
       "          2.69553050e-205,  3.52574822e-205,  0.00000000e+000,\n",
       "          7.17978047e-202,  3.84179468e-205],\n",
       "        [ 3.66007736e-205,  3.03642824e-205,  3.50854081e-205,\n",
       "          3.06844866e-205,  3.90117212e-205,  3.90762754e-205,\n",
       "          3.80543113e-205,  3.26791423e-208,  8.56840338e-208,\n",
       "          6.26134830e-205,  8.47972622e-205,  6.84617075e-209,\n",
       "          2.64885156e-205,  3.52574862e-205,  0.00000000e+000,\n",
       "          2.30015054e-205,  3.84179412e-205]],\n",
       "\n",
       "       [[ 1.00000000e-200,  1.00000000e-200,  3.51403252e-205,\n",
       "          1.00000000e-200,  3.93063246e-205,  3.94061182e-205,\n",
       "          3.77551503e-205,  3.26610882e-208,  8.58355237e-208,\n",
       "          1.00000000e-200,  8.48398439e-205,  1.00000000e-200,\n",
       "          2.68999370e-205,  3.52584788e-205,  1.00000000e-200,\n",
       "          1.00000000e-200,  3.84180383e-205],\n",
       "        [ 1.00000000e-200,  1.00000000e-200,  3.51403696e-205,\n",
       "          1.00000000e-200,  3.93063302e-205,  3.92025665e-205,\n",
       "          3.80861808e-205,  3.26860037e-208,  8.56493477e-208,\n",
       "          1.00000000e-200,  8.47999875e-205,  1.00000000e-200,\n",
       "          2.69328983e-205,  3.52575071e-205,  0.00000000e+000,\n",
       "          1.00000000e-200,  3.84179412e-205],\n",
       "        [ 3.98360569e-205,  3.17616589e-205,  3.51403756e-205,\n",
       "          3.23329868e-205,  3.92706317e-205,  3.90762114e-205,\n",
       "          3.80542401e-205,  3.26792214e-208,  8.56837210e-208,\n",
       "          6.58164268e-205,  8.47972537e-205,  2.59502293e-208,\n",
       "          2.67945937e-205,  3.52574846e-205,  0.00000000e+000,\n",
       "          2.32991690e-205,  3.84179440e-205],\n",
       "        [ 1.00000000e-200,  1.00000000e-200,  3.51403742e-205,\n",
       "          1.00000000e-200,  3.93063310e-205,  3.89882223e-205,\n",
       "          3.81149664e-205,  3.26822883e-208,  8.57171111e-208,\n",
       "          1.00000000e-200,  8.48009382e-205,  1.00000000e-200,\n",
       "          2.69859390e-205,  3.52574746e-205,  0.00000000e+000,\n",
       "          1.00000000e-200,  3.84179315e-205],\n",
       "        [ 4.31240686e-205,  3.27658661e-205,  3.51403740e-205,\n",
       "          3.36876707e-205,  3.93063298e-205,  3.90761924e-205,\n",
       "          3.80542567e-205,  3.26789209e-208,  8.56868867e-208,\n",
       "          6.84396271e-205,  8.47972767e-205,  8.49191677e-208,\n",
       "          2.69120453e-205,  3.52574871e-205,  0.00000000e+000,\n",
       "          2.34960302e-205,  3.84179358e-205],\n",
       "        [ 1.16487773e-205,  1.09513814e-205,  1.60206272e-205,\n",
       "          1.11090344e-205,  1.89721436e-205,  3.90762124e-205,\n",
       "          3.80543958e-205,  3.26790563e-208,  8.56839418e-208,\n",
       "          2.22801519e-205,  7.17422385e-205,  3.30893967e-217,\n",
       "          7.53062748e-206,  2.09063810e-205,  0.00000000e+000,\n",
       "          4.85288643e-206,  1.71067492e-205],\n",
       "        [ 1.05172949e-205,  9.89012133e-206,  1.44936043e-205,\n",
       "          1.00520374e-205,  1.73138624e-205,  3.84179201e-205,\n",
       "          3.80542306e-205,  3.26786296e-208,  8.56823256e-208,\n",
       "          2.00949479e-205,  6.58166409e-205,  7.66209122e-218,\n",
       "          6.55730756e-206,  1.89230090e-205,  0.00000000e+000,\n",
       "          4.06519051e-206,  1.52634200e-205],\n",
       "        [ 6.23781473e-206,  5.85296599e-206,  8.58420301e-206,\n",
       "          5.99867889e-206,  1.06325033e-205,  2.72092191e-205,\n",
       "          2.91480393e-205,  3.26790557e-208,  8.56835145e-208,\n",
       "          1.18196601e-205,  4.21976390e-205,  1.38994053e-220,\n",
       "          3.33887737e-206,  1.10648313e-205,  0.00000000e+000,\n",
       "          1.75809628e-206,  8.50824054e-206],\n",
       "        [ 3.75224123e-206,  3.50865229e-206,  5.12820389e-206,\n",
       "          3.61593696e-206,  6.50062333e-206,  1.70369120e-205,\n",
       "          1.86780300e-205,  3.10355762e-208,  8.56843516e-208,\n",
       "          7.05384111e-206,  3.03625860e-205,  1.82321316e-222,\n",
       "          1.82174160e-206,  6.49943410e-206,  0.00000000e+000,\n",
       "          8.64460243e-207,  4.88193428e-206],\n",
       "        [ 1.00000000e-200,  1.00000000e-200,  3.51405327e-205,\n",
       "          1.00000000e-200,  3.93062463e-205,  3.92733716e-205,\n",
       "          3.78498583e-205,  3.27029358e-208,  8.56087409e-208,\n",
       "          1.00000000e-200,  8.47988493e-205,  1.00000000e-200,\n",
       "          2.68972824e-205,  3.52574995e-205,  1.00000000e-200,\n",
       "          1.00000000e-200,  3.84179248e-205],\n",
       "        [ 1.87042859e-205,  1.74052752e-205,  2.47718479e-205,\n",
       "          1.74913443e-205,  2.80554845e-205,  3.90762771e-205,\n",
       "          3.80542829e-205,  3.26792155e-208,  8.56857560e-208,\n",
       "          3.56053126e-205,  8.47972562e-205,  6.57722145e-214,\n",
       "          1.44065848e-205,  3.09121589e-205,  0.00000000e+000,\n",
       "          1.12110882e-205,  2.81097223e-205],\n",
       "        [ 1.00000000e-200,  1.00000000e-200,  3.51403764e-205,\n",
       "          1.00000000e-200,  3.93062651e-205,  3.91915973e-205,\n",
       "          3.82225191e-205,  3.26461694e-208,  8.57782421e-208,\n",
       "          1.00000000e-200,  8.47489683e-205,  1.00000000e-200,\n",
       "          2.70474153e-205,  3.52567985e-205,  1.00000000e-200,\n",
       "          1.00000000e-200,  3.84180360e-205],\n",
       "        [ 4.52882378e-205,  3.31852214e-205,  3.51403749e-205,\n",
       "          3.43850912e-205,  3.93063310e-205,  3.90762833e-205,\n",
       "          3.80542254e-205,  3.26794048e-208,  8.56805216e-208,\n",
       "          6.98183062e-205,  8.47972462e-205,  1.70298686e-207,\n",
       "          2.69466476e-205,  3.52574911e-205,  0.00000000e+000,\n",
       "          2.36368866e-205,  3.84179410e-205],\n",
       "        [ 3.09482793e-205,  2.70816385e-205,  3.40203327e-205,\n",
       "          2.71632606e-205,  3.74959448e-205,  3.90762239e-205,\n",
       "          3.80542279e-205,  3.26790525e-208,  8.56844346e-208,\n",
       "          5.56160651e-205,  8.47972552e-205,  4.21744584e-210,\n",
       "          2.47495782e-205,  3.52574871e-205,  0.00000000e+000,\n",
       "          2.14625327e-205,  3.81048991e-205],\n",
       "        [ 1.00000000e-200,  1.00000000e-200,  3.51390638e-205,\n",
       "          1.00000000e-200,  3.93066178e-205,  3.83398975e-205,\n",
       "          3.83909374e-205,  3.27321594e-208,  8.56977351e-208,\n",
       "          1.00000000e-200,  8.47252580e-205,  1.00000000e-200,\n",
       "          2.69279434e-205,  3.52550705e-205,  1.00000000e-200,\n",
       "          1.00000000e-200,  3.84177530e-205],\n",
       "        [ 1.00000000e-200,  1.00000000e-200,  3.51403757e-205,\n",
       "          1.00000000e-200,  3.93063320e-205,  3.88751912e-205,\n",
       "          3.81761871e-205,  3.26856179e-208,  8.57042698e-208,\n",
       "          1.00000000e-200,  8.48057842e-205,  1.00000000e-200,\n",
       "          2.69553050e-205,  3.52574822e-205,  0.00000000e+000,\n",
       "          1.00000000e-200,  3.84179468e-205],\n",
       "        [ 3.66007736e-205,  3.03642824e-205,  3.50854081e-205,\n",
       "          3.06844866e-205,  3.90117212e-205,  3.90762754e-205,\n",
       "          3.80543113e-205,  3.26791423e-208,  8.56840338e-208,\n",
       "          6.26134830e-205,  8.47972622e-205,  6.84617075e-209,\n",
       "          2.64885156e-205,  3.52574862e-205,  0.00000000e+000,\n",
       "          2.30015054e-205,  3.84179412e-205]],\n",
       "\n",
       "       [[ 1.00000000e-200,  1.00000000e-200,  1.00000000e-200,\n",
       "          1.00000000e-200,  1.00000000e-200,  1.00000000e-200,\n",
       "          1.00000000e-200,  1.00000000e-200,  1.00000000e-200,\n",
       "          1.00000000e-200,  1.00000000e-200,  1.00000000e-200,\n",
       "          1.00000000e-200,  1.00000000e-200,  1.00000000e-200,\n",
       "          1.00000000e-200,  1.00000000e-200],\n",
       "        [ 1.00000000e-200,  1.00000000e-200,  1.00000000e-200,\n",
       "          1.00000000e-200,  1.00000000e-200,  1.00000000e-200,\n",
       "          1.00000000e-200,  1.00000000e-200,  1.00000000e-200,\n",
       "          1.00000000e-200,  1.00000000e-200,  1.00000000e-200,\n",
       "          1.00000000e-200,  1.00000000e-200,  0.00000000e+000,\n",
       "          1.00000000e-200,  1.00000000e-200],\n",
       "        [ 1.00000000e-200,  1.00000000e-200,  1.00000000e-200,\n",
       "          1.00000000e-200,  1.00000000e-200,  1.00000000e-200,\n",
       "          1.00000000e-200,  1.00000000e-200,  1.00000000e-200,\n",
       "          1.00000000e-200,  1.00000000e-200,  1.00000000e-200,\n",
       "          1.00000000e-200,  1.00000000e-200,  0.00000000e+000,\n",
       "          1.00000000e-200,  1.00000000e-200],\n",
       "        [ 1.00000000e-200,  1.00000000e-200,  1.00000000e-200,\n",
       "          1.00000000e-200,  1.00000000e-200,  1.00000000e-200,\n",
       "          1.00000000e-200,  1.00000000e-200,  1.00000000e-200,\n",
       "          1.00000000e-200,  1.00000000e-200,  1.00000000e-200,\n",
       "          1.00000000e-200,  1.00000000e-200,  0.00000000e+000,\n",
       "          1.00000000e-200,  1.00000000e-200],\n",
       "        [ 1.00000000e-200,  1.00000000e-200,  1.00000000e-200,\n",
       "          1.00000000e-200,  1.00000000e-200,  1.00000000e-200,\n",
       "          1.00000000e-200,  1.00000000e-200,  1.00000000e-200,\n",
       "          1.00000000e-200,  1.00000000e-200,  1.00000000e-200,\n",
       "          1.00000000e-200,  1.00000000e-200,  0.00000000e+000,\n",
       "          1.00000000e-200,  1.00000000e-200],\n",
       "        [-4.12029085e-035, -2.97378096e-035, -2.20061318e-035,\n",
       "         -3.02212538e-035, -2.35384802e-035,  1.00000000e-200,\n",
       "          1.00000000e-200,  1.00000000e-200,  1.00000000e-200,\n",
       "         -6.17620849e-035,  1.00000000e-200, -5.94943156e-039,\n",
       "         -2.72695122e-035,  1.00000000e-200,  0.00000000e+000,\n",
       "         -2.65061231e-035, -1.93017627e-035],\n",
       "        [-4.12029151e-035, -2.97378152e-035, -2.20061380e-035,\n",
       "         -3.02212593e-035, -2.35384863e-035,  1.00000000e-200,\n",
       "          1.00000000e-200,  1.00000000e-200,  1.00000000e-200,\n",
       "         -6.17620965e-035,  1.00000000e-200, -5.94943156e-039,\n",
       "         -2.72695188e-035,  1.00000000e-200,  0.00000000e+000,\n",
       "         -2.65061298e-035, -1.93017701e-035],\n",
       "        [-4.12029236e-035, -2.97378223e-035, -2.20061458e-035,\n",
       "         -3.02212663e-035, -2.35384941e-035,  1.00000000e-200,\n",
       "          1.00000000e-200,  1.00000000e-200,  1.00000000e-200,\n",
       "         -6.17621111e-035,  1.00000000e-200, -5.94943157e-039,\n",
       "         -2.72695271e-035,  1.00000000e-200,  0.00000000e+000,\n",
       "         -2.65061382e-035, -1.93017794e-035],\n",
       "        [-4.12029660e-035, -2.97378580e-035, -2.20061853e-035,\n",
       "         -3.02213017e-035, -2.35385335e-035,  1.00000000e-200,\n",
       "          1.00000000e-200,  1.00000000e-200,  1.00000000e-200,\n",
       "         -6.17621849e-035,  1.00000000e-200, -5.94943161e-039,\n",
       "         -2.72695690e-035,  1.00000000e-200,  0.00000000e+000,\n",
       "         -2.65061807e-035, -1.93018265e-035],\n",
       "        [ 1.00000000e-200,  1.00000000e-200,  1.00000000e-200,\n",
       "          1.00000000e-200,  1.00000000e-200,  1.00000000e-200,\n",
       "          1.00000000e-200,  1.00000000e-200,  1.00000000e-200,\n",
       "          1.00000000e-200,  1.00000000e-200,  1.00000000e-200,\n",
       "          1.00000000e-200,  1.00000000e-200,  1.00000000e-200,\n",
       "          1.00000000e-200,  1.00000000e-200],\n",
       "        [-4.12028664e-035, -2.97377742e-035, -2.20060927e-035,\n",
       "         -3.02212188e-035, -2.35384412e-035,  1.00000000e-200,\n",
       "          1.00000000e-200,  1.00000000e-200,  1.00000000e-200,\n",
       "         -6.17620118e-035,  1.00000000e-200, -5.94943151e-039,\n",
       "         -2.72694707e-035,  1.00000000e-200,  0.00000000e+000,\n",
       "         -2.65060810e-035, -1.93017160e-035],\n",
       "        [ 1.00000000e-200,  1.00000000e-200,  1.00000000e-200,\n",
       "          1.00000000e-200,  1.00000000e-200,  1.00000000e-200,\n",
       "          1.00000000e-200,  1.00000000e-200,  1.00000000e-200,\n",
       "          1.00000000e-200,  1.00000000e-200,  1.00000000e-200,\n",
       "          1.00000000e-200,  1.00000000e-200,  1.00000000e-200,\n",
       "          1.00000000e-200,  1.00000000e-200],\n",
       "        [ 1.00000000e-200,  1.00000000e-200,  1.00000000e-200,\n",
       "          1.00000000e-200,  1.00000000e-200,  1.00000000e-200,\n",
       "          1.00000000e-200,  1.00000000e-200,  1.00000000e-200,\n",
       "          1.00000000e-200,  1.00000000e-200,  1.00000000e-200,\n",
       "          1.00000000e-200,  1.00000000e-200,  0.00000000e+000,\n",
       "          1.00000000e-200,  1.00000000e-200],\n",
       "        [-1.03821506e-035, -6.59727668e-036, -3.00483794e-036,\n",
       "         -6.90276436e-036, -3.73743091e-036,  1.00000000e-200,\n",
       "          1.00000000e-200,  1.00000000e-200,  1.00000000e-200,\n",
       "         -1.38504104e-035,  1.00000000e-200, -4.14554389e-039,\n",
       "         -4.38326409e-036,  1.00000000e-200,  0.00000000e+000,\n",
       "         -3.94793518e-036, -1.27222565e-036],\n",
       "        [ 1.00000000e-200,  1.00000000e-200,  1.00000000e-200,\n",
       "          1.00000000e-200,  1.00000000e-200,  1.00000000e-200,\n",
       "          1.00000000e-200,  1.00000000e-200,  1.00000000e-200,\n",
       "          1.00000000e-200,  1.00000000e-200,  1.00000000e-200,\n",
       "          1.00000000e-200,  1.00000000e-200,  1.00000000e-200,\n",
       "          1.00000000e-200,  1.00000000e-200],\n",
       "        [ 1.00000000e-200,  1.00000000e-200,  1.00000000e-200,\n",
       "          1.00000000e-200,  1.00000000e-200,  1.00000000e-200,\n",
       "          1.00000000e-200,  1.00000000e-200,  1.00000000e-200,\n",
       "          1.00000000e-200,  1.00000000e-200,  1.00000000e-200,\n",
       "          1.00000000e-200,  1.00000000e-200,  0.00000000e+000,\n",
       "          1.00000000e-200,  1.00000000e-200],\n",
       "        [ 1.00000000e-200,  1.00000000e-200,  1.00000000e-200,\n",
       "          1.00000000e-200,  1.00000000e-200,  1.00000000e-200,\n",
       "          1.00000000e-200,  1.00000000e-200,  1.00000000e-200,\n",
       "          1.00000000e-200,  1.00000000e-200,  1.00000000e-200,\n",
       "          1.00000000e-200,  1.00000000e-200,  0.00000000e+000,\n",
       "          1.00000000e-200,  1.00000000e-200]]], dtype=float64)"
      ]
     },
     "execution_count": 16,
     "metadata": {},
     "output_type": "execute_result"
    }
   ],
   "source": [
    "mod.get_pdi_grids()"
   ]
  },
  {
   "cell_type": "code",
   "execution_count": 13,
   "metadata": {},
   "outputs": [
    {
     "data": {
      "text/plain": [
       "Array([ True, False, False, False, False, False, False, False, False,\n",
       "        True, False,  True, False, False,  True, False, False],      dtype=bool)"
      ]
     },
     "execution_count": 13,
     "metadata": {},
     "output_type": "execute_result"
    }
   ],
   "source": [
    "5 > jnp.array(list(E_th.values()))"
   ]
  },
  {
   "cell_type": "code",
   "execution_count": 11,
   "metadata": {},
   "outputs": [],
   "source": [
    "E_grid = jnp.logspace(jnp.log(Emin), jnp.log(5), 5, base=jnp.e)\n",
    "ii, jj = jnp.meshgrid(jnp.arange(3), E_grid, indexing='ij')"
   ]
  },
  {
   "cell_type": "code",
   "execution_count": 13,
   "metadata": {},
   "outputs": [
    {
     "data": {
      "text/plain": [
       "Array([1.48929727e-17, 1.18140444e-15, 2.96468909e-14, 3.12209257e-13,\n",
       "       1.72739024e-12, 2.84328170e-10, 2.78964054e-10, 2.66403186e-10,\n",
       "       2.49423545e-10, 2.29960223e-10, 2.84328170e-10, 2.78964054e-10,\n",
       "       2.66403186e-10, 2.49423545e-10, 2.29960223e-10], dtype=float64)"
      ]
     },
     "execution_count": 13,
     "metadata": {},
     "output_type": "execute_result"
    }
   ],
   "source": [
    "InjSpec.rate_x(ii.flatten(), jj.flatten(), jnp.full_like(jj.flatten(), 0.01))"
   ]
  },
  {
   "cell_type": "code",
   "execution_count": 11,
   "metadata": {},
   "outputs": [
    {
     "data": {
      "text/plain": [
       "Array([[1.14776247e-004, 1.14776247e-003, 1.14776247e-002],\n",
       "       [1.00000000e-200, 1.00000000e-200, 6.19915177e-032],\n",
       "       [1.00000000e-200, 1.00000000e-200, 7.88891194e-037],\n",
       "       [1.00000000e-200, 1.00000000e-200, 3.06808952e-067],\n",
       "       [1.00000000e-200, 1.00000000e-200, 1.18055298e-035],\n",
       "       [1.00000000e-200, 1.00000000e-200, 1.08726449e-056],\n",
       "       [1.00000000e-200, 1.00000000e-200, 1.00000000e-200],\n",
       "       [1.00000000e-200, 1.00000000e-200, 1.00000000e-200],\n",
       "       [1.00000000e-200, 1.00000000e-200, 1.00000000e-200],\n",
       "       [1.00000000e-200, 1.00000000e-200, 1.00000000e-200],\n",
       "       [1.00000000e-200, 1.00000000e-200, 9.72145141e-035],\n",
       "       [1.00000000e-200, 1.00000000e-200, 1.00000000e-200],\n",
       "       [1.00000000e-200, 1.00000000e-200, 1.13931006e-032],\n",
       "       [1.00000000e-200, 1.00000000e-200, 1.22790384e-047],\n",
       "       [1.00000000e-200, 1.00000000e-200, 1.00000000e-200],\n",
       "       [1.00000000e-200, 1.00000000e-200, 6.53803418e-032],\n",
       "       [1.00000000e-200, 1.00000000e-200, 5.59501204e-036],\n",
       "       [1.00000000e-200, 1.00000000e-200, 1.99462648e-078]],      dtype=float64)"
      ]
     },
     "execution_count": 11,
     "metadata": {},
     "output_type": "execute_result"
    }
   ],
   "source": [
    "mod.pd_tables"
   ]
  },
  {
   "cell_type": "code",
   "execution_count": null,
   "metadata": {},
   "outputs": [],
   "source": [
    "dir(mod)"
   ]
  },
  {
   "cell_type": "code",
   "execution_count": 15,
   "metadata": {},
   "outputs": [
    {
     "name": "stdout",
     "output_type": "stream",
     "text": [
      "Rate time:  1.4310274124145508\n",
      "Kernel time:  0.13996124267578125\n",
      "Source time:  0.6634202003479004\n",
      "Solve time:  0.0005469322204589844\n"
     ]
    },
    {
     "data": {
      "text/plain": [
       "Array([[1.50000000e+000, 2.02680023e+000, 2.73861279e+000,\n",
       "        3.70041402e+000, 5.00000000e+000],\n",
       "       [1.03519555e-022, 8.34928073e-025, 1.76063104e-026,\n",
       "        3.79300659e-028, 8.12898254e-030],\n",
       "       [6.00021510e-030, 3.07237428e-030, 2.40752876e-030,\n",
       "        2.32581517e-030, 4.34857814e-191],\n",
       "       [6.00021510e-030, 3.07237428e-030, 2.40752876e-030,\n",
       "        2.32581517e-030, 4.34857814e-191]], dtype=float64)"
      ]
     },
     "execution_count": 15,
     "metadata": {},
     "output_type": "execute_result"
    }
   ],
   "source": [
    "InjSpec.get_spectrum(5, mod.get_source_0(), mod.get_source_cont(), 0.01)"
   ]
  },
  {
   "cell_type": "code",
   "execution_count": null,
   "metadata": {},
   "outputs": [],
   "source": [
    "mod.get_pdi_grids()"
   ]
  },
  {
   "cell_type": "code",
   "execution_count": null,
   "metadata": {},
   "outputs": [],
   "source": [
    "rates_i = mod.pdi_rates(0.01)\n",
    "print(rates_i)"
   ]
  },
  {
   "cell_type": "code",
   "execution_count": 14,
   "metadata": {},
   "outputs": [],
   "source": [
    "pdi_rates = jnp.array([[1.79507704e-180, 7.61656453e-183, 2.25062597e-184,\n",
    "        1.81990493e-182, 5.23902999e-184, 1.00000000e-200,\n",
    "        1.00000000e-200, 1.00000000e-200, 1.00000000e-200,\n",
    "        6.22968129e-182, 2.01147832e-192, 6.30950360e-181,\n",
    "        9.25721900e-184, 1.72201013e-186, 1.02890632e-180,\n",
    "        5.85469164e-183, 6.08196967e-185],\n",
    "       [3.32704835e-029, 6.88650382e-031, 3.72505336e-032,\n",
    "        1.32219725e-030, 7.37756567e-032, 2.07791113e-037,\n",
    "        5.42095241e-038, 3.89011243e-100, 5.87007179e-144,\n",
    "        3.54311411e-030, 1.18925388e-035, 1.18740610e-029,\n",
    "        1.13249292e-031, 8.19466752e-034, 1.44151709e-029,\n",
    "        3.88415678e-031, 1.30078527e-032],\n",
    "       [7.69015092e-032, 1.20633964e-034, 7.98129583e-036,\n",
    "        2.11540830e-034, 1.76685100e-035, 1.00000000e-200,\n",
    "        1.00000000e-200, 1.00000000e-200, 1.00000000e-200,\n",
    "        5.94929745e-034, 1.00000000e-200, 1.30081174e-032,\n",
    "        2.37792950e-035, 1.00000000e-200, 1.05423791e-031,\n",
    "        6.06419952e-035, 8.96912718e-037]], dtype=float)"
   ]
  },
  {
   "cell_type": "code",
   "execution_count": null,
   "metadata": {},
   "outputs": [],
   "source": [
    "mod.get_cross_sections(E_grid)"
   ]
  },
  {
   "cell_type": "code",
   "execution_count": null,
   "metadata": {},
   "outputs": [],
   "source": [
    "T_range = mod.temperature_range()\n",
    "print(T_range)\n",
    "T_grid = jnp.linspace(T_range[0], T_range[1], 10)\n",
    "T_grid"
   ]
  },
  {
   "cell_type": "code",
   "execution_count": null,
   "metadata": {},
   "outputs": [],
   "source": []
  },
  {
   "cell_type": "code",
   "execution_count": 9,
   "metadata": {},
   "outputs": [
    {
     "ename": "KeyboardInterrupt",
     "evalue": "",
     "output_type": "error",
     "traceback": [
      "\u001b[0;31m---------------------------------------------------------------------------\u001b[0m",
      "\u001b[0;31mKeyboardInterrupt\u001b[0m                         Traceback (most recent call last)",
      "Cell \u001b[0;32mIn[9], line 1\u001b[0m\n\u001b[0;32m----> 1\u001b[0m F_grid \u001b[38;5;241m=\u001b[39m \u001b[43mInjSpec\u001b[49m\u001b[38;5;241;43m.\u001b[39;49m\u001b[43mget_spectrum\u001b[49m\u001b[43m(\u001b[49m\u001b[38;5;241;43m5\u001b[39;49m\u001b[43m,\u001b[49m\u001b[43m \u001b[49m\u001b[43mmod\u001b[49m\u001b[38;5;241;43m.\u001b[39;49m\u001b[43mget_source_0\u001b[49m\u001b[43m(\u001b[49m\u001b[43m)\u001b[49m\u001b[43m,\u001b[49m\u001b[43m \u001b[49m\u001b[43mmod\u001b[49m\u001b[38;5;241;43m.\u001b[39;49m\u001b[43mget_source_cont\u001b[49m\u001b[43m(\u001b[49m\u001b[43m)\u001b[49m\u001b[43m,\u001b[49m\u001b[43m \u001b[49m\u001b[38;5;241;43m0.01\u001b[39;49m\u001b[43m)\u001b[49m\n\u001b[1;32m      2\u001b[0m \u001b[38;5;28mprint\u001b[39m(F_grid)\n",
      "    \u001b[0;31m[... skipping hidden 1 frame]\u001b[0m\n",
      "File \u001b[0;32m~/research_programs/LINX/example_notebooks/../linx/injected_spec.py:681\u001b[0m, in \u001b[0;36mInjectedSpectrum.get_spectrum\u001b[0;34m(self, E0, S_0f, S_contf, T)\u001b[0m\n\u001b[1;32m    677\u001b[0m t1 \u001b[38;5;241m=\u001b[39m time\u001b[38;5;241m.\u001b[39mtime()\n\u001b[1;32m    678\u001b[0m \u001b[38;5;66;03m#ii, jj = jnp.meshgrid(X_grid, E_grid, indexing='ij')\u001b[39;00m\n\u001b[1;32m    679\u001b[0m \u001b[38;5;66;03m#R = jnp.reshape(jax.vmap(self.rate_x, in_axes=(0, 0, None))(ii.flatten(), jj.flatten(), T), (N_X, NE))\u001b[39;00m\n\u001b[1;32m    680\u001b[0m \u001b[38;5;66;03m#R = jnp.reshape(self.rate_x(ii.flatten(), jj.flatten(), T), (N_X, NE))\u001b[39;00m\n\u001b[0;32m--> 681\u001b[0m R \u001b[38;5;241m=\u001b[39m jnp\u001b[38;5;241m.\u001b[39marray([[\u001b[38;5;28;43mself\u001b[39;49m\u001b[38;5;241;43m.\u001b[39;49m\u001b[43mrate_x\u001b[49m\u001b[43m(\u001b[49m\u001b[43mX\u001b[49m\u001b[43m,\u001b[49m\u001b[43m \u001b[49m\u001b[43mE\u001b[49m\u001b[43m,\u001b[49m\u001b[43m \u001b[49m\u001b[43mT\u001b[49m\u001b[43m)\u001b[49m \u001b[38;5;28;01mfor\u001b[39;00m E \u001b[38;5;129;01min\u001b[39;00m E_grid] \u001b[38;5;28;01mfor\u001b[39;00m X \u001b[38;5;129;01min\u001b[39;00m X_grid])\n\u001b[1;32m    682\u001b[0m \u001b[38;5;66;03m#R = jnp.array([self.rate_x(X_grid, E, T) for E in E_grid])\u001b[39;00m\n\u001b[1;32m    684\u001b[0m t2 \u001b[38;5;241m=\u001b[39m time\u001b[38;5;241m.\u001b[39mtime()\n",
      "File \u001b[0;32m~/miniconda3/envs/linx/lib/python3.13/site-packages/equinox/_module.py:1238\u001b[0m, in \u001b[0;36mPartial.__call__\u001b[0;34m(self, *args, **kwargs)\u001b[0m\n\u001b[1;32m   1225\u001b[0m \u001b[38;5;28;01mdef\u001b[39;00m \u001b[38;5;21m__call__\u001b[39m(\u001b[38;5;28mself\u001b[39m, \u001b[38;5;241m*\u001b[39margs, \u001b[38;5;241m*\u001b[39m\u001b[38;5;241m*\u001b[39mkwargs):\n\u001b[1;32m   1226\u001b[0m \u001b[38;5;250m    \u001b[39m\u001b[38;5;124;03m\"\"\"Call the wrapped `self.func`.\u001b[39;00m\n\u001b[1;32m   1227\u001b[0m \n\u001b[1;32m   1228\u001b[0m \u001b[38;5;124;03m    **Arguments:**\u001b[39;00m\n\u001b[0;32m   (...)\u001b[0m\n\u001b[1;32m   1236\u001b[0m \u001b[38;5;124;03m    The result of the wrapped function.\u001b[39;00m\n\u001b[1;32m   1237\u001b[0m \u001b[38;5;124;03m    \"\"\"\u001b[39;00m\n\u001b[0;32m-> 1238\u001b[0m     \u001b[38;5;28;01mreturn\u001b[39;00m \u001b[38;5;28;43mself\u001b[39;49m\u001b[38;5;241;43m.\u001b[39;49m\u001b[43mfunc\u001b[49m\u001b[43m(\u001b[49m\u001b[38;5;241;43m*\u001b[39;49m\u001b[38;5;28;43mself\u001b[39;49m\u001b[38;5;241;43m.\u001b[39;49m\u001b[43margs\u001b[49m\u001b[43m,\u001b[49m\u001b[43m \u001b[49m\u001b[38;5;241;43m*\u001b[39;49m\u001b[43margs\u001b[49m\u001b[43m,\u001b[49m\u001b[43m \u001b[49m\u001b[38;5;241;43m*\u001b[39;49m\u001b[38;5;241;43m*\u001b[39;49m\u001b[43mkwargs\u001b[49m\u001b[43m,\u001b[49m\u001b[43m \u001b[49m\u001b[38;5;241;43m*\u001b[39;49m\u001b[38;5;241;43m*\u001b[39;49m\u001b[38;5;28;43mself\u001b[39;49m\u001b[38;5;241;43m.\u001b[39;49m\u001b[43mkeywords\u001b[49m\u001b[43m)\u001b[49m\n",
      "    \u001b[0;31m[... skipping hidden 2 frame]\u001b[0m\n",
      "File \u001b[0;32m~/miniconda3/envs/linx/lib/python3.13/site-packages/equinox/_jit.py:248\u001b[0m, in \u001b[0;36m_JitWrapper._call\u001b[0;34m(self, is_lower, args, kwargs)\u001b[0m\n\u001b[1;32m    244\u001b[0m         marker, _, _ \u001b[38;5;241m=\u001b[39m out \u001b[38;5;241m=\u001b[39m \u001b[38;5;28mself\u001b[39m\u001b[38;5;241m.\u001b[39m_cached(\n\u001b[1;32m    245\u001b[0m             dynamic_donate, dynamic_nodonate, static\n\u001b[1;32m    246\u001b[0m         )\n\u001b[1;32m    247\u001b[0m     \u001b[38;5;28;01mif\u001b[39;00m \u001b[38;5;129;01mnot\u001b[39;00m jitting:\n\u001b[0;32m--> 248\u001b[0m         \u001b[43mmarker\u001b[49m\u001b[38;5;241;43m.\u001b[39;49m\u001b[43mblock_until_ready\u001b[49m\u001b[43m(\u001b[49m\u001b[43m)\u001b[49m\n\u001b[1;32m    249\u001b[0m \u001b[38;5;28;01mexcept\u001b[39;00m JaxRuntimeError \u001b[38;5;28;01mas\u001b[39;00m e:\n\u001b[1;32m    250\u001b[0m     \u001b[38;5;66;03m# Catch Equinox's runtime errors, and re-raise them with actually useful\u001b[39;00m\n\u001b[1;32m    251\u001b[0m     \u001b[38;5;66;03m# information. (By default XlaRuntimeError produces a lot of terrifying\u001b[39;00m\n\u001b[1;32m    252\u001b[0m     \u001b[38;5;66;03m# but useless information.)\u001b[39;00m\n\u001b[1;32m    253\u001b[0m     \u001b[38;5;28;01mif\u001b[39;00m (\n\u001b[1;32m    254\u001b[0m         last_msg \u001b[38;5;129;01mis\u001b[39;00m \u001b[38;5;129;01mnot\u001b[39;00m \u001b[38;5;28;01mNone\u001b[39;00m\n\u001b[1;32m    255\u001b[0m         \u001b[38;5;129;01mand\u001b[39;00m last_stack \u001b[38;5;129;01mis\u001b[39;00m \u001b[38;5;129;01mnot\u001b[39;00m \u001b[38;5;28;01mNone\u001b[39;00m\n\u001b[0;32m   (...)\u001b[0m\n\u001b[1;32m    260\u001b[0m         \u001b[38;5;66;03m# callback necessarily executed in the same interpreter as we are in\u001b[39;00m\n\u001b[1;32m    261\u001b[0m         \u001b[38;5;66;03m# here?\u001b[39;00m\n",
      "\u001b[0;31mKeyboardInterrupt\u001b[0m: "
     ]
    }
   ],
   "source": [
    "F_grid = InjSpec.get_spectrum(5, mod.get_source_0(), mod.get_source_cont(), 0.01)\n",
    "print(F_grid)"
   ]
  },
  {
   "cell_type": "code",
   "execution_count": 23,
   "metadata": {},
   "outputs": [],
   "source": [
    "def F_s(log_E):\n",
    "    E = jnp.exp(log_E)\n",
    "    return jnp.exp(jnp.interp(jnp.log(E), jnp.log(F_grid[0]), jnp.log(F_grid[1]))) * E * mod.get_cross_section(E)\n"
   ]
  },
  {
   "cell_type": "code",
   "execution_count": 24,
   "metadata": {},
   "outputs": [
    {
     "data": {
      "text/plain": [
       "(Array([[5.75661445e-32, 4.78724821e-34, 5.16871323e-34, 5.31877511e-34,\n",
       "         7.75789297e-34, 9.12597606e-34, 1.00511838e-33, 1.51393789e-36,\n",
       "         1.90427992e-34, 9.54197677e-34, 1.38048594e-33, 5.16411415e-33,\n",
       "         2.56851054e-34, 4.63427310e-34, 5.20672394e-32, 2.02389968e-34,\n",
       "         4.29810951e-34],\n",
       "        [6.83287665e-34, 4.78724185e-34, 5.16870498e-34, 5.30384414e-34,\n",
       "         7.75789065e-34, 9.12582387e-34, 1.00510652e-33, 1.51392561e-36,\n",
       "         1.90428138e-34, 9.42720195e-34, 1.38048472e-33, 5.46619965e-36,\n",
       "         2.56832392e-34, 4.63427205e-34, 0.00000000e+00, 2.01630418e-34,\n",
       "         4.29811463e-34],\n",
       "        [5.98362672e-34, 4.64651690e-34, 5.16870959e-34, 5.05770217e-34,\n",
       "         7.75499214e-34, 9.12587406e-34, 1.00510741e-33, 1.51392583e-36,\n",
       "         1.90428109e-34, 8.92435475e-34, 1.38048524e-33, 2.10948961e-37,\n",
       "         2.55584849e-34, 4.63427338e-34, 0.00000000e+00, 1.96011139e-34,\n",
       "         4.29811471e-34],\n",
       "        [7.17648126e-34, 4.78724167e-34, 5.16870958e-34, 5.31877996e-34,\n",
       "         7.75789403e-34, 9.12586240e-34, 1.00510421e-33, 1.51392934e-36,\n",
       "         1.90428003e-34, 9.50138465e-34, 1.38048557e-33, 1.38188145e-35,\n",
       "         2.56822714e-34, 4.63426949e-34, 0.00000000e+00, 2.02389746e-34,\n",
       "         4.29811480e-34],\n",
       "        [6.25090862e-34, 4.72814873e-34, 5.16871260e-34, 5.16782418e-34,\n",
       "         7.75789403e-34, 9.12589834e-34, 1.00509815e-33, 1.51392579e-36,\n",
       "         1.90428112e-34, 9.13759425e-34, 1.38048580e-33, 6.90306432e-37,\n",
       "         2.56539605e-34, 4.63427175e-34, 0.00000000e+00, 1.97611420e-34,\n",
       "         4.29811330e-34],\n",
       "        [3.69228768e-34, 2.95485307e-34, 3.61446858e-34, 3.33241078e-34,\n",
       "         6.10493158e-34, 9.12585027e-34, 1.00518327e-33, 1.51392726e-36,\n",
       "         1.90428111e-34, 5.38529857e-34, 1.27436178e-33, 2.68983129e-46,\n",
       "         9.89883762e-35, 3.46767303e-34, 0.00000000e+00, 4.60616297e-35,\n",
       "         2.56573176e-34],\n",
       "        [3.60030967e-34, 2.86858343e-34, 3.49033715e-34, 3.24648768e-34,\n",
       "         5.97013020e-34, 9.07233780e-34, 1.00510653e-33, 1.51392197e-36,\n",
       "         1.90428288e-34, 5.20766372e-34, 1.22619270e-33, 6.22850064e-47,\n",
       "         9.10762756e-35, 3.30644507e-34, 0.00000000e+00, 3.96584633e-35,\n",
       "         2.41588784e-34],\n",
       "        [3.25243148e-34, 2.54040378e-34, 3.00996296e-34, 2.91699087e-34,\n",
       "         5.42700368e-34, 8.16118445e-34, 9.32708259e-34, 1.51392592e-36,\n",
       "         1.90428150e-34, 4.53496702e-34, 1.03419424e-33, 1.12988688e-49,\n",
       "         6.49137127e-35, 2.66765517e-34, 0.00000000e+00, 2.09041346e-35,\n",
       "         1.86676048e-34],\n",
       "        [3.05037964e-34, 2.34983493e-34, 2.72902539e-34, 2.72329819e-34,\n",
       "         5.09112388e-34, 7.33427938e-34, 8.47597737e-34, 1.50056611e-36,\n",
       "         1.90428112e-34, 4.14755442e-34, 9.37987302e-34, 1.48275234e-51,\n",
       "         5.25809426e-35, 2.29653483e-34, 0.00000000e+00, 1.36397828e-35,\n",
       "         1.57197868e-34],\n",
       "        [1.43246158e-33, 4.78724008e-34, 5.16870875e-34, 5.31878036e-34,\n",
       "         7.75789403e-34, 9.12586792e-34, 1.00511212e-33, 1.51392571e-36,\n",
       "         1.90428112e-34, 9.54197505e-34, 1.38048555e-33, 3.99858542e-34,\n",
       "         2.56826865e-34, 4.63427218e-34, 4.30357669e-34, 2.02389731e-34,\n",
       "         4.29811478e-34],\n",
       "        [4.26582874e-34, 3.47948898e-34, 4.32585379e-34, 3.85122763e-34,\n",
       "         6.84331478e-34, 9.12588519e-34, 1.00510803e-33, 1.51392523e-36,\n",
       "         1.90428139e-34, 6.46849855e-34, 1.38048579e-33, 5.34661183e-43,\n",
       "         1.54882913e-34, 4.28104097e-34, 0.00000000e+00, 9.77473407e-35,\n",
       "         3.46016152e-34],\n",
       "        [3.81706542e-32, 4.78724642e-34, 5.16870710e-34, 5.31878071e-34,\n",
       "         7.75789495e-34, 9.12575039e-34, 1.00511366e-33, 1.51392147e-36,\n",
       "         1.90428240e-34, 9.54192988e-34, 1.38048631e-33, 5.16412959e-33,\n",
       "         2.56823882e-34, 4.63427546e-34, 2.37693751e-32, 2.02389770e-34,\n",
       "         4.29811821e-34],\n",
       "        [6.42683355e-34, 4.76223805e-34, 5.16871145e-34, 5.22451737e-34,\n",
       "         7.75789337e-34, 9.12589180e-34, 1.00510189e-33, 1.51392594e-36,\n",
       "         1.90428104e-34, 9.24966684e-34, 1.38048600e-33, 1.38435505e-36,\n",
       "         2.56820941e-34, 4.63427194e-34, 0.00000000e+00, 1.98756439e-34,\n",
       "         4.29811383e-34],\n",
       "        [5.26114083e-34, 4.26607886e-34, 5.07766150e-34, 4.63745602e-34,\n",
       "         7.61072815e-34, 9.12599946e-34, 1.00510977e-33, 1.51392566e-36,\n",
       "         1.90427877e-34, 8.09516913e-34, 1.38048580e-33, 3.42835436e-39,\n",
       "         2.38928250e-34, 4.63427194e-34, 0.00000000e+00, 1.81081154e-34,\n",
       "         4.27266769e-34],\n",
       "        [5.75660011e-32, 4.78718814e-34, 5.16870186e-34, 5.31877720e-34,\n",
       "         7.75788650e-34, 9.12580328e-34, 1.00511405e-33, 1.51392593e-36,\n",
       "         1.90428104e-34, 9.54196011e-34, 1.38050532e-33, 5.16409377e-33,\n",
       "         2.56605606e-34, 4.63426940e-34, 1.24139332e-31, 2.02389655e-34,\n",
       "         4.29811480e-34],\n",
       "        [7.12431738e-34, 4.78723557e-34, 5.16870981e-34, 5.31865807e-34,\n",
       "         7.75789446e-34, 9.12590232e-34, 1.00510526e-33, 1.51392094e-36,\n",
       "         1.90428150e-34, 9.49382036e-34, 1.38048561e-33, 1.21645332e-35,\n",
       "         2.56823458e-34, 4.63427476e-34, 0.00000000e+00, 2.02389771e-34,\n",
       "         4.29811433e-34],\n",
       "        [5.72063110e-34, 4.53292441e-34, 5.16424130e-34, 4.92369587e-34,\n",
       "         7.73394535e-34, 9.12585026e-34, 1.00510704e-33, 1.51392592e-36,\n",
       "         1.90428111e-34, 8.66398802e-34, 1.38048517e-33, 5.56524025e-38,\n",
       "         2.53091960e-34, 4.63427343e-34, 0.00000000e+00, 1.93591437e-34,\n",
       "         4.29811483e-34]], dtype=float64),\n",
       " QuadratureInfo(err=Array([3.68246440e-35, 1.07663240e-36, 5.60951258e-37, 1.21745427e-36,\n",
       "        1.13320245e-36, 9.30121206e-38, 9.67205440e-38, 8.97765102e-39,\n",
       "        4.97339993e-41, 1.12306524e-36, 1.25168138e-36, 3.30876503e-35,\n",
       "        8.11622042e-37, 5.93323157e-37, 8.27991711e-35, 1.11323759e-36,\n",
       "        1.21398314e-36], dtype=float64), neval=Array([483, 399, 441, 525, 441, 147, 105, 105, 105, 651, 273, 441, 483,\n",
       "        273, 693, 483, 483], dtype=int64, weak_type=True), status=Array([0, 0, 0, 0, 0, 0, 0, 0, 0, 0, 0, 0, 0, 0, 0, 0, 0],      dtype=int64, weak_type=True), info=None))"
      ]
     },
     "execution_count": 24,
     "metadata": {},
     "output_type": "execute_result"
    }
   ],
   "source": [
    "jax.vmap(quadgk, in_axes=(None, 0, None, None, None, None))(F_s, [jnp.log(Eth), jnp.full_like(Eth, jnp.log(200))], (), False, 0, eps,)"
   ]
  },
  {
   "cell_type": "code",
   "execution_count": null,
   "metadata": {},
   "outputs": [],
   "source": [
    "a = 5\n",
    "def cond_fun(state):\n",
    "  # Define the condition for the loop to continue\n",
    "  return state[0] < 10\n",
    "\n",
    "def body_fun(state):\n",
    "  # Define the operations to perform in each iteration\n",
    "  return (state[0] + 1, state[1]**2)\n",
    "\n",
    "init_val = 0  # Initial value for the loop variable\n",
    "\n",
    "final_state = jax.lax.while_loop(cond_fun, body_fun, (0, 5))\n",
    "\n",
    "print(final_state)  # Output: 10"
   ]
  },
  {
   "cell_type": "code",
   "execution_count": null,
   "metadata": {},
   "outputs": [],
   "source": [
    "S_0f, S_contf = mod.get_source_0(), mod.get_source_cont()\n",
    "\n",
    "NE = jnp.array(jnp.log10(5/Emin)*150, int)\n",
    "NE = jnp.maximum(NE, 150)\n",
    "NE = 10\n",
    "\n",
    "#number of species\n",
    "N_X = 3\n",
    "\n",
    "E_grid = jnp.logspace(jnp.log(Emin), jnp.log(5), NE, base=jnp.e)\n",
    "\n",
    "# Generate the grid for the different species\n",
    "X_grid = jnp.arange(N_X)\n",
    "\n",
    "#rate (MeV)\n",
    "R = jnp.array([[InjSpec.rate_x(X, E, 0.01) for E in E_grid] for X in X_grid])\n",
    "#R = jnp.array([self.rate_x(X_grid, E, T) for E in E_grid])\n",
    "ii, jj, kk, ll = jnp.meshgrid( X_grid, X_grid,E_grid, E_grid,indexing='ij')\n",
    "k = jnp.stack([ll, kk, jj, ii], axis=-1)\n",
    "k_true = jnp.array(k[:, :, :, :, 0] >= k[:, :, :, :, 1])\n",
    "K = jnp.select([k_true], [jnp.array([[[[InjSpec.kernel_x(X, X_out, E, 0.01, Ep) for Ep in E_grid] for E in E_grid] for X_out in X_grid] for X in X_grid])])\n",
    "S_0 = jnp.array([S0X(0.01) for S0X in S_0f])\n",
    "S_cont = jnp.array([[SCX(E, 0.01) for E in E_grid] for SCX in S_contf])"
   ]
  },
  {
   "cell_type": "code",
   "execution_count": 28,
   "metadata": {},
   "outputs": [],
   "source": [
    "from linx.injected_spec import set_spectra"
   ]
  },
  {
   "cell_type": "code",
   "execution_count": null,
   "metadata": {},
   "outputs": [],
   "source": [
    "\n",
    "N_X = len(R)\n",
    "NE = len(E_grid)\n",
    "\n",
    "dy = jnp.log(E_grid[-1]/Emin)/(NE-1)\n",
    "\n",
    "#create the grid to store the spectrums\n",
    "#F_grid = jnp.zeros((N_X, NE)) \n",
    "\n",
    "#calculate the last row, which is important for trapezoidal rule\n",
    "FX_E0 = jnp.array([S_cont[X,-1]/R[X,-1] + jnp.sum(K[X,:,-1,-1]*S_0[:]/(R[:,-1]*R[X,-1])) for X in range(N_X)])\n",
    "\n",
    "#F_grid = set_spectra(F_grid, -1, FX_E0)\n",
    "#i  = (NE - 1) - 1 # start at the second to last index, NE-2\n",
    "\n",
    "def cond_func(i_vec):\n",
    "    return i_vec[0] >= 0\n",
    "\n",
    "#@partial(jax.jit, static_argnums=(0,))\n",
    "def body_func(i_vec):\n",
    "#while i >= 0: # Counting down\n",
    "    i = i_vec[0]\n",
    "    B = jnp.zeros( (N_X, N_X) )\n",
    "    a = jnp.zeros( (N_X,   ) )\n",
    "\n",
    "    I = jnp.identity(N_X)\n",
    "    # Calculate the matrix B and the vector a\n",
    "    for X in jnp.arange(N_X):\n",
    "        # Calculate B, : <--> Xp\n",
    "        B = B.at[X,:].set(-.5*dy*E_grid[i]*K[X,:,i,i] + R[X,i]*I[X,:])\n",
    "\n",
    "        # Calculate a\n",
    "        a = a.at[X].set(S_cont[X,i])\n",
    "        for Xp in jnp.arange(N_X):\n",
    "            a = a.at[X].add(K[X,Xp,i,-1]*S_0[Xp]/R[Xp,-1] + .5*dy*E_grid[-1]*K[X,Xp,i,-1]*i_vec[1][Xp,-1])\n",
    "            for j in range(i, NE-1): # Goes from i+1 to NE-2\n",
    "                a = a.at[X].add(dy*E_grid[j]*K[X,Xp,i,j]*i_vec[1][Xp,j])\n",
    "\n",
    "    # Solve the system of linear equations of the form BF = a\n",
    "    F_grid = set_spectra(i_vec[1], i,jnp.linalg.solve(B, a))\n",
    "\n",
    "    return (i-1, F_grid)\n",
    "\n",
    "F_grid = jax.lax.while_loop(cond_func, body_func, ((NE - 1) - 1, set_spectra(jnp.zeros((N_X, NE)), -1, FX_E0)))[1]\n",
    "\n",
    "approx_zero = 1e-200\n",
    "# Remove potential zeros\n",
    "F_grid = F_grid.reshape( N_X*NE )\n",
    "F_grid = F_grid.at[:].set(jnp.where(F_grid > approx_zero, F_grid, approx_zero))\n",
    "#for i, f in enumerate(F_grid):\n",
    "    #if f < approx_zero:\n",
    "    #    F_grid[i] = approx_zero\n",
    "#    F_grid.at[i].set(f < approx_zero, f, approx_zero)\n",
    "F_grid = F_grid.reshape( (N_X, NE) )\n",
    "\n",
    "# Define the output array...\n",
    "sol = jnp.zeros( (N_X+1, NE) )\n",
    "# ...and fill it\n",
    "sol = sol.at[0     , :].set(E_grid)\n",
    "sol = sol.at[1:N_X+1, :].set(F_grid)\n",
    "\n",
    "sol\n"
   ]
  },
  {
   "cell_type": "code",
   "execution_count": null,
   "metadata": {},
   "outputs": [],
   "source": [
    "body_func((NE - 1, set_spectra(jnp.zeros((N_X, NE)), -1, FX_E0)))"
   ]
  },
  {
   "cell_type": "code",
   "execution_count": null,
   "metadata": {},
   "outputs": [],
   "source": [
    "jnp.arange(1, 3)"
   ]
  },
  {
   "cell_type": "code",
   "execution_count": 158,
   "metadata": {},
   "outputs": [],
   "source": [
    "#@partial(jax.jit, static_argnums=0)\n",
    "@jax.jit\n",
    "def test_func(i):\n",
    "    l = i[0] \n",
    "    for j in jnp.arange(l, 3):\n",
    "        t = E_grid[j]\n",
    "    return t\n"
   ]
  },
  {
   "cell_type": "code",
   "execution_count": null,
   "metadata": {},
   "outputs": [],
   "source": [
    "test_func((0, E_grid))"
   ]
  },
  {
   "cell_type": "code",
   "execution_count": null,
   "metadata": {},
   "outputs": [],
   "source": [
    "%timeit InjSpec.inverse_compton_kernel_photon(5, 0.01, 8)"
   ]
  },
  {
   "cell_type": "code",
   "execution_count": null,
   "metadata": {},
   "outputs": [],
   "source": [
    "%timeit InjSpec.inverse_compton_kernel_photon(5, 0.01, 8)"
   ]
  },
  {
   "cell_type": "code",
   "execution_count": 21,
   "metadata": {},
   "outputs": [
    {
     "name": "stderr",
     "output_type": "stream",
     "text": [
      "[autoreload of linx.injected_spec failed: Traceback (most recent call last):\n",
      "  File \"/home/mkwok/miniconda3/envs/linx/lib/python3.13/site-packages/IPython/extensions/autoreload.py\", line 276, in check\n",
      "    superreload(m, reload, self.old_objects)\n",
      "    ~~~~~~~~~~~^^^^^^^^^^^^^^^^^^^^^^^^^^^^^\n",
      "  File \"/home/mkwok/miniconda3/envs/linx/lib/python3.13/site-packages/IPython/extensions/autoreload.py\", line 475, in superreload\n",
      "    module = reload(module)\n",
      "  File \"/home/mkwok/miniconda3/envs/linx/lib/python3.13/importlib/__init__.py\", line 129, in reload\n",
      "    _bootstrap._exec(spec, module)\n",
      "    ~~~~~~~~~~~~~~~~^^^^^^^^^^^^^^\n",
      "  File \"<frozen importlib._bootstrap>\", line 866, in _exec\n",
      "  File \"<frozen importlib._bootstrap_external>\", line 1022, in exec_module\n",
      "  File \"<frozen importlib._bootstrap>\", line 488, in _call_with_frames_removed\n",
      "  File \"/home/mkwok/research_programs/LINX/example_notebooks/../linx/injected_spec.py\", line 54, in <module>\n",
      "    class InjectedSpectrum(eqx.Module):\n",
      "    ...<651 lines>...\n",
      "            return sol\n",
      "  File \"/home/mkwok/research_programs/LINX/example_notebooks/../linx/injected_spec.py\", line 77, in InjectedSpectrum\n",
      "    @partial(eqx.filter_jit, static_argnums=(1,))\n",
      "     ~~~~~~~^^^^^^^^^^^^^^^^^^^^^^^^^^^^^^^^^^^^^\n",
      "  File \"/home/mkwok/miniconda3/envs/linx/lib/python3.13/site-packages/equinox/_jit.py\", line 381, in filter_jit\n",
      "    raise ValueError(\n",
      "    ...<2 lines>...\n",
      "    )\n",
      "ValueError: `jitkwargs` cannot contain 'static_argnums', 'static_argnames' or 'donate_argnums'\n",
      "]\n"
     ]
    },
    {
     "name": "stdout",
     "output_type": "stream",
     "text": [
      "Photon Rates Test\n",
      "---------------\n",
      "double photon 1.7273806782478688e-12\n",
      "photonphoton 9.528579442514193e-18\n",
      "BH 0.0 1.93931715860427e-22 4.226659078975712e-22\n",
      "CS 2.7877735519401764e-20\n",
      "total 1.7273902351277128e-12\n",
      "\n",
      "Photon Kernel Test\n",
      "---------------\n",
      "photonphoton 7.283939142849163e-18\n",
      "CS 1.4405883400723104e-21\n",
      "Inverse CS 1.6870306215985535e-11\n",
      "total 7.285379731189236e-18 1.6870306215985535e-11 1.6870306215985535e-11\n"
     ]
    }
   ],
   "source": [
    "print(\"Photon Rates Test\")\n",
    "print(\"---------------\")\n",
    "print(\"double photon\", InjSpec.dphoton_pair_prod_rate(5, 0.01))\n",
    "print(\"photonphoton\", InjSpec.photon_photon_scattering_rate(5, 0.01))\n",
    "print(\"BH\", InjSpec.bethe_heitler_pair_prod_rate(1, 0.01), InjSpec.bethe_heitler_pair_prod_rate(3, 0.01), InjSpec.bethe_heitler_pair_prod_rate(5, 0.01))\n",
    "print(\"CS\", InjSpec.compton_scattering_rate(5, 0.01))\n",
    "print(\"total\", InjSpec.total_rate_photon(5, 0.01))\n",
    "print()\n",
    "print(\"Photon Kernel Test\")\n",
    "print(\"---------------\")\n",
    "print(\"photonphoton\", InjSpec.photon_photon_scattering_kernel(5, 0.01, 8))\n",
    "print(\"CS\", InjSpec.compton_scattering_kernel_photon(5, 0.01, 8))\n",
    "print(\"Inverse CS\", InjSpec.inverse_compton_kernel_photon(5, 0.01, 8))\n",
    "print(\"total\", InjSpec.total_kernel_photon(5, 0.01, 8, 0), InjSpec.total_kernel_photon(5, 0.01, 8, 1), InjSpec.total_kernel_photon(5, 0.01, 8, 2))"
   ]
  },
  {
   "cell_type": "code",
   "execution_count": 23,
   "metadata": {},
   "outputs": [
    {
     "name": "stdout",
     "output_type": "stream",
     "text": [
      "Photon Rates Test\n",
      "---------------\n",
      "double photon 1.7273806782478688e-12\n",
      "photonphoton 9.528579442514193e-18\n",
      "BH 0.0 1.93931715860427e-22 4.226659078975712e-22\n",
      "CS 2.7877735519401764e-20\n"
     ]
    },
    {
     "ename": "ValueError",
     "evalue": "vmap was requested to map its argument along axis 0, which implies that its rank should be at least 1, but is only 0 (its shape is ())",
     "output_type": "error",
     "traceback": [
      "\u001b[0;31m---------------------------------------------------------------------------\u001b[0m",
      "\u001b[0;31mIndexError\u001b[0m                                Traceback (most recent call last)",
      "File \u001b[0;32m~/miniconda3/envs/linx/lib/python3.13/site-packages/jax/_src/api.py:1020\u001b[0m, in \u001b[0;36m_mapped_axis_size.<locals>._get_axis_size\u001b[0;34m(name, shape, axis)\u001b[0m\n\u001b[1;32m   1019\u001b[0m \u001b[38;5;28;01mtry\u001b[39;00m:\n\u001b[0;32m-> 1020\u001b[0m   \u001b[38;5;28;01mreturn\u001b[39;00m \u001b[43mshape\u001b[49m\u001b[43m[\u001b[49m\u001b[43maxis\u001b[49m\u001b[43m]\u001b[49m\n\u001b[1;32m   1021\u001b[0m \u001b[38;5;28;01mexcept\u001b[39;00m (\u001b[38;5;167;01mIndexError\u001b[39;00m, \u001b[38;5;167;01mTypeError\u001b[39;00m) \u001b[38;5;28;01mas\u001b[39;00m e:\n",
      "\u001b[0;31mIndexError\u001b[0m: tuple index out of range",
      "\nThe above exception was the direct cause of the following exception:\n",
      "\u001b[0;31mValueError\u001b[0m                                Traceback (most recent call last)",
      "Cell \u001b[0;32mIn[23], line 7\u001b[0m\n\u001b[1;32m      5\u001b[0m \u001b[38;5;28mprint\u001b[39m(\u001b[38;5;124m\"\u001b[39m\u001b[38;5;124mBH\u001b[39m\u001b[38;5;124m\"\u001b[39m, InjSpec\u001b[38;5;241m.\u001b[39mbethe_heitler_pair_prod_rate(\u001b[38;5;241m1\u001b[39m, \u001b[38;5;241m0.01\u001b[39m), InjSpec\u001b[38;5;241m.\u001b[39mbethe_heitler_pair_prod_rate(\u001b[38;5;241m3\u001b[39m, \u001b[38;5;241m0.01\u001b[39m), InjSpec\u001b[38;5;241m.\u001b[39mbethe_heitler_pair_prod_rate(\u001b[38;5;241m5\u001b[39m, \u001b[38;5;241m0.01\u001b[39m))\n\u001b[1;32m      6\u001b[0m \u001b[38;5;28mprint\u001b[39m(\u001b[38;5;124m\"\u001b[39m\u001b[38;5;124mCS\u001b[39m\u001b[38;5;124m\"\u001b[39m, InjSpec\u001b[38;5;241m.\u001b[39mcompton_scattering_rate(\u001b[38;5;241m5\u001b[39m, \u001b[38;5;241m0.01\u001b[39m))\n\u001b[0;32m----> 7\u001b[0m \u001b[38;5;28mprint\u001b[39m(\u001b[38;5;124m\"\u001b[39m\u001b[38;5;124mtotal\u001b[39m\u001b[38;5;124m\"\u001b[39m, \u001b[43mInjSpec\u001b[49m\u001b[38;5;241;43m.\u001b[39;49m\u001b[43mtotal_rate_photon\u001b[49m\u001b[43m(\u001b[49m\u001b[38;5;241;43m5\u001b[39;49m\u001b[43m,\u001b[49m\u001b[43m \u001b[49m\u001b[38;5;241;43m0.01\u001b[39;49m\u001b[43m)\u001b[49m)\n\u001b[1;32m      8\u001b[0m \u001b[38;5;28mprint\u001b[39m()\n\u001b[1;32m      9\u001b[0m \u001b[38;5;28mprint\u001b[39m(\u001b[38;5;124m\"\u001b[39m\u001b[38;5;124mPhoton Kernel Test\u001b[39m\u001b[38;5;124m\"\u001b[39m)\n",
      "File \u001b[0;32m~/miniconda3/envs/linx/lib/python3.13/site-packages/equinox/_module.py:1238\u001b[0m, in \u001b[0;36mPartial.__call__\u001b[0;34m(self, *args, **kwargs)\u001b[0m\n\u001b[1;32m   1225\u001b[0m \u001b[38;5;28;01mdef\u001b[39;00m \u001b[38;5;21m__call__\u001b[39m(\u001b[38;5;28mself\u001b[39m, \u001b[38;5;241m*\u001b[39margs, \u001b[38;5;241m*\u001b[39m\u001b[38;5;241m*\u001b[39mkwargs):\n\u001b[1;32m   1226\u001b[0m \u001b[38;5;250m    \u001b[39m\u001b[38;5;124;03m\"\"\"Call the wrapped `self.func`.\u001b[39;00m\n\u001b[1;32m   1227\u001b[0m \n\u001b[1;32m   1228\u001b[0m \u001b[38;5;124;03m    **Arguments:**\u001b[39;00m\n\u001b[0;32m   (...)\u001b[0m\n\u001b[1;32m   1236\u001b[0m \u001b[38;5;124;03m    The result of the wrapped function.\u001b[39;00m\n\u001b[1;32m   1237\u001b[0m \u001b[38;5;124;03m    \"\"\"\u001b[39;00m\n\u001b[0;32m-> 1238\u001b[0m     \u001b[38;5;28;01mreturn\u001b[39;00m \u001b[38;5;28;43mself\u001b[39;49m\u001b[38;5;241;43m.\u001b[39;49m\u001b[43mfunc\u001b[49m\u001b[43m(\u001b[49m\u001b[38;5;241;43m*\u001b[39;49m\u001b[38;5;28;43mself\u001b[39;49m\u001b[38;5;241;43m.\u001b[39;49m\u001b[43margs\u001b[49m\u001b[43m,\u001b[49m\u001b[43m \u001b[49m\u001b[38;5;241;43m*\u001b[39;49m\u001b[43margs\u001b[49m\u001b[43m,\u001b[49m\u001b[43m \u001b[49m\u001b[38;5;241;43m*\u001b[39;49m\u001b[38;5;241;43m*\u001b[39;49m\u001b[43mkwargs\u001b[49m\u001b[43m,\u001b[49m\u001b[43m \u001b[49m\u001b[38;5;241;43m*\u001b[39;49m\u001b[38;5;241;43m*\u001b[39;49m\u001b[38;5;28;43mself\u001b[39;49m\u001b[38;5;241;43m.\u001b[39;49m\u001b[43mkeywords\u001b[49m\u001b[43m)\u001b[49m\n",
      "    \u001b[0;31m[... skipping hidden 15 frame]\u001b[0m\n",
      "File \u001b[0;32m~/research_programs/LINX/example_notebooks/../linx/injected_spec.py:194\u001b[0m, in \u001b[0;36mInjectedSpectrum.total_rate_photon\u001b[0;34m(self, E, T)\u001b[0m\n\u001b[1;32m    192\u001b[0m     \u001b[38;5;28;01mreturn\u001b[39;00m \u001b[38;5;28mself\u001b[39m\u001b[38;5;241m.\u001b[39mdphoton_pair_prod_rate(E, T) \u001b[38;5;241m+\u001b[39m \u001b[38;5;28mself\u001b[39m\u001b[38;5;241m.\u001b[39mphoton_photon_scattering_rate(E, T) \u001b[38;5;241m+\u001b[39m \u001b[38;5;28mself\u001b[39m\u001b[38;5;241m.\u001b[39mbethe_heitler_pair_prod_rate(E, T) \u001b[38;5;241m+\u001b[39m \u001b[38;5;28mself\u001b[39m\u001b[38;5;241m.\u001b[39mcompton_scattering_rate(E, T)\n\u001b[1;32m    193\u001b[0m \u001b[38;5;28;01melse\u001b[39;00m:\n\u001b[0;32m--> 194\u001b[0m     \u001b[38;5;28;01mreturn\u001b[39;00m \u001b[43mjax\u001b[49m\u001b[38;5;241;43m.\u001b[39;49m\u001b[43mvmap\u001b[49m\u001b[43m(\u001b[49m\u001b[38;5;28;43mself\u001b[39;49m\u001b[38;5;241;43m.\u001b[39;49m\u001b[43mdphoton_pair_prod_rate\u001b[49m\u001b[43m,\u001b[49m\u001b[43m \u001b[49m\u001b[43min_axes\u001b[49m\u001b[38;5;241;43m=\u001b[39;49m\u001b[43m \u001b[49m\u001b[43m(\u001b[49m\u001b[38;5;241;43m0\u001b[39;49m\u001b[43m,\u001b[49m\u001b[43m \u001b[49m\u001b[38;5;241;43m0\u001b[39;49m\u001b[43m)\u001b[49m\u001b[43m)\u001b[49m\u001b[43m(\u001b[49m\u001b[43mE\u001b[49m\u001b[43m,\u001b[49m\u001b[43m \u001b[49m\u001b[43mT\u001b[49m\u001b[43m)\u001b[49m \u001b[38;5;241m+\u001b[39m \u001b[38;5;28mself\u001b[39m\u001b[38;5;241m.\u001b[39mphoton_photon_scattering_rate(E, T) \u001b[38;5;241m+\u001b[39m \u001b[38;5;28mself\u001b[39m\u001b[38;5;241m.\u001b[39mbethe_heitler_pair_prod_rate(E, T) \u001b[38;5;241m+\u001b[39m \u001b[38;5;28mself\u001b[39m\u001b[38;5;241m.\u001b[39mcompton_scattering_rate(E, T)\n",
      "    \u001b[0;31m[... skipping hidden 5 frame]\u001b[0m\n",
      "File \u001b[0;32m~/miniconda3/envs/linx/lib/python3.13/site-packages/jax/_src/api.py:1024\u001b[0m, in \u001b[0;36m_mapped_axis_size.<locals>._get_axis_size\u001b[0;34m(name, shape, axis)\u001b[0m\n\u001b[1;32m   1022\u001b[0m min_rank \u001b[38;5;241m=\u001b[39m axis \u001b[38;5;241m+\u001b[39m \u001b[38;5;241m1\u001b[39m \u001b[38;5;28;01mif\u001b[39;00m axis \u001b[38;5;241m>\u001b[39m\u001b[38;5;241m=\u001b[39m \u001b[38;5;241m0\u001b[39m \u001b[38;5;28;01melse\u001b[39;00m \u001b[38;5;241m-\u001b[39maxis\n\u001b[1;32m   1023\u001b[0m \u001b[38;5;66;03m# TODO(mattjj): better error message here\u001b[39;00m\n\u001b[0;32m-> 1024\u001b[0m \u001b[38;5;28;01mraise\u001b[39;00m \u001b[38;5;167;01mValueError\u001b[39;00m(\n\u001b[1;32m   1025\u001b[0m     \u001b[38;5;124mf\u001b[39m\u001b[38;5;124m\"\u001b[39m\u001b[38;5;132;01m{\u001b[39;00mname\u001b[38;5;132;01m}\u001b[39;00m\u001b[38;5;124m was requested to map its argument along axis \u001b[39m\u001b[38;5;132;01m{\u001b[39;00maxis\u001b[38;5;132;01m}\u001b[39;00m\u001b[38;5;124m, \u001b[39m\u001b[38;5;124m\"\u001b[39m\n\u001b[1;32m   1026\u001b[0m     \u001b[38;5;124mf\u001b[39m\u001b[38;5;124m\"\u001b[39m\u001b[38;5;124mwhich implies that its rank should be at least \u001b[39m\u001b[38;5;132;01m{\u001b[39;00mmin_rank\u001b[38;5;132;01m}\u001b[39;00m\u001b[38;5;124m, \u001b[39m\u001b[38;5;124m\"\u001b[39m\n\u001b[1;32m   1027\u001b[0m     \u001b[38;5;124mf\u001b[39m\u001b[38;5;124m\"\u001b[39m\u001b[38;5;124mbut is only \u001b[39m\u001b[38;5;132;01m{\u001b[39;00m\u001b[38;5;28mlen\u001b[39m(shape)\u001b[38;5;132;01m}\u001b[39;00m\u001b[38;5;124m (its shape is \u001b[39m\u001b[38;5;132;01m{\u001b[39;00mshape\u001b[38;5;132;01m}\u001b[39;00m\u001b[38;5;124m)\u001b[39m\u001b[38;5;124m\"\u001b[39m) \u001b[38;5;28;01mfrom\u001b[39;00m \u001b[38;5;21;01me\u001b[39;00m\n",
      "\u001b[0;31mValueError\u001b[0m: vmap was requested to map its argument along axis 0, which implies that its rank should be at least 1, but is only 0 (its shape is ())"
     ]
    }
   ],
   "source": [
    "print(\"Photon Rates Test\")\n",
    "print(\"---------------\")\n",
    "print(\"double photon\", InjSpec.dphoton_pair_prod_rate(5, 0.01))\n",
    "print(\"photonphoton\", InjSpec.photon_photon_scattering_rate(5, 0.01))\n",
    "print(\"BH\", InjSpec.bethe_heitler_pair_prod_rate(1, 0.01), InjSpec.bethe_heitler_pair_prod_rate(3, 0.01), InjSpec.bethe_heitler_pair_prod_rate(5, 0.01))\n",
    "print(\"CS\", InjSpec.compton_scattering_rate(5, 0.01))\n",
    "print(\"total\", InjSpec.total_rate_photon(5, 0.01))\n",
    "print()\n",
    "print(\"Photon Kernel Test\")\n",
    "print(\"---------------\")\n",
    "print(\"photonphoton\", InjSpec.photon_photon_scattering_kernel(5, 0.01, 8))\n",
    "print(\"CS\", InjSpec.compton_scattering_kernel_photon(5, 0.01, 8))\n",
    "print(\"Inverse CS\", InjSpec.inverse_compton_kernel_photon(5, 0.01, 8))\n",
    "print(\"total\", InjSpec.total_kernel_photon(5, 0.01, 8, 0), InjSpec.total_kernel_photon(5, 0.01, 8, 1), InjSpec.total_kernel_photon(5, 0.01, 8, 2))"
   ]
  },
  {
   "cell_type": "code",
   "execution_count": null,
   "metadata": {},
   "outputs": [],
   "source": [
    "print(\"Electron Rates Test\")\n",
    "print(\"---------------\")\n",
    "print(\"Inverse CS\", InjSpec.inverse_compton_rate(5, 0.01))\n",
    "print(\"total\", InjSpec.total_lepton_rate(5, 0.01))\n",
    "print()\n",
    "print(\"Electron Kernels Test\")\n",
    "print(\"---------------\")\n",
    "print(\"Double photon\", InjSpec.dphoton_pair_prod_kernel(5, 0.01, 8))\n",
    "print(\"BH\", InjSpec.bethe_heitler_pair_prod_kernel(5, 0.01, 8))\n",
    "print(\"CS\", InjSpec.compton_scattering_kernel_electron(5, 0.01, 8))\n",
    "print(\"Inverse CS\", InjSpec.inverse_compton_kernel_lepton(5, 0.01, 8))\n",
    "print(\"total\", InjSpec.total_kernel_electron(5, 0.01, 8, 0), InjSpec.total_kernel_electron(5, 0.01, 8, 1), InjSpec.total_kernel_electron(5, 0.01, 8, 2))"
   ]
  },
  {
   "cell_type": "code",
   "execution_count": null,
   "metadata": {},
   "outputs": [],
   "source": [
    "print(\"Positron Rates Test\")\n",
    "print(\"---------------\")\n",
    "print(\"Inverse CS\", InjSpec.inverse_compton_rate(5, 0.01))\n",
    "print(\"total\", InjSpec.total_lepton_rate(5, 0.01))\n",
    "print()\n",
    "print(\"Positron Kernels Test\")\n",
    "print(\"---------------\")\n",
    "print(\"Double photon\", InjSpec.dphoton_pair_prod_kernel(5, 0.01, 8))\n",
    "print(\"BH\", InjSpec.bethe_heitler_pair_prod_kernel(5, 0.01, 8))\n",
    "print(\"CS\", InjSpec.compton_scattering_kernel_electron(5, 0.01, 8))\n",
    "print(\"Inverse CS\", InjSpec.inverse_compton_kernel_lepton(5, 0.01, 8))\n",
    "print(\"total\", InjSpec.total_kernel_positron(5, 0.01, 8, 0), InjSpec.total_kernel_positron(5, 0.01, 8, 1), InjSpec.total_kernel_positron(5, 0.01, 8, 2))"
   ]
  },
  {
   "cell_type": "code",
   "execution_count": 8,
   "metadata": {},
   "outputs": [
    {
     "name": "stdout",
     "output_type": "stream",
     "text": [
      "Photon Rates Test NEW\n",
      "---------------\n",
      "double photon\n",
      "2.26 s ± 442 ms per loop (mean ± std. dev. of 7 runs, 1 loop each)\n",
      "photonphoton\n",
      "258 μs ± 9.62 μs per loop (mean ± std. dev. of 7 runs, 1,000 loops each)\n",
      "BH\n",
      "258 μs ± 5.26 μs per loop (mean ± std. dev. of 7 runs, 1,000 loops each)\n",
      "CS\n",
      "253 μs ± 3.63 μs per loop (mean ± std. dev. of 7 runs, 1,000 loops each)\n",
      "total\n",
      "16.2 ms ± 777 μs per loop (mean ± std. dev. of 7 runs, 1 loop each)\n",
      "\n",
      "Photon Kernel Test\n",
      "---------------\n",
      "photonphoton\n",
      "250 μs ± 3.4 μs per loop (mean ± std. dev. of 7 runs, 1,000 loops each)\n",
      "CS\n",
      "251 μs ± 3.06 μs per loop (mean ± std. dev. of 7 runs, 1,000 loops each)\n",
      "Inverse CS\n",
      "377 μs ± 98.9 μs per loop (mean ± std. dev. of 7 runs, 1 loop each)\n",
      "total\n",
      "418 μs ± 110 μs per loop (mean ± std. dev. of 7 runs, 1 loop each)\n"
     ]
    }
   ],
   "source": [
    "print(\"Photon Rates Test NEW\")\n",
    "print(\"---------------\")\n",
    "print(\"double photon\")\n",
    "%timeit InjSpec.dphoton_pair_prod_rate(5, 0.01)\n",
    "print(\"photonphoton\")\n",
    "%timeit InjSpec.photon_photon_scattering_rate(5, 0.01)\n",
    "print(\"BH\")\n",
    "%timeit InjSpec.bethe_heitler_pair_prod_rate(1, 0.01)\n",
    "print(\"CS\")\n",
    "%timeit InjSpec.compton_scattering_rate(5, 0.01)\n",
    "print(\"total\")\n",
    "%timeit InjSpec.total_rate_photon(5, 0.01)\n",
    "print()\n",
    "print(\"Photon Kernel Test\")\n",
    "print(\"---------------\")\n",
    "print(\"photonphoton\")\n",
    "%timeit InjSpec.photon_photon_scattering_kernel(5, 0.01, 8)\n",
    "print(\"CS\")\n",
    "%timeit InjSpec.compton_scattering_kernel_photon(5, 0.01, 8)\n",
    "print(\"Inverse CS\")\n",
    "%timeit InjSpec.inverse_compton_kernel_photon(5, 0.01, 8)\n",
    "print(\"total\")\n",
    "%timeit InjSpec.total_kernel_photon(5, 0.01, 8, 0)"
   ]
  },
  {
   "cell_type": "code",
   "execution_count": 28,
   "metadata": {},
   "outputs": [
    {
     "name": "stdout",
     "output_type": "stream",
     "text": [
      "Photon Rates Test NEW\n",
      "---------------\n",
      "double photon\n",
      "31.2 ms ± 1.12 ms per loop (mean ± std. dev. of 7 runs, 10 loops each)\n",
      "photonphoton\n",
      "507 μs ± 8.55 μs per loop (mean ± std. dev. of 7 runs, 1,000 loops each)\n",
      "BH\n",
      "337 μs ± 101 μs per loop (mean ± std. dev. of 7 runs, 1,000 loops each)\n",
      "CS\n",
      "229 μs ± 1.5 μs per loop (mean ± std. dev. of 7 runs, 1,000 loops each)\n",
      "total\n",
      "15.4 ms ± 335 μs per loop (mean ± std. dev. of 7 runs, 100 loops each)\n",
      "\n",
      "Photon Kernel Test\n",
      "---------------\n",
      "photonphoton\n",
      "247 μs ± 8.41 μs per loop (mean ± std. dev. of 7 runs, 1,000 loops each)\n",
      "CS\n",
      "252 μs ± 9.08 μs per loop (mean ± std. dev. of 7 runs, 1,000 loops each)\n",
      "Inverse CS\n",
      "315 μs ± 7.15 μs per loop (mean ± std. dev. of 7 runs, 1,000 loops each)\n",
      "total\n",
      "326 μs ± 8.11 μs per loop (mean ± std. dev. of 7 runs, 1,000 loops each)\n"
     ]
    }
   ],
   "source": [
    "print(\"Photon Rates Test NEW\")\n",
    "print(\"---------------\")\n",
    "print(\"double photon\")\n",
    "%timeit InjSpec.dphoton_pair_prod_rate(5, 0.01)\n",
    "print(\"photonphoton\")\n",
    "%timeit InjSpec.photon_photon_scattering_rate(5, 0.01)\n",
    "print(\"BH\")\n",
    "%timeit InjSpec.bethe_heitler_pair_prod_rate(1, 0.01)\n",
    "print(\"CS\")\n",
    "%timeit InjSpec.compton_scattering_rate(5, 0.01)\n",
    "print(\"total\")\n",
    "%timeit InjSpec.total_rate_photon(5, 0.01)\n",
    "print()\n",
    "print(\"Photon Kernel Test\")\n",
    "print(\"---------------\")\n",
    "print(\"photonphoton\")\n",
    "%timeit InjSpec.photon_photon_scattering_kernel(5, 0.01, 8)\n",
    "print(\"CS\")\n",
    "%timeit InjSpec.compton_scattering_kernel_photon(5, 0.01, 8)\n",
    "print(\"Inverse CS\")\n",
    "%timeit InjSpec.inverse_compton_kernel_photon(5, 0.01, 8)\n",
    "print(\"total\")\n",
    "%timeit InjSpec.total_kernel_photon(5, 0.01, 8, 0)"
   ]
  },
  {
   "cell_type": "code",
   "execution_count": 32,
   "metadata": {},
   "outputs": [
    {
     "name": "stdout",
     "output_type": "stream",
     "text": [
      "Electron Rates Test NEW\n",
      "---------------\n",
      "Inverse CS\n",
      "17.2 ms ± 1.45 ms per loop (mean ± std. dev. of 7 runs, 1 loop each)\n",
      "total\n",
      "17.1 ms ± 1.78 ms per loop (mean ± std. dev. of 7 runs, 1 loop each)\n",
      "\n",
      "Electron Kernels Test\n",
      "---------------\n",
      "Double photon\n",
      "377 μs ± 115 μs per loop (mean ± std. dev. of 7 runs, 1 loop each)\n",
      "BH\n",
      "230 μs ± 1.55 μs per loop (mean ± std. dev. of 7 runs, 1,000 loops each)\n",
      "CS\n",
      "231 μs ± 1.13 μs per loop (mean ± std. dev. of 7 runs, 1,000 loops each)\n",
      "Inverse CS\n",
      "381 μs ± 109 μs per loop (mean ± std. dev. of 7 runs, 1 loop each)\n",
      "total\n",
      "453 μs ± 108 μs per loop (mean ± std. dev. of 7 runs, 1 loop each)\n"
     ]
    }
   ],
   "source": [
    "print(\"Electron Rates Test NEW\")\n",
    "print(\"---------------\")\n",
    "print(\"Inverse CS\")\n",
    "%timeit InjSpec.inverse_compton_rate(5, 0.01)\n",
    "print(\"total\")\n",
    "%timeit InjSpec.total_lepton_rate(5, 0.01)\n",
    "print()\n",
    "print(\"Electron Kernels Test\")\n",
    "print(\"---------------\")\n",
    "print(\"Double photon\")\n",
    "%timeit InjSpec.dphoton_pair_prod_kernel(5, 0.01, 8)\n",
    "print(\"BH\")\n",
    "%timeit InjSpec.bethe_heitler_pair_prod_kernel(5, 0.01, 8)\n",
    "print(\"CS\")\n",
    "%timeit InjSpec.compton_scattering_kernel_electron(5, 0.01, 8)\n",
    "print(\"Inverse CS\")\n",
    "%timeit InjSpec.inverse_compton_kernel_lepton(5, 0.01, 8)\n",
    "print(\"total\")\n",
    "%timeit InjSpec.total_kernel_electron(5, 0.01, 8, 0)"
   ]
  },
  {
   "cell_type": "code",
   "execution_count": 24,
   "metadata": {},
   "outputs": [
    {
     "name": "stdout",
     "output_type": "stream",
     "text": [
      "Electron Rates Test\n",
      "---------------\n",
      "Inverse CS\n",
      "21.6 ms ± 466 μs per loop (mean ± std. dev. of 7 runs, 100 loops each)\n",
      "total\n",
      "20.2 ms ± 718 μs per loop (mean ± std. dev. of 7 runs, 100 loops each)\n",
      "\n",
      "Electron Kernels Test\n",
      "---------------\n",
      "Double photon\n",
      "387 μs ± 16 μs per loop (mean ± std. dev. of 7 runs, 1,000 loops each)\n",
      "BH\n",
      "295 μs ± 17 μs per loop (mean ± std. dev. of 7 runs, 1,000 loops each)\n",
      "CS\n",
      "311 μs ± 25.4 μs per loop (mean ± std. dev. of 7 runs, 1,000 loops each)\n",
      "Inverse CS\n",
      "355 μs ± 23.5 μs per loop (mean ± std. dev. of 7 runs, 1,000 loops each)\n",
      "total\n",
      "403 μs ± 24 μs per loop (mean ± std. dev. of 7 runs, 1,000 loops each)\n"
     ]
    }
   ],
   "source": [
    "print(\"Electron Rates Test\")\n",
    "print(\"---------------\")\n",
    "print(\"Inverse CS\")\n",
    "%timeit InjSpec.inverse_compton_rate(5, 0.01)\n",
    "print(\"total\")\n",
    "%timeit InjSpec.total_lepton_rate(5, 0.01)\n",
    "print()\n",
    "print(\"Electron Kernels Test\")\n",
    "print(\"---------------\")\n",
    "print(\"Double photon\")\n",
    "%timeit InjSpec.dphoton_pair_prod_kernel(5, 0.01, 8)\n",
    "print(\"BH\")\n",
    "%timeit InjSpec.bethe_heitler_pair_prod_kernel(5, 0.01, 8)\n",
    "print(\"CS\")\n",
    "%timeit InjSpec.compton_scattering_kernel_electron(5, 0.01, 8)\n",
    "print(\"Inverse CS\")\n",
    "%timeit InjSpec.inverse_compton_kernel_lepton(5, 0.01, 8)\n",
    "print(\"total\")\n",
    "%timeit InjSpec.total_kernel_electron(5, 0.01, 8, 0)"
   ]
  },
  {
   "cell_type": "code",
   "execution_count": null,
   "metadata": {},
   "outputs": [],
   "source": [
    "print(\"Positron Rates Test\")\n",
    "print(\"---------------\")\n",
    "print(\"Inverse CS\")\n",
    "%timeit InjSpec.inverse_compton_rate(5, 0.01)\n",
    "print(\"total\")\n",
    "%timeit InjSpec.total_lepton_rate(5, 0.01)\n",
    "print()\n",
    "print(\"Positron Kernels Test\")\n",
    "print(\"---------------\")\n",
    "print(\"Double photon\")\n",
    "%timeit InjSpec.dphoton_pair_prod_kernel(5, 0.01, 8)\n",
    "print(\"BH\")\n",
    "%timeit InjSpec.bethe_heitler_pair_prod_kernel(5, 0.01, 8)\n",
    "print(\"CS\")\n",
    "%timeit InjSpec.compton_scattering_kernel_electron(5, 0.01, 8)\n",
    "print(\"Inverse CS\")\n",
    "%timeit InjSpec.inverse_compton_kernel_lepton(5, 0.01, 8)\n",
    "print(\"total\")\n",
    "%timeit InjSpec.total_kernel_positron(5, 0.01, 8, 0)"
   ]
  },
  {
   "cell_type": "code",
   "execution_count": null,
   "metadata": {},
   "outputs": [],
   "source": [
    "%timeit InjSpec.dphoton_pair_prod_rate(5, 0.01)"
   ]
  },
  {
   "cell_type": "code",
   "execution_count": null,
   "metadata": {},
   "outputs": [],
   "source": [
    "InjSpec.dphoton_pair_prod_rate(5, 0.01)"
   ]
  },
  {
   "cell_type": "code",
   "execution_count": null,
   "metadata": {},
   "outputs": [],
   "source": [
    "a = jnp.linspace(1, 10, 10)\n",
    "a = jnp.where(a > 5, 0, a)\n",
    "print(a)"
   ]
  },
  {
   "cell_type": "code",
   "execution_count": null,
   "metadata": {},
   "outputs": [],
   "source": [
    "from scipy.integrate import dblquad, quad\n",
    "from scipy.special import erf, jv\n",
    "\n",
    "\n",
    "def h(t, z):\n",
    "    return f(t) * g(z)\n",
    "\n",
    "\n",
    "def f(t):\n",
    "    return 0.5 * t * (erf(t - a) - 1) * jv(0, q * t)\n",
    "\n",
    "\n",
    "def g(z):\n",
    "    return math.exp(-((z - a) ** 2)/(2 * (s ** 2)))\n",
    "\n",
    "\n",
    "def h1(z):\n",
    "    return integral_of_f(z) * g(z)\n",
    "\n",
    "def integral_of_f(z):\n",
    "    return quad(f, 0, 2 * z)[0]  # here abserr is discarded\n",
    "\n",
    "\n",
    "if __name__ == '__main__':\n",
    "    a, q, s = 0, 2, 3  # set the constants\n",
    "\n",
    "    result, abserr = dblquad(h, 0, 60, lambda z: 0, lambda z: 2 * z)\n",
    "    print(f'result: {result}, abserr: {abserr}')\n",
    "\n",
    "    result1 = quad(h1, 0, 60)[0]  # abserr here for result1 is not valid since abserr is already discarded in the function integral_of_f\n",
    "    print(f'result1: {result1}')\n"
   ]
  },
  {
   "cell_type": "code",
   "execution_count": 11,
   "metadata": {},
   "outputs": [],
   "source": [
    "@jax.jit\n",
    "def f_thermal_photon_spec(ep, T):\n",
    "    return (ep**2)/jnp.pi**2 * 1/(jnp.exp(ep/T) - 1)\n",
    "#\n",
    "@jax.jit\n",
    "def dp_integrand(s, ep, T):\n",
    "    s = jnp.exp(s)\n",
    "    ep = jnp.exp(ep)\n",
    "    b = jnp.sqrt(1 - (4*me**2)/s)\n",
    "    dp_cross_section = jnp.pi * aFS**2 /(2*me**2) * (1-b**2) * ((3-b**4) * jnp.log((1+b)/(1-b)) - 2*b *(2-b**2))  \n",
    "    return f_thermal_photon_spec(ep, T)/ep**2 * dp_cross_section * s *ep *s  \n",
    "\n",
    "@jax.jit\n",
    "def dphoton_pair_prod_rate(E, T):\n",
    "\n",
    "    #Check if incoming energy is greater than me^2/(22T)\n",
    "    #acropolis uses 50T for a smaller threshold\n",
    "    \"\"\"    if (type(E) != float) and (type(E) != int):\n",
    "        E = jnp.where(E < (me**2)/(50*T), 0, E)\n",
    "    else:\n",
    "    \"\"\"\n",
    "    #if E < (me**2)/(50*T):\n",
    "    #    return 0\n",
    "    \n",
    "    @jax.jit\n",
    "    def inside_int(s):\n",
    "        s = jnp.exp(s)\n",
    "        b = jnp.sqrt(1 - (4*me**2)/s)\n",
    "        dp_cross_section = jnp.pi * aFS**2 /(2*me**2) * (1-b**2) * ((3-b**4) * jnp.log((1+b)/(1-b)) - 2*b *(2-b**2))  \n",
    "        return dp_cross_section * s *s  \n",
    "    \n",
    "    @jax.jit\n",
    "    def integral_of_inside(ep):\n",
    "        return quadgk(inside_int, [jnp.log(4*me**2), jnp.log(4*E *ep)], epsrel = eps/10, epsabs=0)[0]\n",
    "    \n",
    "    @jax.jit\n",
    "    def outside_integral(ep, T):\n",
    "        ep = jnp.exp(ep)\n",
    "        return integral_of_inside(ep) * f_thermal_photon_spec(ep, T)/ep**2 *ep\n",
    "\n",
    "\n",
    "\n",
    "    ep_ll = jnp.log((me**2)/E)\n",
    "    ep_ul = jnp.log(Ephb_T_max*T)\n",
    "\n",
    "    #I_dp_pp = dblquad(dp_integrand, ep_ll, ep_ul, lambda x: jnp.log(4*me**2), lambda x: jnp.log(4*E) + x, epsrel = eps, epsabs=0, args=(T,)) \n",
    "    I_dp_pp = quadgk(outside_integral, [ep_ll, ep_ul], epsrel = eps, epsabs=0, args=(T,))\n",
    "    return 1/(8*E**2) * I_dp_pp[0]"
   ]
  },
  {
   "cell_type": "code",
   "execution_count": 97,
   "metadata": {},
   "outputs": [],
   "source": [
    "@jax.jit\n",
    "def icre_integrand(E_ph, ep, E, T):\n",
    "    #equation B.23 in Hufnagel 2018\n",
    "    F = F_func(E_ph, E, ep)\n",
    "    return f_thermal_photon_spec(ep, T)/ep * F\n",
    "@jax.jit\n",
    "def F_func(E, Ep, ep):   \n",
    "        \"\"\"Function used for calculating rates and kernels related to inverse compton scattering \n",
    "\n",
    "        Parameters\n",
    "        ----------\n",
    "        E: float \n",
    "            Energy of outgoing particle (MeV)\n",
    "        Ep: float \n",
    "            E', energy of incoming particle (MeV)\n",
    "        ep: float\n",
    "            epsilon, energy of thermal bath\n",
    "\n",
    "        Returns\n",
    "        -------\n",
    "        float \n",
    "            F(E, E', epsilon), which is (dimensionless)\n",
    "        \"\"\"\n",
    "        \n",
    "        \n",
    "        #should never happen if limits are right\n",
    "        '''\n",
    "        if not (ep <= E <= (4*ep*Ep**2)/(me**2 + 4*ep*Ep)):\n",
    "            return 0\n",
    "        '''\n",
    "        \n",
    "        G_ep = 4*ep*Ep/(me**2)\n",
    "        q = E/(G_ep*(Ep-E))\n",
    "        F = 2*q*jnp.log(q) + (1+2*q)*(1-q) + G_ep**2 * q**2 * (1 - q)/(2+2*G_ep*q)\n",
    "\n",
    "        return F\n",
    "\n",
    "@jax.jit\n",
    "def inverse_compton_rate(E, T):\n",
    "        \"\"\" \n",
    "        Inverse Compton Scattering Rate Eq. B.24 in Hufnagel 2018\n",
    "        \n",
    "        Parameters\n",
    "        ----------\n",
    "        E: float\n",
    "            Energy of outgoing particle (MeV)\n",
    "        T: float\n",
    "            Temperature of the thermal bath (MeV)\n",
    "\n",
    "        Returns\n",
    "        -------\n",
    "        float\n",
    "            Gamma^IC_e+- (MeV)\n",
    "            \n",
    "        \"\"\"\n",
    "        @jax.jit\n",
    "        def inside_int(E_ph, E, ep):\n",
    "            return F_func(E_ph, E, ep)\n",
    "        \n",
    "        @jax.jit\n",
    "        def integral_of_inside(ep, E):\n",
    "            return quadgk(inside_int, [ep, 4*ep*E**2 /(me**2 + 4*ep*E)], epsrel = eps/10, epsabs=0, args = (E, ep))[0]\n",
    "\n",
    "        @jax.jit\n",
    "        def outside_integral(ep, T, E):\n",
    "            return integral_of_inside(ep, E) * f_thermal_photon_spec(ep, T)/ep\n",
    "        \n",
    "        ep_ll = 0\n",
    "        ep_ul = jnp.minimum(E - (me**2)/(4*E), Ephb_T_max*T)\n",
    "        #E_ph_ll = lambda x: x\n",
    "        #E_ph_ul = lambda x: 4*x*E**2 /(me**2 + 4*x*E)\n",
    "\n",
    "        #return 2*jnp.pi*aFS**2 /E**2 * dblquad(icre_integrand, ep_ll, ep_ul, E_ph_ll, E_ph_ul,  epsrel=eps, epsabs=0, args=(E, T))[0]\n",
    "        return 2*jnp.pi*aFS**2 /E**2 * quadgk(outside_integral, [ep_ll, ep_ul], epsrel=eps, epsabs=0, args=(T, E))[0]\n",
    "\n",
    "#@jax.jit\n",
    "def inverse_compton_rate_vmap(E, T):\n",
    "        \"\"\" \n",
    "        Inverse Compton Scattering Rate Eq. B.24 in Hufnagel 2018\n",
    "        \n",
    "        Parameters\n",
    "        ----------\n",
    "        E: float\n",
    "            Energy of outgoing particle (MeV)\n",
    "        T: float\n",
    "            Temperature of the thermal bath (MeV)\n",
    "\n",
    "        Returns\n",
    "        -------\n",
    "        float\n",
    "            Gamma^IC_e+- (MeV)\n",
    "            \n",
    "        \"\"\"\n",
    "        @jax.jit\n",
    "        def inside_int(E_ph, E, ep):\n",
    "            return F_func(E_ph, E, ep)\n",
    "        \n",
    "        @jax.jit\n",
    "        def integral_of_inside(ep, E):\n",
    "            I_i =  jax.vmap(quadgk, in_axes=(None, 0, 1, None, None, None))(inside_int, [ep, 4*ep*E**2 /(me**2 + 4*ep*E)], jnp.array((E, ep)), False, 0,  eps)\n",
    "            return I_i[0]\n",
    "        @jax.jit\n",
    "        def outside_integral(ep, T, E):\n",
    "            return integral_of_inside(ep, E) * f_thermal_photon_spec(ep, T)/ep\n",
    "        \n",
    "        \n",
    "        ep_ul = jnp.minimum(E - (me**2)/(4*E), Ephb_T_max*T)\n",
    "        ep_ll = jnp.zeros_like(ep_ul)\n",
    "        #E_ph_ll = lambda x: x\n",
    "        #E_ph_ul = lambda x: 4*x*E**2 /(me**2 + 4*x*E)\n",
    "\n",
    "        #return 2*jnp.pi*aFS**2 /E**2 * dblquad(icre_integrand, ep_ll, ep_ul, E_ph_ll, E_ph_ul,  epsrel=eps, epsabs=0, args=(E, T))[0]\n",
    "        I =  2*jnp.pi*aFS**2 /E**2 * jax.vmap(quadgk, in_axes=(None, 0, 0, None, None, None))(outside_integral, [ep_ll, ep_ul], jnp.array((T, E)), False, 0, eps)\n",
    "        return I[0]"
   ]
  },
  {
   "cell_type": "code",
   "execution_count": 98,
   "metadata": {},
   "outputs": [],
   "source": [
    "def printing(a, b, c, d, e):\n",
    "    return (a, b, c, d, e)"
   ]
  },
  {
   "cell_type": "code",
   "execution_count": null,
   "metadata": {},
   "outputs": [],
   "source": [
    "jax.vmap(printing, in_axes=[0, 1, None, None, 0])(jnp.arange(5), jnp.zeros((2, 5)), 0, 0, jnp.arange(5))"
   ]
  },
  {
   "cell_type": "code",
   "execution_count": null,
   "metadata": {},
   "outputs": [],
   "source": [
    "import time\n",
    "test_energies = jnp.linspace(1, 10, 10)\n",
    "inverse_compton_rate_vmap(test_energies, jnp.full_like(test_energies, 0.01))\n",
    "start = time.time()\n",
    "print(\"hello\")\n",
    "end = time.time()\n",
    "print(end - start)"
   ]
  },
  {
   "cell_type": "code",
   "execution_count": 9,
   "metadata": {},
   "outputs": [],
   "source": [
    "@jax.jit\n",
    "def loopfunc(E_list):\n",
    "    for E_i in E_list:\n",
    "        print(inverse_compton_rate(E_i, 0.01))"
   ]
  },
  {
   "cell_type": "code",
   "execution_count": null,
   "metadata": {},
   "outputs": [],
   "source": [
    "start = time.time()\n",
    "loopfunc(test_energies)\n",
    "end = time.time()\n",
    "print(\"time\", end - start)"
   ]
  },
  {
   "cell_type": "code",
   "execution_count": 16,
   "metadata": {},
   "outputs": [],
   "source": [
    "X_grid = jnp.arange(3)\n",
    "E_grid = jnp.logspace(jnp.log(Emin), jnp.log(5), 50, base=jnp.e)\n",
    "x1, x2 = jnp.meshgrid(X_grid, E_grid, indexing='ij')\n",
    "\n"
   ]
  },
  {
   "cell_type": "code",
   "execution_count": null,
   "metadata": {},
   "outputs": [],
   "source": [
    "x1.flatten()"
   ]
  },
  {
   "cell_type": "code",
   "execution_count": null,
   "metadata": {},
   "outputs": [],
   "source": [
    "x2.flatten()"
   ]
  },
  {
   "cell_type": "code",
   "execution_count": null,
   "metadata": {},
   "outputs": [],
   "source": [
    "jax.vmap(InjSpec.rate_x, in_axes=(0, 0, None))(x1.flatten(), x2.flatten(), 0.01) "
   ]
  },
  {
   "cell_type": "code",
   "execution_count": null,
   "metadata": {},
   "outputs": [],
   "source": [
    "jnp.array([[InjSpec.rate_x(X, E, 0.01) for E in E_grid] for X in X_grid])"
   ]
  },
  {
   "cell_type": "code",
   "execution_count": 118,
   "metadata": {},
   "outputs": [],
   "source": [
    "ii, jj, kk, ll = jnp.meshgrid( X_grid, X_grid,E_grid, E_grid,indexing='ij')"
   ]
  },
  {
   "cell_type": "code",
   "execution_count": 160,
   "metadata": {},
   "outputs": [],
   "source": [
    "a =  jax.vmap(InjSpec.kernel_x, in_axes=(0, 0, 0, None, 0))(ii.flatten(), jj.flatten(), kk.flatten(), 0.01, ll.flatten())\n",
    "a = jnp.reshape(a, (3, 3, 10, 10))\n",
    "a = jnp.nan_to_num(a)\n"
   ]
  },
  {
   "cell_type": "code",
   "execution_count": 161,
   "metadata": {},
   "outputs": [],
   "source": [
    "b = jnp.array([[[[InjSpec.kernel_x(X, X_out, E, 0.01, Ep) for Ep in E_grid] for E in E_grid] for X_out in X_grid] for X in X_grid])\n",
    "b = jnp.nan_to_num(b)"
   ]
  },
  {
   "cell_type": "code",
   "execution_count": null,
   "metadata": {},
   "outputs": [],
   "source": [
    "%timeit jax.vmap(InjSpec.rate_x, in_axes=(0, 0, None))(x1.flatten(), x2.flatten(), 0.01) "
   ]
  },
  {
   "cell_type": "code",
   "execution_count": null,
   "metadata": {},
   "outputs": [],
   "source": [
    "inverse_compton_rate(test_energies, 0.01)"
   ]
  },
  {
   "cell_type": "code",
   "execution_count": null,
   "metadata": {},
   "outputs": [],
   "source": [
    "start = time.time()\n",
    "print(jax.vmap(inverse_compton_rate, in_axes = (0, None))(test_energies, 0.01))\n",
    "end = time.time()\n",
    "print(\"time\", end - start)"
   ]
  },
  {
   "cell_type": "code",
   "execution_count": null,
   "metadata": {},
   "outputs": [],
   "source": [
    "%timeit loopfunc(test_energies)"
   ]
  },
  {
   "cell_type": "code",
   "execution_count": null,
   "metadata": {},
   "outputs": [],
   "source": [
    "%timeit print(jax.vmap(inverse_compton_rate, in_axes = (0, None))(test_energies, 0.01))"
   ]
  },
  {
   "cell_type": "code",
   "execution_count": null,
   "metadata": {},
   "outputs": [],
   "source": [
    "dphoton_pair_prod_rate(5, 0.01)"
   ]
  },
  {
   "cell_type": "code",
   "execution_count": null,
   "metadata": {},
   "outputs": [],
   "source": [
    "%timeit dphoton_pair_prod_rate(5, 0.01)"
   ]
  },
  {
   "cell_type": "code",
   "execution_count": null,
   "metadata": {},
   "outputs": [],
   "source": [
    "%timeit dphoton_pair_prod_rate(5, 0.01)"
   ]
  },
  {
   "cell_type": "code",
   "execution_count": null,
   "metadata": {},
   "outputs": [],
   "source": [
    "%timeit dphoton_pair_prod_rate(5, 0.01)"
   ]
  },
  {
   "cell_type": "code",
   "execution_count": null,
   "metadata": {},
   "outputs": [],
   "source": [
    "def test_func(x, y, z):\n",
    "    return x*y\n",
    "\n",
    "dblquad(test_func, 0, 1, lambda x: 0, lambda x: 4.*x , args=(2, ))"
   ]
  },
  {
   "cell_type": "code",
   "execution_count": 85,
   "metadata": {},
   "outputs": [],
   "source": [
    "from quadax import quadgk, quadcc, quadts, romberg"
   ]
  },
  {
   "cell_type": "code",
   "execution_count": 11,
   "metadata": {},
   "outputs": [],
   "source": [
    "gaussian = lambda x: 1/jnp.sqrt(jnp.pi) * jnp.exp(-x**2)"
   ]
  },
  {
   "cell_type": "code",
   "execution_count": null,
   "metadata": {},
   "outputs": [],
   "source": [
    "quadgk(gaussian, [0, 1])"
   ]
  },
  {
   "cell_type": "code",
   "execution_count": null,
   "metadata": {},
   "outputs": [],
   "source": [
    "%timeit quadgk(gaussian, [0, 1])"
   ]
  },
  {
   "cell_type": "code",
   "execution_count": null,
   "metadata": {},
   "outputs": [],
   "source": [
    "%timeit quadcc(gaussian, [0, 1])"
   ]
  },
  {
   "cell_type": "code",
   "execution_count": null,
   "metadata": {},
   "outputs": [],
   "source": [
    "%timeit quadts(gaussian, [0, 1])"
   ]
  },
  {
   "cell_type": "code",
   "execution_count": null,
   "metadata": {},
   "outputs": [],
   "source": [
    "%timeit quad(gaussian, 0, 1)"
   ]
  },
  {
   "cell_type": "code",
   "execution_count": null,
   "metadata": {},
   "outputs": [],
   "source": [
    "%timeit romberg(gaussian, [0, 1])"
   ]
  },
  {
   "cell_type": "code",
   "execution_count": null,
   "metadata": {},
   "outputs": [],
   "source": [
    "%timeit jc.scipy.integrate.romb(gaussian, 0, 1)"
   ]
  },
  {
   "cell_type": "code",
   "execution_count": null,
   "metadata": {},
   "outputs": [],
   "source": [
    "inverse_compton_rate(3, 0.01)"
   ]
  },
  {
   "cell_type": "code",
   "execution_count": null,
   "metadata": {},
   "outputs": [],
   "source": [
    "inverse_compton_rate(3, 0.01)"
   ]
  },
  {
   "cell_type": "code",
   "execution_count": null,
   "metadata": {},
   "outputs": [],
   "source": [
    "inverse_compton_rate(3, 0.01)"
   ]
  },
  {
   "cell_type": "code",
   "execution_count": 9,
   "metadata": {},
   "outputs": [],
   "source": [
    "def photon_photon_scattering_rate(E, T):\n",
    "\n",
    "    exp_fac = jnp.exp(-E*T/me**2)\n",
    "\n",
    "    return 15568*(jnp.pi**3)/(3189375) * aFS**4 * me * (E/me)**3 * (T/me)**6 * exp_fac\n"
   ]
  },
  {
   "cell_type": "code",
   "execution_count": 10,
   "metadata": {},
   "outputs": [],
   "source": [
    "import math\n",
    "import time"
   ]
  },
  {
   "cell_type": "code",
   "execution_count": 11,
   "metadata": {},
   "outputs": [],
   "source": [
    "def _rate_photon_photon( E, T):\n",
    "    #if E > me2/T:\n",
    "    #    return 0.\n",
    "    expf = math.exp( -E*T/me**2 )\n",
    "\n",
    "    return 0.151348 * (aFS**4.) * me * (E/me)**3. * (T/me)**6. * expf\n",
    "\n",
    "@jax.jit\n",
    "def photon_photon_scattering_rate_jit(E, T):\n",
    "\n",
    "    exp_fac = jnp.exp(-E*T/me**2)\n",
    "\n",
    "    return 15568*(jnp.pi**3)/(3189375) * aFS**4 * me * (E/me)**3 * (T/me)**6 * exp_fac\n",
    "\n",
    "@jax.jit\n",
    "def photon_photon_scattering_rate_lax(E, T):\n",
    "\n",
    "    exp_fac = jax.lax.exp(-E*T/me**2)\n",
    "\n",
    "    return 15568*(jnp.pi**3)/(3189375) * aFS**4 * me * (E/me)**3 * (T/me)**6 * exp_fac\n"
   ]
  },
  {
   "cell_type": "code",
   "execution_count": 23,
   "metadata": {},
   "outputs": [
    {
     "name": "stdout",
     "output_type": "stream",
     "text": [
      "0.0010564327239990234\n"
     ]
    }
   ],
   "source": [
    "start = time.time()\n",
    "#for i in range(10000):\n",
    "photon_photon_scattering_rate_lax(jnp.full((1000), 5), jnp.full((1000), 0.01))\n",
    "end = time.time()\n",
    "print(end-start)"
   ]
  },
  {
   "cell_type": "code",
   "execution_count": 24,
   "metadata": {},
   "outputs": [
    {
     "name": "stdout",
     "output_type": "stream",
     "text": [
      "0.0011553764343261719\n"
     ]
    }
   ],
   "source": [
    "start = time.time()\n",
    "#for i in range(10000):\n",
    "photon_photon_scattering_rate_jit(jnp.full((1000), 5), jnp.full((1000), 0.01))\n",
    "end = time.time()\n",
    "print(end-start)"
   ]
  },
  {
   "cell_type": "code",
   "execution_count": 29,
   "metadata": {},
   "outputs": [
    {
     "name": "stdout",
     "output_type": "stream",
     "text": [
      "0.0018115043640136719\n"
     ]
    }
   ],
   "source": [
    "n = 100\n",
    "start = time.time()\n",
    "#for i in range(10000):\n",
    "jax.vmap(photon_photon_scattering_rate_jit, in_axes=(0, 0))(jnp.full((n), 5), jnp.full((n), 0.01))\n",
    "end = time.time()\n",
    "print(end-start)"
   ]
  },
  {
   "cell_type": "code",
   "execution_count": 30,
   "metadata": {},
   "outputs": [
    {
     "name": "stdout",
     "output_type": "stream",
     "text": [
      "0.0001862049102783203\n"
     ]
    }
   ],
   "source": [
    "start = time.time()\n",
    "for i in range(n):\n",
    "    _rate_photon_photon(5, 0.01)\n",
    "end = time.time()\n",
    "print(end-start)"
   ]
  },
  {
   "cell_type": "code",
   "execution_count": null,
   "metadata": {},
   "outputs": [],
   "source": []
  }
 ],
 "metadata": {
  "kernelspec": {
   "display_name": "linx",
   "language": "python",
   "name": "python3"
  },
  "language_info": {
   "codemirror_mode": {
    "name": "ipython",
    "version": 3
   },
   "file_extension": ".py",
   "mimetype": "text/x-python",
   "name": "python",
   "nbconvert_exporter": "python",
   "pygments_lexer": "ipython3",
   "version": "3.13.0"
  }
 },
 "nbformat": 4,
 "nbformat_minor": 2
}
