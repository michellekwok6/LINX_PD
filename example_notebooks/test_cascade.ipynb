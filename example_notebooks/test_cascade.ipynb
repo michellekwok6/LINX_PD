{
 "cells": [
  {
   "cell_type": "code",
   "execution_count": 3,
   "metadata": {},
   "outputs": [],
   "source": [
    "%load_ext autoreload"
   ]
  },
  {
   "cell_type": "code",
   "execution_count": 4,
   "metadata": {},
   "outputs": [],
   "source": [
    "%autoreload 2\n",
    "\n",
    "import sys\n",
    "sys.path.append('..')\n",
    "\n",
    "from jax import numpy as jnp\n",
    "import jax\n",
    "import time\n",
    "from scipy.integrate import quad, dblquad\n",
    "import equinox as eqx\n",
    "import jax_cosmo as jc\n",
    "from quadax import quadgk, quadcc, quadts, romberg\n",
    "from functools import partial"
   ]
  },
  {
   "cell_type": "code",
   "execution_count": 5,
   "metadata": {},
   "outputs": [],
   "source": [
    "import matplotlib.pyplot as plt\n",
    "import matplotlib.pylab as pylab\n",
    "import matplotlib.animation as animation \n",
    "from numpy import loadtxt\n",
    "from diffrax import Kvaerno5, Tsit5\n",
    "%matplotlib inline\n",
    "\n",
    "from plot_params import params\n",
    "#pylab.rcParams.update(params)\n",
    "\n",
    "cols_default = plt.rcParams['axes.prop_cycle'].by_key()['color']"
   ]
  },
  {
   "cell_type": "code",
   "execution_count": 6,
   "metadata": {},
   "outputs": [],
   "source": [
    "from linx.background import BackgroundModel\n",
    "from linx.nuclear import NuclearRates \n",
    "from linx.abundances import AbundanceModel\n",
    "from linx.reactions import Reaction\n",
    "from linx.thermo import T_g \n",
    "from linx.const import mn, mp, eta0, hbar, me, aFS\n",
    "from scipy.integrate import odeint, solve_ivp, simpson, cumulative_simpson\n",
    "from linx.pd_rates import decay_model\n",
    "from linx.injected_spec import InjectedSpectrum\n",
    "eps = 1e-3\n",
    "Emin = 1.5 # MeV\n",
    "Ephb_T_max = 200"
   ]
  },
  {
   "cell_type": "code",
   "execution_count": 7,
   "metadata": {},
   "outputs": [
    {
     "name": "stdout",
     "output_type": "stream",
     "text": [
      "`\\         /´  ||||        ||||  |||||     ||||  ||||   ||||\n",
      " /\\_______/\\   ||||        ||||  |||||||   ||||   |||| ||||\n",
      " ) __` ´__ (   ||||        ||||  |||| |||| ||||    |||||||\n",
      "/  `-|_|-´  \\  ||||        ||||  ||||  |||| |||    ||||||| \n",
      "/   (_x_)   \\  ||||||||||  ||||  ||||   |||||||   |||| ||||\n",
      "  )  `-´  (    ||||||||||  ||||  ||||    ||||||  ||||   ||||\n",
      " \n",
      "Compiling thermodynamics model...\n"
     ]
    },
    {
     "name": "stderr",
     "output_type": "stream",
     "text": [
      "/home/mkwok/miniconda3/envs/linx/lib/python3.13/site-packages/equinox/_jit.py:55: UserWarning: `diffrax.diffeqsolve(..., discrete_terminating_event=...)` is deprecated in favour of the more general `diffrax.diffeqsolve(..., event=...)` interface. This will be removed in some future version of Diffrax.\n",
      "  out = fun(*args, **kwargs)\n"
     ]
    }
   ],
   "source": [
    "bkg_model = BackgroundModel()\n",
    "t_vec, a_vec, rho_g_vec, rho_nu_vec, rho_NP_vec, p_NP_vec, Neff_vec = bkg_model(jnp.asarray(0.), T_end = 1e-4, max_steps = 512*4)"
   ]
  },
  {
   "cell_type": "code",
   "execution_count": 8,
   "metadata": {},
   "outputs": [],
   "source": [
    "InjSpec = InjectedSpectrum()\n",
    "E_grid = jnp.linspace(1.5, jnp.exp(3), 100)\n",
    "mod = decay_model(60, 1e5, 5e-7, 1, 0, t_vec, a_vec, rho_g_vec)"
   ]
  },
  {
   "cell_type": "code",
   "execution_count": 107,
   "metadata": {},
   "outputs": [
    {
     "ename": "AttributeError",
     "evalue": "'decay_model' object has no attribute 'temp'",
     "output_type": "error",
     "traceback": [
      "\u001b[0;31m---------------------------------------------------------------------------\u001b[0m",
      "\u001b[0;31mAttributeError\u001b[0m                            Traceback (most recent call last)",
      "Cell \u001b[0;32mIn[107], line 1\u001b[0m\n\u001b[0;32m----> 1\u001b[0m \u001b[43mmod\u001b[49m\u001b[38;5;241;43m.\u001b[39;49m\u001b[43mtemp\u001b[49m()\n",
      "\u001b[0;31mAttributeError\u001b[0m: 'decay_model' object has no attribute 'temp'"
     ]
    }
   ],
   "source": [
    "mod.temp()"
   ]
  },
  {
   "cell_type": "code",
   "execution_count": 105,
   "metadata": {},
   "outputs": [
    {
     "data": {
      "text/plain": [
       "['Be7gHe3He4_cross',\n",
       " 'Be7gHe3He4_frwrd_rate',\n",
       " 'Be7gpLi6_cross',\n",
       " 'Be7gpLi6_frwrd_rate',\n",
       " 'Be7gppnHe4_cross',\n",
       " 'Be7gppnHe4_frwrd_rate',\n",
       " 'E0',\n",
       " 'He3gnpp_cross',\n",
       " 'He3gnpp_frwrd_rate',\n",
       " 'He3gpd_cross',\n",
       " 'He3gpd_frwrd_rate',\n",
       " 'He4gdd_cross',\n",
       " 'He4gdd_frwrd_rate',\n",
       " 'He4gnHe3_cross',\n",
       " 'He4gnHe3_frwrd_rate',\n",
       " 'He4gnpd_cross',\n",
       " 'He4gnpd_frwrd_rate',\n",
       " 'He4gpt_cross',\n",
       " 'He4gpt_frwrd_rate',\n",
       " 'Li6gX_cross',\n",
       " 'Li6gX_frwrd_rate',\n",
       " 'Li6gnpHe4_cross',\n",
       " 'Li6gnpHe4_frwrd_rate',\n",
       " 'Li7gnLi6_cross',\n",
       " 'Li7gnLi6_frwrd_rate',\n",
       " 'Li7gnnpHe4_cross',\n",
       " 'Li7gnnpHe4_frwrd_rate',\n",
       " 'Li7gtHe4_cross',\n",
       " 'Li7gtHe4_frwrd_rate',\n",
       " 'S_electron_0',\n",
       " 'S_electron_cont',\n",
       " 'S_photon_0',\n",
       " 'S_photon_cont',\n",
       " 'T_g_vec',\n",
       " '__abstractclassvars__',\n",
       " '__abstractmethods__',\n",
       " '__abstractvars__',\n",
       " '__annotations__',\n",
       " '__class__',\n",
       " '__dataclass_fields__',\n",
       " '__dataclass_params__',\n",
       " '__delattr__',\n",
       " '__dict__',\n",
       " '__dir__',\n",
       " '__doc__',\n",
       " '__eq__',\n",
       " '__firstlineno__',\n",
       " '__format__',\n",
       " '__ge__',\n",
       " '__getattribute__',\n",
       " '__getstate__',\n",
       " '__gt__',\n",
       " '__hash__',\n",
       " '__init__',\n",
       " '__init_subclass__',\n",
       " '__le__',\n",
       " '__lt__',\n",
       " '__match_args__',\n",
       " '__module__',\n",
       " '__ne__',\n",
       " '__new__',\n",
       " '__reduce__',\n",
       " '__reduce_ex__',\n",
       " '__replace__',\n",
       " '__repr__',\n",
       " '__setattr__',\n",
       " '__sizeof__',\n",
       " '__static_attributes__',\n",
       " '__str__',\n",
       " '__subclasshook__',\n",
       " '__weakref__',\n",
       " '_abc_impl',\n",
       " 'a_vec',\n",
       " 'bree',\n",
       " 'brgg',\n",
       " 'dgnp_cross',\n",
       " 'dgnp_frwrd_rate',\n",
       " 'filename',\n",
       " 'generic_expr',\n",
       " 'get_cross_section',\n",
       " 'get_pdi_grids',\n",
       " 'get_scale_factor',\n",
       " 'get_source_0',\n",
       " 'get_source_cont',\n",
       " 'get_temp',\n",
       " 'get_time',\n",
       " 'inject_temp',\n",
       " 'inject_time',\n",
       " 'mass',\n",
       " 'n',\n",
       " 'number_density',\n",
       " 'pd_tables',\n",
       " 'pdi_rates',\n",
       " 'rho_g_vec',\n",
       " 'spec',\n",
       " 't_vec',\n",
       " 'tau',\n",
       " 'temperature_range',\n",
       " 'tgnd_cross',\n",
       " 'tgnd_frwrd_rate',\n",
       " 'tgnpn_cross',\n",
       " 'tgnpn_frwrd_rate']"
      ]
     },
     "execution_count": 105,
     "metadata": {},
     "output_type": "execute_result"
    }
   ],
   "source": [
    "dir(mod)"
   ]
  },
  {
   "cell_type": "code",
   "execution_count": 131,
   "metadata": {},
   "outputs": [
    {
     "name": "stdout",
     "output_type": "stream",
     "text": [
      "Rate time:  21.40584945678711\n",
      "Kernel time:  0.43370509147644043\n",
      "Source time:  0.02601027488708496\n",
      "Solve time:  0.00010442733764648438\n"
     ]
    },
    {
     "data": {
      "text/plain": [
       "Array([[1.50000000e+000, 1.71470296e+000, 1.96013749e+000,\n",
       "        2.24070237e+000, 2.56142599e+000, 2.92805649e+000,\n",
       "        3.34716475e+000, 3.82626220e+000, 4.37393541e+000,\n",
       "        5.00000000e+000],\n",
       "       [1.32893503e-022, 1.31967729e-023, 1.66217062e-024,\n",
       "        2.56614940e-025, 4.61850699e-026, 9.01468594e-027,\n",
       "        1.66878729e-027, 2.14571921e-028, 2.01230982e-029,\n",
       "        8.12898390e-030],\n",
       "       [1.09201369e-029, 7.83893501e-030, 6.02556175e-030,\n",
       "        4.98268992e-030, 4.38492341e-030, 4.01854499e-030,\n",
       "        3.76439572e-030, 3.59960874e-030, 3.61202493e-030,\n",
       "        4.34857816e-191],\n",
       "       [1.09201369e-029, 7.83893501e-030, 6.02556175e-030,\n",
       "        4.98268992e-030, 4.38492341e-030, 4.01854499e-030,\n",
       "        3.76439572e-030, 3.59960874e-030, 3.61202493e-030,\n",
       "        4.34857816e-191]], dtype=float64)"
      ]
     },
     "execution_count": 131,
     "metadata": {},
     "output_type": "execute_result"
    }
   ],
   "source": [
    "InjSpec.get_spectrum(5, mod.get_source_0(), mod.get_source_cont(), 0.01)"
   ]
  },
  {
   "cell_type": "code",
   "execution_count": 7,
   "metadata": {},
   "outputs": [
    {
     "data": {
      "text/plain": [
       "Array([[1.14776247e-004, 1.14776247e-003, 1.14776247e-002],\n",
       "       [1.79507704e-180, 3.32704835e-029, 7.69015092e-032],\n",
       "       [7.61656453e-183, 6.88650382e-031, 1.20633964e-034],\n",
       "       [2.25062597e-184, 3.72505336e-032, 7.98129583e-036],\n",
       "       [1.81990493e-182, 1.32219725e-030, 2.11540830e-034],\n",
       "       [5.23902999e-184, 7.37756567e-032, 1.76685100e-035],\n",
       "       [1.00000000e-200, 2.07791113e-037, 1.00000000e-200],\n",
       "       [1.00000000e-200, 5.42095241e-038, 1.00000000e-200],\n",
       "       [1.00000000e-200, 3.89011243e-100, 1.00000000e-200],\n",
       "       [1.00000000e-200, 5.87007179e-144, 1.00000000e-200],\n",
       "       [6.22968129e-182, 3.54311411e-030, 5.94929745e-034],\n",
       "       [2.01147832e-192, 1.18925388e-035, 1.00000000e-200],\n",
       "       [6.30950360e-181, 1.18740610e-029, 1.30081174e-032],\n",
       "       [9.25721900e-184, 1.13249292e-031, 2.37792950e-035],\n",
       "       [1.72201013e-186, 8.19466752e-034, 1.00000000e-200],\n",
       "       [1.02890632e-180, 1.44151709e-029, 1.05423791e-031],\n",
       "       [5.85469164e-183, 3.88415678e-031, 6.06419952e-035],\n",
       "       [6.08196967e-185, 1.30078527e-032, 8.96912718e-037]],      dtype=float64)"
      ]
     },
     "execution_count": 7,
     "metadata": {},
     "output_type": "execute_result"
    }
   ],
   "source": [
    "mod.get_pdi_grids()"
   ]
  },
  {
   "cell_type": "code",
   "execution_count": 10,
   "metadata": {},
   "outputs": [
    {
     "name": "stdout",
     "output_type": "stream",
     "text": [
      "{'dgnp': Array(2.33814052e-31, dtype=float64), 'tgnd': Array(2.03923383e-34, dtype=float64), 'tgnpn': Array(3.18770905e-35, dtype=float64), 'He3gpd': Array(3.3988849e-34, dtype=float64), 'He3gnpp': Array(4.80642814e-35, dtype=float64), 'He4gpt': Array(1.e-200, dtype=float64), 'He4gnHe3': Array(1.e-200, dtype=float64), 'He4gdd': Array(1.e-200, dtype=float64), 'He4gnpd': Array(1.e-200, dtype=float64), 'Li6gnpHe4': Array(9.72430938e-34, dtype=float64), 'Li6gX': Array(1.e-200, dtype=float64), 'Li7gtHe4': Array(3.23058209e-32, dtype=float64), 'Li7gnLi6': Array(6.10142597e-35, dtype=float64), 'Li7gnnpHe4': Array(2.81455349e-37, dtype=float64), 'Be7gHe3He4': Array(4.1189385e-31, dtype=float64), 'Be7gpLi6': Array(1.14787691e-34, dtype=float64), 'Be7gppnHe4': Array(1.40105552e-35, dtype=float64)}\n"
     ]
    }
   ],
   "source": [
    "rates_i = mod.pdi_rates(0.01)\n",
    "print(rates_i)"
   ]
  },
  {
   "cell_type": "code",
   "execution_count": 14,
   "metadata": {},
   "outputs": [],
   "source": [
    "pdi_rates = jnp.array([[1.79507704e-180, 7.61656453e-183, 2.25062597e-184,\n",
    "        1.81990493e-182, 5.23902999e-184, 1.00000000e-200,\n",
    "        1.00000000e-200, 1.00000000e-200, 1.00000000e-200,\n",
    "        6.22968129e-182, 2.01147832e-192, 6.30950360e-181,\n",
    "        9.25721900e-184, 1.72201013e-186, 1.02890632e-180,\n",
    "        5.85469164e-183, 6.08196967e-185],\n",
    "       [3.32704835e-029, 6.88650382e-031, 3.72505336e-032,\n",
    "        1.32219725e-030, 7.37756567e-032, 2.07791113e-037,\n",
    "        5.42095241e-038, 3.89011243e-100, 5.87007179e-144,\n",
    "        3.54311411e-030, 1.18925388e-035, 1.18740610e-029,\n",
    "        1.13249292e-031, 8.19466752e-034, 1.44151709e-029,\n",
    "        3.88415678e-031, 1.30078527e-032],\n",
    "       [7.69015092e-032, 1.20633964e-034, 7.98129583e-036,\n",
    "        2.11540830e-034, 1.76685100e-035, 1.00000000e-200,\n",
    "        1.00000000e-200, 1.00000000e-200, 1.00000000e-200,\n",
    "        5.94929745e-034, 1.00000000e-200, 1.30081174e-032,\n",
    "        2.37792950e-035, 1.00000000e-200, 1.05423791e-031,\n",
    "        6.06419952e-035, 8.96912718e-037]], dtype=float)"
   ]
  },
  {
   "cell_type": "code",
   "execution_count": null,
   "metadata": {},
   "outputs": [],
   "source": [
    "mod.get_cross_sections(E_grid)"
   ]
  },
  {
   "cell_type": "code",
   "execution_count": 7,
   "metadata": {},
   "outputs": [
    {
     "name": "stdout",
     "output_type": "stream",
     "text": [
      "(Array(0.00011478, dtype=float64), Array(0.01147762, dtype=float64))\n"
     ]
    },
    {
     "data": {
      "text/plain": [
       "Array([0.00011478, 0.00137731, 0.00263985, 0.00390239, 0.00516493,\n",
       "       0.00642747, 0.00769001, 0.00895255, 0.01021509, 0.01147762],      dtype=float64)"
      ]
     },
     "execution_count": 7,
     "metadata": {},
     "output_type": "execute_result"
    }
   ],
   "source": [
    "T_range = mod.temperature_range()\n",
    "print(T_range)\n",
    "T_grid = jnp.linspace(T_range[0], T_range[1], 10)\n",
    "T_grid"
   ]
  },
  {
   "cell_type": "code",
   "execution_count": null,
   "metadata": {},
   "outputs": [],
   "source": []
  },
  {
   "cell_type": "code",
   "execution_count": 40,
   "metadata": {},
   "outputs": [
    {
     "name": "stdout",
     "output_type": "stream",
     "text": [
      "[[1.50000000e+000 1.59812665e+000 1.70267252e+000 1.81405755e+000\n",
      "  1.93272914e+000 2.05916396e+000 2.19386987e+000 2.33738793e+000\n",
      "  2.49029462e+000 2.65320413e+000 2.82677081e+000 3.01169184e+000\n",
      "  3.20870999e+000 3.41861663e+000 3.64225489e+000 3.88052306e+000\n",
      "  4.13437820e+000 4.40483999e+000 4.69299477e+000 5.00000000e+000]\n",
      " [1.60455372e-022 5.17280504e-023 1.76108153e-023 6.33033932e-024\n",
      "  2.39458428e-024 9.49226392e-025 3.92409523e-025 1.68256368e-025\n",
      "  7.43635604e-026 3.36150448e-026 1.53893285e-026 7.03928272e-027\n",
      "  3.15400008e-027 1.34271406e-027 5.17704114e-028 1.69364500e-028\n",
      "  4.76871723e-029 1.87912465e-029 1.20112399e-029 8.12898390e-030]\n",
      " [1.82313982e-029 1.54346388e-029 1.32315604e-029 1.14935140e-029\n",
      "  1.01202150e-029 9.03230913e-030 8.16631164e-030 7.47111755e-030\n",
      "  6.90562269e-030 6.43716192e-030 6.04056109e-030 5.69762486e-030\n",
      "  5.39686327e-030 5.13323761e-030 4.90781205e-030 4.72771318e-030\n",
      "  4.60821597e-030 4.58287654e-030 4.75042215e-030 4.34857816e-191]\n",
      " [1.82313982e-029 1.54346388e-029 1.32315604e-029 1.14935140e-029\n",
      "  1.01202150e-029 9.03230913e-030 8.16631164e-030 7.47111755e-030\n",
      "  6.90562269e-030 6.43716192e-030 6.04056109e-030 5.69762486e-030\n",
      "  5.39686327e-030 5.13323761e-030 4.90781205e-030 4.72771318e-030\n",
      "  4.60821597e-030 4.58287654e-030 4.75042215e-030 4.34857816e-191]]\n"
     ]
    }
   ],
   "source": [
    "F_grid = InjSpec.get_spectrum(5, mod.get_source_0(), mod.get_source_cont(), 0.01)\n",
    "print(F_grid)"
   ]
  },
  {
   "cell_type": "code",
   "execution_count": 36,
   "metadata": {},
   "outputs": [],
   "source": [
    "def F_s(log_E, i):\n",
    "    E = jnp.exp(log_E)\n",
    "    return jnp.exp(jnp.interp(jnp.log(E), jnp.log(F_grid[0]), jnp.log(F_grid[1]))) * E * mod.get_cross_section(E)[i]\n"
   ]
  },
  {
   "cell_type": "code",
   "execution_count": 38,
   "metadata": {},
   "outputs": [
    {
     "data": {
      "text/plain": [
       "Array(2.4251424e-34, dtype=float64)"
      ]
     },
     "execution_count": 38,
     "metadata": {},
     "output_type": "execute_result"
    }
   ],
   "source": [
    "F_s(jnp.log(5), 0)"
   ]
  },
  {
   "cell_type": "code",
   "execution_count": 25,
   "metadata": {},
   "outputs": [
    {
     "name": "stdout",
     "output_type": "stream",
     "text": [
      "(Array(10, dtype=int64, weak_type=True), Array(-766971542220705791, dtype=int64, weak_type=True))\n"
     ]
    }
   ],
   "source": [
    "a = 5\n",
    "def cond_fun(state):\n",
    "  # Define the condition for the loop to continue\n",
    "  return state[0] < 10\n",
    "\n",
    "def body_fun(state):\n",
    "  # Define the operations to perform in each iteration\n",
    "  return (state[0] + 1, state[1]**2)\n",
    "\n",
    "init_val = 0  # Initial value for the loop variable\n",
    "\n",
    "final_state = jax.lax.while_loop(cond_fun, body_fun, (0, 5))\n",
    "\n",
    "print(final_state)  # Output: 10"
   ]
  },
  {
   "cell_type": "code",
   "execution_count": 26,
   "metadata": {},
   "outputs": [],
   "source": [
    "S_0f, S_contf = mod.get_source_0(), mod.get_source_cont()\n",
    "\n",
    "NE = jnp.array(jnp.log10(5/Emin)*150, int)\n",
    "NE = jnp.maximum(NE, 150)\n",
    "NE = 10\n",
    "\n",
    "#number of species\n",
    "N_X = 3\n",
    "\n",
    "E_grid = jnp.logspace(jnp.log(Emin), jnp.log(5), NE, base=jnp.e)\n",
    "\n",
    "# Generate the grid for the different species\n",
    "X_grid = jnp.arange(N_X)\n",
    "\n",
    "#rate (MeV)\n",
    "R = jnp.array([[InjSpec.rate_x(X, E, 0.01) for E in E_grid] for X in X_grid])\n",
    "#R = jnp.array([self.rate_x(X_grid, E, T) for E in E_grid])\n",
    "ii, jj, kk, ll = jnp.meshgrid( X_grid, X_grid,E_grid, E_grid,indexing='ij')\n",
    "k = jnp.stack([ll, kk, jj, ii], axis=-1)\n",
    "k_true = jnp.array(k[:, :, :, :, 0] >= k[:, :, :, :, 1])\n",
    "K = jnp.select([k_true], [jnp.array([[[[InjSpec.kernel_x(X, X_out, E, 0.01, Ep) for Ep in E_grid] for E in E_grid] for X_out in X_grid] for X in X_grid])])\n",
    "S_0 = jnp.array([S0X(0.01) for S0X in S_0f])\n",
    "S_cont = jnp.array([[SCX(E, 0.01) for E in E_grid] for SCX in S_contf])\n"
   ]
  },
  {
   "cell_type": "code",
   "execution_count": 28,
   "metadata": {},
   "outputs": [],
   "source": [
    "from linx.injected_spec import set_spectra"
   ]
  },
  {
   "cell_type": "code",
   "execution_count": 42,
   "metadata": {},
   "outputs": [
    {
     "ename": "NameError",
     "evalue": "name 'R' is not defined",
     "output_type": "error",
     "traceback": [
      "\u001b[0;31m---------------------------------------------------------------------------\u001b[0m",
      "\u001b[0;31mNameError\u001b[0m                                 Traceback (most recent call last)",
      "Cell \u001b[0;32mIn[42], line 1\u001b[0m\n\u001b[0;32m----> 1\u001b[0m N_X \u001b[38;5;241m=\u001b[39m \u001b[38;5;28mlen\u001b[39m(\u001b[43mR\u001b[49m)\n\u001b[1;32m      2\u001b[0m NE \u001b[38;5;241m=\u001b[39m \u001b[38;5;28mlen\u001b[39m(E_grid)\n\u001b[1;32m      4\u001b[0m dy \u001b[38;5;241m=\u001b[39m jnp\u001b[38;5;241m.\u001b[39mlog(E_grid[\u001b[38;5;241m-\u001b[39m\u001b[38;5;241m1\u001b[39m]\u001b[38;5;241m/\u001b[39mEmin)\u001b[38;5;241m/\u001b[39m(NE\u001b[38;5;241m-\u001b[39m\u001b[38;5;241m1\u001b[39m)\n",
      "\u001b[0;31mNameError\u001b[0m: name 'R' is not defined"
     ]
    }
   ],
   "source": [
    "\n",
    "N_X = len(R)\n",
    "NE = len(E_grid)\n",
    "\n",
    "dy = jnp.log(E_grid[-1]/Emin)/(NE-1)\n",
    "\n",
    "#create the grid to store the spectrums\n",
    "#F_grid = jnp.zeros((N_X, NE)) \n",
    "\n",
    "#calculate the last row, which is important for trapezoidal rule\n",
    "FX_E0 = jnp.array([S_cont[X,-1]/R[X,-1] + jnp.sum(K[X,:,-1,-1]*S_0[:]/(R[:,-1]*R[X,-1])) for X in range(N_X)])\n",
    "\n",
    "#F_grid = set_spectra(F_grid, -1, FX_E0)\n",
    "#i  = (NE - 1) - 1 # start at the second to last index, NE-2\n",
    "\n",
    "def cond_func(i_vec):\n",
    "    return i_vec[0] >= 0\n",
    "\n",
    "#@partial(jax.jit, static_argnums=(0,))\n",
    "def body_func(i_vec):\n",
    "#while i >= 0: # Counting down\n",
    "    i = i_vec[0]\n",
    "    B = jnp.zeros( (N_X, N_X) )\n",
    "    a = jnp.zeros( (N_X,   ) )\n",
    "\n",
    "    I = jnp.identity(N_X)\n",
    "    # Calculate the matrix B and the vector a\n",
    "    for X in jnp.arange(N_X):\n",
    "        # Calculate B, : <--> Xp\n",
    "        B = B.at[X,:].set(-.5*dy*E_grid[i]*K[X,:,i,i] + R[X,i]*I[X,:])\n",
    "\n",
    "        # Calculate a\n",
    "        a = a.at[X].set(S_cont[X,i])\n",
    "        for Xp in jnp.arange(N_X):\n",
    "            a = a.at[X].add(K[X,Xp,i,-1]*S_0[Xp]/R[Xp,-1] + .5*dy*E_grid[-1]*K[X,Xp,i,-1]*i_vec[1][Xp,-1])\n",
    "            for j in range(i, NE-1): # Goes from i+1 to NE-2\n",
    "                a = a.at[X].add(dy*E_grid[j]*K[X,Xp,i,j]*i_vec[1][Xp,j])\n",
    "\n",
    "    # Solve the system of linear equations of the form BF = a\n",
    "    F_grid = set_spectra(i_vec[1], i,jnp.linalg.solve(B, a))\n",
    "\n",
    "    return (i-1, F_grid)\n",
    "\n",
    "F_grid = jax.lax.while_loop(cond_func, body_func, ((NE - 1) - 1, set_spectra(jnp.zeros((N_X, NE)), -1, FX_E0)))[1]\n",
    "\n",
    "approx_zero = 1e-200\n",
    "# Remove potential zeros\n",
    "F_grid = F_grid.reshape( N_X*NE )\n",
    "F_grid = F_grid.at[:].set(jnp.where(F_grid > approx_zero, F_grid, approx_zero))\n",
    "#for i, f in enumerate(F_grid):\n",
    "    #if f < approx_zero:\n",
    "    #    F_grid[i] = approx_zero\n",
    "#    F_grid.at[i].set(f < approx_zero, f, approx_zero)\n",
    "F_grid = F_grid.reshape( (N_X, NE) )\n",
    "\n",
    "# Define the output array...\n",
    "sol = jnp.zeros( (N_X+1, NE) )\n",
    "# ...and fill it\n",
    "sol = sol.at[0     , :].set(E_grid)\n",
    "sol = sol.at[1:N_X+1, :].set(F_grid)\n",
    "\n",
    "sol\n"
   ]
  },
  {
   "cell_type": "code",
   "execution_count": 107,
   "metadata": {},
   "outputs": [
    {
     "ename": "ValueError",
     "evalue": "Non-hashable static arguments are not supported. An error occurred while trying to hash an object of type <class 'tuple'>, (9, Array([[0.00000000e+000, 0.00000000e+000, 0.00000000e+000,\n        0.00000000e+000, 0.00000000e+000, 0.00000000e+000,\n        0.00000000e+000, 0.00000000e+000, 0.00000000e+000,\n        8.12898311e-030],\n       [0.00000000e+000, 0.00000000e+000, 0.00000000e+000,\n        0.00000000e+000, 0.00000000e+000, 0.00000000e+000,\n        0.00000000e+000, 0.00000000e+000, 0.00000000e+000,\n        4.34857814e-191],\n       [0.00000000e+000, 0.00000000e+000, 0.00000000e+000,\n        0.00000000e+000, 0.00000000e+000, 0.00000000e+000,\n        0.00000000e+000, 0.00000000e+000, 0.00000000e+000,\n        4.34857814e-191]], dtype=float64)). The error was:\nTypeError: unhashable type: 'jaxlib.xla_extension.ArrayImpl'\n",
     "output_type": "error",
     "traceback": [
      "\u001b[0;31m---------------------------------------------------------------------------\u001b[0m",
      "\u001b[0;31mValueError\u001b[0m                                Traceback (most recent call last)",
      "Cell \u001b[0;32mIn[107], line 1\u001b[0m\n\u001b[0;32m----> 1\u001b[0m \u001b[43mbody_func\u001b[49m\u001b[43m(\u001b[49m\u001b[43m(\u001b[49m\u001b[43mNE\u001b[49m\u001b[43m \u001b[49m\u001b[38;5;241;43m-\u001b[39;49m\u001b[43m \u001b[49m\u001b[38;5;241;43m1\u001b[39;49m\u001b[43m,\u001b[49m\u001b[43m \u001b[49m\u001b[43mset_spectra\u001b[49m\u001b[43m(\u001b[49m\u001b[43mjnp\u001b[49m\u001b[38;5;241;43m.\u001b[39;49m\u001b[43mzeros\u001b[49m\u001b[43m(\u001b[49m\u001b[43m(\u001b[49m\u001b[43mN_X\u001b[49m\u001b[43m,\u001b[49m\u001b[43m \u001b[49m\u001b[43mNE\u001b[49m\u001b[43m)\u001b[49m\u001b[43m)\u001b[49m\u001b[43m,\u001b[49m\u001b[43m \u001b[49m\u001b[38;5;241;43m-\u001b[39;49m\u001b[38;5;241;43m1\u001b[39;49m\u001b[43m,\u001b[49m\u001b[43m \u001b[49m\u001b[43mFX_E0\u001b[49m\u001b[43m)\u001b[49m\u001b[43m)\u001b[49m\u001b[43m)\u001b[49m\n",
      "\u001b[0;31mValueError\u001b[0m: Non-hashable static arguments are not supported. An error occurred while trying to hash an object of type <class 'tuple'>, (9, Array([[0.00000000e+000, 0.00000000e+000, 0.00000000e+000,\n        0.00000000e+000, 0.00000000e+000, 0.00000000e+000,\n        0.00000000e+000, 0.00000000e+000, 0.00000000e+000,\n        8.12898311e-030],\n       [0.00000000e+000, 0.00000000e+000, 0.00000000e+000,\n        0.00000000e+000, 0.00000000e+000, 0.00000000e+000,\n        0.00000000e+000, 0.00000000e+000, 0.00000000e+000,\n        4.34857814e-191],\n       [0.00000000e+000, 0.00000000e+000, 0.00000000e+000,\n        0.00000000e+000, 0.00000000e+000, 0.00000000e+000,\n        0.00000000e+000, 0.00000000e+000, 0.00000000e+000,\n        4.34857814e-191]], dtype=float64)). The error was:\nTypeError: unhashable type: 'jaxlib.xla_extension.ArrayImpl'\n"
     ]
    }
   ],
   "source": [
    "body_func((NE - 1, set_spectra(jnp.zeros((N_X, NE)), -1, FX_E0)))"
   ]
  },
  {
   "cell_type": "code",
   "execution_count": 161,
   "metadata": {},
   "outputs": [
    {
     "data": {
      "text/plain": [
       "Array([1, 2], dtype=int64)"
      ]
     },
     "execution_count": 161,
     "metadata": {},
     "output_type": "execute_result"
    }
   ],
   "source": [
    "jnp.arange(1, 3)"
   ]
  },
  {
   "cell_type": "code",
   "execution_count": 158,
   "metadata": {},
   "outputs": [],
   "source": [
    "#@partial(jax.jit, static_argnums=0)\n",
    "@jax.jit\n",
    "def test_func(i):\n",
    "    l = i[0] \n",
    "    for j in jnp.arange(l, 3):\n",
    "        t = E_grid[j]\n",
    "    return t\n"
   ]
  },
  {
   "cell_type": "code",
   "execution_count": 160,
   "metadata": {},
   "outputs": [
    {
     "ename": "ConcretizationTypeError",
     "evalue": "Abstract tracer value encountered where concrete value is expected: traced array with shape int64[]\nIt arose in the jnp.arange argument 'start'\nThe error occurred while tracing the function test_func at /tmp/ipykernel_376561/3703535805.py:2 for jit. This concrete value was not available in Python because it depends on the value of the argument i[0].\n\nSee https://jax.readthedocs.io/en/latest/errors.html#jax.errors.ConcretizationTypeError",
     "output_type": "error",
     "traceback": [
      "\u001b[0;31m---------------------------------------------------------------------------\u001b[0m",
      "\u001b[0;31mConcretizationTypeError\u001b[0m                   Traceback (most recent call last)",
      "Cell \u001b[0;32mIn[160], line 1\u001b[0m\n\u001b[0;32m----> 1\u001b[0m \u001b[43mtest_func\u001b[49m\u001b[43m(\u001b[49m\u001b[43m(\u001b[49m\u001b[38;5;241;43m0\u001b[39;49m\u001b[43m,\u001b[49m\u001b[43m \u001b[49m\u001b[43mE_grid\u001b[49m\u001b[43m)\u001b[49m\u001b[43m)\u001b[49m\n",
      "    \u001b[0;31m[... skipping hidden 11 frame]\u001b[0m\n",
      "Cell \u001b[0;32mIn[158], line 5\u001b[0m, in \u001b[0;36mtest_func\u001b[0;34m(i)\u001b[0m\n\u001b[1;32m      2\u001b[0m \u001b[38;5;129m@jax\u001b[39m\u001b[38;5;241m.\u001b[39mjit\n\u001b[1;32m      3\u001b[0m \u001b[38;5;28;01mdef\u001b[39;00m \u001b[38;5;21mtest_func\u001b[39m(i):\n\u001b[1;32m      4\u001b[0m     l \u001b[38;5;241m=\u001b[39m i[\u001b[38;5;241m0\u001b[39m] \n\u001b[0;32m----> 5\u001b[0m     \u001b[38;5;28;01mfor\u001b[39;00m j \u001b[38;5;129;01min\u001b[39;00m \u001b[43mjnp\u001b[49m\u001b[38;5;241;43m.\u001b[39;49m\u001b[43marange\u001b[49m\u001b[43m(\u001b[49m\u001b[43ml\u001b[49m\u001b[43m,\u001b[49m\u001b[43m \u001b[49m\u001b[38;5;241;43m3\u001b[39;49m\u001b[43m)\u001b[49m:\n\u001b[1;32m      6\u001b[0m         t \u001b[38;5;241m=\u001b[39m E_grid[j]\n\u001b[1;32m      7\u001b[0m     \u001b[38;5;28;01mreturn\u001b[39;00m t\n",
      "File \u001b[0;32m~/miniconda3/envs/linx/lib/python3.13/site-packages/jax/_src/numpy/lax_numpy.py:6518\u001b[0m, in \u001b[0;36marange\u001b[0;34m(start, stop, step, dtype, device)\u001b[0m\n\u001b[1;32m   6448\u001b[0m \u001b[38;5;250m\u001b[39m\u001b[38;5;124;03m\"\"\"Create an array of evenly-spaced values.\u001b[39;00m\n\u001b[1;32m   6449\u001b[0m \n\u001b[1;32m   6450\u001b[0m \u001b[38;5;124;03mJAX implementation of :func:`numpy.arange`, implemented in terms of\u001b[39;00m\n\u001b[0;32m   (...)\u001b[0m\n\u001b[1;32m   6514\u001b[0m \u001b[38;5;124;03m  - :func:`jax.lax.iota`: directly generate integer sequences in XLA.\u001b[39;00m\n\u001b[1;32m   6515\u001b[0m \u001b[38;5;124;03m\"\"\"\u001b[39;00m\n\u001b[1;32m   6516\u001b[0m \u001b[38;5;66;03m# TODO(vfdev-5): optimize putting the array directly on the device specified\u001b[39;00m\n\u001b[1;32m   6517\u001b[0m \u001b[38;5;66;03m# instead of putting it on default device and then on the specific device\u001b[39;00m\n\u001b[0;32m-> 6518\u001b[0m output \u001b[38;5;241m=\u001b[39m \u001b[43m_arange\u001b[49m\u001b[43m(\u001b[49m\u001b[43mstart\u001b[49m\u001b[43m,\u001b[49m\u001b[43m \u001b[49m\u001b[43mstop\u001b[49m\u001b[38;5;241;43m=\u001b[39;49m\u001b[43mstop\u001b[49m\u001b[43m,\u001b[49m\u001b[43m \u001b[49m\u001b[43mstep\u001b[49m\u001b[38;5;241;43m=\u001b[39;49m\u001b[43mstep\u001b[49m\u001b[43m,\u001b[49m\u001b[43m \u001b[49m\u001b[43mdtype\u001b[49m\u001b[38;5;241;43m=\u001b[39;49m\u001b[43mdtype\u001b[49m\u001b[43m)\u001b[49m\n\u001b[1;32m   6519\u001b[0m \u001b[38;5;28;01mif\u001b[39;00m device \u001b[38;5;129;01mis\u001b[39;00m \u001b[38;5;129;01mnot\u001b[39;00m \u001b[38;5;28;01mNone\u001b[39;00m:\n\u001b[1;32m   6520\u001b[0m   \u001b[38;5;28;01mreturn\u001b[39;00m jax\u001b[38;5;241m.\u001b[39mdevice_put(output, device\u001b[38;5;241m=\u001b[39mdevice)\n",
      "File \u001b[0;32m~/miniconda3/envs/linx/lib/python3.13/site-packages/jax/_src/numpy/lax_numpy.py:6532\u001b[0m, in \u001b[0;36m_arange\u001b[0;34m(start, stop, step, dtype)\u001b[0m\n\u001b[1;32m   6530\u001b[0m     start \u001b[38;5;241m=\u001b[39m core\u001b[38;5;241m.\u001b[39mconcrete_or_error(\u001b[38;5;28;01mNone\u001b[39;00m, start, \u001b[38;5;124m\"\u001b[39m\u001b[38;5;124mIt arose in the jnp.arange argument \u001b[39m\u001b[38;5;124m'\u001b[39m\u001b[38;5;124mstop\u001b[39m\u001b[38;5;124m'\u001b[39m\u001b[38;5;124m\"\u001b[39m)\n\u001b[1;32m   6531\u001b[0m   \u001b[38;5;28;01melse\u001b[39;00m:\n\u001b[0;32m-> 6532\u001b[0m     start \u001b[38;5;241m=\u001b[39m \u001b[43mcore\u001b[49m\u001b[38;5;241;43m.\u001b[39;49m\u001b[43mconcrete_or_error\u001b[49m\u001b[43m(\u001b[49m\u001b[38;5;28;43;01mNone\u001b[39;49;00m\u001b[43m,\u001b[49m\u001b[43m \u001b[49m\u001b[43mstart\u001b[49m\u001b[43m,\u001b[49m\u001b[43m \u001b[49m\u001b[38;5;124;43m\"\u001b[39;49m\u001b[38;5;124;43mIt arose in the jnp.arange argument \u001b[39;49m\u001b[38;5;124;43m'\u001b[39;49m\u001b[38;5;124;43mstart\u001b[39;49m\u001b[38;5;124;43m'\u001b[39;49m\u001b[38;5;124;43m\"\u001b[39;49m\u001b[43m)\u001b[49m\n\u001b[1;32m   6533\u001b[0m util\u001b[38;5;241m.\u001b[39mcheck_arraylike_or_none(\u001b[38;5;124m\"\u001b[39m\u001b[38;5;124marange\u001b[39m\u001b[38;5;124m\"\u001b[39m, \u001b[38;5;28;01mNone\u001b[39;00m, stop, step)\n\u001b[1;32m   6534\u001b[0m stop \u001b[38;5;241m=\u001b[39m core\u001b[38;5;241m.\u001b[39mconcrete_or_error(\u001b[38;5;28;01mNone\u001b[39;00m, stop, \u001b[38;5;124m\"\u001b[39m\u001b[38;5;124mIt arose in the jnp.arange argument \u001b[39m\u001b[38;5;124m'\u001b[39m\u001b[38;5;124mstop\u001b[39m\u001b[38;5;124m'\u001b[39m\u001b[38;5;124m\"\u001b[39m)\n",
      "File \u001b[0;32m~/miniconda3/envs/linx/lib/python3.13/site-packages/jax/_src/core.py:1571\u001b[0m, in \u001b[0;36mconcrete_or_error\u001b[0;34m(force, val, context)\u001b[0m\n\u001b[1;32m   1569\u001b[0m     \u001b[38;5;28;01mreturn\u001b[39;00m force(val\u001b[38;5;241m.\u001b[39maval\u001b[38;5;241m.\u001b[39mval)\n\u001b[1;32m   1570\u001b[0m   \u001b[38;5;28;01melse\u001b[39;00m:\n\u001b[0;32m-> 1571\u001b[0m     \u001b[38;5;28;01mraise\u001b[39;00m ConcretizationTypeError(val, context)\n\u001b[1;32m   1572\u001b[0m \u001b[38;5;28;01melse\u001b[39;00m:\n\u001b[1;32m   1573\u001b[0m   \u001b[38;5;28;01mreturn\u001b[39;00m force(val)\n",
      "\u001b[0;31mConcretizationTypeError\u001b[0m: Abstract tracer value encountered where concrete value is expected: traced array with shape int64[]\nIt arose in the jnp.arange argument 'start'\nThe error occurred while tracing the function test_func at /tmp/ipykernel_376561/3703535805.py:2 for jit. This concrete value was not available in Python because it depends on the value of the argument i[0].\n\nSee https://jax.readthedocs.io/en/latest/errors.html#jax.errors.ConcretizationTypeError"
     ]
    }
   ],
   "source": [
    "test_func((0, E_grid))"
   ]
  },
  {
   "cell_type": "code",
   "execution_count": 55,
   "metadata": {},
   "outputs": [
    {
     "name": "stdout",
     "output_type": "stream",
     "text": [
      "313 μs ± 7.46 μs per loop (mean ± std. dev. of 7 runs, 1,000 loops each)\n"
     ]
    }
   ],
   "source": [
    "%timeit InjSpec.inverse_compton_kernel_photon(5, 0.01, 8)"
   ]
  },
  {
   "cell_type": "code",
   "execution_count": 54,
   "metadata": {},
   "outputs": [
    {
     "name": "stdout",
     "output_type": "stream",
     "text": [
      "340 μs ± 21.6 μs per loop (mean ± std. dev. of 7 runs, 1,000 loops each)\n"
     ]
    }
   ],
   "source": [
    "%timeit InjSpec.inverse_compton_kernel_photon(5, 0.01, 8)"
   ]
  },
  {
   "cell_type": "code",
   "execution_count": 23,
   "metadata": {},
   "outputs": [
    {
     "name": "stdout",
     "output_type": "stream",
     "text": [
      "Photon Rates Test\n",
      "---------------\n",
      "double photon 1.7273805573001668e-12\n",
      "photonphoton 9.528579442514193e-18\n",
      "BH 0.0 1.93931715860427e-22 4.226659078975712e-22\n",
      "CS 2.7877735519401764e-20\n",
      "total 1.7273901141800107e-12\n",
      "\n",
      "Photon Kernel Test\n",
      "---------------\n",
      "photonphoton 7.283939142849163e-18\n",
      "CS 1.4405883400723104e-21\n",
      "Inverse CS 1.6870306215985535e-11\n",
      "total 7.285379731189236e-18 1.6870306215985535e-11 1.6870306215985535e-11\n"
     ]
    }
   ],
   "source": [
    "print(\"Photon Rates Test\")\n",
    "print(\"---------------\")\n",
    "print(\"double photon\", InjSpec.dphoton_pair_prod_rate(5, 0.01))\n",
    "print(\"photonphoton\", InjSpec.photon_photon_scattering_rate(5, 0.01))\n",
    "print(\"BH\", InjSpec.bethe_heitler_pair_prod_rate(1, 0.01), InjSpec.bethe_heitler_pair_prod_rate(3, 0.01), InjSpec.bethe_heitler_pair_prod_rate(5, 0.01))\n",
    "print(\"CS\", InjSpec.compton_scattering_rate(5, 0.01))\n",
    "print(\"total\", InjSpec.total_rate_photon(5, 0.01))\n",
    "print()\n",
    "print(\"Photon Kernel Test\")\n",
    "print(\"---------------\")\n",
    "print(\"photonphoton\", InjSpec.photon_photon_scattering_kernel(5, 0.01, 8))\n",
    "print(\"CS\", InjSpec.compton_scattering_kernel_photon(5, 0.01, 8))\n",
    "print(\"Inverse CS\", InjSpec.inverse_compton_kernel_photon(5, 0.01, 8))\n",
    "print(\"total\", InjSpec.total_kernel_photon(5, 0.01, 8, 0), InjSpec.total_kernel_photon(5, 0.01, 8, 1), InjSpec.total_kernel_photon(5, 0.01, 8, 2))"
   ]
  },
  {
   "cell_type": "code",
   "execution_count": 16,
   "metadata": {},
   "outputs": [
    {
     "name": "stdout",
     "output_type": "stream",
     "text": [
      "Electron Rates Test\n",
      "---------------\n",
      "Inverse CS 2.2996022345164137e-10\n",
      "total 2.2996022345164137e-10\n",
      "\n",
      "Electron Kernels Test\n",
      "---------------\n",
      "Double photon 2.3844163031161436e-12\n",
      "BH 1.1385678331397403e-22\n",
      "CS 1.7159611430076526e-21\n",
      "Inverse CS 2.8852488761155606e-11\n",
      "total 2.3844163049459616e-12 2.8852488761155606e-11 0.0\n"
     ]
    }
   ],
   "source": [
    "print(\"Electron Rates Test\")\n",
    "print(\"---------------\")\n",
    "print(\"Inverse CS\", InjSpec.inverse_compton_rate(5, 0.01))\n",
    "print(\"total\", InjSpec.total_lepton_rate(5, 0.01))\n",
    "print()\n",
    "print(\"Electron Kernels Test\")\n",
    "print(\"---------------\")\n",
    "print(\"Double photon\", InjSpec.dphoton_pair_prod_kernel(5, 0.01, 8))\n",
    "print(\"BH\", InjSpec.bethe_heitler_pair_prod_kernel(5, 0.01, 8))\n",
    "print(\"CS\", InjSpec.compton_scattering_kernel_electron(5, 0.01, 8))\n",
    "print(\"Inverse CS\", InjSpec.inverse_compton_kernel_lepton(5, 0.01, 8))\n",
    "print(\"total\", InjSpec.total_kernel_electron(5, 0.01, 8, 0), InjSpec.total_kernel_electron(5, 0.01, 8, 1), InjSpec.total_kernel_electron(5, 0.01, 8, 2))"
   ]
  },
  {
   "cell_type": "code",
   "execution_count": 140,
   "metadata": {},
   "outputs": [
    {
     "name": "stdout",
     "output_type": "stream",
     "text": [
      "Positron Rates Test\n",
      "---------------\n",
      "Inverse CS 2.299602280267959e-10\n",
      "total 2.299602280267959e-10\n",
      "\n",
      "Positron Kernels Test\n",
      "---------------\n",
      "Double photon 2.384416303116144e-12\n",
      "BH 1.1385678331397403e-22\n",
      "CS 1.7159611430076522e-21\n",
      "Inverse CS 2.885248876115561e-11\n",
      "total 2.384416304945962e-12 0 2.885248876115561e-11\n"
     ]
    }
   ],
   "source": [
    "print(\"Positron Rates Test\")\n",
    "print(\"---------------\")\n",
    "print(\"Inverse CS\", InjSpec.inverse_compton_rate(5, 0.01))\n",
    "print(\"total\", InjSpec.total_lepton_rate(5, 0.01))\n",
    "print()\n",
    "print(\"Positron Kernels Test\")\n",
    "print(\"---------------\")\n",
    "print(\"Double photon\", InjSpec.dphoton_pair_prod_kernel(5, 0.01, 8))\n",
    "print(\"BH\", InjSpec.bethe_heitler_pair_prod_kernel(5, 0.01, 8))\n",
    "print(\"CS\", InjSpec.compton_scattering_kernel_electron(5, 0.01, 8))\n",
    "print(\"Inverse CS\", InjSpec.inverse_compton_kernel_lepton(5, 0.01, 8))\n",
    "print(\"total\", InjSpec.total_kernel_positron(5, 0.01, 8, 0), InjSpec.total_kernel_positron(5, 0.01, 8, 1), InjSpec.total_kernel_positron(5, 0.01, 8, 2))"
   ]
  },
  {
   "cell_type": "code",
   "execution_count": 124,
   "metadata": {},
   "outputs": [
    {
     "name": "stdout",
     "output_type": "stream",
     "text": [
      "Photon Rates Test NEW\n",
      "---------------\n",
      "double photon\n",
      "19.3 ms ± 382 μs per loop (mean ± std. dev. of 7 runs, 1 loop each)\n",
      "photonphoton\n",
      "234 μs ± 3.7 μs per loop (mean ± std. dev. of 7 runs, 1,000 loops each)\n",
      "BH\n",
      "234 μs ± 1.26 μs per loop (mean ± std. dev. of 7 runs, 1,000 loops each)\n",
      "CS\n",
      "233 μs ± 1.21 μs per loop (mean ± std. dev. of 7 runs, 1,000 loops each)\n",
      "total\n",
      "20.2 ms ± 1.1 ms per loop (mean ± std. dev. of 7 runs, 1 loop each)\n",
      "\n",
      "Photon Kernel Test\n",
      "---------------\n",
      "photonphoton\n",
      "236 μs ± 1.46 μs per loop (mean ± std. dev. of 7 runs, 1,000 loops each)\n",
      "CS\n",
      "237 μs ± 976 ns per loop (mean ± std. dev. of 7 runs, 1,000 loops each)\n",
      "Inverse CS\n",
      "378 μs ± 127 μs per loop (mean ± std. dev. of 7 runs, 1 loop each)\n",
      "total\n",
      "242 μs ± 1.71 μs per loop (mean ± std. dev. of 7 runs, 1,000 loops each)\n"
     ]
    }
   ],
   "source": [
    "print(\"Photon Rates Test NEW\")\n",
    "print(\"---------------\")\n",
    "print(\"double photon\")\n",
    "%timeit InjSpec.dphoton_pair_prod_rate(5, 0.01)\n",
    "print(\"photonphoton\")\n",
    "%timeit InjSpec.photon_photon_scattering_rate(5, 0.01)\n",
    "print(\"BH\")\n",
    "%timeit InjSpec.bethe_heitler_pair_prod_rate(1, 0.01)\n",
    "print(\"CS\")\n",
    "%timeit InjSpec.compton_scattering_rate(5, 0.01)\n",
    "print(\"total\")\n",
    "%timeit InjSpec.total_rate_photon(5, 0.01)\n",
    "print()\n",
    "print(\"Photon Kernel Test\")\n",
    "print(\"---------------\")\n",
    "print(\"photonphoton\")\n",
    "%timeit InjSpec.photon_photon_scattering_kernel(5, 0.01, 8)\n",
    "print(\"CS\")\n",
    "%timeit InjSpec.compton_scattering_kernel_photon(5, 0.01, 8)\n",
    "print(\"Inverse CS\")\n",
    "%timeit InjSpec.inverse_compton_kernel_photon(5, 0.01, 8)\n",
    "print(\"total\")\n",
    "%timeit InjSpec.total_kernel_photon(5, 0.01, 8, 0)"
   ]
  },
  {
   "cell_type": "code",
   "execution_count": 142,
   "metadata": {},
   "outputs": [
    {
     "name": "stdout",
     "output_type": "stream",
     "text": [
      "Photon Kernel Test\n",
      "---------------\n",
      "double photon\n",
      "130 ms ± 45.2 ms per loop (mean ± std. dev. of 7 runs, 10 loops each)\n",
      "photonphoton\n",
      "87.7 μs ± 1.39 μs per loop (mean ± std. dev. of 7 runs, 10,000 loops each)\n",
      "BH\n",
      "50.2 μs ± 1.37 μs per loop (mean ± std. dev. of 7 runs, 10,000 loops each)\n",
      "CS\n",
      "161 μs ± 1.81 μs per loop (mean ± std. dev. of 7 runs, 10,000 loops each)\n",
      "total\n",
      "88.4 ms ± 3.31 ms per loop (mean ± std. dev. of 7 runs, 10 loops each)\n",
      "\n",
      "Photon Kernel Test\n",
      "---------------\n",
      "photonphoton\n",
      "101 μs ± 5.2 μs per loop (mean ± std. dev. of 7 runs, 10,000 loops each)\n",
      "CS\n",
      "119 μs ± 5.3 μs per loop (mean ± std. dev. of 7 runs, 10,000 loops each)\n",
      "Inverse CS\n",
      "1.28 ms ± 33.1 μs per loop (mean ± std. dev. of 7 runs, 1,000 loops each)\n",
      "total\n",
      "274 μs ± 3.49 μs per loop (mean ± std. dev. of 7 runs, 1,000 loops each)\n"
     ]
    }
   ],
   "source": [
    "print(\"Photon Kernel Test\")\n",
    "print(\"---------------\")\n",
    "print(\"double photon\")\n",
    "%timeit InjSpec.dphoton_pair_prod_rate(5, 0.01)\n",
    "print(\"photonphoton\")\n",
    "%timeit InjSpec.photon_photon_scattering_rate(5, 0.01)\n",
    "print(\"BH\")\n",
    "%timeit InjSpec.bethe_heitler_pair_prod_rate(1, 0.01)\n",
    "print(\"CS\")\n",
    "%timeit InjSpec.compton_scattering_rate(5, 0.01)\n",
    "print(\"total\")\n",
    "%timeit InjSpec.total_rate_photon(5, 0.01)\n",
    "print()\n",
    "print(\"Photon Kernel Test\")\n",
    "print(\"---------------\")\n",
    "print(\"photonphoton\")\n",
    "%timeit InjSpec.photon_photon_scattering_kernel(5, 0.01, 8)\n",
    "print(\"CS\")\n",
    "%timeit InjSpec.compton_scattering_kernel_photon(5, 0.01, 8)\n",
    "print(\"Inverse CS\")\n",
    "%timeit InjSpec.inverse_compton_kernel_photon(5, 0.01, 8)\n",
    "print(\"total\")\n",
    "%timeit InjSpec.total_kernel_photon(5, 0.01, 8, 0)"
   ]
  },
  {
   "cell_type": "code",
   "execution_count": 43,
   "metadata": {},
   "outputs": [
    {
     "name": "stdout",
     "output_type": "stream",
     "text": [
      "Electron Rates Test NEW\n",
      "---------------\n",
      "Inverse CS\n",
      "23.8 ms ± 4.26 ms per loop (mean ± std. dev. of 7 runs, 1 loop each)\n",
      "total\n",
      "17.7 ms ± 392 μs per loop (mean ± std. dev. of 7 runs, 1 loop each)\n",
      "\n",
      "Electron Kernels Test\n",
      "---------------\n",
      "Double photon\n",
      "386 μs ± 122 μs per loop (mean ± std. dev. of 7 runs, 1 loop each)\n",
      "BH\n",
      "285 μs ± 7.11 μs per loop (mean ± std. dev. of 7 runs, 1,000 loops each)\n",
      "CS\n",
      "270 μs ± 9.01 μs per loop (mean ± std. dev. of 7 runs, 1,000 loops each)\n",
      "Inverse CS\n",
      "368 μs ± 132 μs per loop (mean ± std. dev. of 7 runs, 1 loop each)\n",
      "total\n",
      "1.98 ms ± 74.7 μs per loop (mean ± std. dev. of 7 runs, 1,000 loops each)\n"
     ]
    }
   ],
   "source": [
    "print(\"Electron Rates Test NEW\")\n",
    "print(\"---------------\")\n",
    "print(\"Inverse CS\")\n",
    "%timeit InjSpec.inverse_compton_rate(5, 0.01)\n",
    "print(\"total\")\n",
    "%timeit InjSpec.total_lepton_rate(5, 0.01)\n",
    "print()\n",
    "print(\"Electron Kernels Test\")\n",
    "print(\"---------------\")\n",
    "print(\"Double photon\")\n",
    "%timeit InjSpec.dphoton_pair_prod_kernel(5, 0.01, 8)\n",
    "print(\"BH\")\n",
    "%timeit InjSpec.bethe_heitler_pair_prod_kernel(5, 0.01, 8)\n",
    "print(\"CS\")\n",
    "%timeit InjSpec.compton_scattering_kernel_electron(5, 0.01, 8)\n",
    "print(\"Inverse CS\")\n",
    "%timeit InjSpec.inverse_compton_kernel_lepton(5, 0.01, 8)\n",
    "print(\"total\")\n",
    "%timeit InjSpec.total_kernel_electron(5, 0.01, 8, 0)"
   ]
  },
  {
   "cell_type": "code",
   "execution_count": 143,
   "metadata": {},
   "outputs": [
    {
     "name": "stdout",
     "output_type": "stream",
     "text": [
      "Electron Rates Test\n",
      "---------------\n",
      "Inverse CS\n",
      "291 ms ± 6.93 ms per loop (mean ± std. dev. of 7 runs, 1 loop each)\n",
      "total\n",
      "294 ms ± 6.57 ms per loop (mean ± std. dev. of 7 runs, 1 loop each)\n",
      "\n",
      "Electron Kernels Test\n",
      "---------------\n",
      "Double photon\n",
      "1.43 ms ± 69.3 μs per loop (mean ± std. dev. of 7 runs, 1,000 loops each)\n",
      "BH\n",
      "1.47 ms ± 33.3 μs per loop (mean ± std. dev. of 7 runs, 1,000 loops each)\n",
      "CS\n",
      "172 μs ± 1.42 μs per loop (mean ± std. dev. of 7 runs, 10,000 loops each)\n",
      "Inverse CS\n",
      "1.3 ms ± 5.3 μs per loop (mean ± std. dev. of 7 runs, 1,000 loops each)\n",
      "total\n",
      "3.25 ms ± 128 μs per loop (mean ± std. dev. of 7 runs, 100 loops each)\n"
     ]
    }
   ],
   "source": [
    "print(\"Electron Rates Test\")\n",
    "print(\"---------------\")\n",
    "print(\"Inverse CS\")\n",
    "%timeit InjSpec.inverse_compton_rate(5, 0.01)\n",
    "print(\"total\")\n",
    "%timeit InjSpec.total_lepton_rate(5, 0.01)\n",
    "print()\n",
    "print(\"Electron Kernels Test\")\n",
    "print(\"---------------\")\n",
    "print(\"Double photon\")\n",
    "%timeit InjSpec.dphoton_pair_prod_kernel(5, 0.01, 8)\n",
    "print(\"BH\")\n",
    "%timeit InjSpec.bethe_heitler_pair_prod_kernel(5, 0.01, 8)\n",
    "print(\"CS\")\n",
    "%timeit InjSpec.compton_scattering_kernel_electron(5, 0.01, 8)\n",
    "print(\"Inverse CS\")\n",
    "%timeit InjSpec.inverse_compton_kernel_lepton(5, 0.01, 8)\n",
    "print(\"total\")\n",
    "%timeit InjSpec.total_kernel_electron(5, 0.01, 8, 0)"
   ]
  },
  {
   "cell_type": "code",
   "execution_count": 144,
   "metadata": {},
   "outputs": [
    {
     "name": "stdout",
     "output_type": "stream",
     "text": [
      "Positron Rates Test\n",
      "---------------\n",
      "Inverse CS\n",
      "285 ms ± 1.68 ms per loop (mean ± std. dev. of 7 runs, 1 loop each)\n",
      "total\n",
      "283 ms ± 1.4 ms per loop (mean ± std. dev. of 7 runs, 1 loop each)\n",
      "\n",
      "Positron Kernels Test\n",
      "---------------\n",
      "Double photon\n",
      "1.45 ms ± 8.57 μs per loop (mean ± std. dev. of 7 runs, 1,000 loops each)\n",
      "BH\n",
      "1.5 ms ± 9.4 μs per loop (mean ± std. dev. of 7 runs, 1,000 loops each)\n",
      "CS\n",
      "180 μs ± 2.85 μs per loop (mean ± std. dev. of 7 runs, 10,000 loops each)\n",
      "Inverse CS\n",
      "1.38 ms ± 49.6 μs per loop (mean ± std. dev. of 7 runs, 1,000 loops each)\n",
      "total\n",
      "3.45 ms ± 142 μs per loop (mean ± std. dev. of 7 runs, 100 loops each)\n"
     ]
    }
   ],
   "source": [
    "print(\"Positron Rates Test\")\n",
    "print(\"---------------\")\n",
    "print(\"Inverse CS\")\n",
    "%timeit InjSpec.inverse_compton_rate(5, 0.01)\n",
    "print(\"total\")\n",
    "%timeit InjSpec.total_lepton_rate(5, 0.01)\n",
    "print()\n",
    "print(\"Positron Kernels Test\")\n",
    "print(\"---------------\")\n",
    "print(\"Double photon\")\n",
    "%timeit InjSpec.dphoton_pair_prod_kernel(5, 0.01, 8)\n",
    "print(\"BH\")\n",
    "%timeit InjSpec.bethe_heitler_pair_prod_kernel(5, 0.01, 8)\n",
    "print(\"CS\")\n",
    "%timeit InjSpec.compton_scattering_kernel_electron(5, 0.01, 8)\n",
    "print(\"Inverse CS\")\n",
    "%timeit InjSpec.inverse_compton_kernel_lepton(5, 0.01, 8)\n",
    "print(\"total\")\n",
    "%timeit InjSpec.total_kernel_positron(5, 0.01, 8, 0)"
   ]
  },
  {
   "cell_type": "code",
   "execution_count": 100,
   "metadata": {},
   "outputs": [
    {
     "name": "stdout",
     "output_type": "stream",
     "text": [
      "102 ms ± 34.3 ms per loop (mean ± std. dev. of 7 runs, 10 loops each)\n"
     ]
    }
   ],
   "source": [
    "%timeit InjSpec.dphoton_pair_prod_rate(5, 0.01)"
   ]
  },
  {
   "cell_type": "code",
   "execution_count": 101,
   "metadata": {},
   "outputs": [
    {
     "data": {
      "text/plain": [
       "1.7273815531413682e-12"
      ]
     },
     "execution_count": 101,
     "metadata": {},
     "output_type": "execute_result"
    }
   ],
   "source": [
    "InjSpec.dphoton_pair_prod_rate(5, 0.01)"
   ]
  },
  {
   "cell_type": "code",
   "execution_count": 25,
   "metadata": {},
   "outputs": [
    {
     "name": "stdout",
     "output_type": "stream",
     "text": [
      "[1. 2. 3. 4. 5. 0. 0. 0. 0. 0.]\n"
     ]
    }
   ],
   "source": [
    "a = jnp.linspace(1, 10, 10)\n",
    "a = jnp.where(a > 5, 0, a)\n",
    "print(a)"
   ]
  },
  {
   "cell_type": "code",
   "execution_count": null,
   "metadata": {},
   "outputs": [
    {
     "name": "stdout",
     "output_type": "stream",
     "text": [
      "result: -0.21705286423629183, abserr: 1.4361242750875712e-08\n",
      "result1: -0.21705286423678177\n",
      "result2: 0.013105371081178754\n"
     ]
    }
   ],
   "source": [
    "from scipy.integrate import dblquad, quad\n",
    "from scipy.special import erf, jv\n",
    "\n",
    "\n",
    "def h(t, z):\n",
    "    return f(t) * g(z)\n",
    "\n",
    "\n",
    "def f(t):\n",
    "    return 0.5 * t * (erf(t - a) - 1) * jv(0, q * t)\n",
    "\n",
    "\n",
    "def g(z):\n",
    "    return math.exp(-((z - a) ** 2)/(2 * (s ** 2)))\n",
    "\n",
    "\n",
    "def h1(z):\n",
    "    return integral_of_f(z) * g(z)\n",
    "\n",
    "def integral_of_f(z):\n",
    "    return quad(f, 0, 2 * z)[0]  # here abserr is discarded\n",
    "\n",
    "\n",
    "if __name__ == '__main__':\n",
    "    a, q, s = 0, 2, 3  # set the constants\n",
    "\n",
    "    result, abserr = dblquad(h, 0, 60, lambda z: 0, lambda z: 2 * z)\n",
    "    print(f'result: {result}, abserr: {abserr}')\n",
    "\n",
    "    result1 = quad(h1, 0, 60)[0]  # abserr here for result1 is not valid since abserr is already discarded in the function integral_of_f\n",
    "    print(f'result1: {result1}')\n"
   ]
  },
  {
   "cell_type": "code",
   "execution_count": 11,
   "metadata": {},
   "outputs": [],
   "source": [
    "@jax.jit\n",
    "def f_thermal_photon_spec(ep, T):\n",
    "    return (ep**2)/jnp.pi**2 * 1/(jnp.exp(ep/T) - 1)\n",
    "#\n",
    "@jax.jit\n",
    "def dp_integrand(s, ep, T):\n",
    "    s = jnp.exp(s)\n",
    "    ep = jnp.exp(ep)\n",
    "    b = jnp.sqrt(1 - (4*me**2)/s)\n",
    "    dp_cross_section = jnp.pi * aFS**2 /(2*me**2) * (1-b**2) * ((3-b**4) * jnp.log((1+b)/(1-b)) - 2*b *(2-b**2))  \n",
    "    return f_thermal_photon_spec(ep, T)/ep**2 * dp_cross_section * s *ep *s  \n",
    "\n",
    "@jax.jit\n",
    "def dphoton_pair_prod_rate(E, T):\n",
    "\n",
    "    #Check if incoming energy is greater than me^2/(22T)\n",
    "    #acropolis uses 50T for a smaller threshold\n",
    "    \"\"\"    if (type(E) != float) and (type(E) != int):\n",
    "        E = jnp.where(E < (me**2)/(50*T), 0, E)\n",
    "    else:\n",
    "    \"\"\"\n",
    "    #if E < (me**2)/(50*T):\n",
    "    #    return 0\n",
    "    \n",
    "    @jax.jit\n",
    "    def inside_int(s):\n",
    "        s = jnp.exp(s)\n",
    "        b = jnp.sqrt(1 - (4*me**2)/s)\n",
    "        dp_cross_section = jnp.pi * aFS**2 /(2*me**2) * (1-b**2) * ((3-b**4) * jnp.log((1+b)/(1-b)) - 2*b *(2-b**2))  \n",
    "        return dp_cross_section * s *s  \n",
    "    \n",
    "    @jax.jit\n",
    "    def integral_of_inside(ep):\n",
    "        return quadgk(inside_int, [jnp.log(4*me**2), jnp.log(4*E *ep)], epsrel = eps/10, epsabs=0)[0]\n",
    "    \n",
    "    @jax.jit\n",
    "    def outside_integral(ep, T):\n",
    "        ep = jnp.exp(ep)\n",
    "        return integral_of_inside(ep) * f_thermal_photon_spec(ep, T)/ep**2 *ep\n",
    "\n",
    "\n",
    "\n",
    "    ep_ll = jnp.log((me**2)/E)\n",
    "    ep_ul = jnp.log(Ephb_T_max*T)\n",
    "\n",
    "    #I_dp_pp = dblquad(dp_integrand, ep_ll, ep_ul, lambda x: jnp.log(4*me**2), lambda x: jnp.log(4*E) + x, epsrel = eps, epsabs=0, args=(T,)) \n",
    "    I_dp_pp = quadgk(outside_integral, [ep_ll, ep_ul], epsrel = eps, epsabs=0, args=(T,))\n",
    "    return 1/(8*E**2) * I_dp_pp[0]"
   ]
  },
  {
   "cell_type": "code",
   "execution_count": 97,
   "metadata": {},
   "outputs": [],
   "source": [
    "@jax.jit\n",
    "def icre_integrand(E_ph, ep, E, T):\n",
    "    #equation B.23 in Hufnagel 2018\n",
    "    F = F_func(E_ph, E, ep)\n",
    "    return f_thermal_photon_spec(ep, T)/ep * F\n",
    "@jax.jit\n",
    "def F_func(E, Ep, ep):   \n",
    "        \"\"\"Function used for calculating rates and kernels related to inverse compton scattering \n",
    "\n",
    "        Parameters\n",
    "        ----------\n",
    "        E: float \n",
    "            Energy of outgoing particle (MeV)\n",
    "        Ep: float \n",
    "            E', energy of incoming particle (MeV)\n",
    "        ep: float\n",
    "            epsilon, energy of thermal bath\n",
    "\n",
    "        Returns\n",
    "        -------\n",
    "        float \n",
    "            F(E, E', epsilon), which is (dimensionless)\n",
    "        \"\"\"\n",
    "        \n",
    "        \n",
    "        #should never happen if limits are right\n",
    "        '''\n",
    "        if not (ep <= E <= (4*ep*Ep**2)/(me**2 + 4*ep*Ep)):\n",
    "            return 0\n",
    "        '''\n",
    "        \n",
    "        G_ep = 4*ep*Ep/(me**2)\n",
    "        q = E/(G_ep*(Ep-E))\n",
    "        F = 2*q*jnp.log(q) + (1+2*q)*(1-q) + G_ep**2 * q**2 * (1 - q)/(2+2*G_ep*q)\n",
    "\n",
    "        return F\n",
    "\n",
    "@jax.jit\n",
    "def inverse_compton_rate(E, T):\n",
    "        \"\"\" \n",
    "        Inverse Compton Scattering Rate Eq. B.24 in Hufnagel 2018\n",
    "        \n",
    "        Parameters\n",
    "        ----------\n",
    "        E: float\n",
    "            Energy of outgoing particle (MeV)\n",
    "        T: float\n",
    "            Temperature of the thermal bath (MeV)\n",
    "\n",
    "        Returns\n",
    "        -------\n",
    "        float\n",
    "            Gamma^IC_e+- (MeV)\n",
    "            \n",
    "        \"\"\"\n",
    "        @jax.jit\n",
    "        def inside_int(E_ph, E, ep):\n",
    "            return F_func(E_ph, E, ep)\n",
    "        \n",
    "        @jax.jit\n",
    "        def integral_of_inside(ep, E):\n",
    "            return quadgk(inside_int, [ep, 4*ep*E**2 /(me**2 + 4*ep*E)], epsrel = eps/10, epsabs=0, args = (E, ep))[0]\n",
    "\n",
    "        @jax.jit\n",
    "        def outside_integral(ep, T, E):\n",
    "            return integral_of_inside(ep, E) * f_thermal_photon_spec(ep, T)/ep\n",
    "        \n",
    "        ep_ll = 0\n",
    "        ep_ul = jnp.minimum(E - (me**2)/(4*E), Ephb_T_max*T)\n",
    "        #E_ph_ll = lambda x: x\n",
    "        #E_ph_ul = lambda x: 4*x*E**2 /(me**2 + 4*x*E)\n",
    "\n",
    "        #return 2*jnp.pi*aFS**2 /E**2 * dblquad(icre_integrand, ep_ll, ep_ul, E_ph_ll, E_ph_ul,  epsrel=eps, epsabs=0, args=(E, T))[0]\n",
    "        return 2*jnp.pi*aFS**2 /E**2 * quadgk(outside_integral, [ep_ll, ep_ul], epsrel=eps, epsabs=0, args=(T, E))[0]\n",
    "\n",
    "#@jax.jit\n",
    "def inverse_compton_rate_vmap(E, T):\n",
    "        \"\"\" \n",
    "        Inverse Compton Scattering Rate Eq. B.24 in Hufnagel 2018\n",
    "        \n",
    "        Parameters\n",
    "        ----------\n",
    "        E: float\n",
    "            Energy of outgoing particle (MeV)\n",
    "        T: float\n",
    "            Temperature of the thermal bath (MeV)\n",
    "\n",
    "        Returns\n",
    "        -------\n",
    "        float\n",
    "            Gamma^IC_e+- (MeV)\n",
    "            \n",
    "        \"\"\"\n",
    "        @jax.jit\n",
    "        def inside_int(E_ph, E, ep):\n",
    "            return F_func(E_ph, E, ep)\n",
    "        \n",
    "        @jax.jit\n",
    "        def integral_of_inside(ep, E):\n",
    "            I_i =  jax.vmap(quadgk, in_axes=(None, 0, 1, None, None, None))(inside_int, [ep, 4*ep*E**2 /(me**2 + 4*ep*E)], jnp.array((E, ep)), False, 0,  eps)\n",
    "            return I_i[0]\n",
    "        @jax.jit\n",
    "        def outside_integral(ep, T, E):\n",
    "            return integral_of_inside(ep, E) * f_thermal_photon_spec(ep, T)/ep\n",
    "        \n",
    "        \n",
    "        ep_ul = jnp.minimum(E - (me**2)/(4*E), Ephb_T_max*T)\n",
    "        ep_ll = jnp.zeros_like(ep_ul)\n",
    "        #E_ph_ll = lambda x: x\n",
    "        #E_ph_ul = lambda x: 4*x*E**2 /(me**2 + 4*x*E)\n",
    "\n",
    "        #return 2*jnp.pi*aFS**2 /E**2 * dblquad(icre_integrand, ep_ll, ep_ul, E_ph_ll, E_ph_ul,  epsrel=eps, epsabs=0, args=(E, T))[0]\n",
    "        I =  2*jnp.pi*aFS**2 /E**2 * jax.vmap(quadgk, in_axes=(None, 0, 0, None, None, None))(outside_integral, [ep_ll, ep_ul], jnp.array((T, E)), False, 0, eps)\n",
    "        return I[0]"
   ]
  },
  {
   "cell_type": "code",
   "execution_count": 98,
   "metadata": {},
   "outputs": [],
   "source": [
    "def printing(a, b, c, d, e):\n",
    "    return (a, b, c, d, e)"
   ]
  },
  {
   "cell_type": "code",
   "execution_count": 99,
   "metadata": {},
   "outputs": [
    {
     "data": {
      "text/plain": [
       "(Array([0, 1, 2, 3, 4], dtype=int64),\n",
       " Array([[0., 0.],\n",
       "        [0., 0.],\n",
       "        [0., 0.],\n",
       "        [0., 0.],\n",
       "        [0., 0.]], dtype=float64),\n",
       " Array([0, 0, 0, 0, 0], dtype=int64, weak_type=True),\n",
       " Array([0, 0, 0, 0, 0], dtype=int64, weak_type=True),\n",
       " Array([0, 1, 2, 3, 4], dtype=int64))"
      ]
     },
     "execution_count": 99,
     "metadata": {},
     "output_type": "execute_result"
    }
   ],
   "source": [
    "jax.vmap(printing, in_axes=[0, 1, None, None, 0])(jnp.arange(5), jnp.zeros((2, 5)), 0, 0, jnp.arange(5))"
   ]
  },
  {
   "cell_type": "code",
   "execution_count": 100,
   "metadata": {},
   "outputs": [
    {
     "ename": "ValueError",
     "evalue": "vmap got inconsistent sizes for array axes to be mapped:\n  * most axes (2 of them) had size 10, e.g. axis 0 of argument interval[0] of type float64[10];\n  * one axis had size 2: axis 0 of argument args of type float64[2,10]",
     "output_type": "error",
     "traceback": [
      "\u001b[0;31m---------------------------------------------------------------------------\u001b[0m",
      "\u001b[0;31mValueError\u001b[0m                                Traceback (most recent call last)",
      "Cell \u001b[0;32mIn[100], line 3\u001b[0m\n\u001b[1;32m      1\u001b[0m \u001b[38;5;28;01mimport\u001b[39;00m \u001b[38;5;21;01mtime\u001b[39;00m\n\u001b[1;32m      2\u001b[0m test_energies \u001b[38;5;241m=\u001b[39m jnp\u001b[38;5;241m.\u001b[39mlinspace(\u001b[38;5;241m1\u001b[39m, \u001b[38;5;241m10\u001b[39m, \u001b[38;5;241m10\u001b[39m)\n\u001b[0;32m----> 3\u001b[0m \u001b[43minverse_compton_rate_vmap\u001b[49m\u001b[43m(\u001b[49m\u001b[43mtest_energies\u001b[49m\u001b[43m,\u001b[49m\u001b[43m \u001b[49m\u001b[43mjnp\u001b[49m\u001b[38;5;241;43m.\u001b[39;49m\u001b[43mfull_like\u001b[49m\u001b[43m(\u001b[49m\u001b[43mtest_energies\u001b[49m\u001b[43m,\u001b[49m\u001b[43m \u001b[49m\u001b[38;5;241;43m0.01\u001b[39;49m\u001b[43m)\u001b[49m\u001b[43m)\u001b[49m\n\u001b[1;32m      4\u001b[0m start \u001b[38;5;241m=\u001b[39m time\u001b[38;5;241m.\u001b[39mtime()\n\u001b[1;32m      5\u001b[0m \u001b[38;5;28mprint\u001b[39m(\u001b[38;5;124m\"\u001b[39m\u001b[38;5;124mhello\u001b[39m\u001b[38;5;124m\"\u001b[39m)\n",
      "Cell \u001b[0;32mIn[97], line 113\u001b[0m, in \u001b[0;36minverse_compton_rate_vmap\u001b[0;34m(E, T)\u001b[0m\n\u001b[1;32m    108\u001b[0m ep_ll \u001b[38;5;241m=\u001b[39m jnp\u001b[38;5;241m.\u001b[39mzeros_like(ep_ul)\n\u001b[1;32m    109\u001b[0m \u001b[38;5;66;03m#E_ph_ll = lambda x: x\u001b[39;00m\n\u001b[1;32m    110\u001b[0m \u001b[38;5;66;03m#E_ph_ul = lambda x: 4*x*E**2 /(me**2 + 4*x*E)\u001b[39;00m\n\u001b[1;32m    111\u001b[0m \n\u001b[1;32m    112\u001b[0m \u001b[38;5;66;03m#return 2*jnp.pi*aFS**2 /E**2 * dblquad(icre_integrand, ep_ll, ep_ul, E_ph_ll, E_ph_ul,  epsrel=eps, epsabs=0, args=(E, T))[0]\u001b[39;00m\n\u001b[0;32m--> 113\u001b[0m I \u001b[38;5;241m=\u001b[39m  \u001b[38;5;241m2\u001b[39m\u001b[38;5;241m*\u001b[39mjnp\u001b[38;5;241m.\u001b[39mpi\u001b[38;5;241m*\u001b[39maFS\u001b[38;5;241m*\u001b[39m\u001b[38;5;241m*\u001b[39m\u001b[38;5;241m2\u001b[39m \u001b[38;5;241m/\u001b[39mE\u001b[38;5;241m*\u001b[39m\u001b[38;5;241m*\u001b[39m\u001b[38;5;241m2\u001b[39m \u001b[38;5;241m*\u001b[39m \u001b[43mjax\u001b[49m\u001b[38;5;241;43m.\u001b[39;49m\u001b[43mvmap\u001b[49m\u001b[43m(\u001b[49m\u001b[43mquadgk\u001b[49m\u001b[43m,\u001b[49m\u001b[43m \u001b[49m\u001b[43min_axes\u001b[49m\u001b[38;5;241;43m=\u001b[39;49m\u001b[43m(\u001b[49m\u001b[38;5;28;43;01mNone\u001b[39;49;00m\u001b[43m,\u001b[49m\u001b[43m \u001b[49m\u001b[38;5;241;43m0\u001b[39;49m\u001b[43m,\u001b[49m\u001b[43m \u001b[49m\u001b[38;5;241;43m0\u001b[39;49m\u001b[43m,\u001b[49m\u001b[43m \u001b[49m\u001b[38;5;28;43;01mNone\u001b[39;49;00m\u001b[43m,\u001b[49m\u001b[43m \u001b[49m\u001b[38;5;28;43;01mNone\u001b[39;49;00m\u001b[43m,\u001b[49m\u001b[43m \u001b[49m\u001b[38;5;28;43;01mNone\u001b[39;49;00m\u001b[43m)\u001b[49m\u001b[43m)\u001b[49m\u001b[43m(\u001b[49m\u001b[43moutside_integral\u001b[49m\u001b[43m,\u001b[49m\u001b[43m \u001b[49m\u001b[43m[\u001b[49m\u001b[43mep_ll\u001b[49m\u001b[43m,\u001b[49m\u001b[43m \u001b[49m\u001b[43mep_ul\u001b[49m\u001b[43m]\u001b[49m\u001b[43m,\u001b[49m\u001b[43m \u001b[49m\u001b[43mjnp\u001b[49m\u001b[38;5;241;43m.\u001b[39;49m\u001b[43marray\u001b[49m\u001b[43m(\u001b[49m\u001b[43m(\u001b[49m\u001b[43mT\u001b[49m\u001b[43m,\u001b[49m\u001b[43m \u001b[49m\u001b[43mE\u001b[49m\u001b[43m)\u001b[49m\u001b[43m)\u001b[49m\u001b[43m,\u001b[49m\u001b[43m \u001b[49m\u001b[38;5;28;43;01mFalse\u001b[39;49;00m\u001b[43m,\u001b[49m\u001b[43m \u001b[49m\u001b[38;5;241;43m0\u001b[39;49m\u001b[43m,\u001b[49m\u001b[43m \u001b[49m\u001b[43meps\u001b[49m\u001b[43m)\u001b[49m\n\u001b[1;32m    114\u001b[0m \u001b[38;5;28;01mreturn\u001b[39;00m I[\u001b[38;5;241m0\u001b[39m]\n",
      "    \u001b[0;31m[... skipping hidden 2 frame]\u001b[0m\n",
      "File \u001b[0;32m~/miniconda3/envs/linx/lib/python3.13/site-packages/jax/_src/api.py:1082\u001b[0m, in \u001b[0;36m_mapped_axis_size\u001b[0;34m(fn, tree, vals, dims, name)\u001b[0m\n\u001b[1;32m   1080\u001b[0m   \u001b[38;5;28;01melse\u001b[39;00m:\n\u001b[1;32m   1081\u001b[0m     msg\u001b[38;5;241m.\u001b[39mappend(\u001b[38;5;124mf\u001b[39m\u001b[38;5;124m\"\u001b[39m\u001b[38;5;124m  * some axes (\u001b[39m\u001b[38;5;132;01m{\u001b[39;00mct\u001b[38;5;132;01m}\u001b[39;00m\u001b[38;5;124m of them) had size \u001b[39m\u001b[38;5;132;01m{\u001b[39;00msz\u001b[38;5;132;01m}\u001b[39;00m\u001b[38;5;124m, e.g. axis \u001b[39m\u001b[38;5;132;01m{\u001b[39;00max\u001b[38;5;132;01m}\u001b[39;00m\u001b[38;5;124m of \u001b[39m\u001b[38;5;132;01m{\u001b[39;00mex\u001b[38;5;132;01m}\u001b[39;00m\u001b[38;5;124m;\u001b[39m\u001b[38;5;130;01m\\n\u001b[39;00m\u001b[38;5;124m\"\u001b[39m)\n\u001b[0;32m-> 1082\u001b[0m \u001b[38;5;28;01mraise\u001b[39;00m \u001b[38;5;167;01mValueError\u001b[39;00m(\u001b[38;5;124m'\u001b[39m\u001b[38;5;124m'\u001b[39m\u001b[38;5;241m.\u001b[39mjoin(msg)[:\u001b[38;5;241m-\u001b[39m\u001b[38;5;241m2\u001b[39m])\n",
      "\u001b[0;31mValueError\u001b[0m: vmap got inconsistent sizes for array axes to be mapped:\n  * most axes (2 of them) had size 10, e.g. axis 0 of argument interval[0] of type float64[10];\n  * one axis had size 2: axis 0 of argument args of type float64[2,10]"
     ]
    }
   ],
   "source": [
    "import time\n",
    "test_energies = jnp.linspace(1, 10, 10)\n",
    "inverse_compton_rate_vmap(test_energies, jnp.full_like(test_energies, 0.01))\n",
    "start = time.time()\n",
    "print(\"hello\")\n",
    "end = time.time()\n",
    "print(end - start)"
   ]
  },
  {
   "cell_type": "code",
   "execution_count": 9,
   "metadata": {},
   "outputs": [],
   "source": [
    "@jax.jit\n",
    "def loopfunc(E_list):\n",
    "    for E_i in E_list:\n",
    "        print(inverse_compton_rate(E_i, 0.01))"
   ]
  },
  {
   "cell_type": "code",
   "execution_count": 27,
   "metadata": {},
   "outputs": [
    {
     "name": "stdout",
     "output_type": "stream",
     "text": [
      "Traced<ShapedArray(float64[])>with<DynamicJaxprTrace(level=1/0)>\n",
      "Traced<ShapedArray(float64[])>with<DynamicJaxprTrace(level=1/0)>\n",
      "Traced<ShapedArray(float64[])>with<DynamicJaxprTrace(level=1/0)>\n",
      "Traced<ShapedArray(float64[])>with<DynamicJaxprTrace(level=1/0)>\n",
      "Traced<ShapedArray(float64[])>with<DynamicJaxprTrace(level=1/0)>\n",
      "Traced<ShapedArray(float64[])>with<DynamicJaxprTrace(level=1/0)>\n",
      "Traced<ShapedArray(float64[])>with<DynamicJaxprTrace(level=1/0)>\n",
      "Traced<ShapedArray(float64[])>with<DynamicJaxprTrace(level=1/0)>\n",
      "Traced<ShapedArray(float64[])>with<DynamicJaxprTrace(level=1/0)>\n",
      "Traced<ShapedArray(float64[])>with<DynamicJaxprTrace(level=1/0)>\n",
      "time 0.029423952102661133\n"
     ]
    }
   ],
   "source": [
    "start = time.time()\n",
    "loopfunc(test_energies)\n",
    "end = time.time()\n",
    "print(\"time\", end - start)"
   ]
  },
  {
   "cell_type": "code",
   "execution_count": 16,
   "metadata": {},
   "outputs": [],
   "source": [
    "X_grid = jnp.arange(3)\n",
    "E_grid = jnp.logspace(jnp.log(Emin), jnp.log(5), 50, base=jnp.e)\n",
    "x1, x2 = jnp.meshgrid(X_grid, E_grid, indexing='ij')\n",
    "\n"
   ]
  },
  {
   "cell_type": "code",
   "execution_count": 11,
   "metadata": {},
   "outputs": [
    {
     "data": {
      "text/plain": [
       "Array([0, 0, 0, 0, 0, 0, 0, 0, 0, 0, 1, 1, 1, 1, 1, 1, 1, 1, 1, 1, 2, 2,\n",
       "       2, 2, 2, 2, 2, 2, 2, 2], dtype=int64)"
      ]
     },
     "execution_count": 11,
     "metadata": {},
     "output_type": "execute_result"
    }
   ],
   "source": [
    "x1.flatten()"
   ]
  },
  {
   "cell_type": "code",
   "execution_count": 12,
   "metadata": {},
   "outputs": [
    {
     "data": {
      "text/plain": [
       "Array([1.5       , 1.71470296, 1.96013749, 2.24070237, 2.56142599,\n",
       "       2.92805649, 3.34716475, 3.8262622 , 4.37393541, 5.        ,\n",
       "       1.5       , 1.71470296, 1.96013749, 2.24070237, 2.56142599,\n",
       "       2.92805649, 3.34716475, 3.8262622 , 4.37393541, 5.        ,\n",
       "       1.5       , 1.71470296, 1.96013749, 2.24070237, 2.56142599,\n",
       "       2.92805649, 3.34716475, 3.8262622 , 4.37393541, 5.        ],      dtype=float64)"
      ]
     },
     "execution_count": 12,
     "metadata": {},
     "output_type": "execute_result"
    }
   ],
   "source": [
    "x2.flatten()"
   ]
  },
  {
   "cell_type": "code",
   "execution_count": 21,
   "metadata": {},
   "outputs": [
    {
     "data": {
      "text/plain": [
       "Array([1.48929702e-17, 2.23273086e-17, 3.32049408e-17, 4.89639844e-17,\n",
       "       7.15743113e-17, 1.03707191e-16, 1.48949634e-16, 2.12072299e-16,\n",
       "       2.99360829e-16, 4.19021320e-16, 5.81671436e-16, 8.00929140e-16,\n",
       "       1.09411134e-15, 1.48305469e-15, 1.99506992e-15, 2.66404121e-15,\n",
       "       3.53167897e-15, 4.64893389e-15, 6.07757683e-15, 7.89194558e-15,\n",
       "       1.01808586e-14, 1.30496843e-14, 1.66225606e-14, 2.10447458e-14,\n",
       "       2.64850787e-14, 3.31385238e-14, 4.12287682e-14, 5.10108328e-14,\n",
       "       6.27736583e-14, 7.68426184e-14, 9.35819122e-14, 1.13396783e-13,\n",
       "       1.36735514e-13, 1.64091140e-13, 1.96002829e-13, 2.33056883e-13,\n",
       "       2.75887300e-13, 3.25175868e-13, 3.81651740e-13, 4.46090467e-13,\n",
       "       5.19312457e-13, 6.02180854e-13, 6.95598813e-13, 8.00506195e-13,\n",
       "       9.17875668e-13, 1.04870826e-12, 1.19402836e-12, 1.35487824e-12,\n",
       "       1.53231215e-12, 1.72738995e-12, 2.84328170e-10, 2.84244196e-10,\n",
       "       2.84089872e-10, 2.83867483e-10, 2.83579263e-10, 2.83227405e-10,\n",
       "       2.82814051e-10, 2.82341299e-10, 2.81811197e-10, 2.81225746e-10,\n",
       "       2.80586899e-10, 2.79896561e-10, 2.79156589e-10, 2.78368792e-10,\n",
       "       2.77534934e-10, 2.76656729e-10, 2.75735848e-10, 2.74773914e-10,\n",
       "       2.73772507e-10, 2.72733163e-10, 2.71657372e-10, 2.70546585e-10,\n",
       "       2.69402208e-10, 2.68225609e-10, 2.67018115e-10, 2.65781012e-10,\n",
       "       2.64515550e-10, 2.63222943e-10, 2.61904365e-10, 2.60560959e-10,\n",
       "       2.59193828e-10, 2.57804048e-10, 2.56392657e-10, 2.54960664e-10,\n",
       "       2.53509046e-10, 2.52038753e-10, 2.50550701e-10, 2.49045781e-10,\n",
       "       2.47524858e-10, 2.45988766e-10, 2.44438317e-10, 2.42874297e-10,\n",
       "       2.41297467e-10, 2.39708566e-10, 2.38108309e-10, 2.36497389e-10,\n",
       "       2.34876479e-10, 2.33246230e-10, 2.31607274e-10, 2.29960222e-10,\n",
       "       2.84328170e-10, 2.84244196e-10, 2.84089872e-10, 2.83867483e-10,\n",
       "       2.83579263e-10, 2.83227405e-10, 2.82814051e-10, 2.82341299e-10,\n",
       "       2.81811197e-10, 2.81225746e-10, 2.80586899e-10, 2.79896561e-10,\n",
       "       2.79156589e-10, 2.78368792e-10, 2.77534934e-10, 2.76656729e-10,\n",
       "       2.75735848e-10, 2.74773914e-10, 2.73772507e-10, 2.72733163e-10,\n",
       "       2.71657372e-10, 2.70546585e-10, 2.69402208e-10, 2.68225609e-10,\n",
       "       2.67018115e-10, 2.65781012e-10, 2.64515550e-10, 2.63222943e-10,\n",
       "       2.61904365e-10, 2.60560959e-10, 2.59193828e-10, 2.57804048e-10,\n",
       "       2.56392657e-10, 2.54960664e-10, 2.53509046e-10, 2.52038753e-10,\n",
       "       2.50550701e-10, 2.49045781e-10, 2.47524858e-10, 2.45988766e-10,\n",
       "       2.44438317e-10, 2.42874297e-10, 2.41297467e-10, 2.39708566e-10,\n",
       "       2.38108309e-10, 2.36497389e-10, 2.34876479e-10, 2.33246230e-10,\n",
       "       2.31607274e-10, 2.29960222e-10], dtype=float64)"
      ]
     },
     "execution_count": 21,
     "metadata": {},
     "output_type": "execute_result"
    }
   ],
   "source": [
    "jax.vmap(InjSpec.rate_x, in_axes=(0, 0, None))(x1.flatten(), x2.flatten(), 0.01) "
   ]
  },
  {
   "cell_type": "code",
   "execution_count": 22,
   "metadata": {},
   "outputs": [
    {
     "data": {
      "text/plain": [
       "Array([[1.48929702e-17, 2.23273086e-17, 3.32049408e-17, 4.89639844e-17,\n",
       "        7.15743113e-17, 1.03707191e-16, 1.48949634e-16, 2.12072299e-16,\n",
       "        2.99360829e-16, 4.19021320e-16, 5.81671436e-16, 8.00929140e-16,\n",
       "        1.09411134e-15, 1.48305469e-15, 1.99506992e-15, 2.66404121e-15,\n",
       "        3.53167897e-15, 4.64893389e-15, 6.07757683e-15, 7.89194558e-15,\n",
       "        1.01808586e-14, 1.30496843e-14, 1.66225606e-14, 2.10447458e-14,\n",
       "        2.64850787e-14, 3.31385238e-14, 4.12287682e-14, 5.10108328e-14,\n",
       "        6.27736583e-14, 7.68426184e-14, 9.35819122e-14, 1.13396783e-13,\n",
       "        1.36735514e-13, 1.64091140e-13, 1.96002829e-13, 2.33056883e-13,\n",
       "        2.75887300e-13, 3.25175868e-13, 3.81651740e-13, 4.46090467e-13,\n",
       "        5.19312457e-13, 6.02180854e-13, 6.95598813e-13, 8.00506195e-13,\n",
       "        9.17875668e-13, 1.04870826e-12, 1.19402836e-12, 1.35487824e-12,\n",
       "        1.53231215e-12, 1.72738995e-12],\n",
       "       [2.84328170e-10, 2.84244196e-10, 2.84089872e-10, 2.83867483e-10,\n",
       "        2.83579263e-10, 2.83227405e-10, 2.82814051e-10, 2.82341299e-10,\n",
       "        2.81811197e-10, 2.81225746e-10, 2.80586899e-10, 2.79896561e-10,\n",
       "        2.79156589e-10, 2.78368792e-10, 2.77534934e-10, 2.76656729e-10,\n",
       "        2.75735848e-10, 2.74773914e-10, 2.73772507e-10, 2.72733163e-10,\n",
       "        2.71657372e-10, 2.70546585e-10, 2.69402208e-10, 2.68225609e-10,\n",
       "        2.67018115e-10, 2.65781012e-10, 2.64515550e-10, 2.63222943e-10,\n",
       "        2.61904365e-10, 2.60560959e-10, 2.59193828e-10, 2.57804048e-10,\n",
       "        2.56392657e-10, 2.54960664e-10, 2.53509046e-10, 2.52038753e-10,\n",
       "        2.50550701e-10, 2.49045781e-10, 2.47524858e-10, 2.45988766e-10,\n",
       "        2.44438317e-10, 2.42874297e-10, 2.41297467e-10, 2.39708566e-10,\n",
       "        2.38108309e-10, 2.36497389e-10, 2.34876479e-10, 2.33246230e-10,\n",
       "        2.31607274e-10, 2.29960222e-10],\n",
       "       [2.84328170e-10, 2.84244196e-10, 2.84089872e-10, 2.83867483e-10,\n",
       "        2.83579263e-10, 2.83227405e-10, 2.82814051e-10, 2.82341299e-10,\n",
       "        2.81811197e-10, 2.81225746e-10, 2.80586899e-10, 2.79896561e-10,\n",
       "        2.79156589e-10, 2.78368792e-10, 2.77534934e-10, 2.76656729e-10,\n",
       "        2.75735848e-10, 2.74773914e-10, 2.73772507e-10, 2.72733163e-10,\n",
       "        2.71657372e-10, 2.70546585e-10, 2.69402208e-10, 2.68225609e-10,\n",
       "        2.67018115e-10, 2.65781012e-10, 2.64515550e-10, 2.63222943e-10,\n",
       "        2.61904365e-10, 2.60560959e-10, 2.59193828e-10, 2.57804048e-10,\n",
       "        2.56392657e-10, 2.54960664e-10, 2.53509046e-10, 2.52038753e-10,\n",
       "        2.50550701e-10, 2.49045781e-10, 2.47524858e-10, 2.45988766e-10,\n",
       "        2.44438317e-10, 2.42874297e-10, 2.41297467e-10, 2.39708566e-10,\n",
       "        2.38108309e-10, 2.36497389e-10, 2.34876479e-10, 2.33246230e-10,\n",
       "        2.31607274e-10, 2.29960222e-10]], dtype=float64)"
      ]
     },
     "execution_count": 22,
     "metadata": {},
     "output_type": "execute_result"
    }
   ],
   "source": [
    "jnp.array([[InjSpec.rate_x(X, E, 0.01) for E in E_grid] for X in X_grid])"
   ]
  },
  {
   "cell_type": "code",
   "execution_count": 118,
   "metadata": {},
   "outputs": [],
   "source": [
    "ii, jj, kk, ll = jnp.meshgrid( X_grid, X_grid,E_grid, E_grid,indexing='ij')"
   ]
  },
  {
   "cell_type": "code",
   "execution_count": 160,
   "metadata": {},
   "outputs": [],
   "source": [
    "a =  jax.vmap(InjSpec.kernel_x, in_axes=(0, 0, 0, None, 0))(ii.flatten(), jj.flatten(), kk.flatten(), 0.01, ll.flatten())\n",
    "a = jnp.reshape(a, (3, 3, 10, 10))\n",
    "a = jnp.nan_to_num(a)\n"
   ]
  },
  {
   "cell_type": "code",
   "execution_count": 161,
   "metadata": {},
   "outputs": [],
   "source": [
    "b = jnp.array([[[[InjSpec.kernel_x(X, X_out, E, 0.01, Ep) for Ep in E_grid] for E in E_grid] for X_out in X_grid] for X in X_grid])\n",
    "b = jnp.nan_to_num(b)"
   ]
  },
  {
   "cell_type": "code",
   "execution_count": null,
   "metadata": {},
   "outputs": [],
   "source": [
    "%timeit jax.vmap(InjSpec.rate_x, in_axes=(0, 0, None))(x1.flatten(), x2.flatten(), 0.01) "
   ]
  },
  {
   "cell_type": "code",
   "execution_count": 35,
   "metadata": {},
   "outputs": [
    {
     "ename": "ValueError",
     "evalue": "All input arrays must have the same shape.",
     "output_type": "error",
     "traceback": [
      "\u001b[0;31m---------------------------------------------------------------------------\u001b[0m",
      "\u001b[0;31mValueError\u001b[0m                                Traceback (most recent call last)",
      "\u001b[0;32m/tmp/ipykernel_17188/2226099813.py\u001b[0m in \u001b[0;36m?\u001b[0;34m()\u001b[0m\n\u001b[0;32m----> 1\u001b[0;31m \u001b[0minverse_compton_rate\u001b[0m\u001b[0;34m(\u001b[0m\u001b[0mtest_energies\u001b[0m\u001b[0;34m,\u001b[0m \u001b[0;36m0.01\u001b[0m\u001b[0;34m)\u001b[0m\u001b[0;34m\u001b[0m\u001b[0;34m\u001b[0m\u001b[0m\n\u001b[0m",
      "    \u001b[0;31m[... skipping hidden 11 frame]\u001b[0m\n",
      "\u001b[0;32m/tmp/ipykernel_17188/1210723062.py\u001b[0m in \u001b[0;36m?\u001b[0;34m(E, T)\u001b[0m\n\u001b[1;32m     70\u001b[0m         \u001b[0;31m#E_ph_ll = lambda x: x\u001b[0m\u001b[0;34m\u001b[0m\u001b[0;34m\u001b[0m\u001b[0m\n\u001b[1;32m     71\u001b[0m         \u001b[0;31m#E_ph_ul = lambda x: 4*x*E**2 /(me**2 + 4*x*E)\u001b[0m\u001b[0;34m\u001b[0m\u001b[0;34m\u001b[0m\u001b[0m\n\u001b[1;32m     72\u001b[0m \u001b[0;34m\u001b[0m\u001b[0m\n\u001b[1;32m     73\u001b[0m         \u001b[0;31m#return 2*jnp.pi*aFS**2 /E**2 * dblquad(icre_integrand, ep_ll, ep_ul, E_ph_ll, E_ph_ul,  epsrel=eps, epsabs=0, args=(E, T))[0]\u001b[0m\u001b[0;34m\u001b[0m\u001b[0;34m\u001b[0m\u001b[0m\n\u001b[0;32m---> 74\u001b[0;31m         \u001b[0;32mreturn\u001b[0m \u001b[0;36m2\u001b[0m\u001b[0;34m*\u001b[0m\u001b[0mjnp\u001b[0m\u001b[0;34m.\u001b[0m\u001b[0mpi\u001b[0m\u001b[0;34m*\u001b[0m\u001b[0maFS\u001b[0m\u001b[0;34m**\u001b[0m\u001b[0;36m2\u001b[0m \u001b[0;34m/\u001b[0m\u001b[0mE\u001b[0m\u001b[0;34m**\u001b[0m\u001b[0;36m2\u001b[0m \u001b[0;34m*\u001b[0m \u001b[0mquadgk\u001b[0m\u001b[0;34m(\u001b[0m\u001b[0moutside_integral\u001b[0m\u001b[0;34m,\u001b[0m \u001b[0;34m[\u001b[0m\u001b[0mep_ll\u001b[0m\u001b[0;34m,\u001b[0m \u001b[0mep_ul\u001b[0m\u001b[0;34m]\u001b[0m\u001b[0;34m,\u001b[0m \u001b[0mepsrel\u001b[0m\u001b[0;34m=\u001b[0m\u001b[0meps\u001b[0m\u001b[0;34m,\u001b[0m \u001b[0mepsabs\u001b[0m\u001b[0;34m=\u001b[0m\u001b[0;36m0\u001b[0m\u001b[0;34m,\u001b[0m \u001b[0margs\u001b[0m\u001b[0;34m=\u001b[0m\u001b[0;34m(\u001b[0m\u001b[0mT\u001b[0m\u001b[0;34m,\u001b[0m \u001b[0mE\u001b[0m\u001b[0;34m)\u001b[0m\u001b[0;34m)\u001b[0m\u001b[0;34m[\u001b[0m\u001b[0;36m0\u001b[0m\u001b[0;34m]\u001b[0m\u001b[0;34m\u001b[0m\u001b[0;34m\u001b[0m\u001b[0m\n\u001b[0m",
      "\u001b[0;32m~/miniconda3/envs/linx/lib/python3.13/site-packages/quadax/adaptive.py\u001b[0m in \u001b[0;36m?\u001b[0;34m(fun, interval, args, full_output, epsabs, epsrel, max_ninter, order, norm)\u001b[0m\n\u001b[1;32m    113\u001b[0m     \u001b[0mGPU\u001b[0m\u001b[0;34m/\u001b[0m\u001b[0mTPU\u001b[0m\u001b[0;34m.\u001b[0m\u001b[0;34m\u001b[0m\u001b[0;34m\u001b[0m\u001b[0m\n\u001b[1;32m    114\u001b[0m \u001b[0;34m\u001b[0m\u001b[0m\n\u001b[1;32m    115\u001b[0m     \"\"\"\n\u001b[1;32m    116\u001b[0m     \u001b[0mrule\u001b[0m \u001b[0;34m=\u001b[0m \u001b[0mGaussKronrodRule\u001b[0m\u001b[0;34m(\u001b[0m\u001b[0morder\u001b[0m\u001b[0;34m,\u001b[0m \u001b[0mnorm\u001b[0m\u001b[0;34m)\u001b[0m\u001b[0;34m\u001b[0m\u001b[0;34m\u001b[0m\u001b[0m\n\u001b[0;32m--> 117\u001b[0;31m     y, info = adaptive_quadrature(\n\u001b[0m\u001b[1;32m    118\u001b[0m         \u001b[0mrule\u001b[0m\u001b[0;34m,\u001b[0m\u001b[0;34m\u001b[0m\u001b[0;34m\u001b[0m\u001b[0m\n\u001b[1;32m    119\u001b[0m         \u001b[0mfun\u001b[0m\u001b[0;34m,\u001b[0m\u001b[0;34m\u001b[0m\u001b[0;34m\u001b[0m\u001b[0m\n\u001b[1;32m    120\u001b[0m         \u001b[0minterval\u001b[0m\u001b[0;34m,\u001b[0m\u001b[0;34m\u001b[0m\u001b[0;34m\u001b[0m\u001b[0m\n",
      "\u001b[0;32m~/miniconda3/envs/linx/lib/python3.13/site-packages/quadax/adaptive.py\u001b[0m in \u001b[0;36m?\u001b[0;34m(rule, fun, interval, args, full_output, epsabs, epsrel, max_ninter, norm, **kwargs)\u001b[0m\n\u001b[1;32m    419\u001b[0m         \u001b[0;34mf\"\u001b[0m\u001b[0;34mmax_ninter=\u001b[0m\u001b[0;34m{\u001b[0m\u001b[0mmax_ninter\u001b[0m\u001b[0;34m}\u001b[0m\u001b[0;34m is not enough for \u001b[0m\u001b[0;34m{\u001b[0m\u001b[0mlen\u001b[0m\u001b[0;34m(\u001b[0m\u001b[0minterval\u001b[0m\u001b[0;34m)\u001b[0m\u001b[0;34m-\u001b[0m\u001b[0;36m1\u001b[0m\u001b[0;34m}\u001b[0m\u001b[0;34m breakpoints\u001b[0m\u001b[0;34m\"\u001b[0m\u001b[0;34m,\u001b[0m\u001b[0;34m\u001b[0m\u001b[0;34m\u001b[0m\u001b[0m\n\u001b[1;32m    420\u001b[0m     \u001b[0;34m)\u001b[0m\u001b[0;34m\u001b[0m\u001b[0;34m\u001b[0m\u001b[0m\n\u001b[1;32m    421\u001b[0m     \u001b[0mepsabs\u001b[0m \u001b[0;34m=\u001b[0m \u001b[0msetdefault\u001b[0m\u001b[0;34m(\u001b[0m\u001b[0mepsabs\u001b[0m\u001b[0;34m,\u001b[0m \u001b[0mjnp\u001b[0m\u001b[0;34m.\u001b[0m\u001b[0msqrt\u001b[0m\u001b[0;34m(\u001b[0m\u001b[0mjnp\u001b[0m\u001b[0;34m.\u001b[0m\u001b[0mfinfo\u001b[0m\u001b[0;34m(\u001b[0m\u001b[0mjnp\u001b[0m\u001b[0;34m.\u001b[0m\u001b[0marray\u001b[0m\u001b[0;34m(\u001b[0m\u001b[0;36m1.0\u001b[0m\u001b[0;34m)\u001b[0m\u001b[0;34m)\u001b[0m\u001b[0;34m.\u001b[0m\u001b[0meps\u001b[0m\u001b[0;34m)\u001b[0m\u001b[0;34m)\u001b[0m\u001b[0;34m\u001b[0m\u001b[0;34m\u001b[0m\u001b[0m\n\u001b[1;32m    422\u001b[0m     \u001b[0mepsrel\u001b[0m \u001b[0;34m=\u001b[0m \u001b[0msetdefault\u001b[0m\u001b[0;34m(\u001b[0m\u001b[0mepsrel\u001b[0m\u001b[0;34m,\u001b[0m \u001b[0mjnp\u001b[0m\u001b[0;34m.\u001b[0m\u001b[0msqrt\u001b[0m\u001b[0;34m(\u001b[0m\u001b[0mjnp\u001b[0m\u001b[0;34m.\u001b[0m\u001b[0mfinfo\u001b[0m\u001b[0;34m(\u001b[0m\u001b[0mjnp\u001b[0m\u001b[0;34m.\u001b[0m\u001b[0marray\u001b[0m\u001b[0;34m(\u001b[0m\u001b[0;36m1.0\u001b[0m\u001b[0;34m)\u001b[0m\u001b[0;34m)\u001b[0m\u001b[0;34m.\u001b[0m\u001b[0meps\u001b[0m\u001b[0;34m)\u001b[0m\u001b[0;34m)\u001b[0m\u001b[0;34m\u001b[0m\u001b[0;34m\u001b[0m\u001b[0m\n\u001b[0;32m--> 423\u001b[0;31m     \u001b[0mfun\u001b[0m\u001b[0;34m,\u001b[0m \u001b[0minterval\u001b[0m \u001b[0;34m=\u001b[0m \u001b[0mmap_interval\u001b[0m\u001b[0;34m(\u001b[0m\u001b[0mfun\u001b[0m\u001b[0;34m,\u001b[0m \u001b[0minterval\u001b[0m\u001b[0;34m)\u001b[0m\u001b[0;34m\u001b[0m\u001b[0;34m\u001b[0m\u001b[0m\n\u001b[0m\u001b[1;32m    424\u001b[0m     \u001b[0mvfunc\u001b[0m \u001b[0;34m=\u001b[0m \u001b[0mwrap_func\u001b[0m\u001b[0;34m(\u001b[0m\u001b[0mfun\u001b[0m\u001b[0;34m,\u001b[0m \u001b[0margs\u001b[0m\u001b[0;34m)\u001b[0m\u001b[0;34m\u001b[0m\u001b[0;34m\u001b[0m\u001b[0m\n\u001b[1;32m    425\u001b[0m     \u001b[0mf\u001b[0m \u001b[0;34m=\u001b[0m \u001b[0mjax\u001b[0m\u001b[0;34m.\u001b[0m\u001b[0meval_shape\u001b[0m\u001b[0;34m(\u001b[0m\u001b[0mvfunc\u001b[0m\u001b[0;34m,\u001b[0m \u001b[0;34m(\u001b[0m\u001b[0minterval\u001b[0m\u001b[0;34m[\u001b[0m\u001b[0;36m0\u001b[0m\u001b[0;34m]\u001b[0m \u001b[0;34m+\u001b[0m \u001b[0minterval\u001b[0m\u001b[0;34m[\u001b[0m\u001b[0;34m-\u001b[0m\u001b[0;36m1\u001b[0m\u001b[0;34m]\u001b[0m\u001b[0;34m)\u001b[0m \u001b[0;34m/\u001b[0m \u001b[0;36m2\u001b[0m\u001b[0;34m)\u001b[0m\u001b[0;34m\u001b[0m\u001b[0;34m\u001b[0m\u001b[0m\n\u001b[1;32m    426\u001b[0m     \u001b[0mepmach\u001b[0m \u001b[0;34m=\u001b[0m \u001b[0mjnp\u001b[0m\u001b[0;34m.\u001b[0m\u001b[0mfinfo\u001b[0m\u001b[0;34m(\u001b[0m\u001b[0mf\u001b[0m\u001b[0;34m.\u001b[0m\u001b[0mdtype\u001b[0m\u001b[0;34m)\u001b[0m\u001b[0;34m.\u001b[0m\u001b[0meps\u001b[0m\u001b[0;34m\u001b[0m\u001b[0;34m\u001b[0m\u001b[0m\n",
      "\u001b[0;32m~/miniconda3/envs/linx/lib/python3.13/site-packages/quadax/utils.py\u001b[0m in \u001b[0;36m?\u001b[0;34m(fun, interval)\u001b[0m\n\u001b[1;32m     93\u001b[0m         \u001b[0mTransformed\u001b[0m \u001b[0mintegrand\u001b[0m\u001b[0;34m.\u001b[0m\u001b[0;34m\u001b[0m\u001b[0;34m\u001b[0m\u001b[0m\n\u001b[1;32m     94\u001b[0m     \u001b[0minterval_t\u001b[0m \u001b[0;34m:\u001b[0m \u001b[0mfloat\u001b[0m\u001b[0;34m\u001b[0m\u001b[0;34m\u001b[0m\u001b[0m\n\u001b[1;32m     95\u001b[0m         \u001b[0mNew\u001b[0m \u001b[0mlower\u001b[0m \u001b[0;32mand\u001b[0m \u001b[0mupper\u001b[0m \u001b[0mlimits\u001b[0m \u001b[0mof\u001b[0m \u001b[0mintegration\u001b[0m \u001b[0;32mwith\u001b[0m \u001b[0mpossible\u001b[0m \u001b[0mbreakpoints\u001b[0m\u001b[0;34m.\u001b[0m\u001b[0;34m\u001b[0m\u001b[0;34m\u001b[0m\u001b[0m\n\u001b[1;32m     96\u001b[0m     \"\"\"\n\u001b[0;32m---> 97\u001b[0;31m     \u001b[0minterval\u001b[0m \u001b[0;34m=\u001b[0m \u001b[0mjnp\u001b[0m\u001b[0;34m.\u001b[0m\u001b[0masarray\u001b[0m\u001b[0;34m(\u001b[0m\u001b[0minterval\u001b[0m\u001b[0;34m)\u001b[0m\u001b[0;34m\u001b[0m\u001b[0;34m\u001b[0m\u001b[0m\n\u001b[0m\u001b[1;32m     98\u001b[0m     \u001b[0ma\u001b[0m\u001b[0;34m,\u001b[0m \u001b[0mb\u001b[0m \u001b[0;34m=\u001b[0m \u001b[0minterval\u001b[0m\u001b[0;34m[\u001b[0m\u001b[0;36m0\u001b[0m\u001b[0;34m]\u001b[0m\u001b[0;34m,\u001b[0m \u001b[0minterval\u001b[0m\u001b[0;34m[\u001b[0m\u001b[0;34m-\u001b[0m\u001b[0;36m1\u001b[0m\u001b[0;34m]\u001b[0m\u001b[0;34m\u001b[0m\u001b[0;34m\u001b[0m\u001b[0m\n\u001b[1;32m     99\u001b[0m     \u001b[0msgn\u001b[0m \u001b[0;34m=\u001b[0m \u001b[0;34m(\u001b[0m\u001b[0;34m-\u001b[0m\u001b[0;36m1\u001b[0m\u001b[0;34m)\u001b[0m \u001b[0;34m**\u001b[0m \u001b[0;34m(\u001b[0m\u001b[0ma\u001b[0m \u001b[0;34m>\u001b[0m \u001b[0mb\u001b[0m\u001b[0;34m)\u001b[0m\u001b[0;34m\u001b[0m\u001b[0;34m\u001b[0m\u001b[0m\n\u001b[1;32m    100\u001b[0m     \u001b[0ma\u001b[0m\u001b[0;34m,\u001b[0m \u001b[0mb\u001b[0m \u001b[0;34m=\u001b[0m \u001b[0mjnp\u001b[0m\u001b[0;34m.\u001b[0m\u001b[0mminimum\u001b[0m\u001b[0;34m(\u001b[0m\u001b[0ma\u001b[0m\u001b[0;34m,\u001b[0m \u001b[0mb\u001b[0m\u001b[0;34m)\u001b[0m\u001b[0;34m,\u001b[0m \u001b[0mjnp\u001b[0m\u001b[0;34m.\u001b[0m\u001b[0mmaximum\u001b[0m\u001b[0;34m(\u001b[0m\u001b[0ma\u001b[0m\u001b[0;34m,\u001b[0m \u001b[0mb\u001b[0m\u001b[0;34m)\u001b[0m\u001b[0;34m\u001b[0m\u001b[0;34m\u001b[0m\u001b[0m\n",
      "\u001b[0;32m~/miniconda3/envs/linx/lib/python3.13/site-packages/jax/_src/numpy/lax_numpy.py\u001b[0m in \u001b[0;36m?\u001b[0;34m(a, dtype, order, copy, device)\u001b[0m\n\u001b[1;32m   5588\u001b[0m                       \u001b[0;34m\"Consider using copy=None or copy=True instead.\"\u001b[0m\u001b[0;34m)\u001b[0m\u001b[0;34m\u001b[0m\u001b[0;34m\u001b[0m\u001b[0m\n\u001b[1;32m   5589\u001b[0m   \u001b[0mdtypes\u001b[0m\u001b[0;34m.\u001b[0m\u001b[0mcheck_user_dtype_supported\u001b[0m\u001b[0;34m(\u001b[0m\u001b[0mdtype\u001b[0m\u001b[0;34m,\u001b[0m \u001b[0;34m\"asarray\"\u001b[0m\u001b[0;34m)\u001b[0m\u001b[0;34m\u001b[0m\u001b[0;34m\u001b[0m\u001b[0m\n\u001b[1;32m   5590\u001b[0m   \u001b[0;32mif\u001b[0m \u001b[0mdtype\u001b[0m \u001b[0;32mis\u001b[0m \u001b[0;32mnot\u001b[0m \u001b[0;32mNone\u001b[0m\u001b[0;34m:\u001b[0m\u001b[0;34m\u001b[0m\u001b[0;34m\u001b[0m\u001b[0m\n\u001b[1;32m   5591\u001b[0m     \u001b[0mdtype\u001b[0m \u001b[0;34m=\u001b[0m \u001b[0mdtypes\u001b[0m\u001b[0;34m.\u001b[0m\u001b[0mcanonicalize_dtype\u001b[0m\u001b[0;34m(\u001b[0m\u001b[0mdtype\u001b[0m\u001b[0;34m,\u001b[0m \u001b[0mallow_extended_dtype\u001b[0m\u001b[0;34m=\u001b[0m\u001b[0;32mTrue\u001b[0m\u001b[0;34m)\u001b[0m  \u001b[0;31m# type: ignore[assignment]\u001b[0m\u001b[0;34m\u001b[0m\u001b[0;34m\u001b[0m\u001b[0m\n\u001b[0;32m-> 5592\u001b[0;31m   \u001b[0;32mreturn\u001b[0m \u001b[0marray\u001b[0m\u001b[0;34m(\u001b[0m\u001b[0ma\u001b[0m\u001b[0;34m,\u001b[0m \u001b[0mdtype\u001b[0m\u001b[0;34m=\u001b[0m\u001b[0mdtype\u001b[0m\u001b[0;34m,\u001b[0m \u001b[0mcopy\u001b[0m\u001b[0;34m=\u001b[0m\u001b[0mbool\u001b[0m\u001b[0;34m(\u001b[0m\u001b[0mcopy\u001b[0m\u001b[0;34m)\u001b[0m\u001b[0;34m,\u001b[0m \u001b[0morder\u001b[0m\u001b[0;34m=\u001b[0m\u001b[0morder\u001b[0m\u001b[0;34m,\u001b[0m \u001b[0mdevice\u001b[0m\u001b[0;34m=\u001b[0m\u001b[0mdevice\u001b[0m\u001b[0;34m)\u001b[0m\u001b[0;34m\u001b[0m\u001b[0;34m\u001b[0m\u001b[0m\n\u001b[0m",
      "\u001b[0;32m~/miniconda3/envs/linx/lib/python3.13/site-packages/jax/_src/numpy/lax_numpy.py\u001b[0m in \u001b[0;36m?\u001b[0;34m(object, dtype, copy, order, ndmin, device)\u001b[0m\n\u001b[1;32m   5413\u001b[0m     \u001b[0;32massert\u001b[0m \u001b[0mobject\u001b[0m\u001b[0;34m.\u001b[0m\u001b[0maval\u001b[0m \u001b[0;32mis\u001b[0m \u001b[0;32mnot\u001b[0m \u001b[0;32mNone\u001b[0m\u001b[0;34m\u001b[0m\u001b[0;34m\u001b[0m\u001b[0m\n\u001b[1;32m   5414\u001b[0m     \u001b[0mout\u001b[0m \u001b[0;34m=\u001b[0m \u001b[0m_array_copy\u001b[0m\u001b[0;34m(\u001b[0m\u001b[0mobject\u001b[0m\u001b[0;34m)\u001b[0m \u001b[0;32mif\u001b[0m \u001b[0mcopy\u001b[0m \u001b[0;32melse\u001b[0m \u001b[0mobject\u001b[0m\u001b[0;34m\u001b[0m\u001b[0;34m\u001b[0m\u001b[0m\n\u001b[1;32m   5415\u001b[0m   \u001b[0;32melif\u001b[0m \u001b[0misinstance\u001b[0m\u001b[0;34m(\u001b[0m\u001b[0mobject\u001b[0m\u001b[0;34m,\u001b[0m \u001b[0;34m(\u001b[0m\u001b[0mlist\u001b[0m\u001b[0;34m,\u001b[0m \u001b[0mtuple\u001b[0m\u001b[0;34m)\u001b[0m\u001b[0;34m)\u001b[0m\u001b[0;34m:\u001b[0m\u001b[0;34m\u001b[0m\u001b[0;34m\u001b[0m\u001b[0m\n\u001b[1;32m   5416\u001b[0m     \u001b[0;32mif\u001b[0m \u001b[0mobject\u001b[0m\u001b[0;34m:\u001b[0m\u001b[0;34m\u001b[0m\u001b[0;34m\u001b[0m\u001b[0m\n\u001b[0;32m-> 5417\u001b[0;31m       \u001b[0mout\u001b[0m \u001b[0;34m=\u001b[0m \u001b[0mstack\u001b[0m\u001b[0;34m(\u001b[0m\u001b[0;34m[\u001b[0m\u001b[0masarray\u001b[0m\u001b[0;34m(\u001b[0m\u001b[0melt\u001b[0m\u001b[0;34m,\u001b[0m \u001b[0mdtype\u001b[0m\u001b[0;34m=\u001b[0m\u001b[0mdtype\u001b[0m\u001b[0;34m)\u001b[0m \u001b[0;32mfor\u001b[0m \u001b[0melt\u001b[0m \u001b[0;32min\u001b[0m \u001b[0mobject\u001b[0m\u001b[0;34m]\u001b[0m\u001b[0;34m)\u001b[0m\u001b[0;34m\u001b[0m\u001b[0;34m\u001b[0m\u001b[0m\n\u001b[0m\u001b[1;32m   5418\u001b[0m     \u001b[0;32melse\u001b[0m\u001b[0;34m:\u001b[0m\u001b[0;34m\u001b[0m\u001b[0;34m\u001b[0m\u001b[0m\n\u001b[1;32m   5419\u001b[0m       \u001b[0mout\u001b[0m \u001b[0;34m=\u001b[0m \u001b[0mnp\u001b[0m\u001b[0;34m.\u001b[0m\u001b[0marray\u001b[0m\u001b[0;34m(\u001b[0m\u001b[0;34m[\u001b[0m\u001b[0;34m]\u001b[0m\u001b[0;34m,\u001b[0m \u001b[0mdtype\u001b[0m\u001b[0;34m=\u001b[0m\u001b[0mdtype\u001b[0m\u001b[0;34m)\u001b[0m\u001b[0;34m\u001b[0m\u001b[0;34m\u001b[0m\u001b[0m\n\u001b[1;32m   5420\u001b[0m   \u001b[0;32melif\u001b[0m \u001b[0m_supports_buffer_protocol\u001b[0m\u001b[0;34m(\u001b[0m\u001b[0mobject\u001b[0m\u001b[0;34m)\u001b[0m\u001b[0;34m:\u001b[0m\u001b[0;34m\u001b[0m\u001b[0;34m\u001b[0m\u001b[0m\n",
      "\u001b[0;32m~/miniconda3/envs/linx/lib/python3.13/site-packages/jax/_src/numpy/lax_numpy.py\u001b[0m in \u001b[0;36m?\u001b[0;34m(arrays, axis, out, dtype)\u001b[0m\n\u001b[1;32m   4470\u001b[0m     \u001b[0maxis\u001b[0m \u001b[0;34m=\u001b[0m \u001b[0m_canonicalize_axis\u001b[0m\u001b[0;34m(\u001b[0m\u001b[0maxis\u001b[0m\u001b[0;34m,\u001b[0m \u001b[0mlen\u001b[0m\u001b[0;34m(\u001b[0m\u001b[0mshape0\u001b[0m\u001b[0;34m)\u001b[0m \u001b[0;34m+\u001b[0m \u001b[0;36m1\u001b[0m\u001b[0;34m)\u001b[0m\u001b[0;34m\u001b[0m\u001b[0;34m\u001b[0m\u001b[0m\n\u001b[1;32m   4471\u001b[0m     \u001b[0mnew_arrays\u001b[0m \u001b[0;34m=\u001b[0m \u001b[0;34m[\u001b[0m\u001b[0;34m]\u001b[0m\u001b[0;34m\u001b[0m\u001b[0;34m\u001b[0m\u001b[0m\n\u001b[1;32m   4472\u001b[0m     \u001b[0;32mfor\u001b[0m \u001b[0ma\u001b[0m \u001b[0;32min\u001b[0m \u001b[0marrays\u001b[0m\u001b[0;34m:\u001b[0m\u001b[0;34m\u001b[0m\u001b[0;34m\u001b[0m\u001b[0m\n\u001b[1;32m   4473\u001b[0m       \u001b[0;32mif\u001b[0m \u001b[0mshape\u001b[0m\u001b[0;34m(\u001b[0m\u001b[0ma\u001b[0m\u001b[0;34m)\u001b[0m \u001b[0;34m!=\u001b[0m \u001b[0mshape0\u001b[0m\u001b[0;34m:\u001b[0m\u001b[0;34m\u001b[0m\u001b[0;34m\u001b[0m\u001b[0m\n\u001b[0;32m-> 4474\u001b[0;31m         \u001b[0;32mraise\u001b[0m \u001b[0mValueError\u001b[0m\u001b[0;34m(\u001b[0m\u001b[0;34m\"All input arrays must have the same shape.\"\u001b[0m\u001b[0;34m)\u001b[0m\u001b[0;34m\u001b[0m\u001b[0;34m\u001b[0m\u001b[0m\n\u001b[0m\u001b[1;32m   4475\u001b[0m       \u001b[0mnew_arrays\u001b[0m\u001b[0;34m.\u001b[0m\u001b[0mappend\u001b[0m\u001b[0;34m(\u001b[0m\u001b[0mexpand_dims\u001b[0m\u001b[0;34m(\u001b[0m\u001b[0ma\u001b[0m\u001b[0;34m,\u001b[0m \u001b[0maxis\u001b[0m\u001b[0;34m)\u001b[0m\u001b[0;34m)\u001b[0m\u001b[0;34m\u001b[0m\u001b[0;34m\u001b[0m\u001b[0m\n\u001b[1;32m   4476\u001b[0m     \u001b[0;32mreturn\u001b[0m \u001b[0mconcatenate\u001b[0m\u001b[0;34m(\u001b[0m\u001b[0mnew_arrays\u001b[0m\u001b[0;34m,\u001b[0m \u001b[0maxis\u001b[0m\u001b[0;34m=\u001b[0m\u001b[0maxis\u001b[0m\u001b[0;34m,\u001b[0m \u001b[0mdtype\u001b[0m\u001b[0;34m=\u001b[0m\u001b[0mdtype\u001b[0m\u001b[0;34m)\u001b[0m\u001b[0;34m\u001b[0m\u001b[0;34m\u001b[0m\u001b[0m\n",
      "\u001b[0;31mValueError\u001b[0m: All input arrays must have the same shape."
     ]
    }
   ],
   "source": [
    "inverse_compton_rate(test_energies, 0.01)"
   ]
  },
  {
   "cell_type": "code",
   "execution_count": 39,
   "metadata": {},
   "outputs": [
    {
     "name": "stdout",
     "output_type": "stream",
     "text": [
      "[2.73355334e-10 2.79377492e-10 2.61624118e-10 2.44565398e-10\n",
      " 2.29960223e-10 2.17541271e-10 2.06875252e-10 1.97600359e-10\n",
      " 1.89440259e-10 1.82186297e-10]\n",
      "time 2.150092363357544\n"
     ]
    }
   ],
   "source": [
    "start = time.time()\n",
    "print(jax.vmap(inverse_compton_rate, in_axes = (0, None))(test_energies, 0.01))\n",
    "end = time.time()\n",
    "print(\"time\", end - start)"
   ]
  },
  {
   "cell_type": "code",
   "execution_count": 37,
   "metadata": {},
   "outputs": [
    {
     "name": "stdout",
     "output_type": "stream",
     "text": [
      "2.44 μs ± 71.4 ns per loop (mean ± std. dev. of 7 runs, 100,000 loops each)\n"
     ]
    }
   ],
   "source": [
    "%timeit loopfunc(test_energies)"
   ]
  },
  {
   "cell_type": "code",
   "execution_count": 36,
   "metadata": {},
   "outputs": [
    {
     "name": "stdout",
     "output_type": "stream",
     "text": [
      "[2.73355334e-10 2.79377492e-10 2.61624118e-10 2.44565398e-10\n",
      " 2.29960223e-10 2.17541271e-10 2.06875252e-10 1.97600359e-10\n",
      " 1.89440259e-10 1.82186297e-10]\n",
      "[2.73355334e-10 2.79377492e-10 2.61624118e-10 2.44565398e-10\n",
      " 2.29960223e-10 2.17541271e-10 2.06875252e-10 1.97600359e-10\n",
      " 1.89440259e-10 1.82186297e-10]\n",
      "[2.73355334e-10 2.79377492e-10 2.61624118e-10 2.44565398e-10\n",
      " 2.29960223e-10 2.17541271e-10 2.06875252e-10 1.97600359e-10\n",
      " 1.89440259e-10 1.82186297e-10]\n",
      "[2.73355334e-10 2.79377492e-10 2.61624118e-10 2.44565398e-10\n",
      " 2.29960223e-10 2.17541271e-10 2.06875252e-10 1.97600359e-10\n",
      " 1.89440259e-10 1.82186297e-10]\n",
      "[2.73355334e-10 2.79377492e-10 2.61624118e-10 2.44565398e-10\n",
      " 2.29960223e-10 2.17541271e-10 2.06875252e-10 1.97600359e-10\n",
      " 1.89440259e-10 1.82186297e-10]\n",
      "[2.73355334e-10 2.79377492e-10 2.61624118e-10 2.44565398e-10\n",
      " 2.29960223e-10 2.17541271e-10 2.06875252e-10 1.97600359e-10\n",
      " 1.89440259e-10 1.82186297e-10]\n",
      "[2.73355334e-10 2.79377492e-10 2.61624118e-10 2.44565398e-10\n",
      " 2.29960223e-10 2.17541271e-10 2.06875252e-10 1.97600359e-10\n",
      " 1.89440259e-10 1.82186297e-10]\n",
      "[2.73355334e-10 2.79377492e-10 2.61624118e-10 2.44565398e-10\n",
      " 2.29960223e-10 2.17541271e-10 2.06875252e-10 1.97600359e-10\n",
      " 1.89440259e-10 1.82186297e-10]\n",
      "2.19 s ± 104 ms per loop (mean ± std. dev. of 7 runs, 1 loop each)\n"
     ]
    }
   ],
   "source": [
    "%timeit print(jax.vmap(inverse_compton_rate, in_axes = (0, None))(test_energies, 0.01))"
   ]
  },
  {
   "cell_type": "code",
   "execution_count": 22,
   "metadata": {},
   "outputs": [
    {
     "data": {
      "text/plain": [
       "Array(1.72738056e-12, dtype=float64)"
      ]
     },
     "execution_count": 22,
     "metadata": {},
     "output_type": "execute_result"
    }
   ],
   "source": [
    "dphoton_pair_prod_rate(5, 0.01)"
   ]
  },
  {
   "cell_type": "code",
   "execution_count": 110,
   "metadata": {},
   "outputs": [
    {
     "name": "stdout",
     "output_type": "stream",
     "text": [
      "21.2 ms ± 513 μs per loop (mean ± std. dev. of 7 runs, 100 loops each)\n"
     ]
    }
   ],
   "source": [
    "%timeit dphoton_pair_prod_rate(5, 0.01)"
   ]
  },
  {
   "cell_type": "code",
   "execution_count": 35,
   "metadata": {},
   "outputs": [
    {
     "name": "stdout",
     "output_type": "stream",
     "text": [
      "144 ms ± 39 ms per loop (mean ± std. dev. of 7 runs, 10 loops each)\n"
     ]
    }
   ],
   "source": [
    "%timeit dphoton_pair_prod_rate(5, 0.01)"
   ]
  },
  {
   "cell_type": "code",
   "execution_count": 24,
   "metadata": {},
   "outputs": [
    {
     "name": "stdout",
     "output_type": "stream",
     "text": [
      "238 ms ± 4.82 ms per loop (mean ± std. dev. of 7 runs, 1 loop each)\n"
     ]
    }
   ],
   "source": [
    "%timeit dphoton_pair_prod_rate(5, 0.01)"
   ]
  },
  {
   "cell_type": "code",
   "execution_count": 78,
   "metadata": {},
   "outputs": [
    {
     "data": {
      "text/plain": [
       "(2.0, 8.824051529244462e-14)"
      ]
     },
     "execution_count": 78,
     "metadata": {},
     "output_type": "execute_result"
    }
   ],
   "source": [
    "def test_func(x, y, z):\n",
    "    return x*y\n",
    "\n",
    "dblquad(test_func, 0, 1, lambda x: 0, lambda x: 4.*x , args=(2, ))"
   ]
  },
  {
   "cell_type": "code",
   "execution_count": 85,
   "metadata": {},
   "outputs": [],
   "source": [
    "from quadax import quadgk, quadcc, quadts, romberg"
   ]
  },
  {
   "cell_type": "code",
   "execution_count": 11,
   "metadata": {},
   "outputs": [],
   "source": [
    "gaussian = lambda x: 1/jnp.sqrt(jnp.pi) * jnp.exp(-x**2)"
   ]
  },
  {
   "cell_type": "code",
   "execution_count": 14,
   "metadata": {},
   "outputs": [
    {
     "data": {
      "text/plain": [
       "(Array(0.4213504, dtype=float64),\n",
       " QuadratureInfo(err=Array(4.67792912e-15, dtype=float64), neval=Array(21, dtype=int64, weak_type=True), status=Array(0, dtype=int64, weak_type=True), info=None))"
      ]
     },
     "execution_count": 14,
     "metadata": {},
     "output_type": "execute_result"
    }
   ],
   "source": [
    "quadgk(gaussian, [0, 1])"
   ]
  },
  {
   "cell_type": "code",
   "execution_count": 50,
   "metadata": {},
   "outputs": [
    {
     "name": "stdout",
     "output_type": "stream",
     "text": [
      "335 ms ± 34.2 ms per loop (mean ± std. dev. of 7 runs, 1 loop each)\n"
     ]
    }
   ],
   "source": [
    "%timeit quadgk(gaussian, [0, 1])"
   ]
  },
  {
   "cell_type": "code",
   "execution_count": 59,
   "metadata": {},
   "outputs": [
    {
     "name": "stdout",
     "output_type": "stream",
     "text": [
      "408 ms ± 39.1 ms per loop (mean ± std. dev. of 7 runs, 1 loop each)\n"
     ]
    }
   ],
   "source": [
    "%timeit quadcc(gaussian, [0, 1])"
   ]
  },
  {
   "cell_type": "code",
   "execution_count": 60,
   "metadata": {},
   "outputs": [
    {
     "name": "stdout",
     "output_type": "stream",
     "text": [
      "394 ms ± 33.4 ms per loop (mean ± std. dev. of 7 runs, 1 loop each)\n"
     ]
    }
   ],
   "source": [
    "%timeit quadts(gaussian, [0, 1])"
   ]
  },
  {
   "cell_type": "code",
   "execution_count": 51,
   "metadata": {},
   "outputs": [
    {
     "name": "stdout",
     "output_type": "stream",
     "text": [
      "801 μs ± 26.6 μs per loop (mean ± std. dev. of 7 runs, 1,000 loops each)\n"
     ]
    }
   ],
   "source": [
    "%timeit quad(gaussian, 0, 1)"
   ]
  },
  {
   "cell_type": "code",
   "execution_count": 62,
   "metadata": {},
   "outputs": [
    {
     "name": "stdout",
     "output_type": "stream",
     "text": [
      "206 ms ± 18.6 ms per loop (mean ± std. dev. of 7 runs, 1 loop each)\n"
     ]
    }
   ],
   "source": [
    "%timeit romberg(gaussian, [0, 1])"
   ]
  },
  {
   "cell_type": "code",
   "execution_count": 56,
   "metadata": {},
   "outputs": [
    {
     "name": "stdout",
     "output_type": "stream",
     "text": [
      "179 ms ± 2.49 ms per loop (mean ± std. dev. of 7 runs, 10 loops each)\n"
     ]
    }
   ],
   "source": [
    "%timeit jc.scipy.integrate.romb(gaussian, 0, 1)"
   ]
  },
  {
   "cell_type": "code",
   "execution_count": 13,
   "metadata": {},
   "outputs": [
    {
     "data": {
      "text/plain": [
       "Array(2.61624118e-10, dtype=float64)"
      ]
     },
     "execution_count": 13,
     "metadata": {},
     "output_type": "execute_result"
    }
   ],
   "source": [
    "inverse_compton_rate(3, 0.01)"
   ]
  },
  {
   "cell_type": "code",
   "execution_count": 120,
   "metadata": {},
   "outputs": [
    {
     "data": {
      "text/plain": [
       "Array(2.61624118e-10, dtype=float64)"
      ]
     },
     "execution_count": 120,
     "metadata": {},
     "output_type": "execute_result"
    }
   ],
   "source": [
    "inverse_compton_rate(3, 0.01)"
   ]
  },
  {
   "cell_type": "code",
   "execution_count": 119,
   "metadata": {},
   "outputs": [
    {
     "data": {
      "text/plain": [
       "Array(2.61624118e-10, dtype=float64)"
      ]
     },
     "execution_count": 119,
     "metadata": {},
     "output_type": "execute_result"
    }
   ],
   "source": [
    "inverse_compton_rate(3, 0.01)"
   ]
  },
  {
   "cell_type": "code",
   "execution_count": 35,
   "metadata": {},
   "outputs": [],
   "source": [
    "def photon_photon_scattering_rate(E, T):\n",
    "\n",
    "    exp_fac = jnp.exp(-E*T/me**2)\n",
    "\n",
    "    return 15568*(jnp.pi**3)/(3189375) * aFS**4 * me * (E/me)**3 * (T/me)**6 * exp_fac\n"
   ]
  },
  {
   "cell_type": "code",
   "execution_count": 26,
   "metadata": {},
   "outputs": [],
   "source": [
    "import math"
   ]
  },
  {
   "cell_type": "code",
   "execution_count": 27,
   "metadata": {},
   "outputs": [],
   "source": [
    "def _rate_photon_photon( E, T):\n",
    "    #if E > me2/T:\n",
    "    #    return 0.\n",
    "    expf = math.exp( -E*T/me**2 )\n",
    "\n",
    "    return 0.151348 * (aFS**4.) * me * (E/me)**3. * (T/me)**6. * expf\n",
    "\n",
    "@jax.jit\n",
    "def photon_photon_scattering_rate_jit(E, T):\n",
    "\n",
    "    exp_fac = jnp.exp(-E*T/me**2)\n",
    "\n",
    "    return 15568*(jnp.pi**3)/(3189375) * aFS**4 * me * (E/me)**3 * (T/me)**6 * exp_fac\n",
    "\n",
    "@jax.jit\n",
    "def photon_photon_scattering_rate_lax(E, T):\n",
    "\n",
    "    exp_fac = jax.lax.exp(-E*T/me**2)\n",
    "\n",
    "    return 15568*(jnp.pi**3)/(3189375) * aFS**4 * me * (E/me)**3 * (T/me)**6 * exp_fac\n"
   ]
  },
  {
   "cell_type": "code",
   "execution_count": 28,
   "metadata": {},
   "outputs": [
    {
     "name": "stdout",
     "output_type": "stream",
     "text": [
      "0.021364212036132812\n"
     ]
    }
   ],
   "source": [
    "start = time.time()\n",
    "#for i in range(10000):\n",
    "photon_photon_scattering_rate_lax(jnp.full((100), 5), jnp.full((100), 0.01))\n",
    "end = time.time()\n",
    "print(end-start)"
   ]
  },
  {
   "cell_type": "code",
   "execution_count": 29,
   "metadata": {},
   "outputs": [
    {
     "name": "stdout",
     "output_type": "stream",
     "text": [
      "0.020008325576782227\n"
     ]
    }
   ],
   "source": [
    "start = time.time()\n",
    "#for i in range(10000):\n",
    "photon_photon_scattering_rate_jit(jnp.full((100), 5), jnp.full((100), 0.01))\n",
    "end = time.time()\n",
    "print(end-start)"
   ]
  },
  {
   "cell_type": "code",
   "execution_count": 47,
   "metadata": {},
   "outputs": [
    {
     "name": "stdout",
     "output_type": "stream",
     "text": [
      "0.001374959945678711\n"
     ]
    }
   ],
   "source": [
    "n = 1000\n",
    "start = time.time()\n",
    "#for i in range(10000):\n",
    "jax.vmap(photon_photon_scattering_rate_jit, in_axes=(0, 0))(jnp.full((n), 5), jnp.full((n), 0.01))\n",
    "end = time.time()\n",
    "print(end-start)"
   ]
  },
  {
   "cell_type": "code",
   "execution_count": 48,
   "metadata": {},
   "outputs": [
    {
     "name": "stdout",
     "output_type": "stream",
     "text": [
      "0.0003592967987060547\n"
     ]
    }
   ],
   "source": [
    "start = time.time()\n",
    "for i in range(n):\n",
    "    _rate_photon_photon(5, 0.01)\n",
    "end = time.time()\n",
    "print(end-start)"
   ]
  },
  {
   "cell_type": "code",
   "execution_count": null,
   "metadata": {},
   "outputs": [],
   "source": []
  }
 ],
 "metadata": {
  "kernelspec": {
   "display_name": "linx",
   "language": "python",
   "name": "python3"
  },
  "language_info": {
   "codemirror_mode": {
    "name": "ipython",
    "version": 3
   },
   "file_extension": ".py",
   "mimetype": "text/x-python",
   "name": "python",
   "nbconvert_exporter": "python",
   "pygments_lexer": "ipython3",
   "version": "3.13.0"
  }
 },
 "nbformat": 4,
 "nbformat_minor": 2
}
