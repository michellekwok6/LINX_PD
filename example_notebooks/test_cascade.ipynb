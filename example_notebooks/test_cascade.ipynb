{
 "cells": [
  {
   "cell_type": "code",
   "execution_count": 2,
   "metadata": {},
   "outputs": [
    {
     "name": "stdout",
     "output_type": "stream",
     "text": [
      "The autoreload extension is already loaded. To reload it, use:\n",
      "  %reload_ext autoreload\n"
     ]
    }
   ],
   "source": [
    "%load_ext autoreload"
   ]
  },
  {
   "cell_type": "code",
   "execution_count": 3,
   "metadata": {},
   "outputs": [],
   "source": [
    "%autoreload 2\n",
    "\n",
    "import sys\n",
    "sys.path.append('..')\n",
    "\n",
    "from jax import numpy as jnp\n",
    "import jax\n",
    "import time\n",
    "from scipy.integrate import quad, dblquad\n",
    "import equinox as eqx\n",
    "import jax_cosmo as jc\n",
    "from quadax import quadgk, quadcc, quadts, romberg\n",
    "from functools import partial"
   ]
  },
  {
   "cell_type": "code",
   "execution_count": 4,
   "metadata": {},
   "outputs": [],
   "source": [
    "import matplotlib.pyplot as plt\n",
    "import matplotlib.pylab as pylab\n",
    "import matplotlib.animation as animation \n",
    "from numpy import loadtxt\n",
    "from diffrax import Kvaerno5, Tsit5\n",
    "%matplotlib inline\n",
    "\n",
    "from plot_params import params\n",
    "#pylab.rcParams.update(params)\n",
    "\n",
    "cols_default = plt.rcParams['axes.prop_cycle'].by_key()['color']"
   ]
  },
  {
   "cell_type": "code",
   "execution_count": 5,
   "metadata": {},
   "outputs": [],
   "source": [
    "from linx.background import BackgroundModel\n",
    "from linx.nuclear import NuclearRates \n",
    "from linx.abundances import AbundanceModel\n",
    "from linx.reactions import Reaction\n",
    "from linx.thermo import T_g \n",
    "from linx.const import mn, mp, eta0, hbar, me, aFS\n",
    "from scipy.integrate import odeint, solve_ivp, simpson, cumulative_simpson\n",
    "from linx.pd_rates import decay_model\n",
    "from linx.injected_spec import InjectedSpectrum\n",
    "eps = 1e-3\n",
    "Emin = 1.5 # MeV\n",
    "Ephb_T_max = 200"
   ]
  },
  {
   "cell_type": "code",
   "execution_count": 6,
   "metadata": {},
   "outputs": [
    {
     "name": "stdout",
     "output_type": "stream",
     "text": [
      "`\\         /´  ||||        ||||  |||||     ||||  ||||   ||||\n",
      " /\\_______/\\   ||||        ||||  |||||||   ||||   |||| ||||\n",
      " ) __` ´__ (   ||||        ||||  |||| |||| ||||    |||||||\n",
      "/  `-|_|-´  \\  ||||        ||||  ||||  |||| |||    ||||||| \n",
      "/   (_x_)   \\  ||||||||||  ||||  ||||   |||||||   |||| ||||\n",
      "  )  `-´  (    ||||||||||  ||||  ||||    ||||||  ||||   ||||\n",
      " \n",
      "Compiling thermodynamics model...\n"
     ]
    },
    {
     "name": "stderr",
     "output_type": "stream",
     "text": [
      "/home/mkwok/miniconda3/envs/linx/lib/python3.13/site-packages/equinox/_jit.py:55: UserWarning: `diffrax.diffeqsolve(..., discrete_terminating_event=...)` is deprecated in favour of the more general `diffrax.diffeqsolve(..., event=...)` interface. This will be removed in some future version of Diffrax.\n",
      "  out = fun(*args, **kwargs)\n"
     ]
    }
   ],
   "source": [
    "bkg_model = BackgroundModel()\n",
    "t_vec, a_vec, rho_g_vec, rho_nu_vec, rho_NP_vec, p_NP_vec, Neff_vec = bkg_model(jnp.asarray(0.), T_end = 1e-4, max_steps = 512*4)"
   ]
  },
  {
   "cell_type": "code",
   "execution_count": 7,
   "metadata": {},
   "outputs": [],
   "source": [
    "InjSpec = InjectedSpectrum()\n",
    "E_grid = jnp.linspace(1.5, jnp.exp(3), 100)"
   ]
  },
  {
   "cell_type": "code",
   "execution_count": 8,
   "metadata": {},
   "outputs": [],
   "source": [
    "mod = decay_model(60, 1e5, 5e-7, 1, 0, t_vec, a_vec, rho_g_vec)"
   ]
  },
  {
   "cell_type": "code",
   "execution_count": 26,
   "metadata": {},
   "outputs": [
    {
     "name": "stdout",
     "output_type": "stream",
     "text": [
      "Rate time:  1.1275253295898438\n",
      "Kernel time:  0.07466292381286621\n",
      "Source time:  0.008898019790649414\n",
      "Solve time:  7.62939453125e-05\n"
     ]
    },
    {
     "ename": "ValueError",
     "evalue": "invalid shape in fixed-type tuple.",
     "output_type": "error",
     "traceback": [
      "\u001b[0;31m---------------------------------------------------------------------------\u001b[0m",
      "\u001b[0;31mValueError\u001b[0m                                Traceback (most recent call last)",
      "Cell \u001b[0;32mIn[26], line 1\u001b[0m\n\u001b[0;32m----> 1\u001b[0m \u001b[43mmod\u001b[49m\u001b[38;5;241;43m.\u001b[39;49m\u001b[43mget_pdi_grids\u001b[49m\u001b[43m(\u001b[49m\u001b[43m)\u001b[49m\n",
      "    \u001b[0;31m[... skipping hidden 1 frame]\u001b[0m\n",
      "File \u001b[0;32m~/research_programs/LINX/example_notebooks/../linx/pd_rates.py:637\u001b[0m, in \u001b[0;36mdecay_model.get_pdi_grids\u001b[0;34m(self)\u001b[0m\n\u001b[1;32m    635\u001b[0m grid \u001b[38;5;241m=\u001b[39m Tr\n\u001b[1;32m    636\u001b[0m \u001b[38;5;28;01mfor\u001b[39;00m Ti \u001b[38;5;129;01min\u001b[39;00m Tr:\n\u001b[0;32m--> 637\u001b[0m     rates_at_i \u001b[38;5;241m=\u001b[39m \u001b[38;5;28;43mself\u001b[39;49m\u001b[38;5;241;43m.\u001b[39;49m\u001b[43mpdi_rates\u001b[49m\u001b[43m(\u001b[49m\u001b[43mTi\u001b[49m\u001b[43m)\u001b[49m\n\u001b[1;32m    638\u001b[0m     \u001b[38;5;66;03m#rates.append(jnp.array(list(rates_at_i.values())))\u001b[39;00m\n\u001b[1;32m    639\u001b[0m     \u001b[38;5;66;03m#rates.append(rates_at_i)\u001b[39;00m\n\u001b[1;32m    640\u001b[0m     grid \u001b[38;5;241m=\u001b[39m jnp\u001b[38;5;241m.\u001b[39mvstack(grid, rates_at_i)\n",
      "    \u001b[0;31m[... skipping hidden 1 frame]\u001b[0m\n",
      "File \u001b[0;32m~/research_programs/LINX/example_notebooks/../linx/pd_rates.py:602\u001b[0m, in \u001b[0;36mdecay_model.pdi_rates\u001b[0;34m(self, T)\u001b[0m\n\u001b[1;32m    599\u001b[0m     \u001b[38;5;28;01mreturn\u001b[39;00m jnp\u001b[38;5;241m.\u001b[39mexp(jnp\u001b[38;5;241m.\u001b[39minterp(jnp\u001b[38;5;241m.\u001b[39mlog(E), jnp\u001b[38;5;241m.\u001b[39mlog(sp[\u001b[38;5;241m0\u001b[39m]), jnp\u001b[38;5;241m.\u001b[39mlog(sp[\u001b[38;5;241m1\u001b[39m]))) \u001b[38;5;241m*\u001b[39m E \u001b[38;5;241m*\u001b[39m \u001b[38;5;28mself\u001b[39m\u001b[38;5;241m.\u001b[39mget_cross_section(E)\n\u001b[1;32m    601\u001b[0m pdi_rates \u001b[38;5;241m=\u001b[39m jnp\u001b[38;5;241m.\u001b[39mzeros(\u001b[38;5;241m17\u001b[39m)\n\u001b[0;32m--> 602\u001b[0m pdi_rates \u001b[38;5;241m=\u001b[39m \u001b[43mjnp\u001b[49m\u001b[38;5;241;43m.\u001b[39;49m\u001b[43mselect\u001b[49m\u001b[43m(\u001b[49m\u001b[43m[\u001b[49m\u001b[43mEmax\u001b[49m\u001b[43m \u001b[49m\u001b[38;5;241;43m>\u001b[39;49m\u001b[43m \u001b[49m\u001b[43mEth_list\u001b[49m\u001b[43m]\u001b[49m\u001b[43m,\u001b[49m\u001b[43m[\u001b[49m\u001b[43mjax\u001b[49m\u001b[38;5;241;43m.\u001b[39;49m\u001b[43mvmap\u001b[49m\u001b[43m(\u001b[49m\u001b[43mquadgk\u001b[49m\u001b[43m,\u001b[49m\u001b[43m \u001b[49m\u001b[43min_axes\u001b[49m\u001b[38;5;241;43m=\u001b[39;49m\u001b[43m(\u001b[49m\u001b[38;5;28;43;01mNone\u001b[39;49;00m\u001b[43m,\u001b[49m\u001b[38;5;241;43m0\u001b[39;49m\u001b[43m,\u001b[49m\u001b[43m \u001b[49m\u001b[38;5;28;43;01mNone\u001b[39;49;00m\u001b[43m,\u001b[49m\u001b[43m \u001b[49m\u001b[38;5;28;43;01mNone\u001b[39;49;00m\u001b[43m,\u001b[49m\u001b[43m \u001b[49m\u001b[38;5;28;43;01mNone\u001b[39;49;00m\u001b[43m,\u001b[49m\u001b[43m \u001b[49m\u001b[38;5;28;43;01mNone\u001b[39;49;00m\u001b[43m \u001b[49m\u001b[43m)\u001b[49m\u001b[43m)\u001b[49m\u001b[43m(\u001b[49m\u001b[43mF_s\u001b[49m\u001b[43m,\u001b[49m\u001b[43m \u001b[49m\u001b[43m[\u001b[49m\u001b[43mjnp\u001b[49m\u001b[38;5;241;43m.\u001b[39;49m\u001b[43mlog\u001b[49m\u001b[43m(\u001b[49m\u001b[43mEth_list\u001b[49m\u001b[43m)\u001b[49m\u001b[43m,\u001b[49m\u001b[43m \u001b[49m\u001b[43mjnp\u001b[49m\u001b[38;5;241;43m.\u001b[39;49m\u001b[43mfull_like\u001b[49m\u001b[43m(\u001b[49m\u001b[43mEth_list\u001b[49m\u001b[43m,\u001b[49m\u001b[43m \u001b[49m\u001b[43mjnp\u001b[49m\u001b[38;5;241;43m.\u001b[39;49m\u001b[43mlog\u001b[49m\u001b[43m(\u001b[49m\u001b[43mEmax\u001b[49m\u001b[43m)\u001b[49m\u001b[43m)\u001b[49m\u001b[43m]\u001b[49m\u001b[43m,\u001b[49m\u001b[43m \u001b[49m\u001b[43m(\u001b[49m\u001b[43m)\u001b[49m\u001b[43m,\u001b[49m\u001b[43m \u001b[49m\u001b[38;5;28;43;01mFalse\u001b[39;49;00m\u001b[43m,\u001b[49m\u001b[43m \u001b[49m\u001b[38;5;241;43m0\u001b[39;49m\u001b[43m,\u001b[49m\u001b[43m \u001b[49m\u001b[43meps\u001b[49m\u001b[43m)\u001b[49m\u001b[43m]\u001b[49m\u001b[43m)\u001b[49m\n\u001b[1;32m    604\u001b[0m \u001b[38;5;250m\u001b[39m\u001b[38;5;124;03m\"\"\"\u001b[39;00m\n\u001b[1;32m    605\u001b[0m \u001b[38;5;124;03mfor i, rkey in enumerate(E_th.keys()):\u001b[39;00m\n\u001b[1;32m    606\u001b[0m \n\u001b[0;32m   (...)\u001b[0m\n\u001b[1;32m    615\u001b[0m \u001b[38;5;124;03m    pdi_rates[rkey] = jnp.maximum(pdi_rates[rkey], approx_zero)\u001b[39;00m\n\u001b[1;32m    616\u001b[0m \u001b[38;5;124;03m\"\"\"\u001b[39;00m\n\u001b[1;32m    618\u001b[0m \u001b[38;5;28;01mreturn\u001b[39;00m pdi_rates\n",
      "File \u001b[0;32m~/miniconda3/envs/linx/lib/python3.13/site-packages/jax/_src/numpy/lax_numpy.py:2998\u001b[0m, in \u001b[0;36mselect\u001b[0;34m(condlist, choicelist, default)\u001b[0m\n\u001b[1;32m   2995\u001b[0m   \u001b[38;5;28;01mraise\u001b[39;00m \u001b[38;5;167;01mValueError\u001b[39;00m(\u001b[38;5;124m\"\u001b[39m\u001b[38;5;124mcondlist must be non-empty\u001b[39m\u001b[38;5;124m\"\u001b[39m)\n\u001b[1;32m   2996\u001b[0m \u001b[38;5;66;03m# Put the default at front with condition False because\u001b[39;00m\n\u001b[1;32m   2997\u001b[0m \u001b[38;5;66;03m# argmax returns zero for an array of False values.\u001b[39;00m\n\u001b[0;32m-> 2998\u001b[0m choicelist \u001b[38;5;241m=\u001b[39m \u001b[43mutil\u001b[49m\u001b[38;5;241;43m.\u001b[39;49m\u001b[43mpromote_dtypes\u001b[49m\u001b[43m(\u001b[49m\u001b[43mdefault\u001b[49m\u001b[43m,\u001b[49m\u001b[43m \u001b[49m\u001b[38;5;241;43m*\u001b[39;49m\u001b[43mchoicelist\u001b[49m\u001b[43m)\u001b[49m\n\u001b[1;32m   2999\u001b[0m conditions \u001b[38;5;241m=\u001b[39m stack(broadcast_arrays(\u001b[38;5;28;01mFalse\u001b[39;00m, \u001b[38;5;241m*\u001b[39mcondlist))\n\u001b[1;32m   3000\u001b[0m idx \u001b[38;5;241m=\u001b[39m argmax(conditions\u001b[38;5;241m.\u001b[39mastype(\u001b[38;5;28mbool\u001b[39m), axis\u001b[38;5;241m=\u001b[39m\u001b[38;5;241m0\u001b[39m)\n",
      "File \u001b[0;32m~/miniconda3/envs/linx/lib/python3.13/site-packages/jax/_src/numpy/util.py:252\u001b[0m, in \u001b[0;36mpromote_dtypes\u001b[0;34m(*args)\u001b[0m\n\u001b[1;32m    250\u001b[0m   \u001b[38;5;28;01mreturn\u001b[39;00m [lax\u001b[38;5;241m.\u001b[39masarray(arg) \u001b[38;5;28;01mfor\u001b[39;00m arg \u001b[38;5;129;01min\u001b[39;00m args]\n\u001b[1;32m    251\u001b[0m \u001b[38;5;28;01melse\u001b[39;00m:\n\u001b[0;32m--> 252\u001b[0m   to_dtype, weak_type \u001b[38;5;241m=\u001b[39m \u001b[43mdtypes\u001b[49m\u001b[38;5;241;43m.\u001b[39;49m\u001b[43m_lattice_result_type\u001b[49m\u001b[43m(\u001b[49m\u001b[38;5;241;43m*\u001b[39;49m\u001b[43margs\u001b[49m\u001b[43m)\u001b[49m\n\u001b[1;32m    253\u001b[0m   to_dtype \u001b[38;5;241m=\u001b[39m dtypes\u001b[38;5;241m.\u001b[39mcanonicalize_dtype(to_dtype, allow_extended_dtype\u001b[38;5;241m=\u001b[39m\u001b[38;5;28;01mTrue\u001b[39;00m)  \u001b[38;5;66;03m# type: ignore[assignment]\u001b[39;00m\n\u001b[1;32m    254\u001b[0m   \u001b[38;5;28;01mif\u001b[39;00m config\u001b[38;5;241m.\u001b[39msharding_in_types\u001b[38;5;241m.\u001b[39mvalue:\n",
      "File \u001b[0;32m~/miniconda3/envs/linx/lib/python3.13/site-packages/jax/_src/dtypes.py:713\u001b[0m, in \u001b[0;36m_lattice_result_type\u001b[0;34m(*args)\u001b[0m\n\u001b[1;32m    712\u001b[0m \u001b[38;5;28;01mdef\u001b[39;00m \u001b[38;5;21m_lattice_result_type\u001b[39m(\u001b[38;5;241m*\u001b[39margs: Any) \u001b[38;5;241m-\u001b[39m\u001b[38;5;241m>\u001b[39m \u001b[38;5;28mtuple\u001b[39m[DType, \u001b[38;5;28mbool\u001b[39m]:\n\u001b[0;32m--> 713\u001b[0m   dtypes, weak_types \u001b[38;5;241m=\u001b[39m \u001b[38;5;28;43mzip\u001b[39;49m\u001b[43m(\u001b[49m\u001b[38;5;241;43m*\u001b[39;49m\u001b[43m(\u001b[49m\u001b[43m_dtype_and_weaktype\u001b[49m\u001b[43m(\u001b[49m\u001b[43marg\u001b[49m\u001b[43m)\u001b[49m\u001b[43m \u001b[49m\u001b[38;5;28;43;01mfor\u001b[39;49;00m\u001b[43m \u001b[49m\u001b[43marg\u001b[49m\u001b[43m \u001b[49m\u001b[38;5;129;43;01min\u001b[39;49;00m\u001b[43m \u001b[49m\u001b[43margs\u001b[49m\u001b[43m)\u001b[49m\u001b[43m)\u001b[49m\n\u001b[1;32m    714\u001b[0m   \u001b[38;5;28;01mif\u001b[39;00m \u001b[38;5;28mlen\u001b[39m(dtypes) \u001b[38;5;241m==\u001b[39m \u001b[38;5;241m1\u001b[39m:\n\u001b[1;32m    715\u001b[0m     out_dtype \u001b[38;5;241m=\u001b[39m dtypes[\u001b[38;5;241m0\u001b[39m]\n",
      "File \u001b[0;32m~/miniconda3/envs/linx/lib/python3.13/site-packages/jax/_src/dtypes.py:713\u001b[0m, in \u001b[0;36m<genexpr>\u001b[0;34m(.0)\u001b[0m\n\u001b[1;32m    712\u001b[0m \u001b[38;5;28;01mdef\u001b[39;00m \u001b[38;5;21m_lattice_result_type\u001b[39m(\u001b[38;5;241m*\u001b[39margs: Any) \u001b[38;5;241m-\u001b[39m\u001b[38;5;241m>\u001b[39m \u001b[38;5;28mtuple\u001b[39m[DType, \u001b[38;5;28mbool\u001b[39m]:\n\u001b[0;32m--> 713\u001b[0m   dtypes, weak_types \u001b[38;5;241m=\u001b[39m \u001b[38;5;28mzip\u001b[39m(\u001b[38;5;241m*\u001b[39m(\u001b[43m_dtype_and_weaktype\u001b[49m\u001b[43m(\u001b[49m\u001b[43marg\u001b[49m\u001b[43m)\u001b[49m \u001b[38;5;28;01mfor\u001b[39;00m arg \u001b[38;5;129;01min\u001b[39;00m args))\n\u001b[1;32m    714\u001b[0m   \u001b[38;5;28;01mif\u001b[39;00m \u001b[38;5;28mlen\u001b[39m(dtypes) \u001b[38;5;241m==\u001b[39m \u001b[38;5;241m1\u001b[39m:\n\u001b[1;32m    715\u001b[0m     out_dtype \u001b[38;5;241m=\u001b[39m dtypes[\u001b[38;5;241m0\u001b[39m]\n",
      "File \u001b[0;32m~/miniconda3/envs/linx/lib/python3.13/site-packages/jax/_src/dtypes.py:516\u001b[0m, in \u001b[0;36m_dtype_and_weaktype\u001b[0;34m(value)\u001b[0m\n\u001b[1;32m    514\u001b[0m \u001b[38;5;28;01mdef\u001b[39;00m \u001b[38;5;21m_dtype_and_weaktype\u001b[39m(value: Any) \u001b[38;5;241m-\u001b[39m\u001b[38;5;241m>\u001b[39m \u001b[38;5;28mtuple\u001b[39m[DType, \u001b[38;5;28mbool\u001b[39m]:\n\u001b[1;32m    515\u001b[0m \u001b[38;5;250m  \u001b[39m\u001b[38;5;124;03m\"\"\"Return a (dtype, weak_type) tuple for the given input.\"\"\"\u001b[39;00m\n\u001b[0;32m--> 516\u001b[0m   \u001b[38;5;28;01mreturn\u001b[39;00m \u001b[43mdtype\u001b[49m\u001b[43m(\u001b[49m\u001b[43mvalue\u001b[49m\u001b[43m)\u001b[49m, \u001b[38;5;28many\u001b[39m(value \u001b[38;5;129;01mis\u001b[39;00m typ \u001b[38;5;28;01mfor\u001b[39;00m typ \u001b[38;5;129;01min\u001b[39;00m _weak_types) \u001b[38;5;129;01mor\u001b[39;00m is_weakly_typed(value)\n",
      "File \u001b[0;32m~/miniconda3/envs/linx/lib/python3.13/site-packages/jax/_src/dtypes.py:703\u001b[0m, in \u001b[0;36mdtype\u001b[0;34m(x, canonicalize)\u001b[0m\n\u001b[1;32m    701\u001b[0m \u001b[38;5;28;01melse\u001b[39;00m:\n\u001b[1;32m    702\u001b[0m   \u001b[38;5;28;01mtry\u001b[39;00m:\n\u001b[0;32m--> 703\u001b[0m     dt \u001b[38;5;241m=\u001b[39m \u001b[43mnp\u001b[49m\u001b[38;5;241;43m.\u001b[39;49m\u001b[43mresult_type\u001b[49m\u001b[43m(\u001b[49m\u001b[43mx\u001b[49m\u001b[43m)\u001b[49m\n\u001b[1;32m    704\u001b[0m   \u001b[38;5;28;01mexcept\u001b[39;00m \u001b[38;5;167;01mTypeError\u001b[39;00m \u001b[38;5;28;01mas\u001b[39;00m err:\n\u001b[1;32m    705\u001b[0m     \u001b[38;5;28;01mraise\u001b[39;00m \u001b[38;5;167;01mTypeError\u001b[39;00m(\u001b[38;5;124mf\u001b[39m\u001b[38;5;124m\"\u001b[39m\u001b[38;5;124mCannot determine dtype of \u001b[39m\u001b[38;5;132;01m{\u001b[39;00mx\u001b[38;5;132;01m}\u001b[39;00m\u001b[38;5;124m\"\u001b[39m) \u001b[38;5;28;01mfrom\u001b[39;00m \u001b[38;5;21;01merr\u001b[39;00m\n",
      "\u001b[0;31mValueError\u001b[0m: invalid shape in fixed-type tuple."
     ]
    }
   ],
   "source": [
    "mod.get_pdi_grids()"
   ]
  },
  {
   "cell_type": "code",
   "execution_count": 13,
   "metadata": {},
   "outputs": [],
   "source": [
    "E_th = {\n",
    "    \"dgnp\" :  2.224573,\n",
    "    \"tgnd\" :  6.257248,\n",
    "    \"tgnpn\" :  8.481821,\n",
    "    \"He3gpd\" :  5.493485,\n",
    "    \"He3gnpp\" :  7.718058,\n",
    "    \"He4gpt\" : 19.813852,\n",
    "    \"He4gnHe3\" : 20.577615,\n",
    "    \"He4gdd\" : 23.846527,\n",
    "    \"He4gnpd\" : 26.071100,\n",
    "    \"Li6gnpHe4\" :  3.698892,\n",
    "    \"Li6gX\" : 15.794685,\n",
    "    \"Li7gtHe4\" :  2.467032,\n",
    "    \"Li7gnLi6\" :  7.249962,\n",
    "    \"Li7gnnpHe4\" : 10.948850,\n",
    "    \"Be7gHe3He4\" :  1.586627,\n",
    "    \"Be7gpLi6\" :  5.605794,\n",
    "    \"Be7gppnHe4\" :  9.304680\n",
    "}"
   ]
  },
  {
   "cell_type": "code",
   "execution_count": 14,
   "metadata": {},
   "outputs": [],
   "source": [
    "Eth = jnp.array(list(E_th.values()))"
   ]
  },
  {
   "cell_type": "code",
   "execution_count": 11,
   "metadata": {},
   "outputs": [],
   "source": [
    "E_grid = jnp.logspace(jnp.log(Emin), jnp.log(5), 5, base=jnp.e)\n",
    "ii, jj = jnp.meshgrid(jnp.arange(3), E_grid, indexing='ij')"
   ]
  },
  {
   "cell_type": "code",
   "execution_count": 13,
   "metadata": {},
   "outputs": [
    {
     "data": {
      "text/plain": [
       "Array([1.48929727e-17, 1.18140444e-15, 2.96468909e-14, 3.12209257e-13,\n",
       "       1.72739024e-12, 2.84328170e-10, 2.78964054e-10, 2.66403186e-10,\n",
       "       2.49423545e-10, 2.29960223e-10, 2.84328170e-10, 2.78964054e-10,\n",
       "       2.66403186e-10, 2.49423545e-10, 2.29960223e-10], dtype=float64)"
      ]
     },
     "execution_count": 13,
     "metadata": {},
     "output_type": "execute_result"
    }
   ],
   "source": [
    "InjSpec.rate_x(ii.flatten(), jj.flatten(), jnp.full_like(jj.flatten(), 0.01))"
   ]
  },
  {
   "cell_type": "code",
   "execution_count": 11,
   "metadata": {},
   "outputs": [
    {
     "data": {
      "text/plain": [
       "Array([[1.14776247e-004, 1.14776247e-003, 1.14776247e-002],\n",
       "       [1.00000000e-200, 1.00000000e-200, 6.19915177e-032],\n",
       "       [1.00000000e-200, 1.00000000e-200, 7.88891194e-037],\n",
       "       [1.00000000e-200, 1.00000000e-200, 3.06808952e-067],\n",
       "       [1.00000000e-200, 1.00000000e-200, 1.18055298e-035],\n",
       "       [1.00000000e-200, 1.00000000e-200, 1.08726449e-056],\n",
       "       [1.00000000e-200, 1.00000000e-200, 1.00000000e-200],\n",
       "       [1.00000000e-200, 1.00000000e-200, 1.00000000e-200],\n",
       "       [1.00000000e-200, 1.00000000e-200, 1.00000000e-200],\n",
       "       [1.00000000e-200, 1.00000000e-200, 1.00000000e-200],\n",
       "       [1.00000000e-200, 1.00000000e-200, 9.72145141e-035],\n",
       "       [1.00000000e-200, 1.00000000e-200, 1.00000000e-200],\n",
       "       [1.00000000e-200, 1.00000000e-200, 1.13931006e-032],\n",
       "       [1.00000000e-200, 1.00000000e-200, 1.22790384e-047],\n",
       "       [1.00000000e-200, 1.00000000e-200, 1.00000000e-200],\n",
       "       [1.00000000e-200, 1.00000000e-200, 6.53803418e-032],\n",
       "       [1.00000000e-200, 1.00000000e-200, 5.59501204e-036],\n",
       "       [1.00000000e-200, 1.00000000e-200, 1.99462648e-078]],      dtype=float64)"
      ]
     },
     "execution_count": 11,
     "metadata": {},
     "output_type": "execute_result"
    }
   ],
   "source": [
    "mod.pd_tables"
   ]
  },
  {
   "cell_type": "code",
   "execution_count": null,
   "metadata": {},
   "outputs": [],
   "source": [
    "dir(mod)"
   ]
  },
  {
   "cell_type": "code",
   "execution_count": null,
   "metadata": {},
   "outputs": [],
   "source": [
    "InjSpec.get_spectrum(5, mod.get_source_0(), mod.get_source_cont(), 0.01)"
   ]
  },
  {
   "cell_type": "code",
   "execution_count": null,
   "metadata": {},
   "outputs": [],
   "source": [
    "mod.get_pdi_grids()"
   ]
  },
  {
   "cell_type": "code",
   "execution_count": null,
   "metadata": {},
   "outputs": [],
   "source": [
    "rates_i = mod.pdi_rates(0.01)\n",
    "print(rates_i)"
   ]
  },
  {
   "cell_type": "code",
   "execution_count": 14,
   "metadata": {},
   "outputs": [],
   "source": [
    "pdi_rates = jnp.array([[1.79507704e-180, 7.61656453e-183, 2.25062597e-184,\n",
    "        1.81990493e-182, 5.23902999e-184, 1.00000000e-200,\n",
    "        1.00000000e-200, 1.00000000e-200, 1.00000000e-200,\n",
    "        6.22968129e-182, 2.01147832e-192, 6.30950360e-181,\n",
    "        9.25721900e-184, 1.72201013e-186, 1.02890632e-180,\n",
    "        5.85469164e-183, 6.08196967e-185],\n",
    "       [3.32704835e-029, 6.88650382e-031, 3.72505336e-032,\n",
    "        1.32219725e-030, 7.37756567e-032, 2.07791113e-037,\n",
    "        5.42095241e-038, 3.89011243e-100, 5.87007179e-144,\n",
    "        3.54311411e-030, 1.18925388e-035, 1.18740610e-029,\n",
    "        1.13249292e-031, 8.19466752e-034, 1.44151709e-029,\n",
    "        3.88415678e-031, 1.30078527e-032],\n",
    "       [7.69015092e-032, 1.20633964e-034, 7.98129583e-036,\n",
    "        2.11540830e-034, 1.76685100e-035, 1.00000000e-200,\n",
    "        1.00000000e-200, 1.00000000e-200, 1.00000000e-200,\n",
    "        5.94929745e-034, 1.00000000e-200, 1.30081174e-032,\n",
    "        2.37792950e-035, 1.00000000e-200, 1.05423791e-031,\n",
    "        6.06419952e-035, 8.96912718e-037]], dtype=float)"
   ]
  },
  {
   "cell_type": "code",
   "execution_count": null,
   "metadata": {},
   "outputs": [],
   "source": [
    "mod.get_cross_sections(E_grid)"
   ]
  },
  {
   "cell_type": "code",
   "execution_count": null,
   "metadata": {},
   "outputs": [],
   "source": [
    "T_range = mod.temperature_range()\n",
    "print(T_range)\n",
    "T_grid = jnp.linspace(T_range[0], T_range[1], 10)\n",
    "T_grid"
   ]
  },
  {
   "cell_type": "code",
   "execution_count": null,
   "metadata": {},
   "outputs": [],
   "source": []
  },
  {
   "cell_type": "code",
   "execution_count": 20,
   "metadata": {},
   "outputs": [
    {
     "name": "stdout",
     "output_type": "stream",
     "text": [
      "Rate time:  6.131103038787842\n",
      "Kernel time:  0.07419157028198242\n",
      "Source time:  0.37545013427734375\n",
      "Solve time:  1.0881428718566895\n",
      "[[1.50000000e+000 2.02680023e+000 2.73861279e+000 3.70041402e+000\n",
      "  5.00000000e+000]\n",
      " [1.03519555e-022 8.34928073e-025 1.76063104e-026 3.79300659e-028\n",
      "  8.12898254e-030]\n",
      " [6.00021510e-030 3.07237428e-030 2.40752876e-030 2.32581517e-030\n",
      "  4.34857814e-191]\n",
      " [6.00021510e-030 3.07237428e-030 2.40752876e-030 2.32581517e-030\n",
      "  4.34857814e-191]]\n"
     ]
    }
   ],
   "source": [
    "F_grid = InjSpec.get_spectrum(5, mod.get_source_0(), mod.get_source_cont(), 0.01)\n",
    "print(F_grid)"
   ]
  },
  {
   "cell_type": "code",
   "execution_count": 23,
   "metadata": {},
   "outputs": [],
   "source": [
    "def F_s(log_E):\n",
    "    E = jnp.exp(log_E)\n",
    "    return jnp.exp(jnp.interp(jnp.log(E), jnp.log(F_grid[0]), jnp.log(F_grid[1]))) * E * mod.get_cross_section(E)\n"
   ]
  },
  {
   "cell_type": "code",
   "execution_count": 24,
   "metadata": {},
   "outputs": [
    {
     "data": {
      "text/plain": [
       "(Array([[5.75661445e-32, 4.78724821e-34, 5.16871323e-34, 5.31877511e-34,\n",
       "         7.75789297e-34, 9.12597606e-34, 1.00511838e-33, 1.51393789e-36,\n",
       "         1.90427992e-34, 9.54197677e-34, 1.38048594e-33, 5.16411415e-33,\n",
       "         2.56851054e-34, 4.63427310e-34, 5.20672394e-32, 2.02389968e-34,\n",
       "         4.29810951e-34],\n",
       "        [6.83287665e-34, 4.78724185e-34, 5.16870498e-34, 5.30384414e-34,\n",
       "         7.75789065e-34, 9.12582387e-34, 1.00510652e-33, 1.51392561e-36,\n",
       "         1.90428138e-34, 9.42720195e-34, 1.38048472e-33, 5.46619965e-36,\n",
       "         2.56832392e-34, 4.63427205e-34, 0.00000000e+00, 2.01630418e-34,\n",
       "         4.29811463e-34],\n",
       "        [5.98362672e-34, 4.64651690e-34, 5.16870959e-34, 5.05770217e-34,\n",
       "         7.75499214e-34, 9.12587406e-34, 1.00510741e-33, 1.51392583e-36,\n",
       "         1.90428109e-34, 8.92435475e-34, 1.38048524e-33, 2.10948961e-37,\n",
       "         2.55584849e-34, 4.63427338e-34, 0.00000000e+00, 1.96011139e-34,\n",
       "         4.29811471e-34],\n",
       "        [7.17648126e-34, 4.78724167e-34, 5.16870958e-34, 5.31877996e-34,\n",
       "         7.75789403e-34, 9.12586240e-34, 1.00510421e-33, 1.51392934e-36,\n",
       "         1.90428003e-34, 9.50138465e-34, 1.38048557e-33, 1.38188145e-35,\n",
       "         2.56822714e-34, 4.63426949e-34, 0.00000000e+00, 2.02389746e-34,\n",
       "         4.29811480e-34],\n",
       "        [6.25090862e-34, 4.72814873e-34, 5.16871260e-34, 5.16782418e-34,\n",
       "         7.75789403e-34, 9.12589834e-34, 1.00509815e-33, 1.51392579e-36,\n",
       "         1.90428112e-34, 9.13759425e-34, 1.38048580e-33, 6.90306432e-37,\n",
       "         2.56539605e-34, 4.63427175e-34, 0.00000000e+00, 1.97611420e-34,\n",
       "         4.29811330e-34],\n",
       "        [3.69228768e-34, 2.95485307e-34, 3.61446858e-34, 3.33241078e-34,\n",
       "         6.10493158e-34, 9.12585027e-34, 1.00518327e-33, 1.51392726e-36,\n",
       "         1.90428111e-34, 5.38529857e-34, 1.27436178e-33, 2.68983129e-46,\n",
       "         9.89883762e-35, 3.46767303e-34, 0.00000000e+00, 4.60616297e-35,\n",
       "         2.56573176e-34],\n",
       "        [3.60030967e-34, 2.86858343e-34, 3.49033715e-34, 3.24648768e-34,\n",
       "         5.97013020e-34, 9.07233780e-34, 1.00510653e-33, 1.51392197e-36,\n",
       "         1.90428288e-34, 5.20766372e-34, 1.22619270e-33, 6.22850064e-47,\n",
       "         9.10762756e-35, 3.30644507e-34, 0.00000000e+00, 3.96584633e-35,\n",
       "         2.41588784e-34],\n",
       "        [3.25243148e-34, 2.54040378e-34, 3.00996296e-34, 2.91699087e-34,\n",
       "         5.42700368e-34, 8.16118445e-34, 9.32708259e-34, 1.51392592e-36,\n",
       "         1.90428150e-34, 4.53496702e-34, 1.03419424e-33, 1.12988688e-49,\n",
       "         6.49137127e-35, 2.66765517e-34, 0.00000000e+00, 2.09041346e-35,\n",
       "         1.86676048e-34],\n",
       "        [3.05037964e-34, 2.34983493e-34, 2.72902539e-34, 2.72329819e-34,\n",
       "         5.09112388e-34, 7.33427938e-34, 8.47597737e-34, 1.50056611e-36,\n",
       "         1.90428112e-34, 4.14755442e-34, 9.37987302e-34, 1.48275234e-51,\n",
       "         5.25809426e-35, 2.29653483e-34, 0.00000000e+00, 1.36397828e-35,\n",
       "         1.57197868e-34],\n",
       "        [1.43246158e-33, 4.78724008e-34, 5.16870875e-34, 5.31878036e-34,\n",
       "         7.75789403e-34, 9.12586792e-34, 1.00511212e-33, 1.51392571e-36,\n",
       "         1.90428112e-34, 9.54197505e-34, 1.38048555e-33, 3.99858542e-34,\n",
       "         2.56826865e-34, 4.63427218e-34, 4.30357669e-34, 2.02389731e-34,\n",
       "         4.29811478e-34],\n",
       "        [4.26582874e-34, 3.47948898e-34, 4.32585379e-34, 3.85122763e-34,\n",
       "         6.84331478e-34, 9.12588519e-34, 1.00510803e-33, 1.51392523e-36,\n",
       "         1.90428139e-34, 6.46849855e-34, 1.38048579e-33, 5.34661183e-43,\n",
       "         1.54882913e-34, 4.28104097e-34, 0.00000000e+00, 9.77473407e-35,\n",
       "         3.46016152e-34],\n",
       "        [3.81706542e-32, 4.78724642e-34, 5.16870710e-34, 5.31878071e-34,\n",
       "         7.75789495e-34, 9.12575039e-34, 1.00511366e-33, 1.51392147e-36,\n",
       "         1.90428240e-34, 9.54192988e-34, 1.38048631e-33, 5.16412959e-33,\n",
       "         2.56823882e-34, 4.63427546e-34, 2.37693751e-32, 2.02389770e-34,\n",
       "         4.29811821e-34],\n",
       "        [6.42683355e-34, 4.76223805e-34, 5.16871145e-34, 5.22451737e-34,\n",
       "         7.75789337e-34, 9.12589180e-34, 1.00510189e-33, 1.51392594e-36,\n",
       "         1.90428104e-34, 9.24966684e-34, 1.38048600e-33, 1.38435505e-36,\n",
       "         2.56820941e-34, 4.63427194e-34, 0.00000000e+00, 1.98756439e-34,\n",
       "         4.29811383e-34],\n",
       "        [5.26114083e-34, 4.26607886e-34, 5.07766150e-34, 4.63745602e-34,\n",
       "         7.61072815e-34, 9.12599946e-34, 1.00510977e-33, 1.51392566e-36,\n",
       "         1.90427877e-34, 8.09516913e-34, 1.38048580e-33, 3.42835436e-39,\n",
       "         2.38928250e-34, 4.63427194e-34, 0.00000000e+00, 1.81081154e-34,\n",
       "         4.27266769e-34],\n",
       "        [5.75660011e-32, 4.78718814e-34, 5.16870186e-34, 5.31877720e-34,\n",
       "         7.75788650e-34, 9.12580328e-34, 1.00511405e-33, 1.51392593e-36,\n",
       "         1.90428104e-34, 9.54196011e-34, 1.38050532e-33, 5.16409377e-33,\n",
       "         2.56605606e-34, 4.63426940e-34, 1.24139332e-31, 2.02389655e-34,\n",
       "         4.29811480e-34],\n",
       "        [7.12431738e-34, 4.78723557e-34, 5.16870981e-34, 5.31865807e-34,\n",
       "         7.75789446e-34, 9.12590232e-34, 1.00510526e-33, 1.51392094e-36,\n",
       "         1.90428150e-34, 9.49382036e-34, 1.38048561e-33, 1.21645332e-35,\n",
       "         2.56823458e-34, 4.63427476e-34, 0.00000000e+00, 2.02389771e-34,\n",
       "         4.29811433e-34],\n",
       "        [5.72063110e-34, 4.53292441e-34, 5.16424130e-34, 4.92369587e-34,\n",
       "         7.73394535e-34, 9.12585026e-34, 1.00510704e-33, 1.51392592e-36,\n",
       "         1.90428111e-34, 8.66398802e-34, 1.38048517e-33, 5.56524025e-38,\n",
       "         2.53091960e-34, 4.63427343e-34, 0.00000000e+00, 1.93591437e-34,\n",
       "         4.29811483e-34]], dtype=float64),\n",
       " QuadratureInfo(err=Array([3.68246440e-35, 1.07663240e-36, 5.60951258e-37, 1.21745427e-36,\n",
       "        1.13320245e-36, 9.30121206e-38, 9.67205440e-38, 8.97765102e-39,\n",
       "        4.97339993e-41, 1.12306524e-36, 1.25168138e-36, 3.30876503e-35,\n",
       "        8.11622042e-37, 5.93323157e-37, 8.27991711e-35, 1.11323759e-36,\n",
       "        1.21398314e-36], dtype=float64), neval=Array([483, 399, 441, 525, 441, 147, 105, 105, 105, 651, 273, 441, 483,\n",
       "        273, 693, 483, 483], dtype=int64, weak_type=True), status=Array([0, 0, 0, 0, 0, 0, 0, 0, 0, 0, 0, 0, 0, 0, 0, 0, 0],      dtype=int64, weak_type=True), info=None))"
      ]
     },
     "execution_count": 24,
     "metadata": {},
     "output_type": "execute_result"
    }
   ],
   "source": [
    "jax.vmap(quadgk, in_axes=(None, 0, None, None, None, None))(F_s, [jnp.log(Eth), jnp.full_like(Eth, jnp.log(200))], (), False, 0, eps,)"
   ]
  },
  {
   "cell_type": "code",
   "execution_count": null,
   "metadata": {},
   "outputs": [],
   "source": [
    "a = 5\n",
    "def cond_fun(state):\n",
    "  # Define the condition for the loop to continue\n",
    "  return state[0] < 10\n",
    "\n",
    "def body_fun(state):\n",
    "  # Define the operations to perform in each iteration\n",
    "  return (state[0] + 1, state[1]**2)\n",
    "\n",
    "init_val = 0  # Initial value for the loop variable\n",
    "\n",
    "final_state = jax.lax.while_loop(cond_fun, body_fun, (0, 5))\n",
    "\n",
    "print(final_state)  # Output: 10"
   ]
  },
  {
   "cell_type": "code",
   "execution_count": 26,
   "metadata": {},
   "outputs": [],
   "source": [
    "S_0f, S_contf = mod.get_source_0(), mod.get_source_cont()\n",
    "\n",
    "NE = jnp.array(jnp.log10(5/Emin)*150, int)\n",
    "NE = jnp.maximum(NE, 150)\n",
    "NE = 10\n",
    "\n",
    "#number of species\n",
    "N_X = 3\n",
    "\n",
    "E_grid = jnp.logspace(jnp.log(Emin), jnp.log(5), NE, base=jnp.e)\n",
    "\n",
    "# Generate the grid for the different species\n",
    "X_grid = jnp.arange(N_X)\n",
    "\n",
    "#rate (MeV)\n",
    "R = jnp.array([[InjSpec.rate_x(X, E, 0.01) for E in E_grid] for X in X_grid])\n",
    "#R = jnp.array([self.rate_x(X_grid, E, T) for E in E_grid])\n",
    "ii, jj, kk, ll = jnp.meshgrid( X_grid, X_grid,E_grid, E_grid,indexing='ij')\n",
    "k = jnp.stack([ll, kk, jj, ii], axis=-1)\n",
    "k_true = jnp.array(k[:, :, :, :, 0] >= k[:, :, :, :, 1])\n",
    "K = jnp.select([k_true], [jnp.array([[[[InjSpec.kernel_x(X, X_out, E, 0.01, Ep) for Ep in E_grid] for E in E_grid] for X_out in X_grid] for X in X_grid])])\n",
    "S_0 = jnp.array([S0X(0.01) for S0X in S_0f])\n",
    "S_cont = jnp.array([[SCX(E, 0.01) for E in E_grid] for SCX in S_contf])\n",
    "\n",
    "--> 703     dt = np.result_type(x)\n",
    "    704   except TypeError as err:\n",
    "    705     raise TypeError(f\"Cannot determine dtype of {x}\") from err\n",
    "\n",
    "ValueError: invalid shape in fixed-type tuple."
   ]
  },
  {
   "cell_type": "code",
   "execution_count": 28,
   "metadata": {},
   "outputs": [],
   "source": [
    "from linx.injected_spec import set_spectra"
   ]
  },
  {
   "cell_type": "code",
   "execution_count": null,
   "metadata": {},
   "outputs": [],
   "source": [
    "\n",
    "N_X = len(R)\n",
    "NE = len(E_grid)\n",
    "\n",
    "dy = jnp.log(E_grid[-1]/Emin)/(NE-1)\n",
    "\n",
    "#create the grid to store the spectrums\n",
    "#F_grid = jnp.zeros((N_X, NE)) \n",
    "\n",
    "#calculate the last row, which is important for trapezoidal rule\n",
    "FX_E0 = jnp.array([S_cont[X,-1]/R[X,-1] + jnp.sum(K[X,:,-1,-1]*S_0[:]/(R[:,-1]*R[X,-1])) for X in range(N_X)])\n",
    "\n",
    "#F_grid = set_spectra(F_grid, -1, FX_E0)\n",
    "#i  = (NE - 1) - 1 # start at the second to last index, NE-2\n",
    "\n",
    "def cond_func(i_vec):\n",
    "    return i_vec[0] >= 0\n",
    "\n",
    "#@partial(jax.jit, static_argnums=(0,))\n",
    "def body_func(i_vec):\n",
    "#while i >= 0: # Counting down\n",
    "    i = i_vec[0]\n",
    "    B = jnp.zeros( (N_X, N_X) )\n",
    "    a = jnp.zeros( (N_X,   ) )\n",
    "\n",
    "    I = jnp.identity(N_X)\n",
    "    # Calculate the matrix B and the vector a\n",
    "    for X in jnp.arange(N_X):\n",
    "        # Calculate B, : <--> Xp\n",
    "        B = B.at[X,:].set(-.5*dy*E_grid[i]*K[X,:,i,i] + R[X,i]*I[X,:])\n",
    "\n",
    "        # Calculate a\n",
    "        a = a.at[X].set(S_cont[X,i])\n",
    "        for Xp in jnp.arange(N_X):\n",
    "            a = a.at[X].add(K[X,Xp,i,-1]*S_0[Xp]/R[Xp,-1] + .5*dy*E_grid[-1]*K[X,Xp,i,-1]*i_vec[1][Xp,-1])\n",
    "            for j in range(i, NE-1): # Goes from i+1 to NE-2\n",
    "                a = a.at[X].add(dy*E_grid[j]*K[X,Xp,i,j]*i_vec[1][Xp,j])\n",
    "\n",
    "    # Solve the system of linear equations of the form BF = a\n",
    "    F_grid = set_spectra(i_vec[1], i,jnp.linalg.solve(B, a))\n",
    "\n",
    "    return (i-1, F_grid)\n",
    "\n",
    "F_grid = jax.lax.while_loop(cond_func, body_func, ((NE - 1) - 1, set_spectra(jnp.zeros((N_X, NE)), -1, FX_E0)))[1]\n",
    "\n",
    "approx_zero = 1e-200\n",
    "# Remove potential zeros\n",
    "F_grid = F_grid.reshape( N_X*NE )\n",
    "F_grid = F_grid.at[:].set(jnp.where(F_grid > approx_zero, F_grid, approx_zero))\n",
    "#for i, f in enumerate(F_grid):\n",
    "    #if f < approx_zero:\n",
    "    #    F_grid[i] = approx_zero\n",
    "#    F_grid.at[i].set(f < approx_zero, f, approx_zero)\n",
    "F_grid = F_grid.reshape( (N_X, NE) )\n",
    "\n",
    "# Define the output array...\n",
    "sol = jnp.zeros( (N_X+1, NE) )\n",
    "# ...and fill it\n",
    "sol = sol.at[0     , :].set(E_grid)\n",
    "sol = sol.at[1:N_X+1, :].set(F_grid)\n",
    "\n",
    "sol\n"
   ]
  },
  {
   "cell_type": "code",
   "execution_count": null,
   "metadata": {},
   "outputs": [],
   "source": [
    "body_func((NE - 1, set_spectra(jnp.zeros((N_X, NE)), -1, FX_E0)))"
   ]
  },
  {
   "cell_type": "code",
   "execution_count": null,
   "metadata": {},
   "outputs": [],
   "source": [
    "jnp.arange(1, 3)"
   ]
  },
  {
   "cell_type": "code",
   "execution_count": 158,
   "metadata": {},
   "outputs": [],
   "source": [
    "#@partial(jax.jit, static_argnums=0)\n",
    "@jax.jit\n",
    "def test_func(i):\n",
    "    l = i[0] \n",
    "    for j in jnp.arange(l, 3):\n",
    "        t = E_grid[j]\n",
    "    return t\n"
   ]
  },
  {
   "cell_type": "code",
   "execution_count": null,
   "metadata": {},
   "outputs": [],
   "source": [
    "test_func((0, E_grid))"
   ]
  },
  {
   "cell_type": "code",
   "execution_count": null,
   "metadata": {},
   "outputs": [],
   "source": [
    "%timeit InjSpec.inverse_compton_kernel_photon(5, 0.01, 8)"
   ]
  },
  {
   "cell_type": "code",
   "execution_count": null,
   "metadata": {},
   "outputs": [],
   "source": [
    "%timeit InjSpec.inverse_compton_kernel_photon(5, 0.01, 8)"
   ]
  },
  {
   "cell_type": "code",
   "execution_count": 23,
   "metadata": {},
   "outputs": [
    {
     "name": "stdout",
     "output_type": "stream",
     "text": [
      "Photon Rates Test\n",
      "---------------\n",
      "double photon 1.7273806782478688e-12\n",
      "photonphoton 9.528579442514193e-18\n",
      "BH 0.0 1.93931715860427e-22 4.226659078975712e-22\n",
      "CS 2.7877735519401764e-20\n"
     ]
    },
    {
     "ename": "ValueError",
     "evalue": "vmap was requested to map its argument along axis 0, which implies that its rank should be at least 1, but is only 0 (its shape is ())",
     "output_type": "error",
     "traceback": [
      "\u001b[0;31m---------------------------------------------------------------------------\u001b[0m",
      "\u001b[0;31mIndexError\u001b[0m                                Traceback (most recent call last)",
      "File \u001b[0;32m~/miniconda3/envs/linx/lib/python3.13/site-packages/jax/_src/api.py:1020\u001b[0m, in \u001b[0;36m_mapped_axis_size.<locals>._get_axis_size\u001b[0;34m(name, shape, axis)\u001b[0m\n\u001b[1;32m   1019\u001b[0m \u001b[38;5;28;01mtry\u001b[39;00m:\n\u001b[0;32m-> 1020\u001b[0m   \u001b[38;5;28;01mreturn\u001b[39;00m \u001b[43mshape\u001b[49m\u001b[43m[\u001b[49m\u001b[43maxis\u001b[49m\u001b[43m]\u001b[49m\n\u001b[1;32m   1021\u001b[0m \u001b[38;5;28;01mexcept\u001b[39;00m (\u001b[38;5;167;01mIndexError\u001b[39;00m, \u001b[38;5;167;01mTypeError\u001b[39;00m) \u001b[38;5;28;01mas\u001b[39;00m e:\n",
      "\u001b[0;31mIndexError\u001b[0m: tuple index out of range",
      "\nThe above exception was the direct cause of the following exception:\n",
      "\u001b[0;31mValueError\u001b[0m                                Traceback (most recent call last)",
      "Cell \u001b[0;32mIn[23], line 7\u001b[0m\n\u001b[1;32m      5\u001b[0m \u001b[38;5;28mprint\u001b[39m(\u001b[38;5;124m\"\u001b[39m\u001b[38;5;124mBH\u001b[39m\u001b[38;5;124m\"\u001b[39m, InjSpec\u001b[38;5;241m.\u001b[39mbethe_heitler_pair_prod_rate(\u001b[38;5;241m1\u001b[39m, \u001b[38;5;241m0.01\u001b[39m), InjSpec\u001b[38;5;241m.\u001b[39mbethe_heitler_pair_prod_rate(\u001b[38;5;241m3\u001b[39m, \u001b[38;5;241m0.01\u001b[39m), InjSpec\u001b[38;5;241m.\u001b[39mbethe_heitler_pair_prod_rate(\u001b[38;5;241m5\u001b[39m, \u001b[38;5;241m0.01\u001b[39m))\n\u001b[1;32m      6\u001b[0m \u001b[38;5;28mprint\u001b[39m(\u001b[38;5;124m\"\u001b[39m\u001b[38;5;124mCS\u001b[39m\u001b[38;5;124m\"\u001b[39m, InjSpec\u001b[38;5;241m.\u001b[39mcompton_scattering_rate(\u001b[38;5;241m5\u001b[39m, \u001b[38;5;241m0.01\u001b[39m))\n\u001b[0;32m----> 7\u001b[0m \u001b[38;5;28mprint\u001b[39m(\u001b[38;5;124m\"\u001b[39m\u001b[38;5;124mtotal\u001b[39m\u001b[38;5;124m\"\u001b[39m, \u001b[43mInjSpec\u001b[49m\u001b[38;5;241;43m.\u001b[39;49m\u001b[43mtotal_rate_photon\u001b[49m\u001b[43m(\u001b[49m\u001b[38;5;241;43m5\u001b[39;49m\u001b[43m,\u001b[49m\u001b[43m \u001b[49m\u001b[38;5;241;43m0.01\u001b[39;49m\u001b[43m)\u001b[49m)\n\u001b[1;32m      8\u001b[0m \u001b[38;5;28mprint\u001b[39m()\n\u001b[1;32m      9\u001b[0m \u001b[38;5;28mprint\u001b[39m(\u001b[38;5;124m\"\u001b[39m\u001b[38;5;124mPhoton Kernel Test\u001b[39m\u001b[38;5;124m\"\u001b[39m)\n",
      "File \u001b[0;32m~/miniconda3/envs/linx/lib/python3.13/site-packages/equinox/_module.py:1238\u001b[0m, in \u001b[0;36mPartial.__call__\u001b[0;34m(self, *args, **kwargs)\u001b[0m\n\u001b[1;32m   1225\u001b[0m \u001b[38;5;28;01mdef\u001b[39;00m \u001b[38;5;21m__call__\u001b[39m(\u001b[38;5;28mself\u001b[39m, \u001b[38;5;241m*\u001b[39margs, \u001b[38;5;241m*\u001b[39m\u001b[38;5;241m*\u001b[39mkwargs):\n\u001b[1;32m   1226\u001b[0m \u001b[38;5;250m    \u001b[39m\u001b[38;5;124;03m\"\"\"Call the wrapped `self.func`.\u001b[39;00m\n\u001b[1;32m   1227\u001b[0m \n\u001b[1;32m   1228\u001b[0m \u001b[38;5;124;03m    **Arguments:**\u001b[39;00m\n\u001b[0;32m   (...)\u001b[0m\n\u001b[1;32m   1236\u001b[0m \u001b[38;5;124;03m    The result of the wrapped function.\u001b[39;00m\n\u001b[1;32m   1237\u001b[0m \u001b[38;5;124;03m    \"\"\"\u001b[39;00m\n\u001b[0;32m-> 1238\u001b[0m     \u001b[38;5;28;01mreturn\u001b[39;00m \u001b[38;5;28;43mself\u001b[39;49m\u001b[38;5;241;43m.\u001b[39;49m\u001b[43mfunc\u001b[49m\u001b[43m(\u001b[49m\u001b[38;5;241;43m*\u001b[39;49m\u001b[38;5;28;43mself\u001b[39;49m\u001b[38;5;241;43m.\u001b[39;49m\u001b[43margs\u001b[49m\u001b[43m,\u001b[49m\u001b[43m \u001b[49m\u001b[38;5;241;43m*\u001b[39;49m\u001b[43margs\u001b[49m\u001b[43m,\u001b[49m\u001b[43m \u001b[49m\u001b[38;5;241;43m*\u001b[39;49m\u001b[38;5;241;43m*\u001b[39;49m\u001b[43mkwargs\u001b[49m\u001b[43m,\u001b[49m\u001b[43m \u001b[49m\u001b[38;5;241;43m*\u001b[39;49m\u001b[38;5;241;43m*\u001b[39;49m\u001b[38;5;28;43mself\u001b[39;49m\u001b[38;5;241;43m.\u001b[39;49m\u001b[43mkeywords\u001b[49m\u001b[43m)\u001b[49m\n",
      "    \u001b[0;31m[... skipping hidden 15 frame]\u001b[0m\n",
      "File \u001b[0;32m~/research_programs/LINX/example_notebooks/../linx/injected_spec.py:194\u001b[0m, in \u001b[0;36mInjectedSpectrum.total_rate_photon\u001b[0;34m(self, E, T)\u001b[0m\n\u001b[1;32m    192\u001b[0m     \u001b[38;5;28;01mreturn\u001b[39;00m \u001b[38;5;28mself\u001b[39m\u001b[38;5;241m.\u001b[39mdphoton_pair_prod_rate(E, T) \u001b[38;5;241m+\u001b[39m \u001b[38;5;28mself\u001b[39m\u001b[38;5;241m.\u001b[39mphoton_photon_scattering_rate(E, T) \u001b[38;5;241m+\u001b[39m \u001b[38;5;28mself\u001b[39m\u001b[38;5;241m.\u001b[39mbethe_heitler_pair_prod_rate(E, T) \u001b[38;5;241m+\u001b[39m \u001b[38;5;28mself\u001b[39m\u001b[38;5;241m.\u001b[39mcompton_scattering_rate(E, T)\n\u001b[1;32m    193\u001b[0m \u001b[38;5;28;01melse\u001b[39;00m:\n\u001b[0;32m--> 194\u001b[0m     \u001b[38;5;28;01mreturn\u001b[39;00m \u001b[43mjax\u001b[49m\u001b[38;5;241;43m.\u001b[39;49m\u001b[43mvmap\u001b[49m\u001b[43m(\u001b[49m\u001b[38;5;28;43mself\u001b[39;49m\u001b[38;5;241;43m.\u001b[39;49m\u001b[43mdphoton_pair_prod_rate\u001b[49m\u001b[43m,\u001b[49m\u001b[43m \u001b[49m\u001b[43min_axes\u001b[49m\u001b[38;5;241;43m=\u001b[39;49m\u001b[43m \u001b[49m\u001b[43m(\u001b[49m\u001b[38;5;241;43m0\u001b[39;49m\u001b[43m,\u001b[49m\u001b[43m \u001b[49m\u001b[38;5;241;43m0\u001b[39;49m\u001b[43m)\u001b[49m\u001b[43m)\u001b[49m\u001b[43m(\u001b[49m\u001b[43mE\u001b[49m\u001b[43m,\u001b[49m\u001b[43m \u001b[49m\u001b[43mT\u001b[49m\u001b[43m)\u001b[49m \u001b[38;5;241m+\u001b[39m \u001b[38;5;28mself\u001b[39m\u001b[38;5;241m.\u001b[39mphoton_photon_scattering_rate(E, T) \u001b[38;5;241m+\u001b[39m \u001b[38;5;28mself\u001b[39m\u001b[38;5;241m.\u001b[39mbethe_heitler_pair_prod_rate(E, T) \u001b[38;5;241m+\u001b[39m \u001b[38;5;28mself\u001b[39m\u001b[38;5;241m.\u001b[39mcompton_scattering_rate(E, T)\n",
      "    \u001b[0;31m[... skipping hidden 5 frame]\u001b[0m\n",
      "File \u001b[0;32m~/miniconda3/envs/linx/lib/python3.13/site-packages/jax/_src/api.py:1024\u001b[0m, in \u001b[0;36m_mapped_axis_size.<locals>._get_axis_size\u001b[0;34m(name, shape, axis)\u001b[0m\n\u001b[1;32m   1022\u001b[0m min_rank \u001b[38;5;241m=\u001b[39m axis \u001b[38;5;241m+\u001b[39m \u001b[38;5;241m1\u001b[39m \u001b[38;5;28;01mif\u001b[39;00m axis \u001b[38;5;241m>\u001b[39m\u001b[38;5;241m=\u001b[39m \u001b[38;5;241m0\u001b[39m \u001b[38;5;28;01melse\u001b[39;00m \u001b[38;5;241m-\u001b[39maxis\n\u001b[1;32m   1023\u001b[0m \u001b[38;5;66;03m# TODO(mattjj): better error message here\u001b[39;00m\n\u001b[0;32m-> 1024\u001b[0m \u001b[38;5;28;01mraise\u001b[39;00m \u001b[38;5;167;01mValueError\u001b[39;00m(\n\u001b[1;32m   1025\u001b[0m     \u001b[38;5;124mf\u001b[39m\u001b[38;5;124m\"\u001b[39m\u001b[38;5;132;01m{\u001b[39;00mname\u001b[38;5;132;01m}\u001b[39;00m\u001b[38;5;124m was requested to map its argument along axis \u001b[39m\u001b[38;5;132;01m{\u001b[39;00maxis\u001b[38;5;132;01m}\u001b[39;00m\u001b[38;5;124m, \u001b[39m\u001b[38;5;124m\"\u001b[39m\n\u001b[1;32m   1026\u001b[0m     \u001b[38;5;124mf\u001b[39m\u001b[38;5;124m\"\u001b[39m\u001b[38;5;124mwhich implies that its rank should be at least \u001b[39m\u001b[38;5;132;01m{\u001b[39;00mmin_rank\u001b[38;5;132;01m}\u001b[39;00m\u001b[38;5;124m, \u001b[39m\u001b[38;5;124m\"\u001b[39m\n\u001b[1;32m   1027\u001b[0m     \u001b[38;5;124mf\u001b[39m\u001b[38;5;124m\"\u001b[39m\u001b[38;5;124mbut is only \u001b[39m\u001b[38;5;132;01m{\u001b[39;00m\u001b[38;5;28mlen\u001b[39m(shape)\u001b[38;5;132;01m}\u001b[39;00m\u001b[38;5;124m (its shape is \u001b[39m\u001b[38;5;132;01m{\u001b[39;00mshape\u001b[38;5;132;01m}\u001b[39;00m\u001b[38;5;124m)\u001b[39m\u001b[38;5;124m\"\u001b[39m) \u001b[38;5;28;01mfrom\u001b[39;00m \u001b[38;5;21;01me\u001b[39;00m\n",
      "\u001b[0;31mValueError\u001b[0m: vmap was requested to map its argument along axis 0, which implies that its rank should be at least 1, but is only 0 (its shape is ())"
     ]
    }
   ],
   "source": [
    "print(\"Photon Rates Test\")\n",
    "print(\"---------------\")\n",
    "print(\"double photon\", InjSpec.dphoton_pair_prod_rate(5, 0.01))\n",
    "print(\"photonphoton\", InjSpec.photon_photon_scattering_rate(5, 0.01))\n",
    "print(\"BH\", InjSpec.bethe_heitler_pair_prod_rate(1, 0.01), InjSpec.bethe_heitler_pair_prod_rate(3, 0.01), InjSpec.bethe_heitler_pair_prod_rate(5, 0.01))\n",
    "print(\"CS\", InjSpec.compton_scattering_rate(5, 0.01))\n",
    "print(\"total\", InjSpec.total_rate_photon(5, 0.01))\n",
    "print()\n",
    "print(\"Photon Kernel Test\")\n",
    "print(\"---------------\")\n",
    "print(\"photonphoton\", InjSpec.photon_photon_scattering_kernel(5, 0.01, 8))\n",
    "print(\"CS\", InjSpec.compton_scattering_kernel_photon(5, 0.01, 8))\n",
    "print(\"Inverse CS\", InjSpec.inverse_compton_kernel_photon(5, 0.01, 8))\n",
    "print(\"total\", InjSpec.total_kernel_photon(5, 0.01, 8, 0), InjSpec.total_kernel_photon(5, 0.01, 8, 1), InjSpec.total_kernel_photon(5, 0.01, 8, 2))"
   ]
  },
  {
   "cell_type": "code",
   "execution_count": null,
   "metadata": {},
   "outputs": [],
   "source": [
    "print(\"Electron Rates Test\")\n",
    "print(\"---------------\")\n",
    "print(\"Inverse CS\", InjSpec.inverse_compton_rate(5, 0.01))\n",
    "print(\"total\", InjSpec.total_lepton_rate(5, 0.01))\n",
    "print()\n",
    "print(\"Electron Kernels Test\")\n",
    "print(\"---------------\")\n",
    "print(\"Double photon\", InjSpec.dphoton_pair_prod_kernel(5, 0.01, 8))\n",
    "print(\"BH\", InjSpec.bethe_heitler_pair_prod_kernel(5, 0.01, 8))\n",
    "print(\"CS\", InjSpec.compton_scattering_kernel_electron(5, 0.01, 8))\n",
    "print(\"Inverse CS\", InjSpec.inverse_compton_kernel_lepton(5, 0.01, 8))\n",
    "print(\"total\", InjSpec.total_kernel_electron(5, 0.01, 8, 0), InjSpec.total_kernel_electron(5, 0.01, 8, 1), InjSpec.total_kernel_electron(5, 0.01, 8, 2))"
   ]
  },
  {
   "cell_type": "code",
   "execution_count": null,
   "metadata": {},
   "outputs": [],
   "source": [
    "print(\"Positron Rates Test\")\n",
    "print(\"---------------\")\n",
    "print(\"Inverse CS\", InjSpec.inverse_compton_rate(5, 0.01))\n",
    "print(\"total\", InjSpec.total_lepton_rate(5, 0.01))\n",
    "print()\n",
    "print(\"Positron Kernels Test\")\n",
    "print(\"---------------\")\n",
    "print(\"Double photon\", InjSpec.dphoton_pair_prod_kernel(5, 0.01, 8))\n",
    "print(\"BH\", InjSpec.bethe_heitler_pair_prod_kernel(5, 0.01, 8))\n",
    "print(\"CS\", InjSpec.compton_scattering_kernel_electron(5, 0.01, 8))\n",
    "print(\"Inverse CS\", InjSpec.inverse_compton_kernel_lepton(5, 0.01, 8))\n",
    "print(\"total\", InjSpec.total_kernel_positron(5, 0.01, 8, 0), InjSpec.total_kernel_positron(5, 0.01, 8, 1), InjSpec.total_kernel_positron(5, 0.01, 8, 2))"
   ]
  },
  {
   "cell_type": "code",
   "execution_count": 28,
   "metadata": {},
   "outputs": [
    {
     "name": "stdout",
     "output_type": "stream",
     "text": [
      "Photon Rates Test NEW\n",
      "---------------\n",
      "double photon\n",
      "31.2 ms ± 1.12 ms per loop (mean ± std. dev. of 7 runs, 10 loops each)\n",
      "photonphoton\n",
      "507 μs ± 8.55 μs per loop (mean ± std. dev. of 7 runs, 1,000 loops each)\n",
      "BH\n",
      "337 μs ± 101 μs per loop (mean ± std. dev. of 7 runs, 1,000 loops each)\n",
      "CS\n",
      "229 μs ± 1.5 μs per loop (mean ± std. dev. of 7 runs, 1,000 loops each)\n",
      "total\n",
      "15.4 ms ± 335 μs per loop (mean ± std. dev. of 7 runs, 100 loops each)\n",
      "\n",
      "Photon Kernel Test\n",
      "---------------\n",
      "photonphoton\n",
      "247 μs ± 8.41 μs per loop (mean ± std. dev. of 7 runs, 1,000 loops each)\n",
      "CS\n",
      "252 μs ± 9.08 μs per loop (mean ± std. dev. of 7 runs, 1,000 loops each)\n",
      "Inverse CS\n",
      "315 μs ± 7.15 μs per loop (mean ± std. dev. of 7 runs, 1,000 loops each)\n",
      "total\n",
      "326 μs ± 8.11 μs per loop (mean ± std. dev. of 7 runs, 1,000 loops each)\n"
     ]
    }
   ],
   "source": [
    "print(\"Photon Rates Test NEW\")\n",
    "print(\"---------------\")\n",
    "print(\"double photon\")\n",
    "%timeit InjSpec.dphoton_pair_prod_rate(5, 0.01)\n",
    "print(\"photonphoton\")\n",
    "%timeit InjSpec.photon_photon_scattering_rate(5, 0.01)\n",
    "print(\"BH\")\n",
    "%timeit InjSpec.bethe_heitler_pair_prod_rate(1, 0.01)\n",
    "print(\"CS\")\n",
    "%timeit InjSpec.compton_scattering_rate(5, 0.01)\n",
    "print(\"total\")\n",
    "%timeit InjSpec.total_rate_photon(5, 0.01)\n",
    "print()\n",
    "print(\"Photon Kernel Test\")\n",
    "print(\"---------------\")\n",
    "print(\"photonphoton\")\n",
    "%timeit InjSpec.photon_photon_scattering_kernel(5, 0.01, 8)\n",
    "print(\"CS\")\n",
    "%timeit InjSpec.compton_scattering_kernel_photon(5, 0.01, 8)\n",
    "print(\"Inverse CS\")\n",
    "%timeit InjSpec.inverse_compton_kernel_photon(5, 0.01, 8)\n",
    "print(\"total\")\n",
    "%timeit InjSpec.total_kernel_photon(5, 0.01, 8, 0)"
   ]
  },
  {
   "cell_type": "code",
   "execution_count": 32,
   "metadata": {},
   "outputs": [
    {
     "name": "stdout",
     "output_type": "stream",
     "text": [
      "Electron Rates Test NEW\n",
      "---------------\n",
      "Inverse CS\n",
      "17.2 ms ± 1.45 ms per loop (mean ± std. dev. of 7 runs, 1 loop each)\n",
      "total\n",
      "17.1 ms ± 1.78 ms per loop (mean ± std. dev. of 7 runs, 1 loop each)\n",
      "\n",
      "Electron Kernels Test\n",
      "---------------\n",
      "Double photon\n",
      "377 μs ± 115 μs per loop (mean ± std. dev. of 7 runs, 1 loop each)\n",
      "BH\n",
      "230 μs ± 1.55 μs per loop (mean ± std. dev. of 7 runs, 1,000 loops each)\n",
      "CS\n",
      "231 μs ± 1.13 μs per loop (mean ± std. dev. of 7 runs, 1,000 loops each)\n",
      "Inverse CS\n",
      "381 μs ± 109 μs per loop (mean ± std. dev. of 7 runs, 1 loop each)\n",
      "total\n",
      "453 μs ± 108 μs per loop (mean ± std. dev. of 7 runs, 1 loop each)\n"
     ]
    }
   ],
   "source": [
    "print(\"Electron Rates Test NEW\")\n",
    "print(\"---------------\")\n",
    "print(\"Inverse CS\")\n",
    "%timeit InjSpec.inverse_compton_rate(5, 0.01)\n",
    "print(\"total\")\n",
    "%timeit InjSpec.total_lepton_rate(5, 0.01)\n",
    "print()\n",
    "print(\"Electron Kernels Test\")\n",
    "print(\"---------------\")\n",
    "print(\"Double photon\")\n",
    "%timeit InjSpec.dphoton_pair_prod_kernel(5, 0.01, 8)\n",
    "print(\"BH\")\n",
    "%timeit InjSpec.bethe_heitler_pair_prod_kernel(5, 0.01, 8)\n",
    "print(\"CS\")\n",
    "%timeit InjSpec.compton_scattering_kernel_electron(5, 0.01, 8)\n",
    "print(\"Inverse CS\")\n",
    "%timeit InjSpec.inverse_compton_kernel_lepton(5, 0.01, 8)\n",
    "print(\"total\")\n",
    "%timeit InjSpec.total_kernel_electron(5, 0.01, 8, 0)"
   ]
  },
  {
   "cell_type": "code",
   "execution_count": null,
   "metadata": {},
   "outputs": [],
   "source": [
    "print(\"Electron Rates Test\")\n",
    "print(\"---------------\")\n",
    "print(\"Inverse CS\")\n",
    "%timeit InjSpec.inverse_compton_rate(5, 0.01)\n",
    "print(\"total\")\n",
    "%timeit InjSpec.total_lepton_rate(5, 0.01)\n",
    "print()\n",
    "print(\"Electron Kernels Test\")\n",
    "print(\"---------------\")\n",
    "print(\"Double photon\")\n",
    "%timeit InjSpec.dphoton_pair_prod_kernel(5, 0.01, 8)\n",
    "print(\"BH\")\n",
    "%timeit InjSpec.bethe_heitler_pair_prod_kernel(5, 0.01, 8)\n",
    "print(\"CS\")\n",
    "%timeit InjSpec.compton_scattering_kernel_electron(5, 0.01, 8)\n",
    "print(\"Inverse CS\")\n",
    "%timeit InjSpec.inverse_compton_kernel_lepton(5, 0.01, 8)\n",
    "print(\"total\")\n",
    "%timeit InjSpec.total_kernel_electron(5, 0.01, 8, 0)"
   ]
  },
  {
   "cell_type": "code",
   "execution_count": null,
   "metadata": {},
   "outputs": [],
   "source": [
    "print(\"Positron Rates Test\")\n",
    "print(\"---------------\")\n",
    "print(\"Inverse CS\")\n",
    "%timeit InjSpec.inverse_compton_rate(5, 0.01)\n",
    "print(\"total\")\n",
    "%timeit InjSpec.total_lepton_rate(5, 0.01)\n",
    "print()\n",
    "print(\"Positron Kernels Test\")\n",
    "print(\"---------------\")\n",
    "print(\"Double photon\")\n",
    "%timeit InjSpec.dphoton_pair_prod_kernel(5, 0.01, 8)\n",
    "print(\"BH\")\n",
    "%timeit InjSpec.bethe_heitler_pair_prod_kernel(5, 0.01, 8)\n",
    "print(\"CS\")\n",
    "%timeit InjSpec.compton_scattering_kernel_electron(5, 0.01, 8)\n",
    "print(\"Inverse CS\")\n",
    "%timeit InjSpec.inverse_compton_kernel_lepton(5, 0.01, 8)\n",
    "print(\"total\")\n",
    "%timeit InjSpec.total_kernel_positron(5, 0.01, 8, 0)"
   ]
  },
  {
   "cell_type": "code",
   "execution_count": null,
   "metadata": {},
   "outputs": [],
   "source": [
    "%timeit InjSpec.dphoton_pair_prod_rate(5, 0.01)"
   ]
  },
  {
   "cell_type": "code",
   "execution_count": null,
   "metadata": {},
   "outputs": [],
   "source": [
    "InjSpec.dphoton_pair_prod_rate(5, 0.01)"
   ]
  },
  {
   "cell_type": "code",
   "execution_count": null,
   "metadata": {},
   "outputs": [],
   "source": [
    "a = jnp.linspace(1, 10, 10)\n",
    "a = jnp.where(a > 5, 0, a)\n",
    "print(a)"
   ]
  },
  {
   "cell_type": "code",
   "execution_count": null,
   "metadata": {},
   "outputs": [],
   "source": [
    "from scipy.integrate import dblquad, quad\n",
    "from scipy.special import erf, jv\n",
    "\n",
    "\n",
    "def h(t, z):\n",
    "    return f(t) * g(z)\n",
    "\n",
    "\n",
    "def f(t):\n",
    "    return 0.5 * t * (erf(t - a) - 1) * jv(0, q * t)\n",
    "\n",
    "\n",
    "def g(z):\n",
    "    return math.exp(-((z - a) ** 2)/(2 * (s ** 2)))\n",
    "\n",
    "\n",
    "def h1(z):\n",
    "    return integral_of_f(z) * g(z)\n",
    "\n",
    "def integral_of_f(z):\n",
    "    return quad(f, 0, 2 * z)[0]  # here abserr is discarded\n",
    "\n",
    "\n",
    "if __name__ == '__main__':\n",
    "    a, q, s = 0, 2, 3  # set the constants\n",
    "\n",
    "    result, abserr = dblquad(h, 0, 60, lambda z: 0, lambda z: 2 * z)\n",
    "    print(f'result: {result}, abserr: {abserr}')\n",
    "\n",
    "    result1 = quad(h1, 0, 60)[0]  # abserr here for result1 is not valid since abserr is already discarded in the function integral_of_f\n",
    "    print(f'result1: {result1}')\n"
   ]
  },
  {
   "cell_type": "code",
   "execution_count": 11,
   "metadata": {},
   "outputs": [],
   "source": [
    "@jax.jit\n",
    "def f_thermal_photon_spec(ep, T):\n",
    "    return (ep**2)/jnp.pi**2 * 1/(jnp.exp(ep/T) - 1)\n",
    "#\n",
    "@jax.jit\n",
    "def dp_integrand(s, ep, T):\n",
    "    s = jnp.exp(s)\n",
    "    ep = jnp.exp(ep)\n",
    "    b = jnp.sqrt(1 - (4*me**2)/s)\n",
    "    dp_cross_section = jnp.pi * aFS**2 /(2*me**2) * (1-b**2) * ((3-b**4) * jnp.log((1+b)/(1-b)) - 2*b *(2-b**2))  \n",
    "    return f_thermal_photon_spec(ep, T)/ep**2 * dp_cross_section * s *ep *s  \n",
    "\n",
    "@jax.jit\n",
    "def dphoton_pair_prod_rate(E, T):\n",
    "\n",
    "    #Check if incoming energy is greater than me^2/(22T)\n",
    "    #acropolis uses 50T for a smaller threshold\n",
    "    \"\"\"    if (type(E) != float) and (type(E) != int):\n",
    "        E = jnp.where(E < (me**2)/(50*T), 0, E)\n",
    "    else:\n",
    "    \"\"\"\n",
    "    #if E < (me**2)/(50*T):\n",
    "    #    return 0\n",
    "    \n",
    "    @jax.jit\n",
    "    def inside_int(s):\n",
    "        s = jnp.exp(s)\n",
    "        b = jnp.sqrt(1 - (4*me**2)/s)\n",
    "        dp_cross_section = jnp.pi * aFS**2 /(2*me**2) * (1-b**2) * ((3-b**4) * jnp.log((1+b)/(1-b)) - 2*b *(2-b**2))  \n",
    "        return dp_cross_section * s *s  \n",
    "    \n",
    "    @jax.jit\n",
    "    def integral_of_inside(ep):\n",
    "        return quadgk(inside_int, [jnp.log(4*me**2), jnp.log(4*E *ep)], epsrel = eps/10, epsabs=0)[0]\n",
    "    \n",
    "    @jax.jit\n",
    "    def outside_integral(ep, T):\n",
    "        ep = jnp.exp(ep)\n",
    "        return integral_of_inside(ep) * f_thermal_photon_spec(ep, T)/ep**2 *ep\n",
    "\n",
    "\n",
    "\n",
    "    ep_ll = jnp.log((me**2)/E)\n",
    "    ep_ul = jnp.log(Ephb_T_max*T)\n",
    "\n",
    "    #I_dp_pp = dblquad(dp_integrand, ep_ll, ep_ul, lambda x: jnp.log(4*me**2), lambda x: jnp.log(4*E) + x, epsrel = eps, epsabs=0, args=(T,)) \n",
    "    I_dp_pp = quadgk(outside_integral, [ep_ll, ep_ul], epsrel = eps, epsabs=0, args=(T,))\n",
    "    return 1/(8*E**2) * I_dp_pp[0]"
   ]
  },
  {
   "cell_type": "code",
   "execution_count": 97,
   "metadata": {},
   "outputs": [],
   "source": [
    "@jax.jit\n",
    "def icre_integrand(E_ph, ep, E, T):\n",
    "    #equation B.23 in Hufnagel 2018\n",
    "    F = F_func(E_ph, E, ep)\n",
    "    return f_thermal_photon_spec(ep, T)/ep * F\n",
    "@jax.jit\n",
    "def F_func(E, Ep, ep):   \n",
    "        \"\"\"Function used for calculating rates and kernels related to inverse compton scattering \n",
    "\n",
    "        Parameters\n",
    "        ----------\n",
    "        E: float \n",
    "            Energy of outgoing particle (MeV)\n",
    "        Ep: float \n",
    "            E', energy of incoming particle (MeV)\n",
    "        ep: float\n",
    "            epsilon, energy of thermal bath\n",
    "\n",
    "        Returns\n",
    "        -------\n",
    "        float \n",
    "            F(E, E', epsilon), which is (dimensionless)\n",
    "        \"\"\"\n",
    "        \n",
    "        \n",
    "        #should never happen if limits are right\n",
    "        '''\n",
    "        if not (ep <= E <= (4*ep*Ep**2)/(me**2 + 4*ep*Ep)):\n",
    "            return 0\n",
    "        '''\n",
    "        \n",
    "        G_ep = 4*ep*Ep/(me**2)\n",
    "        q = E/(G_ep*(Ep-E))\n",
    "        F = 2*q*jnp.log(q) + (1+2*q)*(1-q) + G_ep**2 * q**2 * (1 - q)/(2+2*G_ep*q)\n",
    "\n",
    "        return F\n",
    "\n",
    "@jax.jit\n",
    "def inverse_compton_rate(E, T):\n",
    "        \"\"\" \n",
    "        Inverse Compton Scattering Rate Eq. B.24 in Hufnagel 2018\n",
    "        \n",
    "        Parameters\n",
    "        ----------\n",
    "        E: float\n",
    "            Energy of outgoing particle (MeV)\n",
    "        T: float\n",
    "            Temperature of the thermal bath (MeV)\n",
    "\n",
    "        Returns\n",
    "        -------\n",
    "        float\n",
    "            Gamma^IC_e+- (MeV)\n",
    "            \n",
    "        \"\"\"\n",
    "        @jax.jit\n",
    "        def inside_int(E_ph, E, ep):\n",
    "            return F_func(E_ph, E, ep)\n",
    "        \n",
    "        @jax.jit\n",
    "        def integral_of_inside(ep, E):\n",
    "            return quadgk(inside_int, [ep, 4*ep*E**2 /(me**2 + 4*ep*E)], epsrel = eps/10, epsabs=0, args = (E, ep))[0]\n",
    "\n",
    "        @jax.jit\n",
    "        def outside_integral(ep, T, E):\n",
    "            return integral_of_inside(ep, E) * f_thermal_photon_spec(ep, T)/ep\n",
    "        \n",
    "        ep_ll = 0\n",
    "        ep_ul = jnp.minimum(E - (me**2)/(4*E), Ephb_T_max*T)\n",
    "        #E_ph_ll = lambda x: x\n",
    "        #E_ph_ul = lambda x: 4*x*E**2 /(me**2 + 4*x*E)\n",
    "\n",
    "        #return 2*jnp.pi*aFS**2 /E**2 * dblquad(icre_integrand, ep_ll, ep_ul, E_ph_ll, E_ph_ul,  epsrel=eps, epsabs=0, args=(E, T))[0]\n",
    "        return 2*jnp.pi*aFS**2 /E**2 * quadgk(outside_integral, [ep_ll, ep_ul], epsrel=eps, epsabs=0, args=(T, E))[0]\n",
    "\n",
    "#@jax.jit\n",
    "def inverse_compton_rate_vmap(E, T):\n",
    "        \"\"\" \n",
    "        Inverse Compton Scattering Rate Eq. B.24 in Hufnagel 2018\n",
    "        \n",
    "        Parameters\n",
    "        ----------\n",
    "        E: float\n",
    "            Energy of outgoing particle (MeV)\n",
    "        T: float\n",
    "            Temperature of the thermal bath (MeV)\n",
    "\n",
    "        Returns\n",
    "        -------\n",
    "        float\n",
    "            Gamma^IC_e+- (MeV)\n",
    "            \n",
    "        \"\"\"\n",
    "        @jax.jit\n",
    "        def inside_int(E_ph, E, ep):\n",
    "            return F_func(E_ph, E, ep)\n",
    "        \n",
    "        @jax.jit\n",
    "        def integral_of_inside(ep, E):\n",
    "            I_i =  jax.vmap(quadgk, in_axes=(None, 0, 1, None, None, None))(inside_int, [ep, 4*ep*E**2 /(me**2 + 4*ep*E)], jnp.array((E, ep)), False, 0,  eps)\n",
    "            return I_i[0]\n",
    "        @jax.jit\n",
    "        def outside_integral(ep, T, E):\n",
    "            return integral_of_inside(ep, E) * f_thermal_photon_spec(ep, T)/ep\n",
    "        \n",
    "        \n",
    "        ep_ul = jnp.minimum(E - (me**2)/(4*E), Ephb_T_max*T)\n",
    "        ep_ll = jnp.zeros_like(ep_ul)\n",
    "        #E_ph_ll = lambda x: x\n",
    "        #E_ph_ul = lambda x: 4*x*E**2 /(me**2 + 4*x*E)\n",
    "\n",
    "        #return 2*jnp.pi*aFS**2 /E**2 * dblquad(icre_integrand, ep_ll, ep_ul, E_ph_ll, E_ph_ul,  epsrel=eps, epsabs=0, args=(E, T))[0]\n",
    "        I =  2*jnp.pi*aFS**2 /E**2 * jax.vmap(quadgk, in_axes=(None, 0, 0, None, None, None))(outside_integral, [ep_ll, ep_ul], jnp.array((T, E)), False, 0, eps)\n",
    "        return I[0]"
   ]
  },
  {
   "cell_type": "code",
   "execution_count": 98,
   "metadata": {},
   "outputs": [],
   "source": [
    "def printing(a, b, c, d, e):\n",
    "    return (a, b, c, d, e)"
   ]
  },
  {
   "cell_type": "code",
   "execution_count": null,
   "metadata": {},
   "outputs": [],
   "source": [
    "jax.vmap(printing, in_axes=[0, 1, None, None, 0])(jnp.arange(5), jnp.zeros((2, 5)), 0, 0, jnp.arange(5))"
   ]
  },
  {
   "cell_type": "code",
   "execution_count": null,
   "metadata": {},
   "outputs": [],
   "source": [
    "import time\n",
    "test_energies = jnp.linspace(1, 10, 10)\n",
    "inverse_compton_rate_vmap(test_energies, jnp.full_like(test_energies, 0.01))\n",
    "start = time.time()\n",
    "print(\"hello\")\n",
    "end = time.time()\n",
    "print(end - start)"
   ]
  },
  {
   "cell_type": "code",
   "execution_count": 9,
   "metadata": {},
   "outputs": [],
   "source": [
    "@jax.jit\n",
    "def loopfunc(E_list):\n",
    "    for E_i in E_list:\n",
    "        print(inverse_compton_rate(E_i, 0.01))"
   ]
  },
  {
   "cell_type": "code",
   "execution_count": null,
   "metadata": {},
   "outputs": [],
   "source": [
    "start = time.time()\n",
    "loopfunc(test_energies)\n",
    "end = time.time()\n",
    "print(\"time\", end - start)"
   ]
  },
  {
   "cell_type": "code",
   "execution_count": 16,
   "metadata": {},
   "outputs": [],
   "source": [
    "X_grid = jnp.arange(3)\n",
    "E_grid = jnp.logspace(jnp.log(Emin), jnp.log(5), 50, base=jnp.e)\n",
    "x1, x2 = jnp.meshgrid(X_grid, E_grid, indexing='ij')\n",
    "\n"
   ]
  },
  {
   "cell_type": "code",
   "execution_count": null,
   "metadata": {},
   "outputs": [],
   "source": [
    "x1.flatten()"
   ]
  },
  {
   "cell_type": "code",
   "execution_count": null,
   "metadata": {},
   "outputs": [],
   "source": [
    "x2.flatten()"
   ]
  },
  {
   "cell_type": "code",
   "execution_count": null,
   "metadata": {},
   "outputs": [],
   "source": [
    "jax.vmap(InjSpec.rate_x, in_axes=(0, 0, None))(x1.flatten(), x2.flatten(), 0.01) "
   ]
  },
  {
   "cell_type": "code",
   "execution_count": null,
   "metadata": {},
   "outputs": [],
   "source": [
    "jnp.array([[InjSpec.rate_x(X, E, 0.01) for E in E_grid] for X in X_grid])"
   ]
  },
  {
   "cell_type": "code",
   "execution_count": 118,
   "metadata": {},
   "outputs": [],
   "source": [
    "ii, jj, kk, ll = jnp.meshgrid( X_grid, X_grid,E_grid, E_grid,indexing='ij')"
   ]
  },
  {
   "cell_type": "code",
   "execution_count": 160,
   "metadata": {},
   "outputs": [],
   "source": [
    "a =  jax.vmap(InjSpec.kernel_x, in_axes=(0, 0, 0, None, 0))(ii.flatten(), jj.flatten(), kk.flatten(), 0.01, ll.flatten())\n",
    "a = jnp.reshape(a, (3, 3, 10, 10))\n",
    "a = jnp.nan_to_num(a)\n"
   ]
  },
  {
   "cell_type": "code",
   "execution_count": 161,
   "metadata": {},
   "outputs": [],
   "source": [
    "b = jnp.array([[[[InjSpec.kernel_x(X, X_out, E, 0.01, Ep) for Ep in E_grid] for E in E_grid] for X_out in X_grid] for X in X_grid])\n",
    "b = jnp.nan_to_num(b)"
   ]
  },
  {
   "cell_type": "code",
   "execution_count": null,
   "metadata": {},
   "outputs": [],
   "source": [
    "%timeit jax.vmap(InjSpec.rate_x, in_axes=(0, 0, None))(x1.flatten(), x2.flatten(), 0.01) "
   ]
  },
  {
   "cell_type": "code",
   "execution_count": null,
   "metadata": {},
   "outputs": [],
   "source": [
    "inverse_compton_rate(test_energies, 0.01)"
   ]
  },
  {
   "cell_type": "code",
   "execution_count": null,
   "metadata": {},
   "outputs": [],
   "source": [
    "start = time.time()\n",
    "print(jax.vmap(inverse_compton_rate, in_axes = (0, None))(test_energies, 0.01))\n",
    "end = time.time()\n",
    "print(\"time\", end - start)"
   ]
  },
  {
   "cell_type": "code",
   "execution_count": null,
   "metadata": {},
   "outputs": [],
   "source": [
    "%timeit loopfunc(test_energies)"
   ]
  },
  {
   "cell_type": "code",
   "execution_count": null,
   "metadata": {},
   "outputs": [],
   "source": [
    "%timeit print(jax.vmap(inverse_compton_rate, in_axes = (0, None))(test_energies, 0.01))"
   ]
  },
  {
   "cell_type": "code",
   "execution_count": null,
   "metadata": {},
   "outputs": [],
   "source": [
    "dphoton_pair_prod_rate(5, 0.01)"
   ]
  },
  {
   "cell_type": "code",
   "execution_count": null,
   "metadata": {},
   "outputs": [],
   "source": [
    "%timeit dphoton_pair_prod_rate(5, 0.01)"
   ]
  },
  {
   "cell_type": "code",
   "execution_count": null,
   "metadata": {},
   "outputs": [],
   "source": [
    "%timeit dphoton_pair_prod_rate(5, 0.01)"
   ]
  },
  {
   "cell_type": "code",
   "execution_count": null,
   "metadata": {},
   "outputs": [],
   "source": [
    "%timeit dphoton_pair_prod_rate(5, 0.01)"
   ]
  },
  {
   "cell_type": "code",
   "execution_count": null,
   "metadata": {},
   "outputs": [],
   "source": [
    "def test_func(x, y, z):\n",
    "    return x*y\n",
    "\n",
    "dblquad(test_func, 0, 1, lambda x: 0, lambda x: 4.*x , args=(2, ))"
   ]
  },
  {
   "cell_type": "code",
   "execution_count": 85,
   "metadata": {},
   "outputs": [],
   "source": [
    "from quadax import quadgk, quadcc, quadts, romberg"
   ]
  },
  {
   "cell_type": "code",
   "execution_count": 11,
   "metadata": {},
   "outputs": [],
   "source": [
    "gaussian = lambda x: 1/jnp.sqrt(jnp.pi) * jnp.exp(-x**2)"
   ]
  },
  {
   "cell_type": "code",
   "execution_count": null,
   "metadata": {},
   "outputs": [],
   "source": [
    "quadgk(gaussian, [0, 1])"
   ]
  },
  {
   "cell_type": "code",
   "execution_count": null,
   "metadata": {},
   "outputs": [],
   "source": [
    "%timeit quadgk(gaussian, [0, 1])"
   ]
  },
  {
   "cell_type": "code",
   "execution_count": null,
   "metadata": {},
   "outputs": [],
   "source": [
    "%timeit quadcc(gaussian, [0, 1])"
   ]
  },
  {
   "cell_type": "code",
   "execution_count": null,
   "metadata": {},
   "outputs": [],
   "source": [
    "%timeit quadts(gaussian, [0, 1])"
   ]
  },
  {
   "cell_type": "code",
   "execution_count": null,
   "metadata": {},
   "outputs": [],
   "source": [
    "%timeit quad(gaussian, 0, 1)"
   ]
  },
  {
   "cell_type": "code",
   "execution_count": null,
   "metadata": {},
   "outputs": [],
   "source": [
    "%timeit romberg(gaussian, [0, 1])"
   ]
  },
  {
   "cell_type": "code",
   "execution_count": null,
   "metadata": {},
   "outputs": [],
   "source": [
    "%timeit jc.scipy.integrate.romb(gaussian, 0, 1)"
   ]
  },
  {
   "cell_type": "code",
   "execution_count": null,
   "metadata": {},
   "outputs": [],
   "source": [
    "inverse_compton_rate(3, 0.01)"
   ]
  },
  {
   "cell_type": "code",
   "execution_count": null,
   "metadata": {},
   "outputs": [],
   "source": [
    "inverse_compton_rate(3, 0.01)"
   ]
  },
  {
   "cell_type": "code",
   "execution_count": null,
   "metadata": {},
   "outputs": [],
   "source": [
    "inverse_compton_rate(3, 0.01)"
   ]
  },
  {
   "cell_type": "code",
   "execution_count": 35,
   "metadata": {},
   "outputs": [],
   "source": [
    "def photon_photon_scattering_rate(E, T):\n",
    "\n",
    "    exp_fac = jnp.exp(-E*T/me**2)\n",
    "\n",
    "    return 15568*(jnp.pi**3)/(3189375) * aFS**4 * me * (E/me)**3 * (T/me)**6 * exp_fac\n"
   ]
  },
  {
   "cell_type": "code",
   "execution_count": 5,
   "metadata": {},
   "outputs": [],
   "source": [
    "import math\n",
    "import time"
   ]
  },
  {
   "cell_type": "code",
   "execution_count": 12,
   "metadata": {},
   "outputs": [],
   "source": [
    "def _rate_photon_photon( E, T):\n",
    "    #if E > me2/T:\n",
    "    #    return 0.\n",
    "    expf = math.exp( -E*T/me**2 )\n",
    "\n",
    "    return 0.151348 * (aFS**4.) * me * (E/me)**3. * (T/me)**6. * expf\n",
    "\n",
    "@jax.jit\n",
    "def photon_photon_scattering_rate_jit(E, T):\n",
    "\n",
    "    exp_fac = jnp.exp(-E*T/me**2)\n",
    "\n",
    "    return 15568*(jnp.pi**3)/(3189375) * aFS**4 * me * (E/me)**3 * (T/me)**6 * exp_fac\n",
    "\n",
    "@jax.jit\n",
    "def photon_photon_scattering_rate_lax(E, T):\n",
    "\n",
    "    exp_fac = jax.lax.exp(-E*T/me**2)\n",
    "\n",
    "    return 15568*(jnp.pi**3)/(3189375) * aFS**4 * me * (E/me)**3 * (T/me)**6 * exp_fac\n"
   ]
  },
  {
   "cell_type": "code",
   "execution_count": 13,
   "metadata": {},
   "outputs": [
    {
     "name": "stdout",
     "output_type": "stream",
     "text": [
      "0.12168550491333008\n"
     ]
    }
   ],
   "source": [
    "start = time.time()\n",
    "#for i in range(10000):\n",
    "photon_photon_scattering_rate_lax(jnp.full((100), 5), jnp.full((100), 0.01))\n",
    "end = time.time()\n",
    "print(end-start)"
   ]
  },
  {
   "cell_type": "code",
   "execution_count": 19,
   "metadata": {},
   "outputs": [
    {
     "name": "stdout",
     "output_type": "stream",
     "text": [
      "0.04653573036193848\n"
     ]
    }
   ],
   "source": [
    "start = time.time()\n",
    "#for i in range(10000):\n",
    "photon_photon_scattering_rate_jit(jnp.full((100), 5), jnp.full((100), 0.01))\n",
    "end = time.time()\n",
    "print(end-start)"
   ]
  },
  {
   "cell_type": "code",
   "execution_count": 18,
   "metadata": {},
   "outputs": [
    {
     "name": "stdout",
     "output_type": "stream",
     "text": [
      "0.0024123191833496094\n"
     ]
    }
   ],
   "source": [
    "n = 1000\n",
    "start = time.time()\n",
    "#for i in range(10000):\n",
    "jax.vmap(photon_photon_scattering_rate_jit, in_axes=(0, 0))(jnp.full((n), 5), jnp.full((n), 0.01))\n",
    "end = time.time()\n",
    "print(end-start)"
   ]
  },
  {
   "cell_type": "code",
   "execution_count": 17,
   "metadata": {},
   "outputs": [
    {
     "name": "stdout",
     "output_type": "stream",
     "text": [
      "0.0011630058288574219\n"
     ]
    }
   ],
   "source": [
    "start = time.time()\n",
    "for i in range(n):\n",
    "    _rate_photon_photon(5, 0.01)\n",
    "end = time.time()\n",
    "print(end-start)"
   ]
  },
  {
   "cell_type": "code",
   "execution_count": null,
   "metadata": {},
   "outputs": [],
   "source": []
  }
 ],
 "metadata": {
  "kernelspec": {
   "display_name": "linx",
   "language": "python",
   "name": "python3"
  },
  "language_info": {
   "codemirror_mode": {
    "name": "ipython",
    "version": 3
   },
   "file_extension": ".py",
   "mimetype": "text/x-python",
   "name": "python",
   "nbconvert_exporter": "python",
   "pygments_lexer": "ipython3",
   "version": "3.13.0"
  }
 },
 "nbformat": 4,
 "nbformat_minor": 2
}
