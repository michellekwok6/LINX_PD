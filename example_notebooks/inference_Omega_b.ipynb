{
 "cells": [
  {
   "cell_type": "markdown",
   "metadata": {},
   "source": [
    "# Toy BBN Confidence Interval for $\\Omega_b h^2$ with Profile Likelihood Test"
   ]
  },
  {
   "cell_type": "markdown",
   "metadata": {},
   "source": [
    "## Preamble"
   ]
  },
  {
   "cell_type": "code",
   "execution_count": 1,
   "metadata": {},
   "outputs": [],
   "source": [
    "%load_ext autoreload"
   ]
  },
  {
   "cell_type": "code",
   "execution_count": 3,
   "metadata": {},
   "outputs": [],
   "source": [
    "%autoreload 2\n",
    "\n",
    "import numpy as np\n",
    "import matplotlib.pyplot as plt\n",
    "import pickle\n",
    "import seaborn as sns\n",
    "from cycler import cycler\n",
    "\n",
    "import sys\n",
    "sys.path.append('..')\n",
    "\n",
    "from tqdm.notebook import tqdm\n",
    "import numpy as np\n",
    "import jax\n",
    "import jax.numpy as jnp\n",
    "from jax import vmap, grad, value_and_grad,jit\n",
    "import matplotlib.pyplot as plt\n",
    "import matplotlib.pylab as pylab\n",
    "\n",
    "%matplotlib inline"
   ]
  },
  {
   "cell_type": "code",
   "execution_count": 24,
   "metadata": {},
   "outputs": [],
   "source": [
    "# Load plot settings\n",
    "\n",
    "from plot_params import params\n",
    "#pylab.rcParams.update(params)\n",
    "\n",
    "#cols_default = plt.rcParams['axes.prop_cycle'].by_key()['color']"
   ]
  },
  {
   "cell_type": "code",
   "execution_count": 5,
   "metadata": {},
   "outputs": [],
   "source": [
    "from linx.background import BackgroundModel\n",
    "from linx.nuclear import NuclearRates \n",
    "from linx.abundances import AbundanceModel\n",
    "from linx.const import eta0"
   ]
  },
  {
   "cell_type": "markdown",
   "metadata": {},
   "source": [
    "## Inference"
   ]
  },
  {
   "cell_type": "markdown",
   "metadata": {},
   "source": [
    "This notebook demonstrates how to obtain confidence intervals on parameters such as $\\Omega_b h^2$ using BBN data, by performing a profile likelihood test. As a toy example, we will only profile over two rates that are important for D/H prediction: $d(d,n)$ $^3\\mathrm{He}$, and $d(d,p)t$. \n",
    "\n",
    "First, we compute the background quantities. "
   ]
  },
  {
   "cell_type": "code",
   "execution_count": 6,
   "metadata": {},
   "outputs": [
    {
     "name": "stdout",
     "output_type": "stream",
     "text": [
      "`\\         /´  ||||        ||||  |||||     ||||  ||||   ||||\n",
      " /\\_______/\\   ||||        ||||  |||||||   ||||   |||| ||||\n",
      " ) __` ´__ (   ||||        ||||  |||| |||| ||||    |||||||\n",
      "/  `-|_|-´  \\  ||||        ||||  ||||  |||| |||    ||||||| \n",
      "/   (_x_)   \\  ||||||||||  ||||  ||||   |||||||   |||| ||||\n",
      "  )  `-´  (    ||||||||||  ||||  ||||    ||||||  ||||   ||||\n",
      " \n",
      "Compiling thermodynamics model...\n"
     ]
    }
   ],
   "source": [
    "bkg_model = BackgroundModel()\n",
    "\n",
    "# Call the class. \n",
    "t_vec, a_vec, rho_g_vec, rho_nu_vec, rho_NP_vec, p_NP_vec, Neff_vec = bkg_model(jnp.asarray(0.))"
   ]
  },
  {
   "cell_type": "markdown",
   "metadata": {},
   "source": [
    "Next, we define an abundance model. We'll pick the `key_PRIMAT_2023` nuclear network. "
   ]
  },
  {
   "cell_type": "code",
   "execution_count": 7,
   "metadata": {},
   "outputs": [],
   "source": [
    "abd_model = AbundanceModel(\n",
    "    NuclearRates(nuclear_net='key_PRIMAT_2023')\n",
    ")"
   ]
  },
  {
   "cell_type": "markdown",
   "metadata": {},
   "source": [
    "We define the following BBN likelihood, based on Aver et al. and Cooke et al. for experimental measurements of $\\text{Y}_\\text{P}$ and D/H respectively: \n",
    "$$\n",
    "    -2 \\log \\mathcal{L} = \\left( \\frac{\\text{D/H}^\\text{pred} - \\text{D/H}^\\text{obs}}{\\sigma_{\\text{D/H}^\\text{obs}}} \\right)^2 + \\left( \\frac{\\text{Y}_\\text{P}^\\text{pred} - \\text{Y}_\\text{P}^\\text{obs}}{\\sigma_{\\text{Y}_\\text{P}^\\text{obs}}} \\right)^2\n",
    "$$\n",
    "We'll write a function for $-2 \\log \\mathcal{L}$, which we take to be a function of the parameter $q$ for each of the two rates, as well as $\\Omega_b h^2$. Remember that the rate $r(T)$ as a function of temperature is given by\n",
    "$$\n",
    "     \\log r (T) = \\log \\overline{r} (T) + q \\sigma (T) \\,,\n",
    "$$\n",
    "where $\\overline{r}$ is the mean value, and $\\sigma$ is the uncertainty associated with $\\log r$. "
   ]
  },
  {
   "cell_type": "code",
   "execution_count": 8,
   "metadata": {},
   "outputs": [],
   "source": [
    "DH_obs_mean = 2.527e-5\n",
    "DH_obs_sig  = 0.03e-5\n",
    "\n",
    "YP_obs_mean = 0.2449\n",
    "YP_obs_sig  = 0.004 "
   ]
  },
  {
   "cell_type": "code",
   "execution_count": 9,
   "metadata": {},
   "outputs": [
    {
     "name": "stdout",
     "output_type": "stream",
     "text": [
      "['npdg', 'dpHe3g', 'ddHe3n', 'ddtp', 'tpag', 'tdan', 'taLi7g', 'He3ntp', 'He3dap', 'He3aBe7g', 'Be7nLi7p', 'Li7paa']\n"
     ]
    }
   ],
   "source": [
    "# Check which entry in nuclear_rates_q corresponds to d(d,n)3He and d(d,p)t\n",
    "print(abd_model.nuclear_net.reactions_names)\n",
    "# It's entry [2] and [3] \n",
    "\n",
    "def get_m2LL(eta_fac, q_ddHe3n, q_ddtp): \n",
    "\n",
    "    # Construct nuclear_rates_q. Use addition of tuples for concatenation. \n",
    "    nuclear_rates_q = jnp.array((0, 0) + (q_ddHe3n, q_ddtp) + (0, 0, 0, 0, 0, 0, 0, 0))\n",
    "\n",
    "    sol = abd_model(\n",
    "        rho_g_vec, rho_nu_vec, \n",
    "        rho_NP_vec, p_NP_vec,\n",
    "        t_vec=t_vec, a_vec=a_vec, \n",
    "        eta_fac = jnp.asarray(eta_fac), \n",
    "        tau_n_fac = jnp.asarray(1.), \n",
    "        nuclear_rates_q = nuclear_rates_q\n",
    "    )\n",
    "\n",
    "    DH_pred = sol[2] / sol[1] \n",
    "    YP_pred = sol[5] * 4 \n",
    "\n",
    "    return ((DH_pred - DH_obs_mean) / DH_obs_sig)**2 + ((YP_pred - YP_obs_mean) / YP_obs_sig)**2 "
   ]
  },
  {
   "cell_type": "markdown",
   "metadata": {},
   "source": [
    "We now define a vectorized version of `get_m2LL`. We want to vectorize over `eta_fac`, `q_ddHe3n` and `q_ddtp`, so this requires nested calls of `vmap`: the inside call vectorizes over `q_ddtp`, and the middle call vectorizes over `q_ddHe3n`, and last one over `eta_fac`. The final `jit` function compiles everything. The function `get_m2LL_v` outputs an array that has dimensions `eta_fac x q_ddHe3n x q_ddtp`. "
   ]
  },
  {
   "cell_type": "code",
   "execution_count": 14,
   "metadata": {},
   "outputs": [],
   "source": [
    "get_m2LL_v = jit(vmap(\n",
    "    vmap(vmap(get_m2LL, in_axes=(None, None, 0)), in_axes=(None, 0, None)), \n",
    "    in_axes=(0, None, None)\n",
    "))"
   ]
  },
  {
   "cell_type": "markdown",
   "metadata": {},
   "source": [
    "Next, we define the values of `eta_fac`, `q_ddHe3n` and `q_ddtp` to scan over, and then obtain an array of $-2 \\log \\mathcal{L}$: "
   ]
  },
  {
   "cell_type": "code",
   "execution_count": 15,
   "metadata": {},
   "outputs": [],
   "source": [
    "eta_fac_ary = jnp.logspace(\n",
    "    jnp.log10(5.6e-10), jnp.log10(6.4e-10), num=50\n",
    ") / eta0\n",
    "q_ddHe3n_ary = jnp.linspace(-5, 5, num=11)\n",
    "q_ddtp_ary = jnp.linspace(-5, 5, num=21)\n",
    "\n",
    "m2LL = get_m2LL_v(eta_fac_ary, q_ddHe3n_ary, q_ddtp_ary)"
   ]
  },
  {
   "cell_type": "markdown",
   "metadata": {},
   "source": [
    "Now let's look at the profile likelihood ratio (or rather -2 times the log of it), and make a plot. "
   ]
  },
  {
   "cell_type": "code",
   "execution_count": 26,
   "metadata": {},
   "outputs": [],
   "source": [
    "import matplotlib as mpl\n",
    "mpl.rcParams.update(mpl.rcParamsDefault)"
   ]
  },
  {
   "cell_type": "code",
   "execution_count": 32,
   "metadata": {},
   "outputs": [
    {
     "data": {
      "image/png": "[encoded data removed]",
      "text/plain": [
       "<Figure size 640x480 with 1 Axes>"
      ]
     },
     "metadata": {},
     "output_type": "display_data"
    }
   ],
   "source": [
    "# Global minimum m2LL\n",
    "m2LL_min = jnp.min(m2LL) \n",
    "# Profile m2LL: \n",
    "m2LL_profiled = jnp.min(jnp.min(m2LL, axis=2), axis=1)\n",
    "\n",
    "plt.plot(eta_fac_ary * eta0, m2LL_profiled - m2LL_min)\n",
    "plt.axhline(1., ls=':', color='gray')\n",
    "plt.axhline(3.84, ls='--', color='gray')\n",
    "plt.text(5.65e-10, 1.5, r'$1 \\sigma$', fontsize=18)\n",
    "plt.text(5.65e-10, 4.5, r'$2 \\sigma$', fontsize=18)\n",
    "\n",
    "plt.xlabel(r'Baryon-to-Photon Ratio $\\eta$')\n",
    "plt.ylabel(r'$2 \\Delta \\log L$')\n",
    "\n",
    "plt.xlim(5.6e-10, 6.4e-10)\n",
    "plt.ylim(-1, 10)\n",
    "plt.show()"
   ]
  },
  {
   "cell_type": "code",
   "execution_count": 33,
   "metadata": {},
   "outputs": [],
   "source": [
    "eta_fac_ary = jnp.logspace(\n",
    "    jnp.log10(5.6e-8), jnp.log10(6.4e-8), num=50\n",
    ") / eta0\n",
    "q_ddHe3n_ary = jnp.linspace(-5, 5, num=11)\n",
    "q_ddtp_ary = jnp.linspace(-5, 5, num=21)\n",
    "\n",
    "m2LL = get_m2LL_v(eta_fac_ary, q_ddHe3n_ary, q_ddtp_ary)"
   ]
  },
  {
   "cell_type": "code",
   "execution_count": 38,
   "metadata": {},
   "outputs": [
    {
     "data": {
      "image/png": "[encoded data removed]",
      "text/plain": [
       "<Figure size 640x480 with 1 Axes>"
      ]
     },
     "metadata": {},
     "output_type": "display_data"
    }
   ],
   "source": [
    "# Global minimum m2LL\n",
    "m2LL_min = jnp.min(m2LL) \n",
    "# Profile m2LL: \n",
    "m2LL_profiled = jnp.min(jnp.min(m2LL, axis=2), axis=1)\n",
    "\n",
    "plt.plot(eta_fac_ary * eta0, m2LL_profiled - m2LL_min)\n",
    "plt.axhline(1., ls=':', color='gray')\n",
    "plt.axhline(3.84, ls='--', color='gray')\n",
    "plt.text(5.65e-8, 1.5, r'$1 \\sigma$', fontsize=18)\n",
    "plt.text(5.65e-8, 4.5, r'$2 \\sigma$', fontsize=18)\n",
    "\n",
    "plt.xlabel(r'Baryon-to-Photon Ratio $\\eta$')\n",
    "plt.ylabel(r'$2 \\Delta \\log L$')\n",
    "\n",
    "plt.xlim(5.6e-8, 6.4e-8)\n",
    "plt.ylim(-1, 10)\n",
    "plt.show()"
   ]
  },
  {
   "cell_type": "code",
   "execution_count": null,
   "metadata": {},
   "outputs": [],
   "source": []
  }
 ],
 "metadata": {
  "kernelspec": {
   "display_name": "Python 3 (ipykernel)",
   "language": "python",
   "name": "python3"
  },
  "language_info": {
   "codemirror_mode": {
    "name": "ipython",
    "version": 3
   },
   "file_extension": ".py",
   "mimetype": "text/x-python",
   "name": "python",
   "nbconvert_exporter": "python",
   "pygments_lexer": "ipython3",
   "version": "3.10.12"
  }
 },
 "nbformat": 4,
 "nbformat_minor": 4
}
