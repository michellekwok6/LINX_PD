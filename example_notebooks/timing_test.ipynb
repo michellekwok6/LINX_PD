{
 "cells": [
  {
   "cell_type": "code",
   "execution_count": 1,
   "metadata": {},
   "outputs": [],
   "source": [
    "%load_ext autoreload"
   ]
  },
  {
   "cell_type": "code",
   "execution_count": 3,
   "metadata": {},
   "outputs": [],
   "source": [
    "%autoreload 2\n",
    "\n",
    "import sys\n",
    "sys.path.append('..')\n",
    "\n",
    "from jax import numpy as jnp\n",
    "import jax\n",
    "import time\n",
    "from scipy.integrate import quad, dblquad\n",
    "import equinox as eqx\n",
    "import jax_cosmo as jc\n",
    "from quadax import quadgk, quadcc, quadts, romberg\n",
    "from functools import partial"
   ]
  },
  {
   "cell_type": "code",
   "execution_count": 4,
   "metadata": {},
   "outputs": [],
   "source": [
    "import matplotlib.pyplot as plt\n",
    "import matplotlib.pylab as pylab\n",
    "import matplotlib.animation as animation \n",
    "from numpy import loadtxt\n",
    "from diffrax import Kvaerno5, Tsit5\n",
    "%matplotlib inline\n",
    "\n",
    "from plot_params import params\n",
    "#pylab.rcParams.update(params)\n",
    "\n",
    "cols_default = plt.rcParams['axes.prop_cycle'].by_key()['color']"
   ]
  },
  {
   "cell_type": "code",
   "execution_count": 5,
   "metadata": {},
   "outputs": [],
   "source": [
    "from linx.background import BackgroundModel\n",
    "from linx.nuclear import NuclearRates \n",
    "from linx.abundances import AbundanceModel\n",
    "from linx.reactions import Reaction\n",
    "from linx.thermo import T_g \n",
    "from linx.const import mn, mp, eta0, hbar, me, aFS, NE_pd, NE_min\n",
    "from scipy.integrate import odeint, solve_ivp, simpson, cumulative_simpson\n",
    "from linx.pd_rates import decay_model\n",
    "from linx.injected_spec import InjectedSpectrum\n",
    "from timeit import timeit\n",
    "eps = 1e-3\n",
    "Emin = 1.5 # MeV\n",
    "Ephb_T_max = 200"
   ]
  },
  {
   "cell_type": "markdown",
   "metadata": {},
   "source": [
    "## Double Photon Rate"
   ]
  },
  {
   "cell_type": "code",
   "execution_count": 6,
   "metadata": {},
   "outputs": [],
   "source": [
    "E_grid = jnp.logspace(jnp.log(Emin), jnp.log(5), 150, base=jnp.e)"
   ]
  },
  {
   "cell_type": "code",
   "execution_count": 7,
   "metadata": {},
   "outputs": [],
   "source": [
    "@jax.jit\n",
    "def f_thermal_photon_spec(ep, T):\n",
    "    \"\"\"Calculates the thermal photon spectrum ie the photon bath\n",
    "\n",
    "    Parameters\n",
    "    ----------\n",
    "    ep: float\n",
    "        Energy which to integrate over (MeV)\n",
    "    T: float\n",
    "        temperature (MeV)\n",
    "\n",
    "    Returns\n",
    "    -------\n",
    "    float\n",
    "        thermal photon spectrum (MeV^2)\n",
    "    \"\"\"\n",
    "\n",
    "    return (ep**2)/jnp.pi**2 * 1/(jnp.exp(ep/T) - 1)\n",
    "\n",
    "@jax.jit\n",
    "def dpr_gk(E, T):\n",
    "    @jax.jit\n",
    "    def inside_int(s):\n",
    "        s = jnp.exp(s)\n",
    "        b = jnp.sqrt(1 - (4*me**2)/s)\n",
    "        dp_cross_section = jnp.pi * aFS**2 /(2*me**2) * (1-b**2) * ((3-b**4) * jnp.log((1+b)/(1-b)) - 2*b *(2-b**2))  \n",
    "        return dp_cross_section * s * s  \n",
    "\n",
    "    @jax.jit\n",
    "    def integral_of_inside(ep):\n",
    "        return quadgk(inside_int, [jnp.log(4*me**2), jnp.log(4*E* ep)], epsrel = eps, epsabs=0)[0]\n",
    "\n",
    "    @jax.jit\n",
    "    def outside_integral(ep, T):\n",
    "        ep = jnp.exp(ep)\n",
    "        return integral_of_inside(ep) * f_thermal_photon_spec(ep, T)/ep\n",
    "\n",
    "\n",
    "    ep_ll = jnp.log((me**2)/E)\n",
    "    ep_ul = jnp.log(Ephb_T_max*T)\n",
    "\n",
    "    #I_dp_pp = 1/(8*E**2) * dblquad(dpr_integrand, ep_ll, ep_ul, lambda x: jnp.log(4*me**2), lambda x: jnp.log(4*E) + x, epsrel=eps, epsabs=0, args=(T,))[0]\n",
    "    I_dp_pp = 1/(8*E**2) * quadgk(outside_integral, [ep_ll, ep_ul], epsrel=eps, epsabs=0, args=(T,))[0]\n",
    "\n",
    "    #return I_dp_pp\n",
    "    return jnp.select([E < (me**2)/(50*T)], [0], default=I_dp_pp)\n"
   ]
  },
  {
   "cell_type": "code",
   "execution_count": 8,
   "metadata": {},
   "outputs": [],
   "source": [
    "@jax.jit\n",
    "def dpr_trapz(E, T):\n",
    "    @jax.jit\n",
    "    def inside_int(s):\n",
    "        s = jnp.exp(s)\n",
    "        b = jnp.sqrt(1 - (4*me**2)/s)\n",
    "        dp_cross_section = jnp.pi * aFS**2 /(2*me**2) * (1-b**2) * ((3-b**4) * jnp.log((1+b)/(1-b)) - 2*b *(2-b**2))  \n",
    "        return dp_cross_section * s * s  \n",
    "\n",
    "    @jax.jit\n",
    "    def integral_of_inside(ep):\n",
    "        s_values = jnp.linspace(jnp.log(4*me**2), jnp.log(4*E* ep), 200)\n",
    "        integrand_values = inside_int(s_values)\n",
    "        return jnp.trapezoid(integrand_values, s_values)\n",
    "\n",
    "    @jax.jit\n",
    "    def outside_integral(ep, T):\n",
    "        ep = jnp.exp(ep)\n",
    "        return integral_of_inside(ep) * f_thermal_photon_spec(ep, T)/ep\n",
    "\n",
    "    ep_ll = jnp.log((me**2)/E)\n",
    "    ep_ul = jnp.log(Ephb_T_max*T)\n",
    "\n",
    "    ep_values = jnp.linspace(ep_ll, ep_ul, 200)\n",
    "    integrand_values = outside_integral(ep_values, T)\n",
    "    I_dp_pp = 1/(8*E**2) * jnp.trapezoid(integrand_values, ep_values)\n",
    "\n",
    "    return jnp.select([E < (me**2)/(50*T)], [0], default=I_dp_pp)"
   ]
  },
  {
   "cell_type": "code",
   "execution_count": 9,
   "metadata": {},
   "outputs": [],
   "source": [
    "@jax.jit\n",
    "def dpr_gk_trapz(E, T):\n",
    "\n",
    "    @jax.jit\n",
    "    def integral_of_inside(ep):\n",
    "        s_log = jnp.linspace(jnp.log(4*me**2), jnp.log(4*E* ep), 200)\n",
    "        s = jnp.exp(s_log)\n",
    "        b = jnp.sqrt(1 - (4*me**2)/s)\n",
    "        dp_cross_section = jnp.pi * aFS**2 /(2*me**2) * (1-b**2) * ((3-b**4) * jnp.log((1+b)/(1-b)) - 2*b *(2-b**2))  \n",
    "\n",
    "        return jnp.trapezoid(dp_cross_section * s * s  , s_log)\n",
    "\n",
    "    @jax.jit\n",
    "    def outside_integral(ep, T):\n",
    "        ep = jnp.exp(ep)\n",
    "        return integral_of_inside(ep) * f_thermal_photon_spec(ep, T)/ep\n",
    "\n",
    "\n",
    "    ep_ll = jnp.log((me**2)/E)\n",
    "    ep_ul = jnp.log(Ephb_T_max*T)\n",
    "\n",
    "    #I_dp_pp = 1/(8*E**2) * dblquad(dpr_integrand, ep_ll, ep_ul, lambda x: jnp.log(4*me**2), lambda x: jnp.log(4*E) + x, epsrel=eps, epsabs=0, args=(T,))[0]\n",
    "    I_dp_pp = 1/(8*E**2) * quadgk(outside_integral, [ep_ll, ep_ul], epsrel=eps, epsabs=0, args=(T,))[0]\n",
    "\n",
    "    #return I_dp_pp\n",
    "    return jnp.select([E < (me**2)/(50*T)], [0], default=I_dp_pp)\n"
   ]
  },
  {
   "cell_type": "code",
   "execution_count": 10,
   "metadata": {},
   "outputs": [],
   "source": [
    "@jax.jit\n",
    "def F_func(E, Ep, ep):   \n",
    "        \n",
    "        G_ep = 4*ep*Ep/(me**2)\n",
    "        q = E/(G_ep*(Ep-E))\n",
    "        F = 2*q*jnp.log(q) + (1+2*q)*(1-q) + G_ep**2 * q**2 * (1 - q)/(2+2*G_ep*q)\n",
    "\n",
    "        return F\n",
    "\n",
    "@jax.jit\n",
    "def ic_gk_trapz(E, T):\n",
    "    \n",
    "    @jax.jit\n",
    "    def integral_of_inside(ep, E):\n",
    "        s = jnp.linspace(ep, 4*ep*E**2 /(me**2 + 4*ep*E), 200)\n",
    "        return jnp.trapezoid(F_func(s, E, ep), s)\n",
    "\n",
    "        \n",
    "    @jax.jit\n",
    "    def outside_integral(ep, T, E):\n",
    "        return integral_of_inside(ep, E) * f_thermal_photon_spec(ep, T)/ep\n",
    "    \n",
    "    ep_ll = 0\n",
    "    ep_ul = jnp.minimum(E - (me**2)/(4*E), Ephb_T_max*T)\n",
    "    #E_ph_ll = lambda x: x\n",
    "    #E_ph_ul = lambda x: 4*x*E**2 /(me**2 + 4*x*E)\n",
    "\n",
    "    #return 2*jnp.pi*aFS**2 /E**2 * dblquad(icre_integrand, ep_ll, ep_ul, E_ph_ll, E_ph_ul,  epsrel=eps, epsabs=0, args=(E, T))[0]\n",
    "    return 2*jnp.pi*aFS**2 /E**2 * quadgk(outside_integral, [ep_ll, ep_ul], epsrel=eps, epsabs=0, args=(T, E))[0]\n",
    "\n",
    "def ic_gk(E, T):\n",
    "    \n",
    "    @jax.jit\n",
    "    def inside_int(E_ph, E, ep):\n",
    "        return F_func(E_ph, E, ep)\n",
    "    \n",
    "    @jax.jit\n",
    "    def integral_of_inside(ep, E):\n",
    "        return quadgk(inside_int, [ep, 4*ep*E**2 /(me**2 + 4*ep*E)], epsrel = eps, epsabs=0, args = (E, ep))[0]\n",
    "\n",
    "    @jax.jit\n",
    "    def outside_integral(ep, T, E):\n",
    "        return integral_of_inside(ep, E) * f_thermal_photon_spec(ep, T)/ep\n",
    "    \n",
    "    ep_ll = 0\n",
    "    ep_ul = jnp.minimum(E - (me**2)/(4*E), Ephb_T_max*T)\n",
    "    #E_ph_ll = lambda x: x\n",
    "    #E_ph_ul = lambda x: 4*x*E**2 /(me**2 + 4*x*E)\n",
    "\n",
    "    #return 2*jnp.pi*aFS**2 /E**2 * dblquad(icre_integrand, ep_ll, ep_ul, E_ph_ll, E_ph_ul,  epsrel=eps, epsabs=0, args=(E, T))[0]\n",
    "    return 2*jnp.pi*aFS**2 /E**2 * quadgk(outside_integral, [ep_ll, ep_ul], epsrel=eps, epsabs=0, args=(T, E))[0]\n",
    "\n",
    "def ic_gk_trapz_nojit(E, T):\n",
    "    \n",
    "    @jax.jit\n",
    "    def integral_of_inside(ep, E):\n",
    "        s = jnp.linspace(ep, 4*ep*E**2 /(me**2 + 4*ep*E), 200)\n",
    "        return jnp.trapezoid(F_func(s, E, ep), s)\n",
    "\n",
    "        \n",
    "    @jax.jit\n",
    "    def outside_integral(ep, T, E):\n",
    "        return integral_of_inside(ep, E) * f_thermal_photon_spec(ep, T)/ep\n",
    "    \n",
    "    ep_ll = 0\n",
    "    ep_ul = jnp.minimum(E - (me**2)/(4*E), Ephb_T_max*T)\n",
    "    #E_ph_ll = lambda x: x\n",
    "    #E_ph_ul = lambda x: 4*x*E**2 /(me**2 + 4*x*E)\n",
    "\n",
    "    #return 2*jnp.pi*aFS**2 /E**2 * dblquad(icre_integrand, ep_ll, ep_ul, E_ph_ll, E_ph_ul,  epsrel=eps, epsabs=0, args=(E, T))[0]\n",
    "    return 2*jnp.pi*aFS**2 /E**2 * quadgk(outside_integral, [ep_ll, ep_ul], epsrel=eps, epsabs=0, args=(T, E))[0]\n",
    "\n"
   ]
  },
  {
   "cell_type": "code",
   "execution_count": 26,
   "metadata": {},
   "outputs": [],
   "source": [
    "E_grid = jnp.logspace(jnp.log(Emin), jnp.log(30), 200, base=jnp.e)"
   ]
  },
  {
   "cell_type": "code",
   "execution_count": 27,
   "metadata": {},
   "outputs": [
    {
     "ename": "KeyboardInterrupt",
     "evalue": "",
     "output_type": "error",
     "traceback": [
      "\u001b[0;31m---------------------------------------------------------------------------\u001b[0m",
      "\u001b[0;31mKeyboardInterrupt\u001b[0m                         Traceback (most recent call last)",
      "Cell \u001b[0;32mIn[27], line 1\u001b[0m\n\u001b[0;32m----> 1\u001b[0m \u001b[43mget_ipython\u001b[49m\u001b[43m(\u001b[49m\u001b[43m)\u001b[49m\u001b[38;5;241;43m.\u001b[39;49m\u001b[43mrun_line_magic\u001b[49m\u001b[43m(\u001b[49m\u001b[38;5;124;43m'\u001b[39;49m\u001b[38;5;124;43mtimeit\u001b[39;49m\u001b[38;5;124;43m'\u001b[39;49m\u001b[43m,\u001b[49m\u001b[43m \u001b[49m\u001b[38;5;124;43m'\u001b[39;49m\u001b[38;5;124;43mjax.vmap(ic_gk_trapz, in_axes=(0, None))(E_grid, 0.001)\u001b[39;49m\u001b[38;5;124;43m'\u001b[39;49m\u001b[43m)\u001b[49m\n",
      "File \u001b[0;32m~/miniconda3/envs/linx/lib/python3.13/site-packages/IPython/core/interactiveshell.py:2480\u001b[0m, in \u001b[0;36mInteractiveShell.run_line_magic\u001b[0;34m(self, magic_name, line, _stack_depth)\u001b[0m\n\u001b[1;32m   2478\u001b[0m     kwargs[\u001b[38;5;124m'\u001b[39m\u001b[38;5;124mlocal_ns\u001b[39m\u001b[38;5;124m'\u001b[39m] \u001b[38;5;241m=\u001b[39m \u001b[38;5;28mself\u001b[39m\u001b[38;5;241m.\u001b[39mget_local_scope(stack_depth)\n\u001b[1;32m   2479\u001b[0m \u001b[38;5;28;01mwith\u001b[39;00m \u001b[38;5;28mself\u001b[39m\u001b[38;5;241m.\u001b[39mbuiltin_trap:\n\u001b[0;32m-> 2480\u001b[0m     result \u001b[38;5;241m=\u001b[39m \u001b[43mfn\u001b[49m\u001b[43m(\u001b[49m\u001b[38;5;241;43m*\u001b[39;49m\u001b[43margs\u001b[49m\u001b[43m,\u001b[49m\u001b[43m \u001b[49m\u001b[38;5;241;43m*\u001b[39;49m\u001b[38;5;241;43m*\u001b[39;49m\u001b[43mkwargs\u001b[49m\u001b[43m)\u001b[49m\n\u001b[1;32m   2482\u001b[0m \u001b[38;5;66;03m# The code below prevents the output from being displayed\u001b[39;00m\n\u001b[1;32m   2483\u001b[0m \u001b[38;5;66;03m# when using magics with decorator @output_can_be_silenced\u001b[39;00m\n\u001b[1;32m   2484\u001b[0m \u001b[38;5;66;03m# when the last Python token in the expression is a ';'.\u001b[39;00m\n\u001b[1;32m   2485\u001b[0m \u001b[38;5;28;01mif\u001b[39;00m \u001b[38;5;28mgetattr\u001b[39m(fn, magic\u001b[38;5;241m.\u001b[39mMAGIC_OUTPUT_CAN_BE_SILENCED, \u001b[38;5;28;01mFalse\u001b[39;00m):\n",
      "File \u001b[0;32m~/miniconda3/envs/linx/lib/python3.13/site-packages/IPython/core/magics/execution.py:1195\u001b[0m, in \u001b[0;36mExecutionMagics.timeit\u001b[0;34m(self, line, cell, local_ns)\u001b[0m\n\u001b[1;32m   1193\u001b[0m \u001b[38;5;28;01mfor\u001b[39;00m index \u001b[38;5;129;01min\u001b[39;00m \u001b[38;5;28mrange\u001b[39m(\u001b[38;5;241m0\u001b[39m, \u001b[38;5;241m10\u001b[39m):\n\u001b[1;32m   1194\u001b[0m     number \u001b[38;5;241m=\u001b[39m \u001b[38;5;241m10\u001b[39m \u001b[38;5;241m*\u001b[39m\u001b[38;5;241m*\u001b[39m index\n\u001b[0;32m-> 1195\u001b[0m     time_number \u001b[38;5;241m=\u001b[39m \u001b[43mtimer\u001b[49m\u001b[38;5;241;43m.\u001b[39;49m\u001b[43mtimeit\u001b[49m\u001b[43m(\u001b[49m\u001b[43mnumber\u001b[49m\u001b[43m)\u001b[49m\n\u001b[1;32m   1196\u001b[0m     \u001b[38;5;28;01mif\u001b[39;00m time_number \u001b[38;5;241m>\u001b[39m\u001b[38;5;241m=\u001b[39m \u001b[38;5;241m0.2\u001b[39m:\n\u001b[1;32m   1197\u001b[0m         \u001b[38;5;28;01mbreak\u001b[39;00m\n",
      "File \u001b[0;32m~/miniconda3/envs/linx/lib/python3.13/site-packages/IPython/core/magics/execution.py:173\u001b[0m, in \u001b[0;36mTimer.timeit\u001b[0;34m(self, number)\u001b[0m\n\u001b[1;32m    171\u001b[0m gc\u001b[38;5;241m.\u001b[39mdisable()\n\u001b[1;32m    172\u001b[0m \u001b[38;5;28;01mtry\u001b[39;00m:\n\u001b[0;32m--> 173\u001b[0m     timing \u001b[38;5;241m=\u001b[39m \u001b[38;5;28;43mself\u001b[39;49m\u001b[38;5;241;43m.\u001b[39;49m\u001b[43minner\u001b[49m\u001b[43m(\u001b[49m\u001b[43mit\u001b[49m\u001b[43m,\u001b[49m\u001b[43m \u001b[49m\u001b[38;5;28;43mself\u001b[39;49m\u001b[38;5;241;43m.\u001b[39;49m\u001b[43mtimer\u001b[49m\u001b[43m)\u001b[49m\n\u001b[1;32m    174\u001b[0m \u001b[38;5;28;01mfinally\u001b[39;00m:\n\u001b[1;32m    175\u001b[0m     \u001b[38;5;28;01mif\u001b[39;00m gcold:\n",
      "File \u001b[0;32m<magic-timeit>:1\u001b[0m, in \u001b[0;36minner\u001b[0;34m(_it, _timer)\u001b[0m\n",
      "    \u001b[0;31m[... skipping hidden 1 frame]\u001b[0m\n",
      "File \u001b[0;32m~/miniconda3/envs/linx/lib/python3.13/site-packages/jax/_src/api.py:992\u001b[0m, in \u001b[0;36mvmap.<locals>.vmap_f\u001b[0;34m(*args, **kwargs)\u001b[0m\n\u001b[1;32m    989\u001b[0m axis_size_ \u001b[38;5;241m=\u001b[39m (axis_size \u001b[38;5;28;01mif\u001b[39;00m axis_size \u001b[38;5;129;01mis\u001b[39;00m \u001b[38;5;129;01mnot\u001b[39;00m \u001b[38;5;28;01mNone\u001b[39;00m \u001b[38;5;28;01melse\u001b[39;00m\n\u001b[1;32m    990\u001b[0m               _mapped_axis_size(fun, in_tree, args_flat, in_axes_flat, \u001b[38;5;124m\"\u001b[39m\u001b[38;5;124mvmap\u001b[39m\u001b[38;5;124m\"\u001b[39m))\n\u001b[1;32m    991\u001b[0m \u001b[38;5;28;01mtry\u001b[39;00m:\n\u001b[0;32m--> 992\u001b[0m   out_flat \u001b[38;5;241m=\u001b[39m \u001b[43mbatching\u001b[49m\u001b[38;5;241;43m.\u001b[39;49m\u001b[43mbatch\u001b[49m\u001b[43m(\u001b[49m\n\u001b[1;32m    993\u001b[0m \u001b[43m      \u001b[49m\u001b[43mflat_fun\u001b[49m\u001b[43m,\u001b[49m\u001b[43m \u001b[49m\u001b[43maxis_name\u001b[49m\u001b[43m,\u001b[49m\u001b[43m \u001b[49m\u001b[43maxis_size_\u001b[49m\u001b[43m,\u001b[49m\u001b[43m \u001b[49m\u001b[43min_axes_flat\u001b[49m\u001b[43m,\u001b[49m\n\u001b[1;32m    994\u001b[0m \u001b[43m      \u001b[49m\u001b[38;5;28;43;01mlambda\u001b[39;49;00m\u001b[43m:\u001b[49m\u001b[43m \u001b[49m\u001b[43mflatten_axes\u001b[49m\u001b[43m(\u001b[49m\u001b[38;5;124;43m\"\u001b[39;49m\u001b[38;5;124;43mvmap out_axes\u001b[39;49m\u001b[38;5;124;43m\"\u001b[39;49m\u001b[43m,\u001b[49m\u001b[43m \u001b[49m\u001b[43mout_tree\u001b[49m\u001b[43m(\u001b[49m\u001b[43m)\u001b[49m\u001b[43m,\u001b[49m\u001b[43m \u001b[49m\u001b[43mout_axes\u001b[49m\u001b[43m)\u001b[49m\u001b[43m,\u001b[49m\n\u001b[1;32m    995\u001b[0m \u001b[43m      \u001b[49m\u001b[43mspmd_axis_name\u001b[49m\u001b[38;5;241;43m=\u001b[39;49m\u001b[43mspmd_axis_name\u001b[49m\n\u001b[1;32m    996\u001b[0m \u001b[43m  \u001b[49m\u001b[43m)\u001b[49m\u001b[38;5;241;43m.\u001b[39;49m\u001b[43mcall_wrapped\u001b[49m\u001b[43m(\u001b[49m\u001b[38;5;241;43m*\u001b[39;49m\u001b[43margs_flat\u001b[49m\u001b[43m)\u001b[49m\n\u001b[1;32m    997\u001b[0m \u001b[38;5;28;01mexcept\u001b[39;00m batching\u001b[38;5;241m.\u001b[39mSpecMatchError \u001b[38;5;28;01mas\u001b[39;00m e:\n\u001b[1;32m    998\u001b[0m   out_axes_flat \u001b[38;5;241m=\u001b[39m flatten_axes(\u001b[38;5;124m\"\u001b[39m\u001b[38;5;124mvmap out_axes\u001b[39m\u001b[38;5;124m\"\u001b[39m, out_tree(), out_axes)\n",
      "File \u001b[0;32m~/miniconda3/envs/linx/lib/python3.13/site-packages/jax/_src/linear_util.py:193\u001b[0m, in \u001b[0;36mWrappedFun.call_wrapped\u001b[0;34m(self, *args, **kwargs)\u001b[0m\n\u001b[1;32m    190\u001b[0m gen \u001b[38;5;241m=\u001b[39m gen_static_args \u001b[38;5;241m=\u001b[39m out_store \u001b[38;5;241m=\u001b[39m \u001b[38;5;28;01mNone\u001b[39;00m\n\u001b[1;32m    192\u001b[0m \u001b[38;5;28;01mtry\u001b[39;00m:\n\u001b[0;32m--> 193\u001b[0m   ans \u001b[38;5;241m=\u001b[39m \u001b[38;5;28;43mself\u001b[39;49m\u001b[38;5;241;43m.\u001b[39;49m\u001b[43mf\u001b[49m\u001b[43m(\u001b[49m\u001b[38;5;241;43m*\u001b[39;49m\u001b[43margs\u001b[49m\u001b[43m,\u001b[49m\u001b[43m \u001b[49m\u001b[38;5;241;43m*\u001b[39;49m\u001b[38;5;241;43m*\u001b[39;49m\u001b[38;5;28;43mdict\u001b[39;49m\u001b[43m(\u001b[49m\u001b[38;5;28;43mself\u001b[39;49m\u001b[38;5;241;43m.\u001b[39;49m\u001b[43mparams\u001b[49m\u001b[43m,\u001b[49m\u001b[43m \u001b[49m\u001b[38;5;241;43m*\u001b[39;49m\u001b[38;5;241;43m*\u001b[39;49m\u001b[43mkwargs\u001b[49m\u001b[43m)\u001b[49m\u001b[43m)\u001b[49m\n\u001b[1;32m    194\u001b[0m \u001b[38;5;28;01mexcept\u001b[39;00m:\n\u001b[1;32m    195\u001b[0m   \u001b[38;5;66;03m# Some transformations yield from inside context managers, so we have to\u001b[39;00m\n\u001b[1;32m    196\u001b[0m   \u001b[38;5;66;03m# interrupt them before reraising the exception. Otherwise they will only\u001b[39;00m\n\u001b[1;32m    197\u001b[0m   \u001b[38;5;66;03m# get garbage-collected at some later time, running their cleanup tasks\u001b[39;00m\n\u001b[1;32m    198\u001b[0m   \u001b[38;5;66;03m# only after this exception is handled, which can corrupt the global\u001b[39;00m\n\u001b[1;32m    199\u001b[0m   \u001b[38;5;66;03m# state.\u001b[39;00m\n\u001b[1;32m    200\u001b[0m   \u001b[38;5;28;01mwhile\u001b[39;00m stack:\n",
      "    \u001b[0;31m[... skipping hidden 1 frame]\u001b[0m\n",
      "File \u001b[0;32m~/miniconda3/envs/linx/lib/python3.13/site-packages/jax/_src/pjit.py:338\u001b[0m, in \u001b[0;36m_cpp_pjit.<locals>.cache_miss\u001b[0;34m(*args, **kwargs)\u001b[0m\n\u001b[1;32m    335\u001b[0m \u001b[38;5;28;01mif\u001b[39;00m config\u001b[38;5;241m.\u001b[39mno_tracing\u001b[38;5;241m.\u001b[39mvalue:\n\u001b[1;32m    336\u001b[0m   \u001b[38;5;28;01mraise\u001b[39;00m \u001b[38;5;167;01mRuntimeError\u001b[39;00m(\u001b[38;5;124mf\u001b[39m\u001b[38;5;124m\"\u001b[39m\u001b[38;5;124mre-tracing function \u001b[39m\u001b[38;5;132;01m{\u001b[39;00mjit_info\u001b[38;5;241m.\u001b[39mfun_sourceinfo\u001b[38;5;132;01m}\u001b[39;00m\u001b[38;5;124m for \u001b[39m\u001b[38;5;124m\"\u001b[39m\n\u001b[1;32m    337\u001b[0m                      \u001b[38;5;124m\"\u001b[39m\u001b[38;5;124m`jit`, but \u001b[39m\u001b[38;5;124m'\u001b[39m\u001b[38;5;124mno_tracing\u001b[39m\u001b[38;5;124m'\u001b[39m\u001b[38;5;124m is set\u001b[39m\u001b[38;5;124m\"\u001b[39m)\n\u001b[0;32m--> 338\u001b[0m outs, out_flat, out_tree, args_flat, jaxpr, attrs_tracked \u001b[38;5;241m=\u001b[39m \u001b[43m_python_pjit_helper\u001b[49m\u001b[43m(\u001b[49m\n\u001b[1;32m    339\u001b[0m \u001b[43m    \u001b[49m\u001b[43mfun\u001b[49m\u001b[43m,\u001b[49m\u001b[43m \u001b[49m\u001b[43mjit_info\u001b[49m\u001b[43m,\u001b[49m\u001b[43m \u001b[49m\u001b[38;5;241;43m*\u001b[39;49m\u001b[43margs\u001b[49m\u001b[43m,\u001b[49m\u001b[43m \u001b[49m\u001b[38;5;241;43m*\u001b[39;49m\u001b[38;5;241;43m*\u001b[39;49m\u001b[43mkwargs\u001b[49m\u001b[43m)\u001b[49m\n\u001b[1;32m    340\u001b[0m executable \u001b[38;5;241m=\u001b[39m _read_most_recent_pjit_call_executable(jaxpr)\n\u001b[1;32m    341\u001b[0m pgle_profiler \u001b[38;5;241m=\u001b[39m _read_pgle_profiler(jaxpr)\n",
      "File \u001b[0;32m~/miniconda3/envs/linx/lib/python3.13/site-packages/jax/_src/pjit.py:188\u001b[0m, in \u001b[0;36m_python_pjit_helper\u001b[0;34m(fun, jit_info, *args, **kwargs)\u001b[0m\n\u001b[1;32m    185\u001b[0m   args_flat \u001b[38;5;241m=\u001b[39m [\u001b[38;5;241m*\u001b[39minit_states, \u001b[38;5;241m*\u001b[39margs_flat]\n\u001b[1;32m    187\u001b[0m \u001b[38;5;28;01mtry\u001b[39;00m:\n\u001b[0;32m--> 188\u001b[0m   out_flat \u001b[38;5;241m=\u001b[39m \u001b[43mpjit_p\u001b[49m\u001b[38;5;241;43m.\u001b[39;49m\u001b[43mbind\u001b[49m\u001b[43m(\u001b[49m\u001b[38;5;241;43m*\u001b[39;49m\u001b[43margs_flat\u001b[49m\u001b[43m,\u001b[49m\u001b[43m \u001b[49m\u001b[38;5;241;43m*\u001b[39;49m\u001b[38;5;241;43m*\u001b[39;49m\u001b[43mp\u001b[49m\u001b[38;5;241;43m.\u001b[39;49m\u001b[43mparams\u001b[49m\u001b[43m)\u001b[49m\n\u001b[1;32m    189\u001b[0m \u001b[38;5;28;01mexcept\u001b[39;00m pxla\u001b[38;5;241m.\u001b[39mDeviceAssignmentMismatchError \u001b[38;5;28;01mas\u001b[39;00m e:\n\u001b[1;32m    190\u001b[0m   fails, \u001b[38;5;241m=\u001b[39m e\u001b[38;5;241m.\u001b[39margs\n",
      "File \u001b[0;32m~/miniconda3/envs/linx/lib/python3.13/site-packages/jax/_src/core.py:2803\u001b[0m, in \u001b[0;36mAxisPrimitive.bind\u001b[0;34m(self, *args, **params)\u001b[0m\n\u001b[1;32m   2799\u001b[0m axis_main \u001b[38;5;241m=\u001b[39m \u001b[38;5;28mmax\u001b[39m((axis_frame(a)\u001b[38;5;241m.\u001b[39mmain_trace \u001b[38;5;28;01mfor\u001b[39;00m a \u001b[38;5;129;01min\u001b[39;00m used_axis_names(\u001b[38;5;28mself\u001b[39m, params)),\n\u001b[1;32m   2800\u001b[0m                 default\u001b[38;5;241m=\u001b[39m\u001b[38;5;28;01mNone\u001b[39;00m, key\u001b[38;5;241m=\u001b[39m\u001b[38;5;28;01mlambda\u001b[39;00m t: \u001b[38;5;28mgetattr\u001b[39m(t, \u001b[38;5;124m'\u001b[39m\u001b[38;5;124mlevel\u001b[39m\u001b[38;5;124m'\u001b[39m, \u001b[38;5;241m-\u001b[39m\u001b[38;5;241m1\u001b[39m))\n\u001b[1;32m   2801\u001b[0m top_trace \u001b[38;5;241m=\u001b[39m (top_trace \u001b[38;5;28;01mif\u001b[39;00m \u001b[38;5;129;01mnot\u001b[39;00m axis_main \u001b[38;5;129;01mor\u001b[39;00m axis_main\u001b[38;5;241m.\u001b[39mlevel \u001b[38;5;241m<\u001b[39m top_trace\u001b[38;5;241m.\u001b[39mlevel\n\u001b[1;32m   2802\u001b[0m              \u001b[38;5;28;01melse\u001b[39;00m axis_main\u001b[38;5;241m.\u001b[39mwith_cur_sublevel())\n\u001b[0;32m-> 2803\u001b[0m \u001b[38;5;28;01mreturn\u001b[39;00m \u001b[38;5;28;43mself\u001b[39;49m\u001b[38;5;241;43m.\u001b[39;49m\u001b[43mbind_with_trace\u001b[49m\u001b[43m(\u001b[49m\u001b[43mtop_trace\u001b[49m\u001b[43m,\u001b[49m\u001b[43m \u001b[49m\u001b[43margs\u001b[49m\u001b[43m,\u001b[49m\u001b[43m \u001b[49m\u001b[43mparams\u001b[49m\u001b[43m)\u001b[49m\n",
      "File \u001b[0;32m~/miniconda3/envs/linx/lib/python3.13/site-packages/jax/_src/core.py:442\u001b[0m, in \u001b[0;36mPrimitive.bind_with_trace\u001b[0;34m(self, trace, args, params)\u001b[0m\n\u001b[1;32m    440\u001b[0m \u001b[38;5;28;01mdef\u001b[39;00m \u001b[38;5;21mbind_with_trace\u001b[39m(\u001b[38;5;28mself\u001b[39m, trace, args, params):\n\u001b[1;32m    441\u001b[0m   \u001b[38;5;28;01mwith\u001b[39;00m pop_level(trace\u001b[38;5;241m.\u001b[39mlevel):\n\u001b[0;32m--> 442\u001b[0m     out \u001b[38;5;241m=\u001b[39m \u001b[43mtrace\u001b[49m\u001b[38;5;241;43m.\u001b[39;49m\u001b[43mprocess_primitive\u001b[49m\u001b[43m(\u001b[49m\u001b[38;5;28;43mself\u001b[39;49m\u001b[43m,\u001b[49m\u001b[43m \u001b[49m\u001b[38;5;28;43mmap\u001b[39;49m\u001b[43m(\u001b[49m\u001b[43mtrace\u001b[49m\u001b[38;5;241;43m.\u001b[39;49m\u001b[43mfull_raise\u001b[49m\u001b[43m,\u001b[49m\u001b[43m \u001b[49m\u001b[43margs\u001b[49m\u001b[43m)\u001b[49m\u001b[43m,\u001b[49m\u001b[43m \u001b[49m\u001b[43mparams\u001b[49m\u001b[43m)\u001b[49m\n\u001b[1;32m    443\u001b[0m   \u001b[38;5;28;01mreturn\u001b[39;00m \u001b[38;5;28mmap\u001b[39m(full_lower, out) \u001b[38;5;28;01mif\u001b[39;00m \u001b[38;5;28mself\u001b[39m\u001b[38;5;241m.\u001b[39mmultiple_results \u001b[38;5;28;01melse\u001b[39;00m full_lower(out)\n",
      "File \u001b[0;32m~/miniconda3/envs/linx/lib/python3.13/site-packages/jax/_src/interpreters/batching.py:491\u001b[0m, in \u001b[0;36mBatchTrace.process_primitive\u001b[0;34m(self, primitive, tracers, params)\u001b[0m\n\u001b[1;32m    489\u001b[0m   frame \u001b[38;5;241m=\u001b[39m \u001b[38;5;28mself\u001b[39m\u001b[38;5;241m.\u001b[39mget_frame(vals_in, dims_in)\n\u001b[1;32m    490\u001b[0m   batched_primitive \u001b[38;5;241m=\u001b[39m \u001b[38;5;28mself\u001b[39m\u001b[38;5;241m.\u001b[39mget_primitive_batcher(primitive, frame)\n\u001b[0;32m--> 491\u001b[0m   val_out, dim_out \u001b[38;5;241m=\u001b[39m \u001b[43mbatched_primitive\u001b[49m\u001b[43m(\u001b[49m\u001b[43mvals_in\u001b[49m\u001b[43m,\u001b[49m\u001b[43m \u001b[49m\u001b[43mdims_in\u001b[49m\u001b[43m,\u001b[49m\u001b[43m \u001b[49m\u001b[38;5;241;43m*\u001b[39;49m\u001b[38;5;241;43m*\u001b[39;49m\u001b[43mparams\u001b[49m\u001b[43m)\u001b[49m\n\u001b[1;32m    492\u001b[0m src \u001b[38;5;241m=\u001b[39m source_info_util\u001b[38;5;241m.\u001b[39mcurrent()\n\u001b[1;32m    493\u001b[0m \u001b[38;5;28;01mif\u001b[39;00m primitive\u001b[38;5;241m.\u001b[39mmultiple_results:\n",
      "File \u001b[0;32m~/miniconda3/envs/linx/lib/python3.13/site-packages/jax/_src/pjit.py:1970\u001b[0m, in \u001b[0;36m_pjit_batcher\u001b[0;34m(spmd_axis_name, axis_size, axis_name, main_type, vals_in, dims_in, jaxpr, in_shardings, out_shardings, in_layouts, out_layouts, resource_env, donated_invars, name, keep_unused, inline)\u001b[0m\n\u001b[1;32m   1965\u001b[0m \u001b[38;5;28;01mif\u001b[39;00m \u001b[38;5;129;01mnot\u001b[39;00m (\u001b[38;5;28mall\u001b[39m(l \u001b[38;5;129;01mis\u001b[39;00m \u001b[38;5;28;01mNone\u001b[39;00m \u001b[38;5;28;01mfor\u001b[39;00m l \u001b[38;5;129;01min\u001b[39;00m in_layouts) \u001b[38;5;129;01mand\u001b[39;00m\n\u001b[1;32m   1966\u001b[0m         \u001b[38;5;28mall\u001b[39m(l \u001b[38;5;129;01mis\u001b[39;00m \u001b[38;5;28;01mNone\u001b[39;00m \u001b[38;5;28;01mfor\u001b[39;00m l \u001b[38;5;129;01min\u001b[39;00m out_layouts)):\n\u001b[1;32m   1967\u001b[0m   \u001b[38;5;28;01mraise\u001b[39;00m \u001b[38;5;167;01mNotImplementedError\u001b[39;00m(\n\u001b[1;32m   1968\u001b[0m       \u001b[38;5;124m'\u001b[39m\u001b[38;5;124mConcrete layouts are not supported for vmap(jit).\u001b[39m\u001b[38;5;124m'\u001b[39m)\n\u001b[0;32m-> 1970\u001b[0m vals_out \u001b[38;5;241m=\u001b[39m \u001b[43mpjit_p\u001b[49m\u001b[38;5;241;43m.\u001b[39;49m\u001b[43mbind\u001b[49m\u001b[43m(\u001b[49m\n\u001b[1;32m   1971\u001b[0m \u001b[43m  \u001b[49m\u001b[38;5;241;43m*\u001b[39;49m\u001b[43mvals_in\u001b[49m\u001b[43m,\u001b[49m\n\u001b[1;32m   1972\u001b[0m \u001b[43m  \u001b[49m\u001b[43mjaxpr\u001b[49m\u001b[38;5;241;43m=\u001b[39;49m\u001b[43mnew_jaxpr\u001b[49m\u001b[43m,\u001b[49m\n\u001b[1;32m   1973\u001b[0m \u001b[43m  \u001b[49m\u001b[43min_shardings\u001b[49m\u001b[38;5;241;43m=\u001b[39;49m\u001b[43min_shardings\u001b[49m\u001b[43m,\u001b[49m\n\u001b[1;32m   1974\u001b[0m \u001b[43m  \u001b[49m\u001b[43mout_shardings\u001b[49m\u001b[38;5;241;43m=\u001b[39;49m\u001b[43mout_shardings\u001b[49m\u001b[43m,\u001b[49m\n\u001b[1;32m   1975\u001b[0m \u001b[43m  \u001b[49m\u001b[43min_layouts\u001b[49m\u001b[38;5;241;43m=\u001b[39;49m\u001b[43min_layouts\u001b[49m\u001b[43m,\u001b[49m\n\u001b[1;32m   1976\u001b[0m \u001b[43m  \u001b[49m\u001b[43mout_layouts\u001b[49m\u001b[38;5;241;43m=\u001b[39;49m\u001b[43mout_layouts\u001b[49m\u001b[43m,\u001b[49m\n\u001b[1;32m   1977\u001b[0m \u001b[43m  \u001b[49m\u001b[43mresource_env\u001b[49m\u001b[38;5;241;43m=\u001b[39;49m\u001b[43mresource_env\u001b[49m\u001b[43m,\u001b[49m\n\u001b[1;32m   1978\u001b[0m \u001b[43m  \u001b[49m\u001b[43mdonated_invars\u001b[49m\u001b[38;5;241;43m=\u001b[39;49m\u001b[43mdonated_invars\u001b[49m\u001b[43m,\u001b[49m\n\u001b[1;32m   1979\u001b[0m \u001b[43m  \u001b[49m\u001b[43mname\u001b[49m\u001b[38;5;241;43m=\u001b[39;49m\u001b[43mname\u001b[49m\u001b[43m,\u001b[49m\n\u001b[1;32m   1980\u001b[0m \u001b[43m  \u001b[49m\u001b[43mkeep_unused\u001b[49m\u001b[38;5;241;43m=\u001b[39;49m\u001b[43mkeep_unused\u001b[49m\u001b[43m,\u001b[49m\n\u001b[1;32m   1981\u001b[0m \u001b[43m  \u001b[49m\u001b[43minline\u001b[49m\u001b[38;5;241;43m=\u001b[39;49m\u001b[43minline\u001b[49m\u001b[43m)\u001b[49m\n\u001b[1;32m   1983\u001b[0m resolved_axes_out \u001b[38;5;241m=\u001b[39m batching\u001b[38;5;241m.\u001b[39mresolve_ragged_axes_against_inputs_outputs(\n\u001b[1;32m   1984\u001b[0m     vals_in, vals_out, axes_out)\n\u001b[1;32m   1985\u001b[0m \u001b[38;5;28;01mreturn\u001b[39;00m vals_out, resolved_axes_out\n",
      "File \u001b[0;32m~/miniconda3/envs/linx/lib/python3.13/site-packages/jax/_src/core.py:2803\u001b[0m, in \u001b[0;36mAxisPrimitive.bind\u001b[0;34m(self, *args, **params)\u001b[0m\n\u001b[1;32m   2799\u001b[0m axis_main \u001b[38;5;241m=\u001b[39m \u001b[38;5;28mmax\u001b[39m((axis_frame(a)\u001b[38;5;241m.\u001b[39mmain_trace \u001b[38;5;28;01mfor\u001b[39;00m a \u001b[38;5;129;01min\u001b[39;00m used_axis_names(\u001b[38;5;28mself\u001b[39m, params)),\n\u001b[1;32m   2800\u001b[0m                 default\u001b[38;5;241m=\u001b[39m\u001b[38;5;28;01mNone\u001b[39;00m, key\u001b[38;5;241m=\u001b[39m\u001b[38;5;28;01mlambda\u001b[39;00m t: \u001b[38;5;28mgetattr\u001b[39m(t, \u001b[38;5;124m'\u001b[39m\u001b[38;5;124mlevel\u001b[39m\u001b[38;5;124m'\u001b[39m, \u001b[38;5;241m-\u001b[39m\u001b[38;5;241m1\u001b[39m))\n\u001b[1;32m   2801\u001b[0m top_trace \u001b[38;5;241m=\u001b[39m (top_trace \u001b[38;5;28;01mif\u001b[39;00m \u001b[38;5;129;01mnot\u001b[39;00m axis_main \u001b[38;5;129;01mor\u001b[39;00m axis_main\u001b[38;5;241m.\u001b[39mlevel \u001b[38;5;241m<\u001b[39m top_trace\u001b[38;5;241m.\u001b[39mlevel\n\u001b[1;32m   2802\u001b[0m              \u001b[38;5;28;01melse\u001b[39;00m axis_main\u001b[38;5;241m.\u001b[39mwith_cur_sublevel())\n\u001b[0;32m-> 2803\u001b[0m \u001b[38;5;28;01mreturn\u001b[39;00m \u001b[38;5;28;43mself\u001b[39;49m\u001b[38;5;241;43m.\u001b[39;49m\u001b[43mbind_with_trace\u001b[49m\u001b[43m(\u001b[49m\u001b[43mtop_trace\u001b[49m\u001b[43m,\u001b[49m\u001b[43m \u001b[49m\u001b[43margs\u001b[49m\u001b[43m,\u001b[49m\u001b[43m \u001b[49m\u001b[43mparams\u001b[49m\u001b[43m)\u001b[49m\n",
      "File \u001b[0;32m~/miniconda3/envs/linx/lib/python3.13/site-packages/jax/_src/core.py:442\u001b[0m, in \u001b[0;36mPrimitive.bind_with_trace\u001b[0;34m(self, trace, args, params)\u001b[0m\n\u001b[1;32m    440\u001b[0m \u001b[38;5;28;01mdef\u001b[39;00m \u001b[38;5;21mbind_with_trace\u001b[39m(\u001b[38;5;28mself\u001b[39m, trace, args, params):\n\u001b[1;32m    441\u001b[0m   \u001b[38;5;28;01mwith\u001b[39;00m pop_level(trace\u001b[38;5;241m.\u001b[39mlevel):\n\u001b[0;32m--> 442\u001b[0m     out \u001b[38;5;241m=\u001b[39m \u001b[43mtrace\u001b[49m\u001b[38;5;241;43m.\u001b[39;49m\u001b[43mprocess_primitive\u001b[49m\u001b[43m(\u001b[49m\u001b[38;5;28;43mself\u001b[39;49m\u001b[43m,\u001b[49m\u001b[43m \u001b[49m\u001b[38;5;28;43mmap\u001b[39;49m\u001b[43m(\u001b[49m\u001b[43mtrace\u001b[49m\u001b[38;5;241;43m.\u001b[39;49m\u001b[43mfull_raise\u001b[49m\u001b[43m,\u001b[49m\u001b[43m \u001b[49m\u001b[43margs\u001b[49m\u001b[43m)\u001b[49m\u001b[43m,\u001b[49m\u001b[43m \u001b[49m\u001b[43mparams\u001b[49m\u001b[43m)\u001b[49m\n\u001b[1;32m    443\u001b[0m   \u001b[38;5;28;01mreturn\u001b[39;00m \u001b[38;5;28mmap\u001b[39m(full_lower, out) \u001b[38;5;28;01mif\u001b[39;00m \u001b[38;5;28mself\u001b[39m\u001b[38;5;241m.\u001b[39mmultiple_results \u001b[38;5;28;01melse\u001b[39;00m full_lower(out)\n",
      "File \u001b[0;32m~/miniconda3/envs/linx/lib/python3.13/site-packages/jax/_src/core.py:955\u001b[0m, in \u001b[0;36mEvalTrace.process_primitive\u001b[0;34m(self, primitive, tracers, params)\u001b[0m\n\u001b[1;32m    953\u001b[0m   \u001b[38;5;28;01mreturn\u001b[39;00m call_impl_with_key_reuse_checks(primitive, primitive\u001b[38;5;241m.\u001b[39mimpl, \u001b[38;5;241m*\u001b[39mtracers, \u001b[38;5;241m*\u001b[39m\u001b[38;5;241m*\u001b[39mparams)\n\u001b[1;32m    954\u001b[0m \u001b[38;5;28;01melse\u001b[39;00m:\n\u001b[0;32m--> 955\u001b[0m   \u001b[38;5;28;01mreturn\u001b[39;00m \u001b[43mprimitive\u001b[49m\u001b[38;5;241;43m.\u001b[39;49m\u001b[43mimpl\u001b[49m\u001b[43m(\u001b[49m\u001b[38;5;241;43m*\u001b[39;49m\u001b[43mtracers\u001b[49m\u001b[43m,\u001b[49m\u001b[43m \u001b[49m\u001b[38;5;241;43m*\u001b[39;49m\u001b[38;5;241;43m*\u001b[39;49m\u001b[43mparams\u001b[49m\u001b[43m)\u001b[49m\n",
      "File \u001b[0;32m~/miniconda3/envs/linx/lib/python3.13/site-packages/jax/_src/pjit.py:1738\u001b[0m, in \u001b[0;36m_pjit_call_impl\u001b[0;34m(jaxpr, in_shardings, out_shardings, in_layouts, out_layouts, resource_env, donated_invars, name, keep_unused, inline, *args)\u001b[0m\n\u001b[1;32m   1729\u001b[0m donated_argnums \u001b[38;5;241m=\u001b[39m \u001b[38;5;28mtuple\u001b[39m(i \u001b[38;5;28;01mfor\u001b[39;00m i, d \u001b[38;5;129;01min\u001b[39;00m \u001b[38;5;28menumerate\u001b[39m(donated_invars) \u001b[38;5;28;01mif\u001b[39;00m d)\n\u001b[1;32m   1730\u001b[0m cache_key \u001b[38;5;241m=\u001b[39m pxla\u001b[38;5;241m.\u001b[39mJitGlobalCppCacheKeys(\n\u001b[1;32m   1731\u001b[0m     donate_argnums\u001b[38;5;241m=\u001b[39mdonated_argnums, donate_argnames\u001b[38;5;241m=\u001b[39m\u001b[38;5;28;01mNone\u001b[39;00m,\n\u001b[1;32m   1732\u001b[0m     device\u001b[38;5;241m=\u001b[39m\u001b[38;5;28;01mNone\u001b[39;00m, backend\u001b[38;5;241m=\u001b[39m\u001b[38;5;28;01mNone\u001b[39;00m,\n\u001b[0;32m   (...)\u001b[0m\n\u001b[1;32m   1736\u001b[0m     out_layouts_treedef\u001b[38;5;241m=\u001b[39m\u001b[38;5;28;01mNone\u001b[39;00m, out_layouts_leaves\u001b[38;5;241m=\u001b[39mout_layouts,\n\u001b[1;32m   1737\u001b[0m     use_resource_env\u001b[38;5;241m=\u001b[39mresource_env \u001b[38;5;129;01mis\u001b[39;00m \u001b[38;5;129;01mnot\u001b[39;00m \u001b[38;5;28;01mNone\u001b[39;00m)\n\u001b[0;32m-> 1738\u001b[0m \u001b[38;5;28;01mreturn\u001b[39;00m \u001b[43mxc\u001b[49m\u001b[38;5;241;43m.\u001b[39;49m\u001b[43m_xla\u001b[49m\u001b[38;5;241;43m.\u001b[39;49m\u001b[43mpjit\u001b[49m\u001b[43m(\u001b[49m\n\u001b[1;32m   1739\u001b[0m \u001b[43m    \u001b[49m\u001b[43mname\u001b[49m\u001b[43m,\u001b[49m\u001b[43m \u001b[49m\u001b[43mf\u001b[49m\u001b[43m,\u001b[49m\u001b[43m \u001b[49m\u001b[43mcall_impl_cache_miss\u001b[49m\u001b[43m,\u001b[49m\u001b[43m \u001b[49m\u001b[43m[\u001b[49m\u001b[43m]\u001b[49m\u001b[43m,\u001b[49m\u001b[43m \u001b[49m\u001b[43m[\u001b[49m\u001b[43m]\u001b[49m\u001b[43m,\u001b[49m\u001b[43m \u001b[49m\u001b[43mcache_key\u001b[49m\u001b[43m,\u001b[49m\n\u001b[1;32m   1740\u001b[0m \u001b[43m    \u001b[49m\u001b[43mtree_util\u001b[49m\u001b[38;5;241;43m.\u001b[39;49m\u001b[43mdispatch_registry\u001b[49m\u001b[43m,\u001b[49m\u001b[43m \u001b[49m\u001b[43mpxla\u001b[49m\u001b[38;5;241;43m.\u001b[39;49m\u001b[43mcc_shard_arg\u001b[49m\u001b[43m,\u001b[49m\n\u001b[1;32m   1741\u001b[0m \u001b[43m    \u001b[49m\u001b[43m_get_cpp_global_cache\u001b[49m\u001b[43m(\u001b[49m\u001b[43mcache_key\u001b[49m\u001b[38;5;241;43m.\u001b[39;49m\u001b[43mcontains_explicit_attributes\u001b[49m\u001b[43m)\u001b[49m\u001b[43m)\u001b[49m\u001b[43m(\u001b[49m\u001b[38;5;241;43m*\u001b[39;49m\u001b[43margs\u001b[49m\u001b[43m)\u001b[49m\n",
      "\u001b[0;31mKeyboardInterrupt\u001b[0m: "
     ]
    }
   ],
   "source": [
    "%timeit jax.vmap(ic_gk_trapz, in_axes=(0, None))(E_grid, 0.001)"
   ]
  },
  {
   "cell_type": "code",
   "execution_count": 16,
   "metadata": {},
   "outputs": [
    {
     "name": "stdout",
     "output_type": "stream",
     "text": [
      "1.3 s ± 46.9 ms per loop (mean ± std. dev. of 7 runs, 1 loop each)\n"
     ]
    }
   ],
   "source": [
    "%timeit jax.jit(jax.vmap(ic_gk_trapz_nojit, in_axes=(0, None)))(E_grid, 0.001).block_until_ready()"
   ]
  },
  {
   "cell_type": "code",
   "execution_count": 23,
   "metadata": {},
   "outputs": [
    {
     "name": "stdout",
     "output_type": "stream",
     "text": [
      "8.964\n",
      "8.965\n",
      "8.998\n"
     ]
    }
   ],
   "source": [
    "mm = ic_gk_trapz\n",
    "v = partial(jax.vmap, in_axes=(0, None))\n",
    "\n",
    "for f in [v(jax.jit(mm)), jax.jit(v(mm)), v(mm)]:\n",
    "  run = lambda: f(E_grid, 0.001).block_until_ready()\n",
    "  t = timeit(run, setup=run, number=20)\n",
    "  print(f'{t:.3f}')"
   ]
  },
  {
   "cell_type": "code",
   "execution_count": null,
   "metadata": {},
   "outputs": [
    {
     "ename": "ValueError",
     "evalue": "stmt is neither a string nor callable",
     "output_type": "error",
     "traceback": [
      "\u001b[0;31m---------------------------------------------------------------------------\u001b[0m",
      "\u001b[0;31mValueError\u001b[0m                                Traceback (most recent call last)",
      "Cell \u001b[0;32mIn[15], line 1\u001b[0m\n\u001b[0;32m----> 1\u001b[0m \u001b[43mtimeit\u001b[49m\u001b[43m(\u001b[49m\u001b[43mjax\u001b[49m\u001b[38;5;241;43m.\u001b[39;49m\u001b[43mjit\u001b[49m\u001b[43m(\u001b[49m\u001b[43mjax\u001b[49m\u001b[38;5;241;43m.\u001b[39;49m\u001b[43mvmap\u001b[49m\u001b[43m(\u001b[49m\u001b[43mic_gk_trapz\u001b[49m\u001b[43m,\u001b[49m\u001b[43m \u001b[49m\u001b[43min_axes\u001b[49m\u001b[38;5;241;43m=\u001b[39;49m\u001b[43m(\u001b[49m\u001b[38;5;241;43m0\u001b[39;49m\u001b[43m,\u001b[49m\u001b[43m \u001b[49m\u001b[38;5;28;43;01mNone\u001b[39;49;00m\u001b[43m)\u001b[49m\u001b[43m)\u001b[49m\u001b[43m)\u001b[49m\u001b[43m(\u001b[49m\u001b[43mE_grid\u001b[49m\u001b[43m,\u001b[49m\u001b[43m \u001b[49m\u001b[38;5;241;43m0.001\u001b[39;49m\u001b[43m)\u001b[49m\u001b[38;5;241;43m.\u001b[39;49m\u001b[43mblock_until_ready\u001b[49m\u001b[43m(\u001b[49m\u001b[43m)\u001b[49m\u001b[43m,\u001b[49m\u001b[43m \u001b[49m\u001b[43mnumber\u001b[49m\u001b[43m \u001b[49m\u001b[38;5;241;43m=\u001b[39;49m\u001b[43m \u001b[49m\u001b[38;5;241;43m100\u001b[39;49m\u001b[43m)\u001b[49m\n",
      "File \u001b[0;32m~/miniconda3/envs/linx/lib/python3.13/timeit.py:237\u001b[0m, in \u001b[0;36mtimeit\u001b[0;34m(stmt, setup, timer, number, globals)\u001b[0m\n\u001b[1;32m    234\u001b[0m \u001b[38;5;28;01mdef\u001b[39;00m \u001b[38;5;21mtimeit\u001b[39m(stmt\u001b[38;5;241m=\u001b[39m\u001b[38;5;124m\"\u001b[39m\u001b[38;5;124mpass\u001b[39m\u001b[38;5;124m\"\u001b[39m, setup\u001b[38;5;241m=\u001b[39m\u001b[38;5;124m\"\u001b[39m\u001b[38;5;124mpass\u001b[39m\u001b[38;5;124m\"\u001b[39m, timer\u001b[38;5;241m=\u001b[39mdefault_timer,\n\u001b[1;32m    235\u001b[0m            number\u001b[38;5;241m=\u001b[39mdefault_number, \u001b[38;5;28mglobals\u001b[39m\u001b[38;5;241m=\u001b[39m\u001b[38;5;28;01mNone\u001b[39;00m):\n\u001b[1;32m    236\u001b[0m \u001b[38;5;250m    \u001b[39m\u001b[38;5;124;03m\"\"\"Convenience function to create Timer object and call timeit method.\"\"\"\u001b[39;00m\n\u001b[0;32m--> 237\u001b[0m     \u001b[38;5;28;01mreturn\u001b[39;00m \u001b[43mTimer\u001b[49m\u001b[43m(\u001b[49m\u001b[43mstmt\u001b[49m\u001b[43m,\u001b[49m\u001b[43m \u001b[49m\u001b[43msetup\u001b[49m\u001b[43m,\u001b[49m\u001b[43m \u001b[49m\u001b[43mtimer\u001b[49m\u001b[43m,\u001b[49m\u001b[43m \u001b[49m\u001b[38;5;28;43mglobals\u001b[39;49m\u001b[43m)\u001b[49m\u001b[38;5;241m.\u001b[39mtimeit(number)\n",
      "File \u001b[0;32m~/miniconda3/envs/linx/lib/python3.13/timeit.py:132\u001b[0m, in \u001b[0;36mTimer.__init__\u001b[0;34m(self, stmt, setup, timer, globals)\u001b[0m\n\u001b[1;32m    130\u001b[0m     stmt \u001b[38;5;241m=\u001b[39m \u001b[38;5;124m'\u001b[39m\u001b[38;5;124m_stmt()\u001b[39m\u001b[38;5;124m'\u001b[39m\n\u001b[1;32m    131\u001b[0m \u001b[38;5;28;01melse\u001b[39;00m:\n\u001b[0;32m--> 132\u001b[0m     \u001b[38;5;28;01mraise\u001b[39;00m \u001b[38;5;167;01mValueError\u001b[39;00m(\u001b[38;5;124m\"\u001b[39m\u001b[38;5;124mstmt is neither a string nor callable\u001b[39m\u001b[38;5;124m\"\u001b[39m)\n\u001b[1;32m    133\u001b[0m src \u001b[38;5;241m=\u001b[39m template\u001b[38;5;241m.\u001b[39mformat(stmt\u001b[38;5;241m=\u001b[39mstmt, setup\u001b[38;5;241m=\u001b[39msetup, init\u001b[38;5;241m=\u001b[39minit)\n\u001b[1;32m    134\u001b[0m \u001b[38;5;28mself\u001b[39m\u001b[38;5;241m.\u001b[39msrc \u001b[38;5;241m=\u001b[39m src  \u001b[38;5;66;03m# Save for traceback display\u001b[39;00m\n",
      "\u001b[0;31mValueError\u001b[0m: stmt is neither a string nor callable"
     ]
    }
   ],
   "source": [
    "timeit(jax.jit(jax.vmap(ic_gk_trapz, in_axes=(0, None)))(E_grid, 0.001).block_until_ready(), number = 100)"
   ]
  },
  {
   "cell_type": "code",
   "execution_count": 10,
   "metadata": {},
   "outputs": [
    {
     "data": {
      "text/plain": [
       "Array(2.29960228e-10, dtype=float64)"
      ]
     },
     "execution_count": 10,
     "metadata": {},
     "output_type": "execute_result"
    }
   ],
   "source": [
    "ic_gk(5, 0.01)"
   ]
  },
  {
   "cell_type": "code",
   "execution_count": 11,
   "metadata": {},
   "outputs": [
    {
     "data": {
      "text/plain": [
       "Array(2.29959865e-10, dtype=float64)"
      ]
     },
     "execution_count": 11,
     "metadata": {},
     "output_type": "execute_result"
    }
   ],
   "source": [
    "ic_gk_trapz(5, 0.01)"
   ]
  },
  {
   "cell_type": "code",
   "execution_count": 12,
   "metadata": {},
   "outputs": [],
   "source": [
    "InjSpec = InjectedSpectrum()"
   ]
  },
  {
   "cell_type": "code",
   "execution_count": 21,
   "metadata": {},
   "outputs": [
    {
     "data": {
      "text/plain": [
       "Array(1.72726845e-12, dtype=float64)"
      ]
     },
     "execution_count": 21,
     "metadata": {},
     "output_type": "execute_result"
    }
   ],
   "source": [
    "InjSpec.dphoton_pair_prod_rate(5, 0.01).block_until_ready()"
   ]
  },
  {
   "cell_type": "code",
   "execution_count": 22,
   "metadata": {},
   "outputs": [
    {
     "data": {
      "text/plain": [
       "Array(2.29959865e-10, dtype=float64)"
      ]
     },
     "execution_count": 22,
     "metadata": {},
     "output_type": "execute_result"
    }
   ],
   "source": [
    "InjSpec.inverse_compton_rate(5, 0.01)"
   ]
  },
  {
   "cell_type": "code",
   "execution_count": null,
   "metadata": {},
   "outputs": [
    {
     "name": "stdout",
     "output_type": "stream",
     "text": [
      "1.58 ms ± 38.1 μs per loop (mean ± std. dev. of 7 runs, 1,000 loops each)\n"
     ]
    },
    {
     "ename": "",
     "evalue": "",
     "output_type": "error",
     "traceback": [
      "\u001b[1;31mThe Kernel crashed while executing code in the current cell or a previous cell. \n",
      "\u001b[1;31mPlease review the code in the cell(s) to identify a possible cause of the failure. \n",
      "\u001b[1;31mClick <a href='https://aka.ms/vscodeJupyterKernelCrash'>here</a> for more info. \n",
      "\u001b[1;31mView Jupyter <a href='command:jupyter.viewOutput'>log</a> for further details."
     ]
    }
   ],
   "source": [
    "%timeit InjSpec.inverse_compton_rate(5, 0.01).block_until_ready()"
   ]
  },
  {
   "cell_type": "code",
   "execution_count": 9,
   "metadata": {},
   "outputs": [
    {
     "data": {
      "text/plain": [
       "Array(1.72718986e-12, dtype=float64)"
      ]
     },
     "execution_count": 9,
     "metadata": {},
     "output_type": "execute_result"
    }
   ],
   "source": [
    "dpr_trapz(5, 0.01)"
   ]
  },
  {
   "cell_type": "code",
   "execution_count": 10,
   "metadata": {},
   "outputs": [
    {
     "data": {
      "text/plain": [
       "Array(1.7273822e-12, dtype=float64)"
      ]
     },
     "execution_count": 10,
     "metadata": {},
     "output_type": "execute_result"
    }
   ],
   "source": [
    "dpr_gk(5, 0.01)"
   ]
  },
  {
   "cell_type": "code",
   "execution_count": 11,
   "metadata": {},
   "outputs": [
    {
     "data": {
      "text/plain": [
       "Array(1.72726833e-12, dtype=float64)"
      ]
     },
     "execution_count": 11,
     "metadata": {},
     "output_type": "execute_result"
    }
   ],
   "source": [
    "dpr_gk_trapz(5, 0.01)"
   ]
  },
  {
   "cell_type": "code",
   "execution_count": 12,
   "metadata": {},
   "outputs": [
    {
     "name": "stdout",
     "output_type": "stream",
     "text": [
      "660 μs ± 254 μs per loop (mean ± std. dev. of 7 runs, 1 loop each)\n"
     ]
    }
   ],
   "source": [
    "%timeit jax.vmap(dpr_gk_trapz, in_axes = (0, None))(E_grid, 0.01)"
   ]
  },
  {
   "cell_type": "code",
   "execution_count": 13,
   "metadata": {},
   "outputs": [],
   "source": [
    "gk_trapz = jax.vmap(dpr_gk_trapz, in_axes = (0, None))(E_grid, 0.01)\n",
    "gk = jax.vmap(dpr_gk, in_axes = (0, None))(E_grid, 0.01)\n",
    "trapz = jax.vmap(dpr_trapz, in_axes = (0, None))(E_grid, 0.01)"
   ]
  },
  {
   "cell_type": "code",
   "execution_count": 22,
   "metadata": {},
   "outputs": [
    {
     "data": {
      "text/plain": [
       "<matplotlib.legend.Legend at 0x74b2debc5f90>"
      ]
     },
     "execution_count": 22,
     "metadata": {},
     "output_type": "execute_result"
    },
    {
     "data": {
      "image/png": "[encoded data removed]",
      "text/plain": [
       "<Figure size 640x480 with 1 Axes>"
      ]
     },
     "metadata": {},
     "output_type": "display_data"
    }
   ],
   "source": [
    "plt.loglog(E_grid, gk_trapz/gk, label = \"gk_trapz\")\n",
    "plt.loglog(E_grid, trapz/gk, label = \"trapz\")\n",
    "plt.legend()"
   ]
  },
  {
   "cell_type": "code",
   "execution_count": 40,
   "metadata": {},
   "outputs": [
    {
     "data": {
      "text/plain": [
       "Array([1.45410677e-17, 1.66698965e-17, 1.90888957e-17, 2.18345345e-17,\n",
       "       2.49474529e-17, 2.84728864e-17, 3.24611302e-17, 3.69680415e-17,\n",
       "       4.20555870e-17, 4.77924345e-17, 5.42545951e-17, 6.15261173e-17,\n",
       "       6.96998366e-17, 7.88781854e-17, 8.91740648e-17, 1.00711784e-16,\n",
       "       1.13628070e-16, 1.28073154e-16, 1.44211933e-16, 1.62225217e-16,\n",
       "       1.82311069e-16, 2.04686226e-16, 2.29587629e-16, 2.57274047e-16,\n",
       "       2.88027811e-16, 3.22156660e-16, 3.59995701e-16, 4.01909497e-16,\n",
       "       4.48294271e-16, 4.99580252e-16, 5.56234156e-16, 6.18761807e-16,\n",
       "       6.87710902e-16, 7.63673940e-16, 8.47291296e-16, 9.39254466e-16,\n",
       "       1.04030957e-15, 1.15126056e-15, 1.27297353e-15, 1.40638028e-15,\n",
       "       1.55248257e-15, 1.71235638e-15, 1.88715645e-15, 2.07812098e-15,\n",
       "       2.28657655e-15, 2.51394317e-15, 2.76173966e-15, 3.03158915e-15,\n",
       "       3.32522477e-15, 3.64449565e-15, 3.99137304e-15, 4.36795668e-15,\n",
       "       4.77648140e-15, 5.21932386e-15, 5.69900962e-15, 6.21822030e-15,\n",
       "       6.77980101e-15, 7.38676800e-15, 8.04231644e-15, 8.74982849e-15,\n",
       "       9.51288147e-15, 1.03352563e-14, 1.12209460e-14, 1.21741647e-14,\n",
       "       1.31993561e-14, 1.43012030e-14, 1.54846363e-14, 1.67548445e-14,\n",
       "       1.81172830e-14, 1.95776839e-14, 2.11420658e-14, 2.28167432e-14,\n",
       "       2.46083369e-14, 2.65237836e-14, 2.85703463e-14, 3.07556239e-14,\n",
       "       3.30875615e-14, 3.55744606e-14, 3.82249889e-14, 4.10481904e-14,\n",
       "       4.40534957e-14, 4.72507314e-14, 5.06501302e-14, 5.42623407e-14,\n",
       "       5.80984368e-14, 6.21699270e-14, 6.64887643e-14, 7.10673544e-14,\n",
       "       7.59185651e-14, 8.10557350e-14, 8.64926813e-14, 9.22437086e-14,\n",
       "       9.83235287e-14, 1.04747613e-13, 1.11531690e-13, 1.18692086e-13,\n",
       "       1.26245650e-13, 1.34209759e-13, 1.42602326e-13, 1.51441800e-13,\n",
       "       1.60747175e-13, 1.70537992e-13, 1.80834342e-13, 1.91656872e-13,\n",
       "       2.03026782e-13, 2.14965835e-13, 2.27496348e-13, 2.40641202e-13,\n",
       "       2.54423836e-13, 2.68868249e-13, 2.83998998e-13, 2.99841197e-13,\n",
       "       3.16420513e-13, 3.33763161e-13, 3.51895905e-13, 3.70846048e-13,\n",
       "       3.90641431e-13, 4.11310422e-13, 4.32881913e-13, 4.55385310e-13,\n",
       "       4.78850526e-13, 5.03307970e-13, 5.28788539e-13, 5.55323605e-13,\n",
       "       5.82945006e-13, 6.11685032e-13, 6.41576412e-13, 6.72652301e-13,\n",
       "       7.04946266e-13, 7.38492269e-13, 7.73324653e-13, 8.09478124e-13,\n",
       "       8.46987733e-13, 8.85888860e-13, 9.26217195e-13, 9.68008718e-13,\n",
       "       1.01129968e-12, 1.05612657e-12, 1.10252613e-12, 1.15053529e-12,\n",
       "       1.20019116e-12, 1.25153103e-12, 1.30459230e-12, 1.35941252e-12,\n",
       "       1.41602929e-12, 1.47448031e-12, 1.53480364e-12, 1.59703634e-12,\n",
       "       1.66121646e-12, 1.72738169e-12], dtype=float64)"
      ]
     },
     "execution_count": 40,
     "metadata": {},
     "output_type": "execute_result"
    }
   ],
   "source": [
    "# Vectorize the dpr_gk function\n",
    "dpr_gk_vectorized = jax.vmap(dpr_gk, in_axes=(0, None))\n",
    "\n",
    "# Run the vectorized function with the vector E_grid\n",
    "result = dpr_gk_vectorized(E_grid, 0.01)\n",
    "result.block_until_ready()"
   ]
  },
  {
   "cell_type": "code",
   "execution_count": 7,
   "metadata": {},
   "outputs": [
    {
     "data": {
      "text/plain": [
       "Array(1.7273822e-12, dtype=float64)"
      ]
     },
     "execution_count": 7,
     "metadata": {},
     "output_type": "execute_result"
    }
   ],
   "source": [
    "dpr_gk(5, 0.01).block_until_ready()"
   ]
  },
  {
   "cell_type": "code",
   "execution_count": 8,
   "metadata": {},
   "outputs": [],
   "source": [
    "@jax.jit\n",
    "def r_loops(E_grid):\n",
    "    r_list = jnp.zeros(len(E_grid))\n",
    "    for i, E in enumerate(E_grid):\n",
    "        r_list.at[i].set(dpr_gk(E, 0.01))\n",
    "    return r_list"
   ]
  },
  {
   "cell_type": "code",
   "execution_count": 16,
   "metadata": {},
   "outputs": [],
   "source": [
    "r_vmap = partial(jax.vmap, in_axes=(0, None))"
   ]
  },
  {
   "cell_type": "code",
   "execution_count": 10,
   "metadata": {},
   "outputs": [
    {
     "name": "stdout",
     "output_type": "stream",
     "text": [
      "The slowest run took 105.01 times longer than the fastest. This could mean that an intermediate result is being cached.\n",
      "69.6 μs ± 132 μs per loop (mean ± std. dev. of 7 runs, 1 loop each)\n"
     ]
    }
   ],
   "source": [
    "%timeit r_loops(E_grid).block_until_ready()"
   ]
  },
  {
   "cell_type": "code",
   "execution_count": null,
   "metadata": {},
   "outputs": [
    {
     "name": "stdout",
     "output_type": "stream",
     "text": [
      "11.6 ms ± 269 μs per loop (mean ± std. dev. of 7 runs, 100 loops each)\n"
     ]
    }
   ],
   "source": [
    "timeit.timeit(dpr_gk(5, 0.01)"
   ]
  },
  {
   "cell_type": "code",
   "execution_count": 34,
   "metadata": {},
   "outputs": [
    {
     "data": {
      "text/plain": [
       "Array([1.45410758e-17, 1.66699056e-17, 1.90889060e-17, 2.18345462e-17,\n",
       "       2.49474661e-17, 2.84729013e-17, 3.24611473e-17, 3.69680608e-17,\n",
       "       4.20556086e-17, 4.77924588e-17, 5.42546223e-17, 6.15261478e-17,\n",
       "       6.96998707e-17, 7.88782236e-17, 8.91741074e-17, 1.00711832e-16,\n",
       "       1.13628123e-16, 1.28073213e-16, 1.44211998e-16, 1.62225290e-16,\n",
       "       1.82311150e-16, 2.04686320e-16, 2.29587733e-16, 2.57274162e-16,\n",
       "       2.88027938e-16, 3.22156801e-16, 3.59995857e-16, 4.01909669e-16,\n",
       "       4.48294460e-16, 4.99580461e-16, 5.56234387e-16, 6.18762060e-16,\n",
       "       6.87711180e-16, 7.63674245e-16, 8.47291631e-16, 9.39254833e-16,\n",
       "       1.04030988e-15, 1.15126089e-15, 1.27297389e-15, 1.40638068e-15,\n",
       "       1.55248305e-15, 1.71235690e-15, 1.88715702e-15, 2.07812161e-15,\n",
       "       2.28657722e-15, 2.51394390e-15, 2.76174045e-15, 3.03159000e-15,\n",
       "       3.32522569e-15, 3.64449665e-15, 3.99137411e-15, 4.36795784e-15,\n",
       "       4.77648265e-15, 5.21932521e-15, 5.69901107e-15, 6.21822185e-15,\n",
       "       6.77980268e-15, 7.38676979e-15, 8.04231836e-15, 8.74983054e-15,\n",
       "       9.51288366e-15, 1.03352586e-14, 1.12209485e-14, 1.21741674e-14,\n",
       "       1.31993589e-14, 1.43012060e-14, 1.54846404e-14, 1.67548445e-14,\n",
       "       1.81172830e-14, 1.95776839e-14, 2.11420658e-14, 2.28167432e-14,\n",
       "       2.46083369e-14, 2.65237836e-14, 2.85703463e-14, 3.07556239e-14,\n",
       "       3.30875615e-14, 3.55744606e-14, 3.82249889e-14, 4.10481904e-14,\n",
       "       4.40534957e-14, 4.72507314e-14, 5.06501302e-14, 5.42623407e-14,\n",
       "       5.80984368e-14, 6.21699270e-14, 6.64887643e-14, 7.10673544e-14,\n",
       "       7.59185651e-14, 8.10557350e-14, 8.64926813e-14, 9.22437086e-14,\n",
       "       9.83236159e-14, 1.04747705e-13, 1.11531786e-13, 1.18692186e-13,\n",
       "       1.26245755e-13, 1.34209870e-13, 1.42602442e-13, 1.51441922e-13,\n",
       "       1.60747302e-13, 1.70538125e-13, 1.80834481e-13, 1.91657016e-13,\n",
       "       2.03026933e-13, 2.14966026e-13, 2.27496548e-13, 2.40641411e-13,\n",
       "       2.54424054e-13, 2.68868477e-13, 2.83999236e-13, 2.99841446e-13,\n",
       "       3.16420771e-13, 3.33763430e-13, 3.51896185e-13, 3.70846340e-13,\n",
       "       3.90641735e-13, 4.11310738e-13, 4.32882241e-13, 4.55385651e-13,\n",
       "       4.78850880e-13, 5.03308338e-13, 5.28788921e-13, 5.55324001e-13,\n",
       "       5.82945417e-13, 6.11685458e-13, 6.41576854e-13, 6.72652759e-13,\n",
       "       7.04946740e-13, 7.38492759e-13, 7.73325160e-13, 8.09478647e-13,\n",
       "       8.46988273e-13, 8.85889417e-13, 9.26217771e-13, 9.68009312e-13,\n",
       "       1.01130029e-12, 1.05612721e-12, 1.10252679e-12, 1.15053596e-12,\n",
       "       1.20019186e-12, 1.25153174e-12, 1.30459304e-12, 1.35941327e-12,\n",
       "       1.41603007e-12, 1.47448111e-12, 1.53480411e-12, 1.59703682e-12,\n",
       "       1.66121695e-12, 1.72738220e-12], dtype=float64)"
      ]
     },
     "execution_count": 34,
     "metadata": {},
     "output_type": "execute_result"
    }
   ],
   "source": [
    "jax.vmap(dpr_gk, in_axes=(0, None))(E_grid, 0.01)"
   ]
  },
  {
   "cell_type": "code",
   "execution_count": null,
   "metadata": {},
   "outputs": [],
   "source": [
    "r_mapped = jax.vmap(dpr_gk, in_axes=(0, None))\n",
    "r_mapped(E_grid, 0.01).block_until_ready()"
   ]
  },
  {
   "cell_type": "code",
   "execution_count": null,
   "metadata": {},
   "outputs": [
    {
     "data": {
      "text/plain": [
       "Array([1.45410758e-17, 1.66699056e-17, 1.90889060e-17, 2.18345462e-17,\n",
       "       2.49474661e-17, 2.84729013e-17, 3.24611473e-17, 3.69680608e-17,\n",
       "       4.20556086e-17, 4.77924588e-17, 5.42546223e-17, 6.15261478e-17,\n",
       "       6.96998707e-17, 7.88782236e-17, 8.91741074e-17, 1.00711832e-16,\n",
       "       1.13628123e-16, 1.28073213e-16, 1.44211998e-16, 1.62225290e-16,\n",
       "       1.82311150e-16, 2.04686320e-16, 2.29587733e-16, 2.57274162e-16,\n",
       "       2.88027938e-16, 3.22156801e-16, 3.59995857e-16, 4.01909669e-16,\n",
       "       4.48294460e-16, 4.99580461e-16, 5.56234387e-16, 6.18762060e-16,\n",
       "       6.87711180e-16, 7.63674245e-16, 8.47291631e-16, 9.39254833e-16,\n",
       "       1.04030988e-15, 1.15126089e-15, 1.27297389e-15, 1.40638068e-15,\n",
       "       1.55248305e-15, 1.71235690e-15, 1.88715702e-15, 2.07812161e-15,\n",
       "       2.28657722e-15, 2.51394390e-15, 2.76174045e-15, 3.03159000e-15,\n",
       "       3.32522569e-15, 3.64449665e-15, 3.99137411e-15, 4.36795784e-15,\n",
       "       4.77648265e-15, 5.21932521e-15, 5.69901107e-15, 6.21822185e-15,\n",
       "       6.77980268e-15, 7.38676979e-15, 8.04231836e-15, 8.74983054e-15,\n",
       "       9.51288366e-15, 1.03352586e-14, 1.12209485e-14, 1.21741674e-14,\n",
       "       1.31993589e-14, 1.43012060e-14, 1.54846404e-14, 1.67548445e-14,\n",
       "       1.81172830e-14, 1.95776839e-14, 2.11420658e-14, 2.28167432e-14,\n",
       "       2.46083369e-14, 2.65237836e-14, 2.85703463e-14, 3.07556239e-14,\n",
       "       3.30875615e-14, 3.55744606e-14, 3.82249889e-14, 4.10481904e-14,\n",
       "       4.40534957e-14, 4.72507314e-14, 5.06501302e-14, 5.42623407e-14,\n",
       "       5.80984368e-14, 6.21699270e-14, 6.64887643e-14, 7.10673544e-14,\n",
       "       7.59185651e-14, 8.10557350e-14, 8.64926813e-14, 9.22437086e-14,\n",
       "       9.83236159e-14, 1.04747705e-13, 1.11531786e-13, 1.18692186e-13,\n",
       "       1.26245755e-13, 1.34209870e-13, 1.42602442e-13, 1.51441922e-13,\n",
       "       1.60747302e-13, 1.70538125e-13, 1.80834481e-13, 1.91657016e-13,\n",
       "       2.03026933e-13, 2.14966026e-13, 2.27496548e-13, 2.40641411e-13,\n",
       "       2.54424054e-13, 2.68868477e-13, 2.83999236e-13, 2.99841446e-13,\n",
       "       3.16420771e-13, 3.33763430e-13, 3.51896185e-13, 3.70846340e-13,\n",
       "       3.90641735e-13, 4.11310738e-13, 4.32882241e-13, 4.55385651e-13,\n",
       "       4.78850880e-13, 5.03308338e-13, 5.28788921e-13, 5.55324001e-13,\n",
       "       5.82945417e-13, 6.11685458e-13, 6.41576854e-13, 6.72652759e-13,\n",
       "       7.04946740e-13, 7.38492759e-13, 7.73325160e-13, 8.09478647e-13,\n",
       "       8.46988273e-13, 8.85889417e-13, 9.26217771e-13, 9.68009312e-13,\n",
       "       1.01130029e-12, 1.05612721e-12, 1.10252679e-12, 1.15053596e-12,\n",
       "       1.20019186e-12, 1.25153174e-12, 1.30459304e-12, 1.35941327e-12,\n",
       "       1.41603007e-12, 1.47448111e-12, 1.53480411e-12, 1.59703682e-12,\n",
       "       1.66121695e-12, 1.72738220e-12], dtype=float64)"
      ]
     },
     "execution_count": 94,
     "metadata": {},
     "output_type": "execute_result"
    }
   ],
   "source": []
  },
  {
   "cell_type": "code",
   "execution_count": 95,
   "metadata": {},
   "outputs": [],
   "source": [
    "# simple square function for scalar number\n",
    "def square_function(x) :\n",
    "  return x*x\n",
    "\n",
    "# This is example of highly inefficient code\n",
    "# Jax did not allow direct in-place operator, such as a[0] = 1\n",
    "# Jax must replace the array when updating, a = a.at[0].set(1)\n",
    "def square_vector_manual(x) :\n",
    "  temp_x = x\n",
    "  for i in range(len(temp_x)) :\n",
    "    squared_x = square_function(temp_x[i])\n",
    "    temp_x = temp_x.at[i].set(squared_x)\n",
    "  return temp_x\n",
    "\n",
    "# We can implement the vectorized implementation\n",
    "# This look easy, but it can become very hard \n",
    "# when the function is hard to vectorize\n",
    "def square_vector_vectorized(x) :\n",
    "  return x*x\n",
    "\n",
    "# Other way is to use vmap\n",
    "# vmap can map a function so it can process higher dimension\n",
    "square_vector_map = jax.vmap(square_function)"
   ]
  },
  {
   "cell_type": "code",
   "execution_count": 97,
   "metadata": {},
   "outputs": [],
   "source": [
    "x_now = jnp.arange(1500)"
   ]
  },
  {
   "cell_type": "code",
   "execution_count": 104,
   "metadata": {},
   "outputs": [],
   "source": [
    "v = partial(jax.vmap)"
   ]
  },
  {
   "cell_type": "code",
   "execution_count": 107,
   "metadata": {},
   "outputs": [
    {
     "name": "stdout",
     "output_type": "stream",
     "text": [
      "[      0       1       4 ... 2241009 2244004 2247001]\n",
      "963 ms ± 240 ms per loop (mean ± std. dev. of 7 runs, 1 loop each)\n",
      "[      0       1       4 ... 2241009 2244004 2247001]\n",
      "14.3 μs ± 628 ns per loop (mean ± std. dev. of 7 runs, 100,000 loops each)\n",
      "[      0       1       4 ... 2241009 2244004 2247001]\n",
      "17.8 ms ± 537 μs per loop (mean ± std. dev. of 7 runs, 100 loops each)\n"
     ]
    }
   ],
   "source": [
    "# use block_until_ready() because \n",
    "# https://jax.readthedocs.io/en/latest/async_dispatch.html#async-dispatch\n",
    "# which say, it's to measure the true cost of the operation\n",
    "print(square_vector_manual(x_now))\n",
    "%timeit square_vector_manual(x_now).block_until_ready()\n",
    "# >> [      0       1       4 ... 2241009 2244004 2247001]\n",
    "# >> 1.25 s ± 198 ms per loop (mean ± std. dev. of 7 runs, 1 loop each)\n",
    "\n",
    "print(square_vector_vectorized(x_now))\n",
    "%timeit square_vector_vectorized(x_now).block_until_ready()\n",
    "# >> [      0       1       4 ... 2241009 2244004 2247001]\n",
    "# >> 9.38 µs ± 167 ns per loop (mean ± std. dev. of 7 runs, 100000 loops each)\n",
    "\n",
    "print(square_vector_map(x_now))\n",
    "%timeit jax.jit(v(square_function))(x_now).block_until_ready()\n",
    "# >> [      0       1       4 ... 2241009 2244004 2247001]\n",
    "# >> 812 µs ± 142 µs per loop (mean ± std. dev. of 7 runs, 1000 loops each)\n",
    "# using map function can fasten it up a lot"
   ]
  },
  {
   "cell_type": "code",
   "execution_count": 99,
   "metadata": {},
   "outputs": [],
   "source": [
    "square_vector_manual_jit = jax.jit(square_vector_manual)\n",
    "square_vector_vectorized_jit = jax.jit(square_vector_vectorized)\n",
    "square_vector_map_jit = jax.jit(square_vector_map)"
   ]
  },
  {
   "cell_type": "code",
   "execution_count": 109,
   "metadata": {},
   "outputs": [
    {
     "name": "stdout",
     "output_type": "stream",
     "text": [
      "[      0       1       4 ... 2241009 2244004 2247001]\n",
      "11.7 μs ± 941 ns per loop (mean ± std. dev. of 7 runs, 100,000 loops each)\n",
      "[      0       1       4 ... 2241009 2244004 2247001]\n",
      "10.3 μs ± 1.26 μs per loop (mean ± std. dev. of 7 runs, 100,000 loops each)\n",
      "[      0       1       4 ... 2241009 2244004 2247001]\n",
      "163 μs ± 30.5 μs per loop (mean ± std. dev. of 7 runs, 10,000 loops each)\n"
     ]
    }
   ],
   "source": [
    "# Here comes the jit function, we can compile the code into XLA\n",
    "# https://www.tensorflow.org/xla\n",
    "# We can use the map function and then compile it\n",
    "print(square_vector_map_jit(x_now))\n",
    "%timeit square_vector_map_jit(x_now).block_until_ready()\n",
    "# >> [      0       1       4 ... 2241009 2244004 2247001]\n",
    "# >> 9 µs ± 1.9 µs per loop (mean ± std. dev. of 7 runs, 100000 loops each)\n",
    "# The speed become very fast!\n",
    "\n",
    "# we can also use jit for vectorized fucntion\n",
    "# speed improves, but not as drastic as using map and jit function\n",
    "print(square_vector_vectorized_jit(x_now))\n",
    "%timeit square_vector_vectorized_jit(x_now).block_until_ready()\n",
    "# >> [      0       1       4 ... 2241009 2244004 2247001]\n",
    "# >> 7.21 µs ± 153 ns per loop (mean ± std. dev. of 7 runs, 100000 loops each)\n",
    "\n",
    "# One cool thing is that we can even use jit for the manual code we create!\n",
    "# The speed improvement is very drastic!\n",
    "print(square_vector_manual_jit(x_now))\n",
    "%timeit square_vector_manual_jit(x_now).block_until_ready()\n",
    "# >> [      0       1       4 ... 2241009 2244004 2247001]\n",
    "# >> 7.37 µs ± 74 ns per loop (mean ± std. dev. of 7 runs, 100000 loops each)"
   ]
  },
  {
   "cell_type": "code",
   "execution_count": null,
   "metadata": {},
   "outputs": [],
   "source": []
  }
 ],
 "metadata": {
  "kernelspec": {
   "display_name": "linx",
   "language": "python",
   "name": "python3"
  },
  "language_info": {
   "codemirror_mode": {
    "name": "ipython",
    "version": 3
   },
   "file_extension": ".py",
   "mimetype": "text/x-python",
   "name": "python",
   "nbconvert_exporter": "python",
   "pygments_lexer": "ipython3",
   "version": "3.13.0"
  }
 },
 "nbformat": 4,
 "nbformat_minor": 2
}
